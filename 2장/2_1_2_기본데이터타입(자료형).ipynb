{
 "cells": [
  {
   "cell_type": "markdown",
   "id": "5a77e1f4-b0c4-41cd-9a38-6a43ddd8c561",
   "metadata": {},
   "source": [
    "# 숫자형(numeric) : 정수(integer), 실수(float)"
   ]
  },
  {
   "cell_type": "code",
   "execution_count": 1,
   "id": "c6845763-07ac-459f-ba30-8b1025b3c924",
   "metadata": {},
   "outputs": [],
   "source": [
    "x, y, z = 10, 3.14, -25"
   ]
  },
  {
   "cell_type": "code",
   "execution_count": 4,
   "id": "97bf058b-6ddf-4234-b898-d439445ee014",
   "metadata": {},
   "outputs": [
    {
     "name": "stdout",
     "output_type": "stream",
     "text": [
      "<class 'int'> <class 'float'> <class 'int'>\n"
     ]
    }
   ],
   "source": [
    "print(type(x), type(y), type(z))"
   ]
  },
  {
   "cell_type": "code",
   "execution_count": 9,
   "id": "6699c55c-e2ba-45d3-b21c-065d34d7dc75",
   "metadata": {},
   "outputs": [
    {
     "name": "stdout",
     "output_type": "stream",
     "text": [
      "17000.0 17000.0 -3520.0 2.75\n"
     ]
    }
   ],
   "source": [
    "a = 17e3\n",
    "b = 17E3\n",
    "c = -35.2e2\n",
    "d = 275e-2\n",
    "print(a, b, c, d)"
   ]
  },
  {
   "cell_type": "markdown",
   "id": "231b05e7-7b3d-4df6-ade3-8082e75542e7",
   "metadata": {},
   "source": [
    "# 불리언(boolean): 참(True)/거짓(False)"
   ]
  },
  {
   "cell_type": "code",
   "execution_count": 16,
   "id": "3fe8b280-696d-4335-98b4-0c6f0928b095",
   "metadata": {},
   "outputs": [
    {
     "name": "stdout",
     "output_type": "stream",
     "text": [
      "True False False\n"
     ]
    },
    {
     "data": {
      "text/plain": [
       "bool"
      ]
     },
     "execution_count": 16,
     "metadata": {},
     "output_type": "execute_result"
    }
   ],
   "source": [
    "a = 100 > 50 \n",
    "b = 100 < 50 \n",
    "c = 100 == 50\n",
    "print(a, b, c)\n",
    "type(a)"
   ]
  },
  {
   "cell_type": "markdown",
   "id": "000497aa-f919-45b2-b6da-416b88420480",
   "metadata": {},
   "source": [
    "# 문자형(String): 따옴표(큰따옴표(\"\"), 작은따옴표(''))"
   ]
  },
  {
   "cell_type": "code",
   "execution_count": 18,
   "id": "fbfce66b-89f5-44aa-a331-c2cc140d9e84",
   "metadata": {},
   "outputs": [
    {
     "data": {
      "text/plain": [
       "(str, str, str)"
      ]
     },
     "execution_count": 18,
     "metadata": {},
     "output_type": "execute_result"
    }
   ],
   "source": [
    "a = 'Hello'\n",
    "b = '123'\n",
    "c = \"How are you?\"\n",
    "type(a), type(b), type(c)"
   ]
  },
  {
   "cell_type": "code",
   "execution_count": 21,
   "id": "bc67004a-7a11-4070-a94c-7899c65432a3",
   "metadata": {},
   "outputs": [
    {
     "data": {
      "text/plain": [
       "'abc abc abc abc abc abc\\nabc abc abc abc abc abc'"
      ]
     },
     "execution_count": 21,
     "metadata": {},
     "output_type": "execute_result"
    }
   ],
   "source": [
    "# 다중 행 문자열(''', \"\"\")\n",
    "x = \"\"\"abc abc abc abc abc abc\n",
    "abc abc abc abc abc abc\"\"\"\n",
    "x"
   ]
  },
  {
   "cell_type": "code",
   "execution_count": 24,
   "id": "81f238d6-d74d-40f8-af30-529d305d76de",
   "metadata": {},
   "outputs": [
    {
     "data": {
      "text/plain": [
       "'He said \"I love you.\"'"
      ]
     },
     "execution_count": 24,
     "metadata": {},
     "output_type": "execute_result"
    }
   ],
   "source": [
    "a1 = 'He said \"I love you.\"'\n",
    "a2 = \"He said \\\"I love you.\\\"\"\n",
    "a2"
   ]
  },
  {
   "cell_type": "markdown",
   "id": "645d215d-1a38-4eb2-a958-6c31b41b186d",
   "metadata": {},
   "source": [
    "# 데이터 타입 변환 함수"
   ]
  },
  {
   "cell_type": "code",
   "execution_count": 25,
   "id": "7cc69020-0018-4134-8289-d52d1bc385f1",
   "metadata": {},
   "outputs": [
    {
     "data": {
      "text/plain": [
       "'2050'"
      ]
     },
     "execution_count": 25,
     "metadata": {},
     "output_type": "execute_result"
    }
   ],
   "source": [
    "temperature = '20'\n",
    "humidity = '50'\n",
    "temperature + humidity"
   ]
  },
  {
   "cell_type": "code",
   "execution_count": 26,
   "id": "17cd2daf-c049-4c76-9f4c-a5ba8cd342e4",
   "metadata": {},
   "outputs": [
    {
     "data": {
      "text/plain": [
       "70"
      ]
     },
     "execution_count": 26,
     "metadata": {},
     "output_type": "execute_result"
    }
   ],
   "source": [
    "int(temperature) + int(humidity)"
   ]
  },
  {
   "cell_type": "code",
   "execution_count": 27,
   "id": "6db75041-04aa-4f53-8ac9-9c2ede253db0",
   "metadata": {},
   "outputs": [
    {
     "name": "stdout",
     "output_type": "stream",
     "text": [
      "False True False True\n"
     ]
    }
   ],
   "source": [
    "a = 0\n",
    "b = 500\n",
    "c = ''\n",
    "d = '하하호호'\n",
    "\n",
    "print(bool(a), bool(b), bool(c), bool(d))"
   ]
  },
  {
   "cell_type": "code",
   "execution_count": null,
   "id": "e5eca003-e8bf-4e1e-9f81-04f6fd906ed7",
   "metadata": {},
   "outputs": [],
   "source": []
  }
 ],
 "metadata": {
  "kernelspec": {
   "display_name": "Python 3 (ipykernel)",
   "language": "python",
   "name": "python3"
  },
  "language_info": {
   "codemirror_mode": {
    "name": "ipython",
    "version": 3
   },
   "file_extension": ".py",
   "mimetype": "text/x-python",
   "name": "python",
   "nbconvert_exporter": "python",
   "pygments_lexer": "ipython3",
   "version": "3.10.18"
  }
 },
 "nbformat": 4,
 "nbformat_minor": 5
}
