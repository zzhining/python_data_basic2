{
 "cells": [
  {
   "cell_type": "code",
   "execution_count": 1,
   "id": "9540cca9-1ec8-4d90-9ecf-a47762b8db32",
   "metadata": {},
   "outputs": [
    {
     "data": {
      "text/plain": [
       "['apple', 'banana', 'orange']"
      ]
     },
     "execution_count": 1,
     "metadata": {},
     "output_type": "execute_result"
    }
   ],
   "source": [
    "# 리스트 생성\n",
    "fruit_list = ['apple', 'banana', 'orange']\n",
    "fruit_list"
   ]
  },
  {
   "cell_type": "code",
   "execution_count": 2,
   "id": "cf9010b1-fc10-4c6b-9494-6ff3939ebd1b",
   "metadata": {},
   "outputs": [
    {
     "data": {
      "text/plain": [
       "['apple', 'banana', 'orange', 'apple', 'banana']"
      ]
     },
     "execution_count": 2,
     "metadata": {},
     "output_type": "execute_result"
    }
   ],
   "source": [
    "fruit_list = ['apple', 'banana', 'orange', 'apple', 'banana']\n",
    "fruit_list"
   ]
  },
  {
   "cell_type": "code",
   "execution_count": 4,
   "id": "424fe3c2-a366-4b8f-9f5d-b2a28b07d6a0",
   "metadata": {},
   "outputs": [
    {
     "name": "stdout",
     "output_type": "stream",
     "text": [
      "apple\n",
      "orange\n",
      "['banana', 'orange']\n"
     ]
    }
   ],
   "source": [
    "# 리스트 아이템 선택\n",
    "fruit_list = ['apple', 'banana', 'orange']\n",
    "print(fruit_list[0])\n",
    "print(fruit_list[-1])\n",
    "print(fruit_list[1:3])"
   ]
  },
  {
   "cell_type": "code",
   "execution_count": 5,
   "id": "fc3b929f-85e6-445c-9685-92ed4a9df049",
   "metadata": {},
   "outputs": [
    {
     "data": {
      "text/plain": [
       "['apple', 'kiwi', 'orange']"
      ]
     },
     "execution_count": 5,
     "metadata": {},
     "output_type": "execute_result"
    }
   ],
   "source": [
    "# 아이템 수정\n",
    "fruit_list[1] = 'kiwi'\n",
    "fruit_list"
   ]
  },
  {
   "cell_type": "code",
   "execution_count": 6,
   "id": "31b82fdd-1fed-448d-883c-2fc8f04c2b4f",
   "metadata": {},
   "outputs": [
    {
     "data": {
      "text/plain": [
       "['apple', 'kiwi', 'mango', 'orange']"
      ]
     },
     "execution_count": 6,
     "metadata": {},
     "output_type": "execute_result"
    }
   ],
   "source": [
    "# 아이템 추가\n",
    "fruit_list.insert(2, 'mango')\n",
    "fruit_list"
   ]
  },
  {
   "cell_type": "code",
   "execution_count": 7,
   "id": "2af8241c-46aa-4681-927f-ba5d187e4fed",
   "metadata": {},
   "outputs": [
    {
     "data": {
      "text/plain": [
       "['apple', 'kiwi', 'mango', 'orange', 'watermelon']"
      ]
     },
     "execution_count": 7,
     "metadata": {},
     "output_type": "execute_result"
    }
   ],
   "source": [
    "fruit_list.append('watermelon')\n",
    "fruit_list"
   ]
  },
  {
   "cell_type": "code",
   "execution_count": 8,
   "id": "2228e708-884c-41c8-acdb-49d4591e3614",
   "metadata": {},
   "outputs": [
    {
     "data": {
      "text/plain": [
       "['apple', 'kiwi', 'mango', 'orange', 'watermelon', 'carrot', 'tomato', 'onion']"
      ]
     },
     "execution_count": 8,
     "metadata": {},
     "output_type": "execute_result"
    }
   ],
   "source": [
    "vegetable_list = ['carrot', 'tomato', 'onion']\n",
    "fruit_list.extend(vegetable_list)\n",
    "fruit_list"
   ]
  },
  {
   "cell_type": "code",
   "execution_count": 9,
   "id": "a9f47813-e8bb-4a97-acf5-1627c7b37833",
   "metadata": {},
   "outputs": [
    {
     "data": {
      "text/plain": [
       "[1, 2, 3, '가', '나', '다']"
      ]
     },
     "execution_count": 9,
     "metadata": {},
     "output_type": "execute_result"
    }
   ],
   "source": [
    "list1 = [1, 2, 3]\n",
    "list2 = ['가', '나', '다']\n",
    "list1 + list2"
   ]
  },
  {
   "cell_type": "code",
   "execution_count": 11,
   "id": "63eda6bc-bfb6-4bbd-9abc-0c44554a7ef3",
   "metadata": {},
   "outputs": [
    {
     "name": "stdout",
     "output_type": "stream",
     "text": [
      "지우기 전: ['apple', 'kiwi', 'mango', 'orange', 'watermelon', 'carrot', 'tomato', 'onion']\n",
      "지운 후: ['apple', 'kiwi', 'mango', 'orange', 'watermelon', 'carrot', 'onion']\n"
     ]
    }
   ],
   "source": [
    "# 아이템 삭제\n",
    "print('지우기 전:', fruit_list)\n",
    "fruit_list.remove('tomato')\n",
    "print('지운 후:', fruit_list)"
   ]
  },
  {
   "cell_type": "code",
   "execution_count": 12,
   "id": "6a18aaf7-38f3-4978-ae16-d83ce72f8833",
   "metadata": {},
   "outputs": [],
   "source": [
    "del fruit_list[-1]"
   ]
  },
  {
   "cell_type": "code",
   "execution_count": 13,
   "id": "8e722cfb-ae4c-40f1-b209-66d9b145f97f",
   "metadata": {},
   "outputs": [
    {
     "data": {
      "text/plain": [
       "['apple', 'kiwi', 'mango', 'orange', 'watermelon', 'carrot']"
      ]
     },
     "execution_count": 13,
     "metadata": {},
     "output_type": "execute_result"
    }
   ],
   "source": [
    "fruit_list"
   ]
  },
  {
   "cell_type": "code",
   "execution_count": 14,
   "id": "191161dd-474c-491e-aaba-dabb307a9093",
   "metadata": {},
   "outputs": [],
   "source": [
    "del fruit_list"
   ]
  },
  {
   "cell_type": "code",
   "execution_count": 15,
   "id": "f730d083-e70b-45d4-9b9a-e6fd4dbd527a",
   "metadata": {},
   "outputs": [
    {
     "ename": "NameError",
     "evalue": "name 'fruit_list' is not defined",
     "output_type": "error",
     "traceback": [
      "\u001b[1;31m---------------------------------------------------------------------------\u001b[0m",
      "\u001b[1;31mNameError\u001b[0m                                 Traceback (most recent call last)",
      "Cell \u001b[1;32mIn[15], line 1\u001b[0m\n\u001b[1;32m----> 1\u001b[0m \u001b[43mfruit_list\u001b[49m\n",
      "\u001b[1;31mNameError\u001b[0m: name 'fruit_list' is not defined"
     ]
    }
   ],
   "source": [
    "fruit_list"
   ]
  },
  {
   "cell_type": "code",
   "execution_count": 16,
   "id": "e8ddfbac-2f31-4cd2-aebf-8a8c74fd7efd",
   "metadata": {},
   "outputs": [
    {
     "data": {
      "text/plain": [
       "['apple', 'kiwi', 'mango']"
      ]
     },
     "execution_count": 16,
     "metadata": {},
     "output_type": "execute_result"
    }
   ],
   "source": [
    "fruit_list = ['apple', 'kiwi', 'mango']\n",
    "fruit_list"
   ]
  },
  {
   "cell_type": "code",
   "execution_count": 17,
   "id": "86620a5e-b285-402a-89f1-7139e0f4e76a",
   "metadata": {},
   "outputs": [
    {
     "data": {
      "text/plain": [
       "[]"
      ]
     },
     "execution_count": 17,
     "metadata": {},
     "output_type": "execute_result"
    }
   ],
   "source": [
    "fruit_list.clear()\n",
    "fruit_list"
   ]
  },
  {
   "cell_type": "code",
   "execution_count": 18,
   "id": "d3cb6fe8-e881-4e5e-95aa-8e64eac30cd0",
   "metadata": {},
   "outputs": [
    {
     "data": {
      "text/plain": [
       "['strawberry', 'mango', 'blueberry', 'watermelon', 'apple', 'banana', 'orange']"
      ]
     },
     "execution_count": 18,
     "metadata": {},
     "output_type": "execute_result"
    }
   ],
   "source": [
    "# 아이템 정렬\n",
    "fruit_list = ['strawberry', 'mango', 'blueberry', 'watermelon', 'apple', 'banana', 'orange']\n",
    "fruit_list"
   ]
  },
  {
   "cell_type": "code",
   "execution_count": 19,
   "id": "0e323cd5-cc68-4866-a79a-514ed9eb48d1",
   "metadata": {},
   "outputs": [],
   "source": [
    "fruit_list.sort()"
   ]
  },
  {
   "cell_type": "code",
   "execution_count": 20,
   "id": "a8bc1e32-16c0-490c-bbe7-4a64d6f240cf",
   "metadata": {},
   "outputs": [
    {
     "data": {
      "text/plain": [
       "['apple', 'banana', 'blueberry', 'mango', 'orange', 'strawberry', 'watermelon']"
      ]
     },
     "execution_count": 20,
     "metadata": {},
     "output_type": "execute_result"
    }
   ],
   "source": [
    "fruit_list"
   ]
  },
  {
   "cell_type": "code",
   "execution_count": 21,
   "id": "eca9eb40-8003-4688-8354-cfe78c3fa6f5",
   "metadata": {},
   "outputs": [
    {
     "data": {
      "text/plain": [
       "['watermelon', 'strawberry', 'orange', 'mango', 'blueberry', 'banana', 'apple']"
      ]
     },
     "execution_count": 21,
     "metadata": {},
     "output_type": "execute_result"
    }
   ],
   "source": [
    "fruit_list.sort(reverse = True)\n",
    "fruit_list"
   ]
  },
  {
   "cell_type": "code",
   "execution_count": null,
   "id": "58258c88-5ab3-4c00-93c6-5f1603cd953c",
   "metadata": {},
   "outputs": [],
   "source": []
  }
 ],
 "metadata": {
  "kernelspec": {
   "display_name": "Python 3 (ipykernel)",
   "language": "python",
   "name": "python3"
  },
  "language_info": {
   "codemirror_mode": {
    "name": "ipython",
    "version": 3
   },
   "file_extension": ".py",
   "mimetype": "text/x-python",
   "name": "python",
   "nbconvert_exporter": "python",
   "pygments_lexer": "ipython3",
   "version": "3.10.18"
  }
 },
 "nbformat": 4,
 "nbformat_minor": 5
}
