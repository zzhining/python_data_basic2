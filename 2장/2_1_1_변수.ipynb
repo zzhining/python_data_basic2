{
 "cells": [
  {
   "cell_type": "code",
   "execution_count": 1,
   "id": "ace5694b-de3d-4f2f-b5fd-accc510724a7",
   "metadata": {},
   "outputs": [],
   "source": [
    "a = 5"
   ]
  },
  {
   "cell_type": "code",
   "execution_count": 2,
   "id": "1805093b-4c83-48e2-a56d-d04622b5e7de",
   "metadata": {},
   "outputs": [
    {
     "data": {
      "text/plain": [
       "5"
      ]
     },
     "execution_count": 2,
     "metadata": {},
     "output_type": "execute_result"
    }
   ],
   "source": [
    "a"
   ]
  },
  {
   "cell_type": "code",
   "execution_count": 3,
   "id": "81632a40-04b6-417b-89c7-b85d87207ba2",
   "metadata": {},
   "outputs": [
    {
     "data": {
      "text/plain": [
       "3"
      ]
     },
     "execution_count": 3,
     "metadata": {},
     "output_type": "execute_result"
    }
   ],
   "source": [
    "b = 3\n",
    "b"
   ]
  },
  {
   "cell_type": "code",
   "execution_count": 5,
   "id": "02d4691a-095e-4e93-8b5a-2fbcfaba4ac5",
   "metadata": {},
   "outputs": [
    {
     "data": {
      "text/plain": [
       "8"
      ]
     },
     "execution_count": 5,
     "metadata": {},
     "output_type": "execute_result"
    }
   ],
   "source": [
    "a + b"
   ]
  },
  {
   "cell_type": "code",
   "execution_count": 7,
   "id": "5269490f-d594-44d5-a514-ae868f90c96f",
   "metadata": {},
   "outputs": [],
   "source": [
    "c = '가나다'"
   ]
  },
  {
   "cell_type": "code",
   "execution_count": 8,
   "id": "477ac1aa-e35e-46dc-b92a-98897c19c38e",
   "metadata": {},
   "outputs": [
    {
     "data": {
      "text/plain": [
       "'가나다'"
      ]
     },
     "execution_count": 8,
     "metadata": {},
     "output_type": "execute_result"
    }
   ],
   "source": [
    "c"
   ]
  },
  {
   "cell_type": "code",
   "execution_count": 9,
   "id": "fe23b8b7-319f-472b-b7e9-136d70cab8a4",
   "metadata": {},
   "outputs": [
    {
     "data": {
      "text/plain": [
       "107.9"
      ]
     },
     "execution_count": 9,
     "metadata": {},
     "output_type": "execute_result"
    }
   ],
   "source": [
    "radio_freq = 107.9\n",
    "radio_freq"
   ]
  },
  {
   "cell_type": "code",
   "execution_count": 15,
   "id": "4b68fc1c-b21e-40f1-83c0-0ea6e88f85c1",
   "metadata": {},
   "outputs": [
    {
     "ename": "SyntaxError",
     "evalue": "invalid decimal literal (1140718772.py, line 2)",
     "output_type": "error",
     "traceback": [
      "\u001b[1;36m  Cell \u001b[1;32mIn[15], line 2\u001b[1;36m\u001b[0m\n\u001b[1;33m    2var = '행복'\u001b[0m\n\u001b[1;37m    ^\u001b[0m\n\u001b[1;31mSyntaxError\u001b[0m\u001b[1;31m:\u001b[0m invalid decimal literal\n"
     ]
    }
   ],
   "source": [
    "# 잘못된 변수명: 숫자로 시작\n",
    "2var = '행복'"
   ]
  },
  {
   "cell_type": "code",
   "execution_count": 19,
   "id": "7935e8e1-25b7-4cdf-8c64-e6b3767f7300",
   "metadata": {},
   "outputs": [
    {
     "ename": "SyntaxError",
     "evalue": "invalid syntax (4203637394.py, line 2)",
     "output_type": "error",
     "traceback": [
      "\u001b[1;36m  Cell \u001b[1;32mIn[19], line 2\u001b[1;36m\u001b[0m\n\u001b[1;33m    happy var = '행복'\u001b[0m\n\u001b[1;37m          ^\u001b[0m\n\u001b[1;31mSyntaxError\u001b[0m\u001b[1;31m:\u001b[0m invalid syntax\n"
     ]
    }
   ],
   "source": [
    "# 잘못된 변수명: 공백 포함\n",
    "happy var = '행복'"
   ]
  },
  {
   "cell_type": "code",
   "execution_count": 20,
   "id": "76a74016-58bf-4fe3-9213-1e8270ae5fb4",
   "metadata": {},
   "outputs": [
    {
     "ename": "SyntaxError",
     "evalue": "invalid syntax (2625763188.py, line 1)",
     "output_type": "error",
     "traceback": [
      "\u001b[1;36m  Cell \u001b[1;32mIn[20], line 1\u001b[1;36m\u001b[0m\n\u001b[1;33m    happyvar! = '행복'\u001b[0m\n\u001b[1;37m            ^\u001b[0m\n\u001b[1;31mSyntaxError\u001b[0m\u001b[1;31m:\u001b[0m invalid syntax\n"
     ]
    }
   ],
   "source": [
    "# 잘못된 변수명 : 특수문자 포함(단, _ 는 제외)\n",
    "happyvar! = '행복'"
   ]
  },
  {
   "cell_type": "code",
   "execution_count": 21,
   "id": "dd5ab1f6-4440-46be-a120-fa6c9a276495",
   "metadata": {},
   "outputs": [
    {
     "ename": "SyntaxError",
     "evalue": "invalid syntax (481742373.py, line 2)",
     "output_type": "error",
     "traceback": [
      "\u001b[1;36m  Cell \u001b[1;32mIn[21], line 2\u001b[1;36m\u001b[0m\n\u001b[1;33m    def = '행복'\u001b[0m\n\u001b[1;37m        ^\u001b[0m\n\u001b[1;31mSyntaxError\u001b[0m\u001b[1;31m:\u001b[0m invalid syntax\n"
     ]
    }
   ],
   "source": [
    "# 잘못된 변수명 : 예약어\n",
    "def = '행복'"
   ]
  },
  {
   "cell_type": "code",
   "execution_count": 22,
   "id": "a53b5347-bded-4bf9-9ef1-74701662d062",
   "metadata": {},
   "outputs": [
    {
     "name": "stdout",
     "output_type": "stream",
     "text": [
      "5 Apple\n"
     ]
    }
   ],
   "source": [
    "# 대소문자 구분\n",
    "\n",
    "abc = 5\n",
    "ABC = 'Apple'\n",
    "print(abc, ABC)"
   ]
  },
  {
   "cell_type": "code",
   "execution_count": 23,
   "id": "f17fed4c-c997-41b8-9a33-e109c81af4a8",
   "metadata": {},
   "outputs": [
    {
     "name": "stdout",
     "output_type": "stream",
     "text": [
      "Apple Banana Carrot\n"
     ]
    }
   ],
   "source": [
    "# 다중 변수 동시 선언\n",
    "x, y, z = 'Apple', 'Banana', 'Carrot'\n",
    "print(x, y, z)"
   ]
  },
  {
   "cell_type": "code",
   "execution_count": 24,
   "id": "4c7b5a0a-e201-42a6-b43b-deb759e3393a",
   "metadata": {},
   "outputs": [
    {
     "name": "stdout",
     "output_type": "stream",
     "text": [
      "Not use Use\n"
     ]
    }
   ],
   "source": [
    "_, var = 'Not use', 'Use'\n",
    "print(_, var)"
   ]
  },
  {
   "cell_type": "code",
   "execution_count": null,
   "id": "0cfbd0b3-3fee-4d4d-a91f-4c02a2b7bc6c",
   "metadata": {},
   "outputs": [],
   "source": [
    "# 단일값의 다중변수 할당\n",
    "\n"
   ]
  }
 ],
 "metadata": {
  "kernelspec": {
   "display_name": "Python 3 (ipykernel)",
   "language": "python",
   "name": "python3"
  },
  "language_info": {
   "codemirror_mode": {
    "name": "ipython",
    "version": 3
   },
   "file_extension": ".py",
   "mimetype": "text/x-python",
   "name": "python",
   "nbconvert_exporter": "python",
   "pygments_lexer": "ipython3",
   "version": "3.10.18"
  }
 },
 "nbformat": 4,
 "nbformat_minor": 5
}
