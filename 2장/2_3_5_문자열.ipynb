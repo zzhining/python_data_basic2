{
 "cells": [
  {
   "cell_type": "markdown",
   "metadata": {
    "id": "M4CXH1ol9Sn4"
   },
   "source": [
    "## ① split(sep=None, maxsplit=-1)"
   ]
  },
  {
   "cell_type": "code",
   "execution_count": 1,
   "metadata": {
    "colab": {
     "base_uri": "https://localhost:8080/"
    },
    "id": "iYrAnHK99Sn5",
    "outputId": "6d367f19-1be2-45a7-96ad-0662569d2787"
   },
   "outputs": [
    {
     "data": {
      "text/plain": [
       "['나는',\n",
       " '자랑스러운',\n",
       " '태극기',\n",
       " '앞에',\n",
       " '자유롭고',\n",
       " '정의로운',\n",
       " '대한민국의',\n",
       " '무궁한',\n",
       " '영광을',\n",
       " '위하여',\n",
       " '충성을',\n",
       " '다할',\n",
       " '것을',\n",
       " '굳게',\n",
       " '다짐합니다.']"
      ]
     },
     "execution_count": 1,
     "metadata": {},
     "output_type": "execute_result"
    }
   ],
   "source": [
    "text = \"나는 자랑스러운 태극기 앞에 자유롭고 정의로운 대한민국의 무궁한 영광을 위하여 충성을 다할 것을 굳게 다짐합니다.\"\n",
    "text.split(\" \") # 공백을 구분자로 하여 문장을 쪼갬"
   ]
  },
  {
   "cell_type": "code",
   "execution_count": 2,
   "metadata": {
    "colab": {
     "base_uri": "https://localhost:8080/"
    },
    "id": "CgfeAkUW9Sn6",
    "outputId": "fc98dbca-362f-4e83-a26d-576d4afdc041"
   },
   "outputs": [
    {
     "data": {
      "text/plain": [
       "['+82', '10', '1234', '5678']"
      ]
     },
     "execution_count": 2,
     "metadata": {},
     "output_type": "execute_result"
    }
   ],
   "source": [
    "text = \"+82-10-1234-5678\"\n",
    "text.split(\"-\") #\"-\"을 구분자로 하여 문장을 쪼갬"
   ]
  },
  {
   "cell_type": "code",
   "execution_count": 3,
   "metadata": {
    "colab": {
     "base_uri": "https://localhost:8080/"
    },
    "id": "jTnt-50D9Sn7",
    "outputId": "865fced3-7dce-43e3-d361-e961ba869fd9"
   },
   "outputs": [
    {
     "data": {
      "text/plain": [
       "['+82', '10', '1234-5678']"
      ]
     },
     "execution_count": 3,
     "metadata": {},
     "output_type": "execute_result"
    }
   ],
   "source": [
    "text.split(\"-\", 2)"
   ]
  },
  {
   "cell_type": "markdown",
   "metadata": {
    "id": "tAkRMMVv9Sn7"
   },
   "source": [
    "## ② strip(chars=None, /)"
   ]
  },
  {
   "cell_type": "code",
   "execution_count": 4,
   "metadata": {
    "colab": {
     "base_uri": "https://localhost:8080/",
     "height": 36
    },
    "id": "rdP9i7dI9Sn8",
    "outputId": "a9d97934-cefd-4eee-e206-d9b3a704c033"
   },
   "outputs": [
    {
     "data": {
      "text/plain": [
       "'토실토실 아기 돼지'"
      ]
     },
     "execution_count": 4,
     "metadata": {},
     "output_type": "execute_result"
    }
   ],
   "source": [
    "text = \"     토실토실 아기 돼지    \"\n",
    "text.strip()"
   ]
  },
  {
   "cell_type": "code",
   "execution_count": 5,
   "metadata": {
    "colab": {
     "base_uri": "https://localhost:8080/",
     "height": 36
    },
    "id": "81W5Ulmf9Sn9",
    "outputId": "db0788b2-b823-4223-9c12-81ddb8af822b"
   },
   "outputs": [
    {
     "data": {
      "text/plain": [
       "'토실토실 아기 돼지'"
      ]
     },
     "execution_count": 5,
     "metadata": {},
     "output_type": "execute_result"
    }
   ],
   "source": [
    "text = \"\\n\\n\\n\\n토실토실 아기 돼지\\n\\n\\n\\n\"\n",
    "text.strip(\"\\n\")"
   ]
  },
  {
   "cell_type": "code",
   "execution_count": 6,
   "metadata": {
    "colab": {
     "base_uri": "https://localhost:8080/",
     "height": 36
    },
    "id": "x9lc1jMl9Sn-",
    "outputId": "63c4a003-7a42-43a7-bc41-2c03a76a2b3b"
   },
   "outputs": [
    {
     "data": {
      "text/plain": [
       "'XXaaaaa토실토실 아기 돼지'"
      ]
     },
     "execution_count": 6,
     "metadata": {},
     "output_type": "execute_result"
    }
   ],
   "source": [
    "text = \"XXaaaaa토실토실 아기 돼지aaaaa\"\n",
    "text.strip(\"a\")"
   ]
  },
  {
   "cell_type": "code",
   "execution_count": 7,
   "metadata": {
    "colab": {
     "base_uri": "https://localhost:8080/",
     "height": 36
    },
    "id": "QbUYYR0y9Sn_",
    "outputId": "b7d6fef1-a3f4-4b7c-bab8-0d9b59ae877e"
   },
   "outputs": [
    {
     "data": {
      "text/plain": [
       "'토실토실 아기 돼지'"
      ]
     },
     "execution_count": 7,
     "metadata": {},
     "output_type": "execute_result"
    }
   ],
   "source": [
    "text = \"ababab토실토실 아기 돼지ababab\"\n",
    "text.strip(\"ab\")"
   ]
  },
  {
   "cell_type": "code",
   "execution_count": 8,
   "metadata": {
    "colab": {
     "base_uri": "https://localhost:8080/",
     "height": 36
    },
    "id": "JQcOaTwm9SoA",
    "outputId": "ad28cc28-c8e9-4e42-b990-948db145447c"
   },
   "outputs": [
    {
     "data": {
      "text/plain": [
       "'토실토실 아기 돼지'"
      ]
     },
     "execution_count": 8,
     "metadata": {},
     "output_type": "execute_result"
    }
   ],
   "source": [
    "text = \"aaabbbccccc토실토실 아기 돼지aaabbbccccc\"\n",
    "text.strip(\"abc\")"
   ]
  },
  {
   "cell_type": "code",
   "execution_count": 9,
   "metadata": {
    "colab": {
     "base_uri": "https://localhost:8080/",
     "height": 36
    },
    "id": "BeGiqUfo9SoA",
    "outputId": "a9f0ca3d-625e-4a74-b66e-7517667799ad"
   },
   "outputs": [
    {
     "data": {
      "text/plain": [
       "'토실토실 아기 돼지sssss'"
      ]
     },
     "execution_count": 9,
     "metadata": {},
     "output_type": "execute_result"
    }
   ],
   "source": [
    "text = \"ssss토실토실 아기 돼지sssss\"\n",
    "text.lstrip('s')"
   ]
  },
  {
   "cell_type": "code",
   "execution_count": 10,
   "metadata": {
    "colab": {
     "base_uri": "https://localhost:8080/",
     "height": 36
    },
    "id": "lEkAIAE89SoB",
    "outputId": "ac281395-9b30-43e5-a188-81e53fc49e08"
   },
   "outputs": [
    {
     "data": {
      "text/plain": [
       "'ssss토실토실 아기 돼지'"
      ]
     },
     "execution_count": 10,
     "metadata": {},
     "output_type": "execute_result"
    }
   ],
   "source": [
    "text = \"ssss토실토실 아기 돼지sssss\"\n",
    "text.rstrip('s')"
   ]
  },
  {
   "cell_type": "markdown",
   "metadata": {
    "id": "XPMk-eeB9SoB"
   },
   "source": [
    "## ③ join(iterable, /)"
   ]
  },
  {
   "cell_type": "code",
   "execution_count": 11,
   "metadata": {
    "colab": {
     "base_uri": "https://localhost:8080/",
     "height": 36
    },
    "id": "6H8k4soj9SoC",
    "outputId": "ee59ddb6-f18e-4333-af8a-fd745bf6216e"
   },
   "outputs": [
    {
     "data": {
      "text/plain": [
       "'인천->도쿄->뉴욕->파리'"
      ]
     },
     "execution_count": 11,
     "metadata": {},
     "output_type": "execute_result"
    }
   ],
   "source": [
    "text1 = \"->\"\n",
    "text2 = [\"인천\", \"도쿄\", \"뉴욕\", \"파리\"]\n",
    "text1.join(text2)"
   ]
  },
  {
   "cell_type": "markdown",
   "metadata": {
    "id": "BFUEkH8Q9SoC"
   },
   "source": [
    "## ④ find(sub[, start[, end]])"
   ]
  },
  {
   "cell_type": "code",
   "execution_count": 12,
   "metadata": {
    "colab": {
     "base_uri": "https://localhost:8080/"
    },
    "id": "QNEily1M9SoD",
    "outputId": "971b9c3c-b188-4fa3-b0d5-355ab9130114"
   },
   "outputs": [
    {
     "data": {
      "text/plain": [
       "2"
      ]
     },
     "execution_count": 12,
     "metadata": {},
     "output_type": "execute_result"
    }
   ],
   "source": [
    "text = \"송아지 송아지 얼룩 송아지\"\n",
    "text.find(\"지\")"
   ]
  },
  {
   "cell_type": "code",
   "execution_count": 13,
   "metadata": {
    "colab": {
     "base_uri": "https://localhost:8080/"
    },
    "id": "Ko4bJyjX9SoD",
    "outputId": "57a5c2b8-3403-4811-b0f1-70d0b1f049b9"
   },
   "outputs": [
    {
     "data": {
      "text/plain": [
       "8"
      ]
     },
     "execution_count": 13,
     "metadata": {},
     "output_type": "execute_result"
    }
   ],
   "source": [
    "text = \"송아지 송아지 얼룩 송아지\"\n",
    "text.find(\"얼룩\")"
   ]
  },
  {
   "cell_type": "markdown",
   "metadata": {
    "id": "CVN9sxdl9SoE"
   },
   "source": [
    "## ⑤ count(sub[, start[, end]])"
   ]
  },
  {
   "cell_type": "code",
   "execution_count": 14,
   "metadata": {
    "colab": {
     "base_uri": "https://localhost:8080/"
    },
    "id": "F_7t4Yl79SoE",
    "outputId": "56127f54-313d-4103-ec2b-0c0167f6d0a3"
   },
   "outputs": [
    {
     "data": {
      "text/plain": [
       "3"
      ]
     },
     "execution_count": 14,
     "metadata": {},
     "output_type": "execute_result"
    }
   ],
   "source": [
    "text = \"송아지 송아지 얼룩 송아지\"\n",
    "text.count(\"송아지\")"
   ]
  },
  {
   "cell_type": "markdown",
   "metadata": {
    "id": "myHU88f_9SoF"
   },
   "source": [
    "## ⑥ startswith(prefix[, start[, end]])\n",
    "## ⑦ endswith(suffix[, start[, end]])"
   ]
  },
  {
   "cell_type": "code",
   "execution_count": 15,
   "metadata": {
    "colab": {
     "base_uri": "https://localhost:8080/"
    },
    "id": "HkaGn89j9SoF",
    "outputId": "5f957d33-450b-416c-af20-9c9e05126296"
   },
   "outputs": [
    {
     "name": "stdout",
     "output_type": "stream",
     "text": [
      "True\n",
      "False\n",
      "False\n"
     ]
    }
   ],
   "source": [
    "animals = ['강아지', '송아지', '돼지']\n",
    "\n",
    "for i in animals:\n",
    "    print(i.startswith('강'))"
   ]
  },
  {
   "cell_type": "code",
   "execution_count": 16,
   "metadata": {
    "colab": {
     "base_uri": "https://localhost:8080/"
    },
    "id": "TjGtVRDE9SoG",
    "outputId": "3468a8ef-9f2c-4d3d-941d-19217d305247"
   },
   "outputs": [
    {
     "name": "stdout",
     "output_type": "stream",
     "text": [
      "True\n",
      "True\n",
      "True\n"
     ]
    }
   ],
   "source": [
    "animals = ['강아지', '송아지', '돼지']\n",
    "\n",
    "for i in animals:\n",
    "    print(i.endswith('지'))"
   ]
  },
  {
   "cell_type": "markdown",
   "metadata": {
    "id": "FCM_PPmh9SoG"
   },
   "source": [
    "## ⑧ replace(old, new, count=-1, /)"
   ]
  },
  {
   "cell_type": "code",
   "execution_count": 17,
   "metadata": {
    "colab": {
     "base_uri": "https://localhost:8080/",
     "height": 36
    },
    "id": "sMNNQhJ99SoH",
    "outputId": "5e8c4a0b-1b6a-4345-bf33-d2ff867d8efb"
   },
   "outputs": [
    {
     "data": {
      "text/plain": [
       "'송아지'"
      ]
     },
     "execution_count": 17,
     "metadata": {},
     "output_type": "execute_result"
    }
   ],
   "source": [
    "text = '강아지'\n",
    "text.replace('강', '송')"
   ]
  },
  {
   "cell_type": "markdown",
   "metadata": {
    "id": "u-OUk7Ev9SoH"
   },
   "source": [
    "## ⑨ lower()\n",
    "## ⑩ upper()\n"
   ]
  },
  {
   "cell_type": "code",
   "execution_count": 18,
   "metadata": {
    "colab": {
     "base_uri": "https://localhost:8080/",
     "height": 36
    },
    "id": "kHr3zqYm9SoI",
    "outputId": "75107219-c45b-4197-986a-c855714af431"
   },
   "outputs": [
    {
     "data": {
      "text/plain": [
       "'coffee'"
      ]
     },
     "execution_count": 18,
     "metadata": {},
     "output_type": "execute_result"
    }
   ],
   "source": [
    "text = 'Coffee'\n",
    "text.lower()"
   ]
  },
  {
   "cell_type": "code",
   "execution_count": 19,
   "metadata": {
    "colab": {
     "base_uri": "https://localhost:8080/",
     "height": 36
    },
    "id": "gkfaHi2x9SoI",
    "outputId": "d1ba3bf8-b802-475a-a1a2-2c101572fb9c"
   },
   "outputs": [
    {
     "data": {
      "text/plain": [
       "'COFFEE'"
      ]
     },
     "execution_count": 19,
     "metadata": {},
     "output_type": "execute_result"
    }
   ],
   "source": [
    "text.upper()"
   ]
  }
 ],
 "metadata": {
  "colab": {
   "include_colab_link": true,
   "provenance": [],
   "toc_visible": true
  },
  "kernelspec": {
   "display_name": "Python 3 (ipykernel)",
   "language": "python",
   "name": "python3"
  },
  "language_info": {
   "codemirror_mode": {
    "name": "ipython",
    "version": 3
   },
   "file_extension": ".py",
   "mimetype": "text/x-python",
   "name": "python",
   "nbconvert_exporter": "python",
   "pygments_lexer": "ipython3",
   "version": "3.10.18"
  },
  "toc": {
   "base_numbering": 1,
   "nav_menu": {},
   "number_sections": false,
   "sideBar": true,
   "skip_h1_title": false,
   "title_cell": "Table of Contents",
   "title_sidebar": "Contents",
   "toc_cell": false,
   "toc_position": {},
   "toc_section_display": true,
   "toc_window_display": true
  }
 },
 "nbformat": 4,
 "nbformat_minor": 4
}
