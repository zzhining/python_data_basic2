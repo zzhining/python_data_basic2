{
 "cells": [
  {
   "cell_type": "markdown",
   "metadata": {},
   "source": [
    "# 파일 입력"
   ]
  },
  {
   "cell_type": "code",
   "execution_count": 1,
   "metadata": {
    "id": "h18Q5HMh74yq"
   },
   "outputs": [],
   "source": [
    "f = open(\"abc1.txt\", \"w\") # 쓰기모드로 파일 열기\n",
    "f.write(\"A B C D E F G \")\n",
    "f.close()"
   ]
  },
  {
   "cell_type": "code",
   "execution_count": 2,
   "metadata": {
    "id": "MoE6sm2h74ys"
   },
   "outputs": [],
   "source": [
    "f = open(\"abc2.txt\", \"w\")\n",
    "f.write(\"a b c d e f g \")\n",
    "f.close()"
   ]
  },
  {
   "cell_type": "code",
   "execution_count": 3,
   "metadata": {
    "id": "SAq81vdk74yv"
   },
   "outputs": [],
   "source": [
    "# 추가(append)모드로 파일 열기\n",
    "f = open(\"abc1.txt\", \"a\")\n",
    "f.write(\"H I J K L M N O P Q R S T U V W X Y Z\")\n",
    "f.close()"
   ]
  },
  {
   "cell_type": "markdown",
   "metadata": {},
   "source": [
    "# 파일 출력 - 파일 내용 읽기"
   ]
  },
  {
   "cell_type": "code",
   "execution_count": 4,
   "metadata": {
    "colab": {
     "base_uri": "https://localhost:8080/"
    },
    "id": "DUFcxJ6Z74yr",
    "outputId": "f4cf1bde-1d8b-4094-f0e0-dc0eddeb3815"
   },
   "outputs": [
    {
     "name": "stdout",
     "output_type": "stream",
     "text": [
      "A B C D E F G H I J K L M N O P Q R S T U V W X Y Z\n"
     ]
    }
   ],
   "source": [
    "f = open(\"abc1.txt\", \"r\")\n",
    "print(f.read())\n",
    "f.close()"
   ]
  },
  {
   "cell_type": "code",
   "execution_count": 5,
   "metadata": {
    "colab": {
     "base_uri": "https://localhost:8080/"
    },
    "id": "fAhuEUmv74yx",
    "outputId": "461c851d-8cd0-4274-b77b-6a8f86def7f3"
   },
   "outputs": [
    {
     "name": "stdout",
     "output_type": "stream",
     "text": [
      "a b c d e f g \n"
     ]
    }
   ],
   "source": [
    "# 읽기모드로 파일 열기\n",
    "f = open(\"abc2.txt\", 'r')\n",
    "lines = f.readlines()\n",
    "for line in lines:\n",
    "    print(line)\n",
    "f.close()"
   ]
  },
  {
   "cell_type": "code",
   "execution_count": 6,
   "metadata": {
    "colab": {
     "base_uri": "https://localhost:8080/"
    },
    "id": "f2YDR1RL74yy",
    "outputId": "7aa5d72a-a1a8-4b3b-8748-ed6f3caa6875"
   },
   "outputs": [
    {
     "name": "stdout",
     "output_type": "stream",
     "text": [
      "2020년 3월 12일 금요일\n",
      "날씨 맑음\n"
     ]
    }
   ],
   "source": [
    "with open(\"일기.txt\", \"w\") as f:\n",
    "    f.write(\"2020년 3월 12일 금요일\\n\")\n",
    "\n",
    "with open(\"일기.txt\", \"a\") as f:\n",
    "    f.write(\"날씨 맑음\")\n",
    "\n",
    "with open(\"일기.txt\", \"r\") as f:\n",
    "    print(f.read())"
   ]
  },
  {
   "cell_type": "markdown",
   "metadata": {
    "id": "tWymUuvJ74y0"
   },
   "source": [
    "--------\n",
    "<div class=\"alert alert-warning\">\n",
    "[Tip]파일 삭제\n",
    "</div>"
   ]
  },
  {
   "cell_type": "code",
   "execution_count": 7,
   "metadata": {
    "colab": {
     "base_uri": "https://localhost:8080/"
    },
    "id": "IqYQ_2rR74y1",
    "outputId": "43de661c-e416-4a35-812b-01e11fe8988f"
   },
   "outputs": [
    {
     "name": "stdout",
     "output_type": "stream",
     "text": [
      "abc1.txt파일을 삭제하였습니다.\n"
     ]
    }
   ],
   "source": [
    "import os\n",
    "\n",
    "fileName = \"abc1.txt\"\n",
    "if os.path.exists(fileName):\n",
    "    os.remove(fileName)\n",
    "    print(\"{}파일을 삭제하였습니다.\".format(fileName))\n",
    "else:\n",
    "    print(\"{}파일이 존재하지 않습니다.\".format(fileName))"
   ]
  },
  {
   "cell_type": "markdown",
   "metadata": {
    "id": "kGnSgES_74y2"
   },
   "source": [
    "-----------"
   ]
  }
 ],
 "metadata": {
  "colab": {
   "include_colab_link": true,
   "provenance": [],
   "toc_visible": true
  },
  "kernelspec": {
   "display_name": "Python 3 (ipykernel)",
   "language": "python",
   "name": "python3"
  },
  "language_info": {
   "codemirror_mode": {
    "name": "ipython",
    "version": 3
   },
   "file_extension": ".py",
   "mimetype": "text/x-python",
   "name": "python",
   "nbconvert_exporter": "python",
   "pygments_lexer": "ipython3",
   "version": "3.10.18"
  },
  "toc": {
   "base_numbering": 1,
   "nav_menu": {},
   "number_sections": false,
   "sideBar": true,
   "skip_h1_title": false,
   "title_cell": "Table of Contents",
   "title_sidebar": "Contents",
   "toc_cell": false,
   "toc_position": {},
   "toc_section_display": true,
   "toc_window_display": false
  }
 },
 "nbformat": 4,
 "nbformat_minor": 4
}
