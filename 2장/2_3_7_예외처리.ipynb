{
 "cells": [
  {
   "cell_type": "markdown",
   "id": "65fcb0a2-7409-45e7-9205-2d88d737c332",
   "metadata": {},
   "source": [
    "# try-except-finally\n",
    "\n",
    "```\n",
    "try:\n",
    "    # 예외가 발생할 수 있는 코드\n",
    "    pass\n",
    "except ExceptionType as e:\n",
    "    # 특정 예외 처리\n",
    "    pass\n",
    "except:\n",
    "    # 모든 예외 처리\n",
    "    pass\n",
    "finally:\n",
    "    # 항상 실행되는 코드\n",
    "    pass\n",
    "```"
   ]
  },
  {
   "cell_type": "markdown",
   "id": "22fb1cf4-d648-4a8d-9a6c-62b3bfa65f4b",
   "metadata": {},
   "source": [
    "# 문제\n",
    "\n",
    "사용자로부터 나이를 입력받아 유효성을 검증하는 코드를 작성하시오. 사용자가 잘못된 값을 입력하더라도 프로그램이 중단되지 않고 올바른 값을 입력할 때까지 반복 요청하시오."
   ]
  },
  {
   "cell_type": "code",
   "execution_count": null,
   "id": "6f25081a-e8e1-430a-8048-1a136c0a4306",
   "metadata": {},
   "outputs": [
    {
     "name": "stdin",
     "output_type": "stream",
     "text": [
      "나이를 입력하세요:  -100\n"
     ]
    },
    {
     "name": "stdout",
     "output_type": "stream",
     "text": [
      "나이는 0 이상이어야 합니다\n"
     ]
    },
    {
     "name": "stdin",
     "output_type": "stream",
     "text": [
      "나이를 입력하세요:  300\n"
     ]
    },
    {
     "name": "stdout",
     "output_type": "stream",
     "text": [
      "유효하지 않은 나이입니다\n"
     ]
    },
    {
     "name": "stdin",
     "output_type": "stream",
     "text": [
      "나이를 입력하세요:  다섯살\n"
     ]
    },
    {
     "name": "stdout",
     "output_type": "stream",
     "text": [
      "숫자만 입력해주세요\n"
     ]
    },
    {
     "name": "stdin",
     "output_type": "stream",
     "text": [
      "나이를 입력하세요:  5세\n"
     ]
    },
    {
     "name": "stdout",
     "output_type": "stream",
     "text": [
      "숫자만 입력해주세요\n"
     ]
    },
    {
     "name": "stdin",
     "output_type": "stream",
     "text": [
      "나이를 입력하세요:  #$%%^\n"
     ]
    },
    {
     "name": "stdout",
     "output_type": "stream",
     "text": [
      "숫자만 입력해주세요\n"
     ]
    }
   ],
   "source": []
  },
  {
   "cell_type": "code",
   "execution_count": null,
   "id": "c369e199-53be-4346-bad7-10113479fea4",
   "metadata": {},
   "outputs": [],
   "source": []
  }
 ],
 "metadata": {
  "kernelspec": {
   "display_name": "Python 3 (ipykernel)",
   "language": "python",
   "name": "python3"
  },
  "language_info": {
   "codemirror_mode": {
    "name": "ipython",
    "version": 3
   },
   "file_extension": ".py",
   "mimetype": "text/x-python",
   "name": "python",
   "nbconvert_exporter": "python",
   "pygments_lexer": "ipython3",
   "version": "3.10.18"
  }
 },
 "nbformat": 4,
 "nbformat_minor": 5
}
