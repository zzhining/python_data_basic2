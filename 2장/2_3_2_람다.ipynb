{
 "cells": [
  {
   "cell_type": "markdown",
   "metadata": {
    "id": "ODconSHc9Snt"
   },
   "source": [
    "# 람다"
   ]
  },
  {
   "cell_type": "code",
   "execution_count": 1,
   "metadata": {
    "colab": {
     "base_uri": "https://localhost:8080/"
    },
    "id": "huBV-Eu59Snu",
    "outputId": "3d96e0fe-1973-4801-b3c4-1de67a9b5dd5"
   },
   "outputs": [
    {
     "data": {
      "text/plain": [
       "105"
      ]
     },
     "execution_count": 1,
     "metadata": {},
     "output_type": "execute_result"
    }
   ],
   "source": [
    "# 방법1: 람다를 정의하는 동시에 실행\n",
    "(lambda x : x + 5)(100)"
   ]
  },
  {
   "cell_type": "code",
   "execution_count": 2,
   "metadata": {
    "colab": {
     "base_uri": "https://localhost:8080/"
    },
    "id": "XWrQaenU9Snv",
    "outputId": "3b207e85-c585-425e-c4d6-c3f0332632af"
   },
   "outputs": [
    {
     "name": "stdout",
     "output_type": "stream",
     "text": [
      "105\n"
     ]
    }
   ],
   "source": [
    "# 방법2: 람다를 변수에 할당하여 재사용\n",
    "sum5 = lambda x : x + 5\n",
    "print(sum5(100))"
   ]
  },
  {
   "cell_type": "markdown",
   "metadata": {
    "id": "VmA-2PkT9Sny"
   },
   "source": [
    "<div class=\"alert alert-success\">\n",
    "[문제]\n",
    "    \n",
    "사용자로부터 키를 입력 받아서 권장 체중을 출력하는 람다식을 작성하세요.  \n",
    "권장 체중은 다음과 같이 계산합니다.  \n",
    "권장 체중 = (키 – 100) * 0.9  \n",
    "\n",
    "</div>"
   ]
  },
  {
   "cell_type": "code",
   "execution_count": 3,
   "metadata": {
    "colab": {
     "base_uri": "https://localhost:8080/"
    },
    "id": "inbXYtOk9Snz",
    "outputId": "82901bfc-b341-41e9-f354-add9e7d31472"
   },
   "outputs": [
    {
     "name": "stdout",
     "output_type": "stream",
     "text": [
      "63.0\n"
     ]
    }
   ],
   "source": [
    "wieght = lambda height: (height-100)*0.9\n",
    "print(wieght(170))"
   ]
  },
  {
   "cell_type": "code",
   "execution_count": 4,
   "metadata": {
    "colab": {
     "base_uri": "https://localhost:8080/"
    },
    "id": "KD67lIGb9Sn0",
    "outputId": "0f70c26a-bc44-4a29-d592-3eff60723efe"
   },
   "outputs": [
    {
     "data": {
      "text/plain": [
       "63.0"
      ]
     },
     "execution_count": 4,
     "metadata": {},
     "output_type": "execute_result"
    }
   ],
   "source": [
    "(lambda height : (height - 100) * 0.9)(170)"
   ]
  },
  {
   "cell_type": "markdown",
   "metadata": {
    "id": "aP6BTjrl9Sn1"
   },
   "source": [
    "<div class=\"alert alert-success\">\n",
    "[문제]\n",
    "    \n",
    "사용자로부터 키와 성별을 입력 받아서 권장 체중을 화면에 출력하는 람다식을 작성하세요.  \n",
    "권장 체중은 다음과 같이 계산합니다.  \n",
    "-\t남성 권장 체중 = (키 – 100)   \n",
    "-\t여성 권장 체중 = (키 – 100) * 0.9  \n",
    "\n",
    "</div>"
   ]
  },
  {
   "cell_type": "code",
   "execution_count": 5,
   "metadata": {
    "id": "5X6-Fozm9Sn2"
   },
   "outputs": [],
   "source": [
    "weight2 = lambda man, height : (height - 100) if(man) else (height - 100) * 0.9"
   ]
  },
  {
   "cell_type": "code",
   "execution_count": 6,
   "metadata": {
    "colab": {
     "base_uri": "https://localhost:8080/"
    },
    "id": "OoAS0b-99Sn2",
    "outputId": "498f1abc-1029-4ef1-97b1-150e3433de59"
   },
   "outputs": [
    {
     "data": {
      "text/plain": [
       "63.0"
      ]
     },
     "execution_count": 6,
     "metadata": {},
     "output_type": "execute_result"
    }
   ],
   "source": [
    "weight2(False, 170)"
   ]
  },
  {
   "cell_type": "code",
   "execution_count": 7,
   "metadata": {
    "colab": {
     "base_uri": "https://localhost:8080/"
    },
    "id": "W0PWSxrY9Sn3",
    "outputId": "3aa04c0d-6146-4d9a-fe98-649a0fb99e0a"
   },
   "outputs": [
    {
     "data": {
      "text/plain": [
       "70"
      ]
     },
     "execution_count": 7,
     "metadata": {},
     "output_type": "execute_result"
    }
   ],
   "source": [
    "weight2(True, 170)"
   ]
  },
  {
   "cell_type": "code",
   "execution_count": null,
   "metadata": {},
   "outputs": [],
   "source": []
  }
 ],
 "metadata": {
  "colab": {
   "include_colab_link": true,
   "provenance": [],
   "toc_visible": true
  },
  "kernelspec": {
   "display_name": "Python 3 (ipykernel)",
   "language": "python",
   "name": "python3"
  },
  "language_info": {
   "codemirror_mode": {
    "name": "ipython",
    "version": 3
   },
   "file_extension": ".py",
   "mimetype": "text/x-python",
   "name": "python",
   "nbconvert_exporter": "python",
   "pygments_lexer": "ipython3",
   "version": "3.10.18"
  },
  "toc": {
   "base_numbering": 1,
   "nav_menu": {},
   "number_sections": false,
   "sideBar": true,
   "skip_h1_title": false,
   "title_cell": "Table of Contents",
   "title_sidebar": "Contents",
   "toc_cell": false,
   "toc_position": {},
   "toc_section_display": true,
   "toc_window_display": true
  }
 },
 "nbformat": 4,
 "nbformat_minor": 4
}
