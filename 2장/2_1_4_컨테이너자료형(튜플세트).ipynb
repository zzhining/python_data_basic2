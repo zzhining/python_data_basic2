{
 "cells": [
  {
   "cell_type": "markdown",
   "id": "9681c411-ec2a-4e5b-a4e6-28754047c0b3",
   "metadata": {},
   "source": [
    "# 튜플"
   ]
  },
  {
   "cell_type": "code",
   "execution_count": 1,
   "id": "2388d1f4-1beb-44ca-b24c-0ca428e450ca",
   "metadata": {},
   "outputs": [
    {
     "data": {
      "text/plain": [
       "('apple', 'banana', 'orange')"
      ]
     },
     "execution_count": 1,
     "metadata": {},
     "output_type": "execute_result"
    }
   ],
   "source": [
    "# 튜플 생성\n",
    "fruit_tuple = ('apple', 'banana', 'orange')\n",
    "fruit_tuple"
   ]
  },
  {
   "cell_type": "code",
   "execution_count": 2,
   "id": "b30b16e6-5933-41f5-ab4f-a5214fd46c75",
   "metadata": {},
   "outputs": [
    {
     "data": {
      "text/plain": [
       "('apple', 'banana', 'orange', 'apple', 'banana')"
      ]
     },
     "execution_count": 2,
     "metadata": {},
     "output_type": "execute_result"
    }
   ],
   "source": [
    "fruit_tuple = ('apple', 'banana', 'orange', 'apple', 'banana')\n",
    "fruit_tuple"
   ]
  },
  {
   "cell_type": "code",
   "execution_count": 3,
   "id": "4dfb32a9-30b7-4cb3-8ad9-3dceb94f94ae",
   "metadata": {},
   "outputs": [
    {
     "data": {
      "text/plain": [
       "('apple', 'banana', 'orange')"
      ]
     },
     "execution_count": 3,
     "metadata": {},
     "output_type": "execute_result"
    }
   ],
   "source": [
    "# 아이템 선택\n",
    "fruit_tuple = ('apple', 'banana', 'orange')\n",
    "fruit_tuple"
   ]
  },
  {
   "cell_type": "code",
   "execution_count": 4,
   "id": "1fd860cb-368e-494d-a92b-c27f50290342",
   "metadata": {},
   "outputs": [
    {
     "data": {
      "text/plain": [
       "'banana'"
      ]
     },
     "execution_count": 4,
     "metadata": {},
     "output_type": "execute_result"
    }
   ],
   "source": [
    "fruit_tuple[1]"
   ]
  },
  {
   "cell_type": "code",
   "execution_count": 5,
   "id": "063113ea-a394-44a4-a098-d4dc87fd3498",
   "metadata": {},
   "outputs": [
    {
     "ename": "TypeError",
     "evalue": "'tuple' object does not support item assignment",
     "output_type": "error",
     "traceback": [
      "\u001b[1;31m---------------------------------------------------------------------------\u001b[0m",
      "\u001b[1;31mTypeError\u001b[0m                                 Traceback (most recent call last)",
      "Cell \u001b[1;32mIn[5], line 1\u001b[0m\n\u001b[1;32m----> 1\u001b[0m fruit_tuple[\u001b[38;5;241m1\u001b[39m] \u001b[38;5;241m=\u001b[39m \u001b[38;5;124m'\u001b[39m\u001b[38;5;124mkiwi\u001b[39m\u001b[38;5;124m'\u001b[39m\n",
      "\u001b[1;31mTypeError\u001b[0m: 'tuple' object does not support item assignment"
     ]
    }
   ],
   "source": [
    "fruit_tuple[1] = 'kiwi'"
   ]
  },
  {
   "cell_type": "code",
   "execution_count": 6,
   "id": "c2f927fe-b1ea-4b20-b501-42fd8c20bef6",
   "metadata": {},
   "outputs": [
    {
     "ename": "AttributeError",
     "evalue": "'tuple' object has no attribute 'append'",
     "output_type": "error",
     "traceback": [
      "\u001b[1;31m---------------------------------------------------------------------------\u001b[0m",
      "\u001b[1;31mAttributeError\u001b[0m                            Traceback (most recent call last)",
      "Cell \u001b[1;32mIn[6], line 1\u001b[0m\n\u001b[1;32m----> 1\u001b[0m \u001b[43mfruit_tuple\u001b[49m\u001b[38;5;241;43m.\u001b[39;49m\u001b[43mappend\u001b[49m(\u001b[38;5;124m'\u001b[39m\u001b[38;5;124mwatermelon\u001b[39m\u001b[38;5;124m'\u001b[39m)\n",
      "\u001b[1;31mAttributeError\u001b[0m: 'tuple' object has no attribute 'append'"
     ]
    }
   ],
   "source": [
    "fruit_tuple.append('watermelon')"
   ]
  },
  {
   "cell_type": "code",
   "execution_count": 7,
   "id": "967bff05-7b8e-4972-a8d2-ce6a9d347a1a",
   "metadata": {},
   "outputs": [
    {
     "ename": "AttributeError",
     "evalue": "'tuple' object has no attribute 'remove'",
     "output_type": "error",
     "traceback": [
      "\u001b[1;31m---------------------------------------------------------------------------\u001b[0m",
      "\u001b[1;31mAttributeError\u001b[0m                            Traceback (most recent call last)",
      "Cell \u001b[1;32mIn[7], line 1\u001b[0m\n\u001b[1;32m----> 1\u001b[0m \u001b[43mfruit_tuple\u001b[49m\u001b[38;5;241;43m.\u001b[39;49m\u001b[43mremove\u001b[49m(\u001b[38;5;124m'\u001b[39m\u001b[38;5;124mapple\u001b[39m\u001b[38;5;124m'\u001b[39m)\n",
      "\u001b[1;31mAttributeError\u001b[0m: 'tuple' object has no attribute 'remove'"
     ]
    }
   ],
   "source": [
    "fruit_tuple.remove('apple')"
   ]
  },
  {
   "cell_type": "code",
   "execution_count": 8,
   "id": "83cca4b7-37d8-42ee-b736-be1418ad1419",
   "metadata": {},
   "outputs": [
    {
     "data": {
      "text/plain": [
       "['banana', 'kiwi', 'watermelon']"
      ]
     },
     "execution_count": 8,
     "metadata": {},
     "output_type": "execute_result"
    }
   ],
   "source": [
    "# 아이템 추가/삭제 -> 리스트 형으로 변환 후 가능\n",
    "\n",
    "fruit_list = list(fruit_tuple)\n",
    "fruit_list.append('watermelon')\n",
    "fruit_list.remove('apple')\n",
    "fruit_list[1] = 'kiwi'\n",
    "fruit_list"
   ]
  },
  {
   "cell_type": "code",
   "execution_count": 9,
   "id": "d2409402-8cfe-4ea4-b48c-c86d30100039",
   "metadata": {},
   "outputs": [
    {
     "data": {
      "text/plain": [
       "('banana', 'kiwi', 'watermelon')"
      ]
     },
     "execution_count": 9,
     "metadata": {},
     "output_type": "execute_result"
    }
   ],
   "source": [
    "fruit_tuple = tuple(fruit_list)\n",
    "fruit_tuple"
   ]
  },
  {
   "cell_type": "markdown",
   "id": "3de80e8c-3432-41db-8a2b-2a4f69cac8dc",
   "metadata": {},
   "source": [
    "# 세트"
   ]
  },
  {
   "cell_type": "code",
   "execution_count": 10,
   "id": "09fafd5e-908b-465e-8427-ee28b8c43dc0",
   "metadata": {},
   "outputs": [
    {
     "data": {
      "text/plain": [
       "{'apple', 'banana', 'orange'}"
      ]
     },
     "execution_count": 10,
     "metadata": {},
     "output_type": "execute_result"
    }
   ],
   "source": [
    "fruit_set = {'apple', 'banana', 'orange'}\n",
    "fruit_set"
   ]
  },
  {
   "cell_type": "code",
   "execution_count": 11,
   "id": "6205c249-34e4-4f0a-a68f-00c806643b57",
   "metadata": {},
   "outputs": [
    {
     "data": {
      "text/plain": [
       "{'apple', 'banana', 'orange'}"
      ]
     },
     "execution_count": 11,
     "metadata": {},
     "output_type": "execute_result"
    }
   ],
   "source": [
    "fruit_set = {'apple', 'banana', 'orange', 'apple', 'banana'}\n",
    "fruit_set"
   ]
  },
  {
   "cell_type": "code",
   "execution_count": 12,
   "id": "56385574-5627-47d9-8652-00142b5003fa",
   "metadata": {},
   "outputs": [
    {
     "ename": "TypeError",
     "evalue": "'set' object is not subscriptable",
     "output_type": "error",
     "traceback": [
      "\u001b[1;31m---------------------------------------------------------------------------\u001b[0m",
      "\u001b[1;31mTypeError\u001b[0m                                 Traceback (most recent call last)",
      "Cell \u001b[1;32mIn[12], line 1\u001b[0m\n\u001b[1;32m----> 1\u001b[0m \u001b[43mfruit_set\u001b[49m\u001b[43m[\u001b[49m\u001b[38;5;241;43m1\u001b[39;49m\u001b[43m]\u001b[49m\n",
      "\u001b[1;31mTypeError\u001b[0m: 'set' object is not subscriptable"
     ]
    }
   ],
   "source": [
    "fruit_set[1]"
   ]
  },
  {
   "cell_type": "code",
   "execution_count": 13,
   "id": "da820906-831e-48bf-b6a2-7fa242e867e1",
   "metadata": {},
   "outputs": [
    {
     "data": {
      "text/plain": [
       "{'apple', 'banana', 'kiwi', 'orange'}"
      ]
     },
     "execution_count": 13,
     "metadata": {},
     "output_type": "execute_result"
    }
   ],
   "source": [
    "# 세트 아이템 추가\n",
    "fruit_set.add('kiwi')\n",
    "fruit_set"
   ]
  },
  {
   "cell_type": "code",
   "execution_count": 15,
   "id": "2d87e740-1c95-4f4f-8e14-a49cca561f3b",
   "metadata": {},
   "outputs": [
    {
     "data": {
      "text/plain": [
       "{'apple', 'banana', 'carrot', 'kiwi', 'onion', 'orange', 'tomato'}"
      ]
     },
     "execution_count": 15,
     "metadata": {},
     "output_type": "execute_result"
    }
   ],
   "source": [
    "# 세트 확장\n",
    "vegetable_set = {'carrot', 'tomato', 'onion'}\n",
    "fruit_set.update(vegetable_set)\n",
    "fruit_set"
   ]
  },
  {
   "cell_type": "code",
   "execution_count": 16,
   "id": "67d9257f-6642-41f6-a515-4fc9e7486569",
   "metadata": {},
   "outputs": [],
   "source": [
    "# 아이템 삭제\n",
    "fruit_set.remove('onion')"
   ]
  },
  {
   "cell_type": "code",
   "execution_count": 17,
   "id": "fb767c45-9d25-4843-a127-e358350fbda1",
   "metadata": {},
   "outputs": [
    {
     "data": {
      "text/plain": [
       "{'apple', 'banana', 'carrot', 'kiwi', 'orange', 'tomato'}"
      ]
     },
     "execution_count": 17,
     "metadata": {},
     "output_type": "execute_result"
    }
   ],
   "source": [
    "fruit_set"
   ]
  },
  {
   "cell_type": "code",
   "execution_count": null,
   "id": "5cf14b26-67cc-4674-b9d5-ff562905e0ec",
   "metadata": {},
   "outputs": [],
   "source": []
  }
 ],
 "metadata": {
  "kernelspec": {
   "display_name": "Python 3 (ipykernel)",
   "language": "python",
   "name": "python3"
  },
  "language_info": {
   "codemirror_mode": {
    "name": "ipython",
    "version": 3
   },
   "file_extension": ".py",
   "mimetype": "text/x-python",
   "name": "python",
   "nbconvert_exporter": "python",
   "pygments_lexer": "ipython3",
   "version": "3.10.18"
  }
 },
 "nbformat": 4,
 "nbformat_minor": 5
}
