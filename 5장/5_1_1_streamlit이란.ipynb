{
 "cells": [
  {
   "cell_type": "code",
   "execution_count": 1,
   "id": "0e3ac355-89b3-4bb9-8afe-7e43b1b9cbcb",
   "metadata": {},
   "outputs": [],
   "source": [
    "# !pip install streamlit"
   ]
  },
  {
   "cell_type": "code",
   "execution_count": 2,
   "id": "4c3ab534-fcc3-4252-b2ff-c7f8f6107ece",
   "metadata": {},
   "outputs": [
    {
     "name": "stdout",
     "output_type": "stream",
     "text": [
      "Writing my_first_app.py\n"
     ]
    }
   ],
   "source": [
    "%%writefile my_first_app.py\n",
    "import streamlit as st\n",
    "\n",
    "st.title('안녕하세요 Streamlit!')\n",
    "st.write('이것은 나의 첫 번째 Streamlit 애플리케이션입니다.')"
   ]
  },
  {
   "cell_type": "code",
   "execution_count": 3,
   "id": "cbb74871-c9cf-48f4-814e-408e135318d5",
   "metadata": {},
   "outputs": [
    {
     "name": "stdout",
     "output_type": "stream",
     "text": [
      "^C\n"
     ]
    }
   ],
   "source": [
    "!streamlit run my_first_app.py"
   ]
  },
  {
   "cell_type": "code",
   "execution_count": null,
   "id": "38dad4cd-373f-4f71-bbd8-41da6d921a3f",
   "metadata": {},
   "outputs": [],
   "source": []
  }
 ],
 "metadata": {
  "kernelspec": {
   "display_name": "Python 3 (ipykernel)",
   "language": "python",
   "name": "python3"
  },
  "language_info": {
   "codemirror_mode": {
    "name": "ipython",
    "version": 3
   },
   "file_extension": ".py",
   "mimetype": "text/x-python",
   "name": "python",
   "nbconvert_exporter": "python",
   "pygments_lexer": "ipython3",
   "version": "3.10.18"
  }
 },
 "nbformat": 4,
 "nbformat_minor": 5
}
