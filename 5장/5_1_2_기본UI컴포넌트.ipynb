{
 "cells": [
  {
   "cell_type": "markdown",
   "id": "c016d573-c7c2-4925-b89c-4279276e0cb2",
   "metadata": {},
   "source": [
    "# 텍스트 출력 컴포넌트"
   ]
  },
  {
   "cell_type": "code",
   "execution_count": null,
   "id": "14c278cb-1857-43b4-b99a-05b43b40b7e1",
   "metadata": {},
   "outputs": [],
   "source": [
    "%%write text_componets.py\n",
    "\n",
    "import streamlit as st\n",
    "\n",
    "# 제목과 헤더 만들기\n",
    "st.title('이것은 가장 큰 제목입니다')\n",
    "st.header('이것은 큰 헤더입니다')\n",
    "st.subheader('이것은 작은 헤더입니다')\n",
    "\n",
    "\n",
    "# 일반 텍스트 표시하기\n",
    "st.text('이것은 일반적인 텍스트입니다')\n",
    "st.text('여러 줄로 텍스트를 작성할 수도 있습니다')\n",
    "\n",
    "# 마크다운으로 꾸미기\n",
    "st.markdown('**이것은 굵은 글씨입니다**')\n",
    "st.markdown('*이것은 기울어진 글씨입니다*')\n",
    "st.markdown('이것은 `코드`처럼 보이는 글씨입니다')\n",
    "\n",
    "\n",
    "# 만능 출력 함수\n",
    "st.write('안녕하세요!')\n",
    "st.write(123)\n",
    "st.write([1, 2, 3, 4, 5])"
   ]
  },
  {
   "cell_type": "code",
   "execution_count": null,
   "id": "3b36bd67-24d5-4e0d-89c4-234392465eaa",
   "metadata": {},
   "outputs": [],
   "source": [
    "!streamlit run text_componets.py"
   ]
  },
  {
   "cell_type": "markdown",
   "id": "15809a29-e2f5-484c-aae2-3845f65ea68f",
   "metadata": {},
   "source": [
    "# 입력 컴포넌트"
   ]
  },
  {
   "cell_type": "code",
   "execution_count": null,
   "id": "a1fda5da-497b-4a13-8705-e722fa2c50ea",
   "metadata": {},
   "outputs": [],
   "source": [
    "%%writefile input_components.py\n",
    "\n",
    "import streamlit as st\n",
    "\n",
    "\n",
    "# 선택 상자 만들기 - 좋아하는 과일 선택\n",
    "fruit = st.selectbox(\n",
    "    '좋아하는 과일을 선택하세요',\n",
    "    ['사과', '바나나', '오렌지', '포도']\n",
    ")\n",
    "\n",
    "st.write(f'당신이 선택한 과일은 {fruit}입니다')\n",
    "\n",
    "# 텍스트 입력받기\n",
    "name = st.text_input('이름을 입력하세요')\n",
    "age = st.number_input('나이를 입력하세요', min_value=0, max_value=120)\n",
    "\n",
    "if name and age:\n",
    "    st.write(f'{name}님은 {age}살입니다')\n",
    "\n",
    "\n",
    "# 슬라이더로 값 조정하기\n",
    "temperature = st.slider('온도를 선택하세요', 0, 40, 25)\n",
    "st.write(f'선택한 온도는 {temperature}도입니다')\n",
    "\n",
    "\n",
    "# 라디오 버튼\n",
    "color = st.radio(\n",
    "    '좋아하는 색깔을 선택하세요',\n",
    "    ['빨강', '파랑', '초록']\n",
    ")\n",
    "\n",
    "# 체크박스\n",
    "agree = st.checkbox('이용약관에 동의합니다')\n",
    "\n",
    "if agree:\n",
    "    st.write('동의해주셔서 감사합니다!')\n",
    "\n",
    "# 여러 개 선택하기\n",
    "hobbies = st.multiselect(\n",
    "    '취미를 선택하세요 (여러 개 선택 가능)',\n",
    "    ['독서', '영화감상', '운동', '여행', '음악감상']\n",
    ")\n",
    "\n",
    "if hobbies:\n",
    "    st.write('선택한 취미:', hobbies)\n",
    "\n",
    "\n",
    "# 날짜와 시간 입력\n",
    "from datetime import datetime\n",
    "\n",
    "today = st.date_input('날짜를 선택하세요')\n",
    "current_time = st.time_input('시간을 선택하세요')\n",
    "\n",
    "st.write(f'선택한 날짜: {today}')\n",
    "st.write(f'선택한 시간: {current_time}')"
   ]
  },
  {
   "cell_type": "code",
   "execution_count": null,
   "id": "4aed71fa-4782-43fa-a724-47b5522e471b",
   "metadata": {},
   "outputs": [],
   "source": [
    "!streamlit run input_components.py"
   ]
  },
  {
   "cell_type": "markdown",
   "id": "a2ce61eb-f423-45b4-985c-fa71e4ed3807",
   "metadata": {},
   "source": [
    "# 미디어 컴포넌트"
   ]
  },
  {
   "cell_type": "code",
   "execution_count": null,
   "id": "b587a30c-0a7d-449c-8e66-5ead5a89e594",
   "metadata": {},
   "outputs": [],
   "source": [
    "%%writefile media_components.py\n",
    "\n",
    "import streamlit as st\n",
    "\n",
    "# 인터넷 이미지 표시\n",
    "st.image('https://via.placeholder.com/300x200', caption='예시 이미지')\n",
    "\n",
    "# 로컬 이미지 파일 표시 (파일이 있는 경우)\n",
    "# st.image('my_image.jpg', caption='내 이미지')\n",
    "\n",
    "\n",
    "# 오디오 파일 재생\n",
    "# st.audio('my_audio.mp3')\n",
    "\n",
    "# 비디오 파일 재생  \n",
    "# st.video('my_video.mp4')\n",
    "\n",
    "# 유튜브 비디오 표시\n",
    "st.video('https://www.youtube.com/watch?v=dQw4w9WgXcQ')"
   ]
  },
  {
   "cell_type": "code",
   "execution_count": null,
   "id": "4c2f332f-0c86-4f4c-bc05-b9d39eab1835",
   "metadata": {},
   "outputs": [],
   "source": [
    "!streamlit run media_components.py"
   ]
  }
 ],
 "metadata": {
  "kernelspec": {
   "display_name": "Python 3 (ipykernel)",
   "language": "python",
   "name": "python3"
  },
  "language_info": {
   "codemirror_mode": {
    "name": "ipython",
    "version": 3
   },
   "file_extension": ".py",
   "mimetype": "text/x-python",
   "name": "python",
   "nbconvert_exporter": "python",
   "pygments_lexer": "ipython3",
   "version": "3.10.18"
  }
 },
 "nbformat": 4,
 "nbformat_minor": 5
}
