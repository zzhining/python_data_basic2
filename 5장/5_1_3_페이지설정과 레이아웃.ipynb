{
 "cells": [
  {
   "cell_type": "markdown",
   "id": "b1ae1155-c810-41f1-9ef8-d5b479b91580",
   "metadata": {},
   "source": [
    "# 페이지 설정"
   ]
  },
  {
   "cell_type": "code",
   "execution_count": null,
   "id": "9c958524-f5e0-43e2-b699-05c4420e604e",
   "metadata": {},
   "outputs": [],
   "source": [
    "%%writefile page_config.py\n",
    "\n",
    "import streamlit as st\n",
    "\n",
    "st.set_page_config(\n",
    "    page_title=\"학생 성적 관리\",\n",
    "    page_icon=\"📚\",\n",
    "    layout=\"wide\"\n",
    ")\n",
    "\n",
    "st.title('페이지 설정이 완료된 애플리케이션')\n",
    "st.write('이제 더 넓은 화면에서 볼 수 있습니다!')\n",
    "\n",
    "# # 넓은 레이아웃 사용\n",
    "# st.set_page_config(layout=\"wide\")\n",
    "\n",
    "# # 기본 레이아웃 사용 (생략 가능)\n",
    "# st.set_page_config(layout=\"centered\")\n",
    "\n",
    "# st.set_page_config(\n",
    "#     page_title=\"도서관 관리 시스템\",\n",
    "#     page_icon=\"📖\", \n",
    "#     layout=\"wide\",\n",
    "#     initial_sidebar_state=\"expanded\"\n",
    "# )"
   ]
  },
  {
   "cell_type": "code",
   "execution_count": null,
   "id": "3aa5a7fb-a3ae-4243-b2a9-f8d7e8c41ed1",
   "metadata": {},
   "outputs": [],
   "source": [
    "!streamlit run page_config.py"
   ]
  },
  {
   "cell_type": "markdown",
   "id": "f517bac2-f333-475a-ae18-197ae986f80a",
   "metadata": {},
   "source": [
    "# 레이아웃 컴포넌트"
   ]
  },
  {
   "cell_type": "code",
   "execution_count": null,
   "id": "ccb81863-cd92-4f56-8af8-3a055ec1a496",
   "metadata": {},
   "outputs": [],
   "source": [
    "%%writefile columns_layout.py\n",
    "\n",
    "import streamlit as st\n",
    "\n",
    "st.title('학생 정보 관리 시스템')\n",
    "\n",
    "# 4개의 열로 나누기\n",
    "col1, col2, col3, col4 = st.columns(4)\n",
    "\n",
    "with col1:\n",
    "    st.metric(\"전체 학생 수\", \"245명\")\n",
    "\n",
    "with col2:\n",
    "    st.metric(\"평균 점수\", \"82.5점\")\n",
    "\n",
    "with col3:\n",
    "    st.metric(\"출석률\", \"94.2%\")\n",
    "\n",
    "with col4:\n",
    "    st.metric(\"과제 제출률\", \"87.8%\")\n",
    "\n",
    "\n",
    "# 첫 번째 열을 다른 열보다 2배 크게 만들기\n",
    "col1, col2, col3 = st.columns([2, 1, 1])\n",
    "\n",
    "with col1:\n",
    "    st.write('메인 콘텐츠 영역 - 이 열이 가장 넓습니다')\n",
    "\n",
    "with col2:\n",
    "    st.write('통계 정보')\n",
    "\n",
    "with col3:\n",
    "    st.write('빠른 메뉴')\n",
    "\n",
    "with st.container():\n",
    "    st.subheader('이번 달 도서관 현황')\n",
    "    st.write('이 영역에는 도서관의 주요 통계가 표시됩니다')\n",
    "    st.metric(\"대출 도서 수\", \"1,245권\")\n",
    "    st.metric(\"신규 회원\", \"+23명\")\n",
    "\n",
    "with st.expander(\"상세 통계 정보\"):\n",
    "    st.write(\"여기에는 자세한 분석 결과가 들어갑니다\")\n",
    "    st.write(\"평소에는 숨겨져 있다가 필요할 때만 펼쳐볼 수 있습니다\")"
   ]
  },
  {
   "cell_type": "code",
   "execution_count": null,
   "id": "b899ec58-8f86-484f-9369-7cba19b24216",
   "metadata": {},
   "outputs": [],
   "source": [
    "!streamlit run columns_layout.py"
   ]
  },
  {
   "cell_type": "markdown",
   "id": "0c4d223b-1bf9-49d6-9efc-4db0119554e2",
   "metadata": {},
   "source": [
    "# 정보 표시 컴포넌트"
   ]
  },
  {
   "cell_type": "code",
   "execution_count": null,
   "id": "ed0ff0b7-180d-442a-b140-143065e43400",
   "metadata": {},
   "outputs": [],
   "source": [
    "%%writefile metrics_demo.py\n",
    "import streamlit as st\n",
    "\n",
    "st.title('카페 매출 대시보드')\n",
    "\n",
    "## 지표 카드 만들기\n",
    "# 기본 지표\n",
    "st.metric(\"오늘 매출\", \"450,000원\")\n",
    "\n",
    "# 변화량과 함께 표시\n",
    "st.metric(\n",
    "    label=\"일일 방문객\",\n",
    "    value=\"127명\", \n",
    "    delta=\"+23명\"\n",
    ")\n",
    "\n",
    "# 음수 변화량 (빨간색으로 표시됨)\n",
    "st.metric(\n",
    "    label=\"재고 수량\",\n",
    "    value=\"85개\",\n",
    "    delta=\"-15개\"\n",
    ")\n",
    "\n",
    "#----------------------------\n",
    "# 정보 메시지 (파란색)\n",
    "st.info('시스템 점검이 예정되어 있습니다')\n",
    "\n",
    "# 성공 메시지 (초록색)\n",
    "st.success('데이터 백업이 완료되었습니다!')\n",
    "\n",
    "# 경고 메시지 (노란색)  \n",
    "st.warning('일부 기능이 제한될 수 있습니다')\n",
    "\n",
    "# 오류 메시지 (빨간색)\n",
    "st.error('서버 연결에 실패했습니다')\n",
    "\n",
    "#----------------------------\n",
    "# 로딩 표시하기\n",
    "import time\n",
    "\n",
    "with st.spinner('학생 데이터를 처리하는 중...'):\n",
    "    # 실제로는 데이터를 불러오는 코드가 들어감\n",
    "    time.sleep(3)  # 3초 대기 (예시)\n",
    "\n",
    "st.success('처리 완료!')\n",
    "\n",
    "#----------------------------\n",
    "# 빈 공간 만들기\n",
    "placeholder = st.empty()\n",
    "\n",
    "# 나중에 내용 채우기\n",
    "import time\n",
    "time.sleep(2)\n",
    "placeholder.text('검색 결과가 나타났습니다!')\n",
    "\n",
    "# 내용 교체하기\n",
    "time.sleep(2)\n",
    "placeholder.success('검색이 완료되었습니다!')\n"
   ]
  },
  {
   "cell_type": "code",
   "execution_count": null,
   "id": "beaa9566-9ea9-449d-a5b5-c0d49bbef6d8",
   "metadata": {},
   "outputs": [],
   "source": [
    "!streamlit run metrics_demo.py"
   ]
  }
 ],
 "metadata": {
  "kernelspec": {
   "display_name": "Python 3 (ipykernel)",
   "language": "python",
   "name": "python3"
  },
  "language_info": {
   "codemirror_mode": {
    "name": "ipython",
    "version": 3
   },
   "file_extension": ".py",
   "mimetype": "text/x-python",
   "name": "python",
   "nbconvert_exporter": "python",
   "pygments_lexer": "ipython3",
   "version": "3.10.18"
  }
 },
 "nbformat": 4,
 "nbformat_minor": 5
}
