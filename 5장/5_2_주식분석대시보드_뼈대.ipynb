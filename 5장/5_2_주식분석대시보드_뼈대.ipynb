{
 "cells": [
  {
   "cell_type": "code",
   "execution_count": null,
   "id": "35178937-1437-4e52-9b90-9ef2f245849c",
   "metadata": {},
   "outputs": [],
   "source": [
    "%%writefile stock_analyzer.py\n",
    "import streamlit as st\n",
    "import yfinance as yf\n",
    "import pandas as pd\n",
    "import plotly.graph_objects as go\n",
    "import numpy as np\n",
    "\n",
    "st.set_page_config(\n",
    "    page_title=\"주식 분석기\",\n",
    "    page_icon=\"📈\", \n",
    "    layout=\"wide\"\n",
    ")\n",
    "\n",
    "STOCKS = {\n",
    "    'AAPL': 'Apple Inc.',\n",
    "    'MSFT': 'Microsoft Corp.',\n",
    "    'GOOGL': 'Alphabet Inc.',\n",
    "    'TSLA': 'Tesla Inc.',\n",
    "    'NVDA': 'NVIDIA Corp.'\n",
    "}\n",
    "\n",
    "def get_stock_data(symbol, period=\"1y\"):\n",
    "    # 구현된 함수들...\n",
    "\n",
    "def display_company_info(company_info, current_price):\n",
    "    # 구현된 함수들...\n",
    "\n",
    "def create_price_chart(hist_data, symbol):\n",
    "    # 구현된 함수들...\n",
    "\n",
    "def create_volume_chart(hist_data, symbol):\n",
    "    # 구현된 함수들...\n",
    "\n",
    "def calculate_technical_indicators(hist_data):\n",
    "    # 구현된 함수들...\n",
    "\n",
    "def main():\n",
    "    # 구현된 메인 함수...\n",
    "\n",
    "if __name__ == \"__main__\":\n",
    "    main()"
   ]
  },
  {
   "cell_type": "code",
   "execution_count": null,
   "id": "27c7f08d-6e3e-4087-9828-8345790b8120",
   "metadata": {},
   "outputs": [],
   "source": [
    "!streamlit run stock_analyzer.py"
   ]
  }
 ],
 "metadata": {
  "kernelspec": {
   "display_name": "Python 3 (ipykernel)",
   "language": "python",
   "name": "python3"
  },
  "language_info": {
   "codemirror_mode": {
    "name": "ipython",
    "version": 3
   },
   "file_extension": ".py",
   "mimetype": "text/x-python",
   "name": "python",
   "nbconvert_exporter": "python",
   "pygments_lexer": "ipython3",
   "version": "3.10.18"
  }
 },
 "nbformat": 4,
 "nbformat_minor": 5
}
