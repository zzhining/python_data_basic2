{
 "cells": [
  {
   "cell_type": "markdown",
   "metadata": {
    "id": "-4JZLZE6sh12"
   },
   "source": [
    "## 1. np.array() - 기본 배열 생성"
   ]
  },
  {
   "cell_type": "markdown",
   "metadata": {},
   "source": [
    "```\n",
    "np.array(아이템이_나열된_형태의_객체)\n",
    "```"
   ]
  },
  {
   "cell_type": "code",
   "execution_count": 1,
   "metadata": {
    "colab": {
     "base_uri": "https://localhost:8080/"
    },
    "id": "b9tuNe0Wsh12",
    "outputId": "c77de368-2bfe-41c0-de8d-cd3e02fed7a5"
   },
   "outputs": [
    {
     "name": "stdout",
     "output_type": "stream",
     "text": [
      "[1 2 3]\n"
     ]
    }
   ],
   "source": [
    "import numpy as np\n",
    "\n",
    "list1 = [1, 2, 3]\n",
    "arr1 = np.array(list1)\n",
    "print(arr1)"
   ]
  },
  {
   "cell_type": "markdown",
   "metadata": {
    "id": "gK05xJsush14"
   },
   "source": [
    "## 2. np.zeros() - 0으로 초기화된 배열"
   ]
  },
  {
   "cell_type": "code",
   "execution_count": 2,
   "metadata": {
    "colab": {
     "base_uri": "https://localhost:8080/"
    },
    "id": "Y8ynYd5bsh14",
    "outputId": "6cbe811f-ebef-4c2f-aebc-5dad73854b6d"
   },
   "outputs": [
    {
     "data": {
      "text/plain": [
       "array([0., 0., 0., 0., 0.])"
      ]
     },
     "execution_count": 2,
     "metadata": {},
     "output_type": "execute_result"
    }
   ],
   "source": [
    "np.zeros(5)"
   ]
  },
  {
   "cell_type": "code",
   "execution_count": 3,
   "metadata": {
    "colab": {
     "base_uri": "https://localhost:8080/"
    },
    "id": "7-7I9Xw0sh15",
    "outputId": "1b6a6ba8-c70c-4168-afc3-b498d19864d6"
   },
   "outputs": [
    {
     "data": {
      "text/plain": [
       "array([[0., 0., 0.],\n",
       "       [0., 0., 0.]])"
      ]
     },
     "execution_count": 3,
     "metadata": {},
     "output_type": "execute_result"
    }
   ],
   "source": [
    "np.zeros((2,3))"
   ]
  },
  {
   "cell_type": "markdown",
   "metadata": {
    "id": "cK4mX2EAsh16"
   },
   "source": [
    "## 3. np.ones() - 1로 초기화된 배열"
   ]
  },
  {
   "cell_type": "code",
   "execution_count": 4,
   "metadata": {
    "colab": {
     "base_uri": "https://localhost:8080/"
    },
    "id": "upWO7pKSsh17",
    "outputId": "24177807-da73-42aa-cecc-a57ad19612df",
    "scrolled": true
   },
   "outputs": [
    {
     "data": {
      "text/plain": [
       "array([1., 1., 1., 1., 1., 1., 1.])"
      ]
     },
     "execution_count": 4,
     "metadata": {},
     "output_type": "execute_result"
    }
   ],
   "source": [
    "np.ones(7)"
   ]
  },
  {
   "cell_type": "markdown",
   "metadata": {
    "id": "XjTpWJjrsh18"
   },
   "source": [
    "## 4. np.arange() - 연속된 숫자 배열"
   ]
  },
  {
   "cell_type": "code",
   "execution_count": 5,
   "metadata": {
    "colab": {
     "base_uri": "https://localhost:8080/"
    },
    "id": "6dil6kwJsh18",
    "outputId": "bc80a010-34a4-461a-8044-571e7ef9dcf4"
   },
   "outputs": [
    {
     "data": {
      "text/plain": [
       "array([0, 1, 2, 3, 4, 5, 6, 7, 8, 9])"
      ]
     },
     "execution_count": 5,
     "metadata": {},
     "output_type": "execute_result"
    }
   ],
   "source": [
    "np.arange(10)"
   ]
  },
  {
   "cell_type": "code",
   "execution_count": 6,
   "metadata": {
    "colab": {
     "base_uri": "https://localhost:8080/"
    },
    "id": "X_FKtrvwsh19",
    "outputId": "576e9511-d917-403d-ba08-31b2f5abef5e",
    "scrolled": true
   },
   "outputs": [
    {
     "data": {
      "text/plain": [
       "array([20, 22, 24, 26, 28])"
      ]
     },
     "execution_count": 6,
     "metadata": {},
     "output_type": "execute_result"
    }
   ],
   "source": [
    "np.arange(20,30,2)"
   ]
  },
  {
   "cell_type": "markdown",
   "metadata": {
    "id": "H97s_3yBsh19"
   },
   "source": [
    "## 5. np.random.rand() - 랜덤값 배열\n",
    "\n",
    "np.random 모듈은 파이썬 내장 random 함수의 기능을 확장하여 다양한 종류의 확률분포로부터 랜덤값을 생성할 수 있음"
   ]
  },
  {
   "cell_type": "code",
   "execution_count": 7,
   "metadata": {
    "colab": {
     "base_uri": "https://localhost:8080/"
    },
    "id": "fLxG9EmBsh1-",
    "outputId": "116b3834-eaa3-4a9f-e06d-666330dc5627"
   },
   "outputs": [
    {
     "data": {
      "text/plain": [
       "array([[0.13583666, 0.31785897, 0.78805789],\n",
       "       [0.90443873, 0.58445201, 0.85145611]])"
      ]
     },
     "execution_count": 7,
     "metadata": {},
     "output_type": "execute_result"
    }
   ],
   "source": [
    "np.random.rand(2,3)"
   ]
  },
  {
   "cell_type": "markdown",
   "metadata": {
    "id": "4OdLksansh1-"
   },
   "source": [
    "## 6. reshape() - 배열 차원 변형"
   ]
  },
  {
   "cell_type": "code",
   "execution_count": 8,
   "metadata": {
    "colab": {
     "base_uri": "https://localhost:8080/"
    },
    "id": "THzFXYoKsh1_",
    "outputId": "e3d2ed48-c2d2-411f-c8d0-46971fbec6ef"
   },
   "outputs": [
    {
     "name": "stdout",
     "output_type": "stream",
     "text": [
      "[ 0  1  2  3  4  5  6  7  8  9 10 11 12 13 14 15]\n"
     ]
    },
    {
     "data": {
      "text/plain": [
       "array([[ 0,  1,  2,  3],\n",
       "       [ 4,  5,  6,  7],\n",
       "       [ 8,  9, 10, 11],\n",
       "       [12, 13, 14, 15]])"
      ]
     },
     "execution_count": 8,
     "metadata": {},
     "output_type": "execute_result"
    }
   ],
   "source": [
    "arr2 = np.arange(16)\n",
    "print(arr2)\n",
    "\n",
    "# 1차원을 2차원으로 변형\n",
    "arr2.reshape(4, 4)"
   ]
  },
  {
   "cell_type": "code",
   "execution_count": 9,
   "metadata": {},
   "outputs": [
    {
     "data": {
      "text/plain": [
       "array([[[ 0,  1,  2,  3],\n",
       "        [ 4,  5,  6,  7]],\n",
       "\n",
       "       [[ 8,  9, 10, 11],\n",
       "        [12, 13, 14, 15]]])"
      ]
     },
     "execution_count": 9,
     "metadata": {},
     "output_type": "execute_result"
    }
   ],
   "source": [
    "# 1차원을 3차원으로 변형\n",
    "arr2.reshape(2, 2, 4)"
   ]
  },
  {
   "cell_type": "markdown",
   "metadata": {
    "id": "j06ki4dqsh2A"
   },
   "source": [
    "## 배열 속성 확인 및 타입 변환\n",
    "\n",
    "shape, dtype(), astype()"
   ]
  },
  {
   "cell_type": "code",
   "execution_count": 10,
   "metadata": {
    "colab": {
     "base_uri": "https://localhost:8080/"
    },
    "id": "wC7LvUB-sh2A",
    "outputId": "60f49850-b2e7-46a3-dad6-3d2e511ad557"
   },
   "outputs": [
    {
     "name": "stdout",
     "output_type": "stream",
     "text": [
      "[ 0  1  2  3  4  5  6  7  8  9 10 11 12 13 14 15]\n"
     ]
    }
   ],
   "source": [
    "arr = np.arange(16)\n",
    "print(arr)"
   ]
  },
  {
   "cell_type": "code",
   "execution_count": 11,
   "metadata": {
    "colab": {
     "base_uri": "https://localhost:8080/"
    },
    "id": "hIKHMwISsh2B",
    "outputId": "087aa98d-4d5b-4349-bade-ecca4e8c1795"
   },
   "outputs": [
    {
     "data": {
      "text/plain": [
       "(16,)"
      ]
     },
     "execution_count": 11,
     "metadata": {},
     "output_type": "execute_result"
    }
   ],
   "source": [
    "arr.shape"
   ]
  },
  {
   "cell_type": "code",
   "execution_count": 12,
   "metadata": {
    "colab": {
     "base_uri": "https://localhost:8080/"
    },
    "id": "VgB_S6nFsh2B",
    "outputId": "031888a4-ba4f-4204-a30c-fd795271e3e7",
    "scrolled": true
   },
   "outputs": [
    {
     "data": {
      "text/plain": [
       "dtype('int32')"
      ]
     },
     "execution_count": 12,
     "metadata": {},
     "output_type": "execute_result"
    }
   ],
   "source": [
    "arr.dtype"
   ]
  },
  {
   "cell_type": "code",
   "execution_count": 13,
   "metadata": {
    "colab": {
     "base_uri": "https://localhost:8080/"
    },
    "id": "I0VnTyRvsh2B",
    "outputId": "c18d4d39-89f9-4864-8973-5b8864461682"
   },
   "outputs": [
    {
     "data": {
      "text/plain": [
       "array([ 0.,  1.,  2.,  3.,  4.,  5.,  6.,  7.,  8.,  9., 10., 11., 12.,\n",
       "       13., 14., 15.])"
      ]
     },
     "execution_count": 13,
     "metadata": {},
     "output_type": "execute_result"
    }
   ],
   "source": [
    "arr.astype(float)"
   ]
  },
  {
   "cell_type": "markdown",
   "metadata": {
    "id": "X7ImWhU_r6RK"
   },
   "source": [
    "![image-20230120093721143.png](data:image/png;base64,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)"
   ]
  },
  {
   "cell_type": "code",
   "execution_count": 14,
   "metadata": {
    "colab": {
     "base_uri": "https://localhost:8080/"
    },
    "id": "fnv0tONfsh2C",
    "outputId": "41fb5715-6af1-489b-97df-8ae78afff820"
   },
   "outputs": [
    {
     "data": {
      "text/plain": [
       "array([ 0,  1,  2,  3,  4,  5,  6,  7,  8,  9, 10, 11, 12, 13, 14, 15])"
      ]
     },
     "execution_count": 14,
     "metadata": {},
     "output_type": "execute_result"
    }
   ],
   "source": [
    "import numpy as np\n",
    "arr = np.arange(16)\n",
    "arr"
   ]
  },
  {
   "cell_type": "code",
   "execution_count": 15,
   "metadata": {
    "colab": {
     "base_uri": "https://localhost:8080/"
    },
    "id": "c2PvRh61sh2C",
    "outputId": "0d77bd8e-7d21-42ad-c2af-e84b2f653cbb"
   },
   "outputs": [
    {
     "data": {
      "text/plain": [
       "5"
      ]
     },
     "execution_count": 15,
     "metadata": {},
     "output_type": "execute_result"
    }
   ],
   "source": [
    "# 기본 인덱스\n",
    "arr[5]"
   ]
  },
  {
   "cell_type": "code",
   "execution_count": 16,
   "metadata": {
    "colab": {
     "base_uri": "https://localhost:8080/"
    },
    "id": "Y3olgZaqsh2C",
    "outputId": "4ceda1fa-3830-4596-ba78-fdcc7c590f23"
   },
   "outputs": [
    {
     "data": {
      "text/plain": [
       "15"
      ]
     },
     "execution_count": 16,
     "metadata": {},
     "output_type": "execute_result"
    }
   ],
   "source": [
    "# 마이너스 인덱스\n",
    "arr[-1]"
   ]
  },
  {
   "cell_type": "code",
   "execution_count": 17,
   "metadata": {
    "colab": {
     "base_uri": "https://localhost:8080/"
    },
    "id": "SWKYKmQ2sh2C",
    "outputId": "82aae6b4-8f27-4078-d64e-41db43ac7ab2"
   },
   "outputs": [
    {
     "data": {
      "text/plain": [
       "array([5, 6, 7])"
      ]
     },
     "execution_count": 17,
     "metadata": {},
     "output_type": "execute_result"
    }
   ],
   "source": [
    "# 인덱스 범위\n",
    "arr[5:8]"
   ]
  },
  {
   "cell_type": "markdown",
   "metadata": {
    "id": "DfG-CsG0sh2D"
   },
   "source": [
    "## ① 기본 인덱스\n",
    " - 슬라이스 색인\n",
    " - 파이썬의 리스트처럼 인덱스로  슬라이싱 가능"
   ]
  },
  {
   "cell_type": "code",
   "execution_count": 18,
   "metadata": {
    "colab": {
     "base_uri": "https://localhost:8080/"
    },
    "id": "JcrBOODmsh2D",
    "outputId": "988928db-ded4-414a-e44f-73b498cfa32a"
   },
   "outputs": [
    {
     "data": {
      "text/plain": [
       "array([  0,   1,   2,   3,   4, 100,   6,   7,   8,   9,  10,  11,  12,\n",
       "        13,  14,  15])"
      ]
     },
     "execution_count": 18,
     "metadata": {},
     "output_type": "execute_result"
    }
   ],
   "source": [
    "# 값 할당\n",
    "arr[5] = 100\n",
    "arr"
   ]
  },
  {
   "cell_type": "code",
   "execution_count": 19,
   "metadata": {
    "colab": {
     "base_uri": "https://localhost:8080/"
    },
    "id": "OTVA7DoZsh2D",
    "outputId": "156ab6f5-f359-47a5-d491-205f154bdc5b"
   },
   "outputs": [
    {
     "data": {
      "text/plain": [
       "array([  0,   1,   2,   3,   4, 100, 200, 201,   8,   9,  10,  11,  12,\n",
       "        13,  14,  15])"
      ]
     },
     "execution_count": 19,
     "metadata": {},
     "output_type": "execute_result"
    }
   ],
   "source": [
    "# 여러 값 할당\n",
    "arr[6:8] = [200, 201]\n",
    "arr"
   ]
  },
  {
   "cell_type": "markdown",
   "metadata": {
    "id": "HOKqiuWo_MA-"
   },
   "source": [
    "다차원 배열은 인덱스를 여러 개 넘겨서 다차원으로 슬라이싱하는 것이 가능"
   ]
  },
  {
   "cell_type": "markdown",
   "metadata": {
    "id": "N9RzYPhKrypA"
   },
   "source": [
    "![image-20230120093737890.png](data:image/png;base64,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)"
   ]
  },
  {
   "cell_type": "code",
   "execution_count": 20,
   "metadata": {
    "colab": {
     "base_uri": "https://localhost:8080/"
    },
    "id": "SbloslZ2sh2D",
    "outputId": "ca71955d-7041-4892-c5c8-ce43b487492e"
   },
   "outputs": [
    {
     "data": {
      "text/plain": [
       "array([[ 0,  1,  2,  3],\n",
       "       [ 4,  5,  6,  7],\n",
       "       [ 8,  9, 10, 11],\n",
       "       [12, 13, 14, 15]])"
      ]
     },
     "execution_count": 20,
     "metadata": {},
     "output_type": "execute_result"
    }
   ],
   "source": [
    "# 다차원 배열\n",
    "arr2 = np.arange(16).reshape(4,4) # 메쏘드 체인\n",
    "arr2"
   ]
  },
  {
   "cell_type": "markdown",
   "metadata": {
    "id": "1RKB4fVl_ft8"
   },
   "source": [
    "다차원 배열을 정수 인덱스를 사용해서 슬라이싱하면 한 차원 낮은 슬라이스를 반환"
   ]
  },
  {
   "cell_type": "code",
   "execution_count": 21,
   "metadata": {
    "colab": {
     "base_uri": "https://localhost:8080/"
    },
    "id": "Yle-XWJIsh2E",
    "outputId": "bc029aa9-2173-4b56-b847-bce1d0c29592"
   },
   "outputs": [
    {
     "data": {
      "text/plain": [
       "array([4, 5, 6, 7])"
      ]
     },
     "execution_count": 21,
     "metadata": {},
     "output_type": "execute_result"
    }
   ],
   "source": [
    "arr2[1]"
   ]
  },
  {
   "cell_type": "code",
   "execution_count": 22,
   "metadata": {
    "colab": {
     "base_uri": "https://localhost:8080/"
    },
    "id": "HiQj2fLbsh2E",
    "outputId": "44cfb0a9-6e20-4e84-ec2e-f175659c8d88"
   },
   "outputs": [
    {
     "data": {
      "text/plain": [
       "5"
      ]
     },
     "execution_count": 22,
     "metadata": {},
     "output_type": "execute_result"
    }
   ],
   "source": [
    "arr2[1][1]"
   ]
  },
  {
   "cell_type": "code",
   "execution_count": 23,
   "metadata": {
    "colab": {
     "base_uri": "https://localhost:8080/"
    },
    "id": "egVcO6o-sh2E",
    "outputId": "cd50f06f-a620-4f1c-9619-3b8660c2754c"
   },
   "outputs": [
    {
     "data": {
      "text/plain": [
       "6"
      ]
     },
     "execution_count": 23,
     "metadata": {},
     "output_type": "execute_result"
    }
   ],
   "source": [
    "arr2[1,2] #arr2[1][2]와 동일"
   ]
  },
  {
   "cell_type": "code",
   "execution_count": 24,
   "metadata": {
    "colab": {
     "base_uri": "https://localhost:8080/"
    },
    "id": "TPoBWOW1sh2E",
    "outputId": "25853f61-372d-49e5-a34b-a2bfb2ae2bd9"
   },
   "outputs": [
    {
     "data": {
      "text/plain": [
       "array([[  0,   1,   2,   3],\n",
       "       [  4,   5, 100,   7],\n",
       "       [  8,   9,  10,  11],\n",
       "       [ 12,  13,  14,  15]])"
      ]
     },
     "execution_count": 24,
     "metadata": {},
     "output_type": "execute_result"
    }
   ],
   "source": [
    "arr2[1,2] = 100 # 값 할당\n",
    "arr2"
   ]
  },
  {
   "cell_type": "code",
   "execution_count": 25,
   "metadata": {
    "colab": {
     "base_uri": "https://localhost:8080/"
    },
    "id": "v9Psy0W1sh2F",
    "outputId": "76454380-981b-4ce6-df2f-4627544c8308"
   },
   "outputs": [
    {
     "data": {
      "text/plain": [
       "array([[  0,   1,   2,   3],\n",
       "       [  4,   5, 100,   7]])"
      ]
     },
     "execution_count": 25,
     "metadata": {},
     "output_type": "execute_result"
    }
   ],
   "source": [
    "arr2[0:2]"
   ]
  },
  {
   "cell_type": "code",
   "execution_count": 26,
   "metadata": {
    "colab": {
     "base_uri": "https://localhost:8080/"
    },
    "id": "uyxBy8agsh2F",
    "outputId": "76d2586f-ccef-4727-e4b1-6c39e558f1be"
   },
   "outputs": [
    {
     "data": {
      "text/plain": [
       "array([[  0,   1,   2,   3],\n",
       "       [  4,   5, 100,   7]])"
      ]
     },
     "execution_count": 26,
     "metadata": {},
     "output_type": "execute_result"
    }
   ],
   "source": [
    "arr2[:2] #arr2[0:2]와 동일"
   ]
  },
  {
   "cell_type": "code",
   "execution_count": 27,
   "metadata": {
    "colab": {
     "base_uri": "https://localhost:8080/"
    },
    "id": "J_cvvmWdsh2F",
    "outputId": "b4b64dba-318d-4a1f-fdb6-c494f1157fe9"
   },
   "outputs": [
    {
     "data": {
      "text/plain": [
       "array([[  2,   3],\n",
       "       [100,   7]])"
      ]
     },
     "execution_count": 27,
     "metadata": {},
     "output_type": "execute_result"
    }
   ],
   "source": [
    "arr2[0:2, 2:4]"
   ]
  },
  {
   "cell_type": "code",
   "execution_count": 28,
   "metadata": {
    "colab": {
     "base_uri": "https://localhost:8080/"
    },
    "id": "sALP4JrLsh2F",
    "outputId": "20e19742-dc29-4647-8372-e91dce02439d"
   },
   "outputs": [
    {
     "data": {
      "text/plain": [
       "array([[  2,   3],\n",
       "       [100,   7]])"
      ]
     },
     "execution_count": 28,
     "metadata": {},
     "output_type": "execute_result"
    }
   ],
   "source": [
    "arr2[:2, 2:]"
   ]
  },
  {
   "cell_type": "markdown",
   "metadata": {
    "id": "F0vMVFzEsh2F"
   },
   "source": [
    "## ② 불리언 인덱스"
   ]
  },
  {
   "cell_type": "markdown",
   "metadata": {
    "id": "NhxYICCisPm_"
   },
   "source": [
    "![image-20230120095405666.png](data:image/png;base64,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)"
   ]
  },
  {
   "cell_type": "code",
   "execution_count": 29,
   "metadata": {
    "colab": {
     "base_uri": "https://localhost:8080/"
    },
    "id": "Fl-9mD-Zsh2F",
    "outputId": "3d9bb2e5-2761-4ec3-a364-f1742ba5df12"
   },
   "outputs": [
    {
     "data": {
      "text/plain": [
       "array([80, 90, 70, 65, 85, 95, 90, 80, 75, 80])"
      ]
     },
     "execution_count": 29,
     "metadata": {},
     "output_type": "execute_result"
    }
   ],
   "source": [
    "scores = [80, 90, 70, 65, 85, 95, 90, 80, 75, 80]\n",
    "score_arr = np.array(scores)\n",
    "score_arr"
   ]
  },
  {
   "cell_type": "code",
   "execution_count": 30,
   "metadata": {
    "colab": {
     "base_uri": "https://localhost:8080/"
    },
    "id": "yhCTMkKrsh2G",
    "outputId": "7b659ddd-b6b1-4611-91bb-d795e34d44bf"
   },
   "outputs": [
    {
     "data": {
      "text/plain": [
       "array([False,  True, False, False, False,  True,  True, False, False,\n",
       "       False])"
      ]
     },
     "execution_count": 30,
     "metadata": {},
     "output_type": "execute_result"
    }
   ],
   "source": [
    "score_arr >= 90"
   ]
  },
  {
   "cell_type": "code",
   "execution_count": 31,
   "metadata": {
    "colab": {
     "base_uri": "https://localhost:8080/"
    },
    "id": "Gvdzx3Hash2G",
    "outputId": "633357a8-494b-4fee-8912-d2567237a354"
   },
   "outputs": [
    {
     "data": {
      "text/plain": [
       "array([90, 95, 90])"
      ]
     },
     "execution_count": 31,
     "metadata": {},
     "output_type": "execute_result"
    }
   ],
   "source": [
    "score_arr[score_arr >= 90]"
   ]
  },
  {
   "cell_type": "code",
   "execution_count": 32,
   "metadata": {
    "colab": {
     "base_uri": "https://localhost:8080/"
    },
    "id": "fR_SYj5-sh2G",
    "outputId": "4956dce6-e7ab-49df-968c-384943f08040"
   },
   "outputs": [
    {
     "data": {
      "text/plain": [
       "array([ 80, 999,  70,  65,  85, 999, 999,  80,  75,  80])"
      ]
     },
     "execution_count": 32,
     "metadata": {},
     "output_type": "execute_result"
    }
   ],
   "source": [
    "score_arr[score_arr >= 90] = 999\n",
    "score_arr"
   ]
  },
  {
   "cell_type": "code",
   "execution_count": 33,
   "metadata": {
    "colab": {
     "base_uri": "https://localhost:8080/"
    },
    "id": "p-P19GIi_4_g",
    "outputId": "dd0d02de-817f-4a50-c927-da886ee0f0fd"
   },
   "outputs": [
    {
     "data": {
      "text/plain": [
       "array([[ 0.43595166,  1.07947173, -1.03947146,  0.23139451],\n",
       "       [ 1.18398998,  0.54159796,  0.4033107 , -0.1466635 ],\n",
       "       [-1.16567313, -0.97144272, -0.4967132 ,  0.43145972],\n",
       "       [ 0.90281257, -1.10995865,  0.78376703, -1.00826306],\n",
       "       [ 0.75351891,  1.36806448, -0.99681721,  1.3107737 ],\n",
       "       [-0.97521443, -0.4852553 , -0.30561594,  0.0832233 ]])"
      ]
     },
     "execution_count": 33,
     "metadata": {},
     "output_type": "execute_result"
    }
   ],
   "source": [
    "colors = np.array(['red', 'blue', 'green', 'yellow', 'red', 'red'])\n",
    "data = np.random.randn(6, 4)\n",
    "data"
   ]
  },
  {
   "cell_type": "code",
   "execution_count": 34,
   "metadata": {
    "colab": {
     "base_uri": "https://localhost:8080/"
    },
    "id": "eO4gIxF9AppE",
    "outputId": "a90e9f1a-912c-480f-d5ac-a653a090aaa7"
   },
   "outputs": [
    {
     "data": {
      "text/plain": [
       "array([ True, False, False, False,  True,  True])"
      ]
     },
     "execution_count": 34,
     "metadata": {},
     "output_type": "execute_result"
    }
   ],
   "source": [
    "colors == 'red'"
   ]
  },
  {
   "cell_type": "code",
   "execution_count": 35,
   "metadata": {
    "colab": {
     "base_uri": "https://localhost:8080/"
    },
    "id": "Uj2Gw76mAiSF",
    "outputId": "2003fd38-d8df-465f-fe64-b2b7f43d02b9"
   },
   "outputs": [
    {
     "data": {
      "text/plain": [
       "array([[ 0.43595166,  1.07947173, -1.03947146,  0.23139451],\n",
       "       [ 0.75351891,  1.36806448, -0.99681721,  1.3107737 ],\n",
       "       [-0.97521443, -0.4852553 , -0.30561594,  0.0832233 ]])"
      ]
     },
     "execution_count": 35,
     "metadata": {},
     "output_type": "execute_result"
    }
   ],
   "source": [
    "data[colors == 'red']"
   ]
  },
  {
   "cell_type": "code",
   "execution_count": 36,
   "metadata": {
    "colab": {
     "base_uri": "https://localhost:8080/"
    },
    "id": "UGFn7AkqAtbE",
    "outputId": "3d0e01bb-54ce-44e3-b150-0c788f9c66e9"
   },
   "outputs": [
    {
     "data": {
      "text/plain": [
       "array([[-1.03947146,  0.23139451],\n",
       "       [-0.99681721,  1.3107737 ],\n",
       "       [-0.30561594,  0.0832233 ]])"
      ]
     },
     "execution_count": 36,
     "metadata": {},
     "output_type": "execute_result"
    }
   ],
   "source": [
    "data[colors == 'red', 2:]"
   ]
  },
  {
   "cell_type": "code",
   "execution_count": 37,
   "metadata": {
    "colab": {
     "base_uri": "https://localhost:8080/"
    },
    "id": "UL_FtWOkAx8P",
    "outputId": "0991cc43-7ca6-4a2c-93a3-a8c7ad980608"
   },
   "outputs": [
    {
     "data": {
      "text/plain": [
       "array([0.23139451, 1.3107737 , 0.0832233 ])"
      ]
     },
     "execution_count": 37,
     "metadata": {},
     "output_type": "execute_result"
    }
   ],
   "source": [
    "data[colors == 'red', 3]"
   ]
  },
  {
   "cell_type": "code",
   "execution_count": 38,
   "metadata": {
    "colab": {
     "base_uri": "https://localhost:8080/"
    },
    "id": "TjIl_ICfA7Ux",
    "outputId": "ce63b4b2-b45f-4488-b892-e9544448d61e"
   },
   "outputs": [
    {
     "data": {
      "text/plain": [
       "array([[ 1.18398998,  0.54159796,  0.4033107 , -0.1466635 ],\n",
       "       [ 0.90281257, -1.10995865,  0.78376703, -1.00826306]])"
      ]
     },
     "execution_count": 38,
     "metadata": {},
     "output_type": "execute_result"
    }
   ],
   "source": [
    "data[(colors == 'yellow') | (colors == 'blue')]"
   ]
  },
  {
   "cell_type": "code",
   "execution_count": 39,
   "metadata": {
    "colab": {
     "base_uri": "https://localhost:8080/"
    },
    "id": "o_kp1JvxBKcL",
    "outputId": "6b340944-3c07-48f9-9e0a-b82f9dd3413e"
   },
   "outputs": [
    {
     "data": {
      "text/plain": [
       "array([[ 0.43595166,  1.07947173, -1.03947146,  0.23139451],\n",
       "       [ 0.        ,  0.        ,  0.        ,  0.        ],\n",
       "       [-1.16567313, -0.97144272, -0.4967132 ,  0.43145972],\n",
       "       [ 0.        ,  0.        ,  0.        ,  0.        ],\n",
       "       [ 0.75351891,  1.36806448, -0.99681721,  1.3107737 ],\n",
       "       [-0.97521443, -0.4852553 , -0.30561594,  0.0832233 ]])"
      ]
     },
     "execution_count": 39,
     "metadata": {},
     "output_type": "execute_result"
    }
   ],
   "source": [
    "data[(colors == 'yellow') | (colors == 'blue')] = 0\n",
    "data"
   ]
  },
  {
   "cell_type": "markdown",
   "metadata": {
    "id": "cwtmatwQBoMQ"
   },
   "source": [
    "## (참고) 팬시 색인\n",
    "\n",
    "- fancy indexing\n",
    "- 정수 리스트를 인덱스로 사용하는 방식"
   ]
  },
  {
   "cell_type": "code",
   "execution_count": 40,
   "metadata": {
    "colab": {
     "base_uri": "https://localhost:8080/"
    },
    "id": "xL0v-UA6Bnqf",
    "outputId": "4939f864-0405-4b04-9d5e-e4a8a797076a"
   },
   "outputs": [
    {
     "data": {
      "text/plain": [
       "array([[ 0,  1,  2,  3],\n",
       "       [ 4,  5,  6,  7],\n",
       "       [ 8,  9, 10, 11],\n",
       "       [12, 13, 14, 15],\n",
       "       [16, 17, 18, 19],\n",
       "       [20, 21, 22, 23],\n",
       "       [24, 25, 26, 27],\n",
       "       [28, 29, 30, 31]])"
      ]
     },
     "execution_count": 40,
     "metadata": {},
     "output_type": "execute_result"
    }
   ],
   "source": [
    "arr = np.arange(32).reshape((8, 4))\n",
    "arr"
   ]
  },
  {
   "cell_type": "code",
   "execution_count": 41,
   "metadata": {
    "colab": {
     "base_uri": "https://localhost:8080/"
    },
    "id": "7veg4o9aBzmG",
    "outputId": "4a89c1d4-2385-4894-8848-a94230c84132"
   },
   "outputs": [
    {
     "data": {
      "text/plain": [
       "array([[ 8,  9, 10, 11],\n",
       "       [24, 25, 26, 27]])"
      ]
     },
     "execution_count": 41,
     "metadata": {},
     "output_type": "execute_result"
    }
   ],
   "source": [
    "arr[[2, 6]]"
   ]
  },
  {
   "cell_type": "code",
   "execution_count": 42,
   "metadata": {
    "colab": {
     "base_uri": "https://localhost:8080/"
    },
    "id": "AI32IdVOB54V",
    "outputId": "8f0b074d-75a9-439b-ee5d-cc79d6a78ee5"
   },
   "outputs": [
    {
     "data": {
      "text/plain": [
       "array([ 9, 27])"
      ]
     },
     "execution_count": 42,
     "metadata": {},
     "output_type": "execute_result"
    }
   ],
   "source": [
    "arr[[2, 6], [1, 3]]"
   ]
  },
  {
   "cell_type": "markdown",
   "metadata": {
    "id": "L28N_dGAXVLc"
   },
   "source": [
    "정수 배열을 사용하여 원하는 인덱스의 값을 지정(put)하거나 가져올 수(take) 있음"
   ]
  },
  {
   "cell_type": "code",
   "execution_count": 43,
   "metadata": {
    "colab": {
     "base_uri": "https://localhost:8080/"
    },
    "id": "hLeKfGRzXUci",
    "outputId": "656306c7-6c8b-4189-fb03-0139543a4097"
   },
   "outputs": [
    {
     "data": {
      "text/plain": [
       "array([5, 3, 2, 6])"
      ]
     },
     "execution_count": 43,
     "metadata": {},
     "output_type": "execute_result"
    }
   ],
   "source": [
    "arr = np.arange(10)\n",
    "index = [5, 3, 2, 6]\n",
    "\n",
    "# index에 있는 값을 반환\n",
    "arr.take(index)"
   ]
  },
  {
   "cell_type": "code",
   "execution_count": 44,
   "metadata": {
    "colab": {
     "base_uri": "https://localhost:8080/"
    },
    "id": "yqKZS__WXz3f",
    "outputId": "1cd5eca7-fb7e-40f0-c3b9-08e535b05ce6"
   },
   "outputs": [
    {
     "data": {
      "text/plain": [
       "array([  0,   1, 100, 100,   4, 100, 100,   7,   8,   9])"
      ]
     },
     "execution_count": 44,
     "metadata": {},
     "output_type": "execute_result"
    }
   ],
   "source": [
    "# index에 있는 값을 치환\n",
    "arr.put(index, 100)\n",
    "arr"
   ]
  },
  {
   "cell_type": "code",
   "execution_count": 45,
   "metadata": {
    "colab": {
     "base_uri": "https://localhost:8080/"
    },
    "id": "Ixyl_fubX4ol",
    "outputId": "2c8e4875-635e-4bfc-b26d-24d84e26b13f"
   },
   "outputs": [
    {
     "data": {
      "text/plain": [
       "array([ 0,  1, 52, 51,  4, 50, 53,  7,  8,  9])"
      ]
     },
     "execution_count": 45,
     "metadata": {},
     "output_type": "execute_result"
    }
   ],
   "source": [
    "# index에 있는 값을 지정한 값(리스트)으로 치환\n",
    "arr.put(index, [50, 51, 52, 53])\n",
    "arr"
   ]
  },
  {
   "cell_type": "markdown",
   "metadata": {
    "id": "gS1ETICPsbZG"
   },
   "source": [
    "![image-20230120093700736.png](data:image/png;base64,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)"
   ]
  },
  {
   "cell_type": "markdown",
   "metadata": {
    "id": "sABU2YRush2G"
   },
   "source": [
    "## 기본 사칙 연산"
   ]
  },
  {
   "cell_type": "code",
   "execution_count": 46,
   "metadata": {
    "colab": {
     "base_uri": "https://localhost:8080/"
    },
    "id": "2FOG25ubsh2H",
    "outputId": "71cf8c5c-a6b3-43a8-87e4-4507f615d1d9"
   },
   "outputs": [
    {
     "data": {
      "text/plain": [
       "array([1, 2, 3, 4])"
      ]
     },
     "execution_count": 46,
     "metadata": {},
     "output_type": "execute_result"
    }
   ],
   "source": [
    "arr = np.arange(1, 5)\n",
    "arr"
   ]
  },
  {
   "cell_type": "code",
   "execution_count": 47,
   "metadata": {
    "colab": {
     "base_uri": "https://localhost:8080/"
    },
    "id": "du5B4Sngsh2H",
    "outputId": "9ebd3d3e-3318-4260-a022-ed7535396785"
   },
   "outputs": [
    {
     "data": {
      "text/plain": [
       "array([3, 4, 5, 6])"
      ]
     },
     "execution_count": 47,
     "metadata": {},
     "output_type": "execute_result"
    }
   ],
   "source": [
    "arr + 2"
   ]
  },
  {
   "cell_type": "code",
   "execution_count": 48,
   "metadata": {
    "colab": {
     "base_uri": "https://localhost:8080/"
    },
    "id": "as5UD38Msh2H",
    "outputId": "64b5d420-348c-440d-ffd7-4ac3992c0312"
   },
   "outputs": [
    {
     "data": {
      "text/plain": [
       "array([2, 4, 6, 8])"
      ]
     },
     "execution_count": 48,
     "metadata": {},
     "output_type": "execute_result"
    }
   ],
   "source": [
    "arr * 2"
   ]
  },
  {
   "cell_type": "code",
   "execution_count": 49,
   "metadata": {
    "colab": {
     "base_uri": "https://localhost:8080/"
    },
    "id": "nsLejLTUsh2H",
    "outputId": "b05d4340-8e8d-43d6-99f9-e03ba2ae7456"
   },
   "outputs": [
    {
     "data": {
      "text/plain": [
       "[1, 2, 3, 4]"
      ]
     },
     "execution_count": 49,
     "metadata": {},
     "output_type": "execute_result"
    }
   ],
   "source": [
    "list = [1, 2, 3, 4]\n",
    "list"
   ]
  },
  {
   "cell_type": "code",
   "execution_count": 50,
   "metadata": {
    "colab": {
     "base_uri": "https://localhost:8080/"
    },
    "id": "oL8Fu34Hsh2H",
    "outputId": "630e5779-bc3c-4da9-a125-6a53d5df6056"
   },
   "outputs": [
    {
     "data": {
      "text/plain": [
       "[1, 2, 3, 4, 1, 2, 3, 4]"
      ]
     },
     "execution_count": 50,
     "metadata": {},
     "output_type": "execute_result"
    }
   ],
   "source": [
    "list * 2"
   ]
  },
  {
   "cell_type": "code",
   "execution_count": 51,
   "metadata": {
    "colab": {
     "base_uri": "https://localhost:8080/"
    },
    "id": "26n9EwMish2I",
    "outputId": "05aac017-2f20-42f1-9e4c-139ce5041157"
   },
   "outputs": [
    {
     "data": {
      "text/plain": [
       "array([5, 6, 7, 8])"
      ]
     },
     "execution_count": 51,
     "metadata": {},
     "output_type": "execute_result"
    }
   ],
   "source": [
    "arr1 = np.arange(5, 9)\n",
    "arr1"
   ]
  },
  {
   "cell_type": "code",
   "execution_count": 52,
   "metadata": {
    "colab": {
     "base_uri": "https://localhost:8080/"
    },
    "id": "Y9zd0nI4sh2I",
    "outputId": "8df17ba2-65f4-480f-e196-22ce6125b22a"
   },
   "outputs": [
    {
     "data": {
      "text/plain": [
       "array([ 6,  8, 10, 12])"
      ]
     },
     "execution_count": 52,
     "metadata": {},
     "output_type": "execute_result"
    }
   ],
   "source": [
    "arr + arr1"
   ]
  },
  {
   "cell_type": "code",
   "execution_count": 53,
   "metadata": {
    "colab": {
     "base_uri": "https://localhost:8080/"
    },
    "id": "PZ4T-JeSsh2I",
    "outputId": "67219062-58e1-4e6b-b078-110594d091d5"
   },
   "outputs": [
    {
     "data": {
      "text/plain": [
       "[1, 2, 3, 4, 5, 6, 7, 8]"
      ]
     },
     "execution_count": 53,
     "metadata": {},
     "output_type": "execute_result"
    }
   ],
   "source": [
    "list1 = [5, 6, 7, 8]\n",
    "list + list1"
   ]
  },
  {
   "cell_type": "markdown",
   "metadata": {
    "id": "iWQEyC5ASPPa"
   },
   "source": [
    "## (참고)브로드캐스팅\n",
    "\n",
    "shape이 다른 다차원배열 또는 스칼라 값 사이에서 연산이 가능\n",
    "<br>\n",
    "![image.png](https://www.astroml.org/_images/fig_broadcast_visual_1.png)"
   ]
  },
  {
   "cell_type": "code",
   "execution_count": 54,
   "metadata": {
    "colab": {
     "base_uri": "https://localhost:8080/"
    },
    "id": "w6AF-zv-SOk-",
    "outputId": "ff81cc46-2ecd-43a1-f5bc-d2ac9466d790"
   },
   "outputs": [
    {
     "data": {
      "text/plain": [
       "array([5, 6, 7])"
      ]
     },
     "execution_count": 54,
     "metadata": {},
     "output_type": "execute_result"
    }
   ],
   "source": [
    "np.arange(3) + 5"
   ]
  },
  {
   "cell_type": "code",
   "execution_count": 55,
   "metadata": {
    "colab": {
     "base_uri": "https://localhost:8080/"
    },
    "id": "D7OeQUjXSVQK",
    "outputId": "32fba31d-d2ca-4c2a-84d2-51a65ac32625"
   },
   "outputs": [
    {
     "data": {
      "text/plain": [
       "array([[1., 2., 3.],\n",
       "       [1., 2., 3.],\n",
       "       [1., 2., 3.]])"
      ]
     },
     "execution_count": 55,
     "metadata": {},
     "output_type": "execute_result"
    }
   ],
   "source": [
    "np.ones((3, 3)) + np.arange(3)"
   ]
  },
  {
   "cell_type": "code",
   "execution_count": 56,
   "metadata": {
    "colab": {
     "base_uri": "https://localhost:8080/"
    },
    "id": "skFyv5RiSdX9",
    "outputId": "5e68cfa9-fcd1-4b42-8310-9a4dfa3fae90"
   },
   "outputs": [
    {
     "data": {
      "text/plain": [
       "array([[0, 1, 2],\n",
       "       [1, 2, 3],\n",
       "       [2, 3, 4]])"
      ]
     },
     "execution_count": 56,
     "metadata": {},
     "output_type": "execute_result"
    }
   ],
   "source": [
    "np.arange(3).reshape((3, 1)) + np.arange(3)"
   ]
  },
  {
   "cell_type": "markdown",
   "metadata": {
    "id": "YcmO8cLish2I"
   },
   "source": [
    "## 주요 산술 연산 함수\n",
    "- 유니버셜함수(ufunc)\n",
    "    - ndarray에 있는 원소들 각각에 연산을 수행하여 결과를 반환\n",
    "    - 연산을 빠르게 수행할 수 있음"
   ]
  },
  {
   "cell_type": "code",
   "execution_count": 57,
   "metadata": {
    "colab": {
     "base_uri": "https://localhost:8080/"
    },
    "id": "O3mkbWQ1sh2J",
    "outputId": "beff3a45-e0d6-49d0-a423-b8078a4a36f1"
   },
   "outputs": [
    {
     "data": {
      "text/plain": [
       "array([ 1,  4,  9, 16])"
      ]
     },
     "execution_count": 57,
     "metadata": {},
     "output_type": "execute_result"
    }
   ],
   "source": [
    "# 제곱\n",
    "np.square(arr)"
   ]
  },
  {
   "cell_type": "code",
   "execution_count": 58,
   "metadata": {
    "colab": {
     "base_uri": "https://localhost:8080/"
    },
    "id": "tmdxeqWesh2J",
    "outputId": "9a3320e5-245a-48d8-8e65-f6c20380fb2c"
   },
   "outputs": [
    {
     "data": {
      "text/plain": [
       "array([1.        , 1.41421356, 1.73205081, 2.        ])"
      ]
     },
     "execution_count": 58,
     "metadata": {},
     "output_type": "execute_result"
    }
   ],
   "source": [
    "# 제곱근(루트)\n",
    "np.sqrt(arr)"
   ]
  },
  {
   "cell_type": "code",
   "execution_count": 59,
   "metadata": {
    "colab": {
     "base_uri": "https://localhost:8080/"
    },
    "id": "qvJR7YE5sh2J",
    "outputId": "8b22d361-147b-4fad-dced-8c0c56d681f9"
   },
   "outputs": [
    {
     "data": {
      "text/plain": [
       "array([ 2.71828183,  7.3890561 , 20.08553692, 54.59815003])"
      ]
     },
     "execution_count": 59,
     "metadata": {},
     "output_type": "execute_result"
    }
   ],
   "source": [
    "# exp(지수승)\n",
    "np.exp(arr)"
   ]
  },
  {
   "cell_type": "code",
   "execution_count": 60,
   "metadata": {
    "colab": {
     "base_uri": "https://localhost:8080/"
    },
    "id": "0F1jX6DDsh2J",
    "outputId": "c552b31c-c6a7-49f9-d8c1-84603deae330"
   },
   "outputs": [
    {
     "data": {
      "text/plain": [
       "array([0.        , 0.69314718, 1.09861229, 1.38629436])"
      ]
     },
     "execution_count": 60,
     "metadata": {},
     "output_type": "execute_result"
    }
   ],
   "source": [
    "# log\n",
    "np.log(arr)"
   ]
  },
  {
   "cell_type": "code",
   "execution_count": 61,
   "metadata": {
    "colab": {
     "base_uri": "https://localhost:8080/"
    },
    "id": "ZhnX5N4dsh2K",
    "outputId": "129e811a-cd0b-4bf4-9d3c-24f7df1227a6"
   },
   "outputs": [
    {
     "data": {
      "text/plain": [
       "array([ 6,  8, 10, 12])"
      ]
     },
     "execution_count": 61,
     "metadata": {},
     "output_type": "execute_result"
    }
   ],
   "source": [
    "# 더하기\n",
    "np.add(arr, arr1)"
   ]
  },
  {
   "cell_type": "code",
   "execution_count": 62,
   "metadata": {
    "colab": {
     "base_uri": "https://localhost:8080/"
    },
    "id": "yQf1PQ2wsh2K",
    "outputId": "f5666ec5-c62e-4114-948c-c77c410677dd"
   },
   "outputs": [
    {
     "data": {
      "text/plain": [
       "10"
      ]
     },
     "execution_count": 62,
     "metadata": {},
     "output_type": "execute_result"
    }
   ],
   "source": [
    "#합계\n",
    "np.sum(arr)"
   ]
  },
  {
   "cell_type": "code",
   "execution_count": 63,
   "metadata": {
    "colab": {
     "base_uri": "https://localhost:8080/"
    },
    "id": "qjFMRBr_sh2K",
    "outputId": "65bdb74d-6be1-4ece-8fb6-bd9dc814b1c9"
   },
   "outputs": [
    {
     "data": {
      "text/plain": [
       "array([ 1,  3,  6, 10])"
      ]
     },
     "execution_count": 63,
     "metadata": {},
     "output_type": "execute_result"
    }
   ],
   "source": [
    "#누적합\n",
    "np.cumsum(arr)"
   ]
  },
  {
   "cell_type": "code",
   "execution_count": 64,
   "metadata": {
    "colab": {
     "base_uri": "https://localhost:8080/"
    },
    "id": "1yYQIgYJsh2L",
    "outputId": "9c9c5730-a923-4cc6-eb0b-b91b9c4d4793"
   },
   "outputs": [
    {
     "data": {
      "text/plain": [
       "2.5"
      ]
     },
     "execution_count": 64,
     "metadata": {},
     "output_type": "execute_result"
    }
   ],
   "source": [
    "# 평균\n",
    "np.mean(arr)"
   ]
  },
  {
   "cell_type": "markdown",
   "metadata": {
    "id": "uDwyfSncVwvR"
   },
   "source": [
    "(참고) axis를 인자로 받아 차원에 따른 연산 수행 가능"
   ]
  },
  {
   "cell_type": "code",
   "execution_count": 65,
   "metadata": {
    "colab": {
     "base_uri": "https://localhost:8080/"
    },
    "id": "aKg45gVKVieM",
    "outputId": "978d8009-4db1-4f0a-951e-6007de0b9738"
   },
   "outputs": [
    {
     "name": "stdout",
     "output_type": "stream",
     "text": [
      "[[ 0  1  2  3]\n",
      " [ 4  5  6  7]\n",
      " [ 8  9 10 11]\n",
      " [12 13 14 15]]\n",
      "--------------------------\n",
      "mean of axis 0: [6. 7. 8. 9.]\n",
      "mean of axis 1: [ 1.5  5.5  9.5 13.5]\n"
     ]
    }
   ],
   "source": [
    "arr_multi = np.arange(16).reshape(4, 4)\n",
    "print(arr_multi)\n",
    "print('--------------------------')\n",
    "print('mean of axis 0:', arr_multi.mean(axis = 0))\n",
    "print('mean of axis 1:', arr_multi.mean(axis = 1))"
   ]
  },
  {
   "cell_type": "code",
   "execution_count": 66,
   "metadata": {
    "colab": {
     "base_uri": "https://localhost:8080/"
    },
    "id": "pAuCnYmNsh2L",
    "outputId": "42364cdd-0683-4ea5-bb4c-115eee5810f3"
   },
   "outputs": [
    {
     "data": {
      "text/plain": [
       "1.25"
      ]
     },
     "execution_count": 66,
     "metadata": {},
     "output_type": "execute_result"
    }
   ],
   "source": [
    "# 편차\n",
    "np.var(arr)"
   ]
  },
  {
   "cell_type": "code",
   "execution_count": 67,
   "metadata": {
    "colab": {
     "base_uri": "https://localhost:8080/"
    },
    "id": "YglVwJmCsh2M",
    "outputId": "96d3b29b-844b-4da5-8149-d4f8520d84d5"
   },
   "outputs": [
    {
     "data": {
      "text/plain": [
       "1.118033988749895"
      ]
     },
     "execution_count": 67,
     "metadata": {},
     "output_type": "execute_result"
    }
   ],
   "source": [
    "# 표준편차\n",
    "np.std(arr)"
   ]
  },
  {
   "cell_type": "code",
   "execution_count": 68,
   "metadata": {
    "colab": {
     "base_uri": "https://localhost:8080/"
    },
    "id": "0hLk_TLFsh2M",
    "outputId": "82869a3e-354b-4100-8040-2f4f2e1c4e7a"
   },
   "outputs": [
    {
     "data": {
      "text/plain": [
       "1"
      ]
     },
     "execution_count": 68,
     "metadata": {},
     "output_type": "execute_result"
    }
   ],
   "source": [
    "# 최소값\n",
    "np.min(arr)"
   ]
  },
  {
   "cell_type": "code",
   "execution_count": 69,
   "metadata": {
    "colab": {
     "base_uri": "https://localhost:8080/"
    },
    "id": "c5jTLeYKsh2M",
    "outputId": "6f50768e-a174-4dca-8639-01b19ab4b28b"
   },
   "outputs": [
    {
     "data": {
      "text/plain": [
       "4"
      ]
     },
     "execution_count": 69,
     "metadata": {},
     "output_type": "execute_result"
    }
   ],
   "source": [
    "# 최대값\n",
    "np.max(arr)"
   ]
  },
  {
   "cell_type": "code",
   "execution_count": 70,
   "metadata": {
    "colab": {
     "base_uri": "https://localhost:8080/"
    },
    "id": "CmjpS4hxsh2M",
    "outputId": "5e7f281f-0b26-481e-ab2d-c8a1416047d2"
   },
   "outputs": [
    {
     "data": {
      "text/plain": [
       "0"
      ]
     },
     "execution_count": 70,
     "metadata": {},
     "output_type": "execute_result"
    }
   ],
   "source": [
    "# 최소값의 인덱스\n",
    "np.argmin(arr)"
   ]
  },
  {
   "cell_type": "code",
   "execution_count": 71,
   "metadata": {
    "colab": {
     "base_uri": "https://localhost:8080/"
    },
    "id": "maJNdYwtsh2M",
    "outputId": "89e832e4-383f-4dc8-af7a-8b57730a0735"
   },
   "outputs": [
    {
     "data": {
      "text/plain": [
       "3"
      ]
     },
     "execution_count": 71,
     "metadata": {},
     "output_type": "execute_result"
    }
   ],
   "source": [
    "# 최대값의 인덱스\n",
    "np.argmax(arr)"
   ]
  },
  {
   "cell_type": "code",
   "execution_count": 72,
   "metadata": {
    "colab": {
     "base_uri": "https://localhost:8080/"
    },
    "id": "vKjNNMroYfLR",
    "outputId": "66be9a3a-746d-4f05-8acc-4979fe8b7b6f"
   },
   "outputs": [
    {
     "name": "stdout",
     "output_type": "stream",
     "text": [
      "x \n",
      " [[0 1 2]\n",
      " [3 4 5]]\n",
      "\n",
      "y \n",
      " [[0 1]\n",
      " [2 3]\n",
      " [4 5]]\n",
      "\n",
      "x.dot(y) \n",
      " [[10 13]\n",
      " [28 40]]\n",
      "\n",
      "np.dot(x, y) \n",
      " [[10 13]\n",
      " [28 40]]\n"
     ]
    }
   ],
   "source": [
    "# 행렬 곱\n",
    "x = np.arange(6).reshape(2, 3)\n",
    "y = np.arange(6).reshape(3, 2)\n",
    "print('x \\n', x)\n",
    "print('\\ny \\n',y)\n",
    "\n",
    "print('\\nx.dot(y) \\n',x.dot(y))\n",
    "print('\\nnp.dot(x, y) \\n', np.dot(x, y))"
   ]
  },
  {
   "cell_type": "markdown",
   "metadata": {
    "id": "TrL0h863Uw-I"
   },
   "source": [
    "##(참고) 기타 연산"
   ]
  },
  {
   "cell_type": "markdown",
   "metadata": {
    "id": "b-eUU88RVE8o"
   },
   "source": [
    "where: 조건절"
   ]
  },
  {
   "cell_type": "code",
   "execution_count": 73,
   "metadata": {
    "colab": {
     "base_uri": "https://localhost:8080/"
    },
    "id": "xTegItViUzia",
    "outputId": "e991e98c-a681-4d37-8d26-763411dc8a76"
   },
   "outputs": [
    {
     "data": {
      "text/plain": [
       "array([[ 0,  0,  0,  0,  0],\n",
       "       [ 0, 10, 10, 10, 10]])"
      ]
     },
     "execution_count": 73,
     "metadata": {},
     "output_type": "execute_result"
    }
   ],
   "source": [
    "arr = np.arange(10).reshape(2,5)\n",
    "\n",
    "# arr의 원소가 5보다 크면 10, 그렇지 않은 경우에는 0을 반환\n",
    "np.where(arr> 5, 10, 0)"
   ]
  },
  {
   "cell_type": "markdown",
   "metadata": {
    "id": "jjkJi8hTYZ1u"
   },
   "source": [
    "sort: 정렬"
   ]
  },
  {
   "cell_type": "code",
   "execution_count": 74,
   "metadata": {
    "colab": {
     "base_uri": "https://localhost:8080/"
    },
    "id": "My4I4GsvYZcR",
    "outputId": "f119db13-2705-4b0e-fcb5-267cf02d11eb"
   },
   "outputs": [
    {
     "name": "stdout",
     "output_type": "stream",
     "text": [
      "정렬 이전: [-0.12493071  0.06880359  2.09197628  1.11056396  1.58093159]\n",
      "정렬 결과: [-0.12493071  0.06880359  1.11056396  1.58093159  2.09197628]\n"
     ]
    }
   ],
   "source": [
    "arr = np.random.randn(5)\n",
    "print('정렬 이전:', arr)\n",
    "arr.sort()\n",
    "print('정렬 결과:', arr)"
   ]
  },
  {
   "cell_type": "code",
   "execution_count": 75,
   "metadata": {
    "colab": {
     "base_uri": "https://localhost:8080/"
    },
    "id": "UJ54XyfWaSEn",
    "outputId": "2625e359-4de9-4118-d35b-5456d1a8d304"
   },
   "outputs": [
    {
     "name": "stdout",
     "output_type": "stream",
     "text": [
      "정렬 이전:\n",
      " [[-1.36199608  1.38377987 -0.40339411]\n",
      " [-0.29798417  0.81499642  0.44242363]\n",
      " [-1.65215656  0.1791203  -1.2700622 ]]\n",
      "정렬 결과:\n",
      " [[-1.36199608 -0.40339411  1.38377987]\n",
      " [-0.29798417  0.44242363  0.81499642]\n",
      " [-1.65215656 -1.2700622   0.1791203 ]]\n"
     ]
    }
   ],
   "source": [
    "arr = np.random.randn(9).reshape(3, 3)\n",
    "print('정렬 이전:\\n', arr)\n",
    "arr.sort(axis = 1)\n",
    "print('정렬 결과:\\n', arr)"
   ]
  },
  {
   "cell_type": "markdown",
   "metadata": {
    "id": "AQmxl6JFcPCR"
   },
   "source": [
    "분위수: 팬시 색인 + 정렬"
   ]
  },
  {
   "cell_type": "code",
   "execution_count": 76,
   "metadata": {
    "colab": {
     "base_uri": "https://localhost:8080/"
    },
    "id": "tKi821f8cSzJ",
    "outputId": "5a62d746-7a45-410a-921e-c73aee2ab22c"
   },
   "outputs": [
    {
     "name": "stdout",
     "output_type": "stream",
     "text": [
      "[-0.02105979 -0.05928597  0.28346339  0.5260974  -0.89477722 -0.07505443\n",
      "  1.66054458  2.48482651  1.92151977 -0.66540465  1.38157122 -0.72159144\n",
      " -2.19910882  0.36558418 -0.01695377  0.12443023 -0.05823067  0.41110007\n",
      " -0.75782451  1.03607591 -0.98204697  0.78413914  0.10393772  0.524992\n",
      " -0.65666741  0.72861092 -2.11302335 -1.21038251  0.0437104   1.86843569\n",
      "  0.93937724 -0.51725012 -0.09802381 -1.16041697  0.01751418  0.24538623\n",
      " -0.05314183 -0.64312198  1.00242724 -0.82796492  1.20745752  1.75900829\n",
      "  0.21256446 -0.28484682  0.87937242  0.46423872  0.47702896  0.35277843\n",
      " -0.35916021  0.59462983 -1.8680536   1.51786261  0.51786187 -0.15310663\n",
      "  0.68015774  0.55395959 -0.67945066 -1.5686635   1.43846872 -1.13963247\n",
      " -0.5399964  -0.07802722 -0.34870605  1.29684112 -0.8133889  -0.38779784\n",
      " -1.55312356  0.58753355  0.29411629 -0.69655979 -0.7655203  -0.27097157\n",
      "  1.96338079  2.26957051 -0.47337423  0.92807393  1.76700035  0.37518823\n",
      "  1.84527926 -0.15249827 -0.43294487 -0.30417657  0.98771128 -0.77073961\n",
      " -0.46100736 -0.69709541  0.81627953 -1.0474023  -2.42533536 -1.10986897\n",
      " -1.92243054  1.44099626 -0.09626132 -1.01854721  0.37133777  0.83638222\n",
      " -0.71929061  0.8500608  -0.2433025  -0.32102145]\n",
      "\n",
      "\n",
      "25%: -0.6654046513528208 75%: 0.784139137702502\n"
     ]
    }
   ],
   "source": [
    "arr = np.random.randn(100)\n",
    "print(arr)\n",
    "arr.sort()\n",
    "\n",
    "quantile_1 = arr[int(0.25 * len(arr))]\n",
    "quantile_4 = arr[int(0.75 * len(arr))]\n",
    "\n",
    "print('\\n\\n25%:', quantile_1, '75%:', quantile_4)"
   ]
  },
  {
   "cell_type": "code",
   "execution_count": 77,
   "metadata": {
    "colab": {
     "base_uri": "https://localhost:8080/"
    },
    "id": "topm9mExsh2N",
    "outputId": "8d33a8d5-135e-4640-a186-033effac73bb"
   },
   "outputs": [
    {
     "data": {
      "text/plain": [
       "array([[0, 1, 2, 3, 4],\n",
       "       [5, 6, 7, 8, 9]])"
      ]
     },
     "execution_count": 77,
     "metadata": {},
     "output_type": "execute_result"
    }
   ],
   "source": [
    "arr = np.arange(10).reshape(2,5)\n",
    "arr"
   ]
  },
  {
   "cell_type": "code",
   "execution_count": 78,
   "metadata": {
    "colab": {
     "base_uri": "https://localhost:8080/"
    },
    "id": "LQEWbVo5sh2N",
    "outputId": "775d3daf-c249-4f9a-a386-8a07c6e049c9"
   },
   "outputs": [
    {
     "data": {
      "text/plain": [
       "array([[0, 5],\n",
       "       [1, 6],\n",
       "       [2, 7],\n",
       "       [3, 8],\n",
       "       [4, 9]])"
      ]
     },
     "execution_count": 78,
     "metadata": {},
     "output_type": "execute_result"
    }
   ],
   "source": [
    "arr.transpose()"
   ]
  },
  {
   "cell_type": "code",
   "execution_count": 79,
   "metadata": {
    "colab": {
     "base_uri": "https://localhost:8080/"
    },
    "id": "IGEeDfv2sh2N",
    "outputId": "74493a06-f8c2-4fb0-8911-b66a17e9eb6c"
   },
   "outputs": [
    {
     "data": {
      "text/plain": [
       "array([[0, 5],\n",
       "       [1, 6],\n",
       "       [2, 7],\n",
       "       [3, 8],\n",
       "       [4, 9]])"
      ]
     },
     "execution_count": 79,
     "metadata": {},
     "output_type": "execute_result"
    }
   ],
   "source": [
    "arr.T #arr.transpose()와 동일"
   ]
  },
  {
   "cell_type": "code",
   "execution_count": 80,
   "metadata": {
    "colab": {
     "base_uri": "https://localhost:8080/"
    },
    "id": "ME6s5_o-sh2N",
    "outputId": "b0e9fdf3-c097-4e63-8529-d3ea1f96506b"
   },
   "outputs": [
    {
     "data": {
      "text/plain": [
       "array([[[ 0,  1,  2],\n",
       "        [ 3,  4,  5],\n",
       "        [ 6,  7,  8]],\n",
       "\n",
       "       [[ 9, 10, 11],\n",
       "        [12, 13, 14],\n",
       "        [15, 16, 17]],\n",
       "\n",
       "       [[18, 19, 20],\n",
       "        [21, 22, 23],\n",
       "        [24, 25, 26]]])"
      ]
     },
     "execution_count": 80,
     "metadata": {},
     "output_type": "execute_result"
    }
   ],
   "source": [
    "arr3d = np.arange(27).reshape(3,3,3)\n",
    "arr3d"
   ]
  },
  {
   "cell_type": "code",
   "execution_count": 81,
   "metadata": {
    "colab": {
     "base_uri": "https://localhost:8080/"
    },
    "id": "9Fq0Fy7tsh2O",
    "outputId": "7b97aeb7-3c7c-42fd-f832-dad42e19a8e5"
   },
   "outputs": [
    {
     "data": {
      "text/plain": [
       "array([[[ 0,  9, 18],\n",
       "        [ 3, 12, 21],\n",
       "        [ 6, 15, 24]],\n",
       "\n",
       "       [[ 1, 10, 19],\n",
       "        [ 4, 13, 22],\n",
       "        [ 7, 16, 25]],\n",
       "\n",
       "       [[ 2, 11, 20],\n",
       "        [ 5, 14, 23],\n",
       "        [ 8, 17, 26]]])"
      ]
     },
     "execution_count": 81,
     "metadata": {},
     "output_type": "execute_result"
    }
   ],
   "source": [
    "arr3d.transpose() #transpose(2,1,0)와 동일"
   ]
  },
  {
   "cell_type": "markdown",
   "metadata": {
    "id": "zw7nt-zQDD_6"
   },
   "source": [
    "transpose()는 튜플로 축 번호를 받아서 치환하는 연산을 수행한다"
   ]
  },
  {
   "cell_type": "code",
   "execution_count": 82,
   "metadata": {
    "colab": {
     "base_uri": "https://localhost:8080/"
    },
    "id": "t-S1qRA5sh2O",
    "outputId": "c760be30-28d4-4200-9c42-cd76f4412e7d"
   },
   "outputs": [
    {
     "data": {
      "text/plain": [
       "array([[[ 0,  1,  2],\n",
       "        [ 9, 10, 11],\n",
       "        [18, 19, 20]],\n",
       "\n",
       "       [[ 3,  4,  5],\n",
       "        [12, 13, 14],\n",
       "        [21, 22, 23]],\n",
       "\n",
       "       [[ 6,  7,  8],\n",
       "        [15, 16, 17],\n",
       "        [24, 25, 26]]])"
      ]
     },
     "execution_count": 82,
     "metadata": {},
     "output_type": "execute_result"
    }
   ],
   "source": [
    "arr3d.transpose(1,0,2)"
   ]
  },
  {
   "cell_type": "markdown",
   "metadata": {
    "id": "qGu3LvGRCqWf"
   },
   "source": [
    "행렬의 내적을 구할 떄, 축의 전치를 활용할 수 있음\n",
    "- 내적: np.dot()"
   ]
  },
  {
   "cell_type": "code",
   "execution_count": 83,
   "metadata": {
    "colab": {
     "base_uri": "https://localhost:8080/"
    },
    "id": "vjY6RxK_Cys8",
    "outputId": "fd78b55c-1c4c-4df8-9bf8-b19b203e9791"
   },
   "outputs": [
    {
     "data": {
      "text/plain": [
       "array([[ 9.96854974,  0.68010039, -2.06181634],\n",
       "       [ 0.68010039,  2.74542065,  2.80913507],\n",
       "       [-2.06181634,  2.80913507,  5.43244652]])"
      ]
     },
     "execution_count": 83,
     "metadata": {},
     "output_type": "execute_result"
    }
   ],
   "source": [
    "arr = np.random.randn(3, 6)\n",
    "np.dot(arr, arr.T)"
   ]
  },
  {
   "cell_type": "markdown",
   "metadata": {
    "id": "bB_lemMleHLa"
   },
   "source": [
    "축 추가: np.newaxis"
   ]
  },
  {
   "cell_type": "code",
   "execution_count": 84,
   "metadata": {
    "colab": {
     "base_uri": "https://localhost:8080/"
    },
    "id": "jxMLibakeJXW",
    "outputId": "65483641-65b4-43bc-e238-94d23f8bdc7e"
   },
   "outputs": [
    {
     "data": {
      "text/plain": [
       "(2, 2)"
      ]
     },
     "execution_count": 84,
     "metadata": {},
     "output_type": "execute_result"
    }
   ],
   "source": [
    "arr = np.zeros((2, 2))\n",
    "arr.shape"
   ]
  },
  {
   "cell_type": "code",
   "execution_count": 85,
   "metadata": {
    "colab": {
     "base_uri": "https://localhost:8080/"
    },
    "id": "BfmSFwV2eT9w",
    "outputId": "82517c24-031a-4e05-f4a5-bd3c6aa67685"
   },
   "outputs": [
    {
     "data": {
      "text/plain": [
       "(2, 1, 2)"
      ]
     },
     "execution_count": 85,
     "metadata": {},
     "output_type": "execute_result"
    }
   ],
   "source": [
    "arr3d = arr[:, np.newaxis, :]\n",
    "arr3d.shape"
   ]
  },
  {
   "cell_type": "markdown",
   "metadata": {
    "id": "594jPD8zsh2P"
   },
   "source": [
    "## 배열 저장하기 - np.save()\n",
    "\n",
    " - ndarray를 바이너리 형식으로 디스크에 저장할 수 있음\n",
    " - 대용량 데이터의 경우 읽고 쓰는데 시간을 줄일 수 있음"
   ]
  },
  {
   "cell_type": "code",
   "execution_count": 86,
   "metadata": {
    "colab": {
     "base_uri": "https://localhost:8080/"
    },
    "id": "54ER0ttEsh2P",
    "outputId": "1a9690f1-3814-47d3-ee4d-dd5d1882894f"
   },
   "outputs": [
    {
     "name": "stdout",
     "output_type": "stream",
     "text": [
      "[[0 1 2 3 4]\n",
      " [5 6 7 8 9]]\n"
     ]
    }
   ],
   "source": [
    "import numpy as np\n",
    "arr = np.arange(10).reshape(2, 5)\n",
    "print(arr)"
   ]
  },
  {
   "cell_type": "code",
   "execution_count": 87,
   "metadata": {
    "id": "jQbwOmmgsh2P"
   },
   "outputs": [],
   "source": [
    "np.save('array', arr)"
   ]
  },
  {
   "cell_type": "markdown",
   "metadata": {},
   "source": [
    "## 배열 불러오기 - np.load()"
   ]
  },
  {
   "cell_type": "code",
   "execution_count": 88,
   "metadata": {
    "id": "_EBlEyA6sh2P"
   },
   "outputs": [],
   "source": [
    "load_arr = np.load('array.npy')"
   ]
  },
  {
   "cell_type": "code",
   "execution_count": 89,
   "metadata": {
    "colab": {
     "base_uri": "https://localhost:8080/"
    },
    "id": "DXVuzigDsh2Q",
    "outputId": "bba5a930-558e-4acd-db61-ec60dbe0ffad"
   },
   "outputs": [
    {
     "data": {
      "text/plain": [
       "array([[0, 1, 2, 3, 4],\n",
       "       [5, 6, 7, 8, 9]])"
      ]
     },
     "execution_count": 89,
     "metadata": {},
     "output_type": "execute_result"
    }
   ],
   "source": [
    "load_arr"
   ]
  },
  {
   "cell_type": "markdown",
   "metadata": {},
   "source": [
    "## 배열의 압축된 형식 - npz 형식"
   ]
  },
  {
   "cell_type": "markdown",
   "metadata": {
    "id": "v6sI4670Diyx"
   },
   "source": [
    "(참고)\n",
    "np.savez()\n",
    "- 여러 배열을 압축된 형식으로 저장할 수 있음\n",
    "- 확장자: npz\n",
    "- 저장하려는 배열을 키워드 인자 형태로 전달"
   ]
  },
  {
   "cell_type": "code",
   "execution_count": 90,
   "metadata": {
    "id": "zqnc3rVMsh2Q"
   },
   "outputs": [],
   "source": [
    "# 여러 배열 생성\n",
    "arr1 = np.arange(10)\n",
    "arr2 = np.arange(20).reshape(4, 5)\n",
    "arr3 = np.random.rand(3, 3)\n",
    "\n",
    "# 여러 배열을 하나의 파일로 저장\n",
    "np.savez('multiple_arrays', \n",
    "         first_array=arr1, \n",
    "         second_array=arr2, \n",
    "         third_array=arr3)"
   ]
  },
  {
   "cell_type": "markdown",
   "metadata": {},
   "source": [
    "npz 파일 불러오기"
   ]
  },
  {
   "cell_type": "code",
   "execution_count": 91,
   "metadata": {
    "colab": {
     "base_uri": "https://localhost:8080/"
    },
    "id": "NKhpeY1_EFvs",
    "outputId": "c37652bf-4e91-4ba6-9c1d-f2ef099167b6"
   },
   "outputs": [
    {
     "name": "stdout",
     "output_type": "stream",
     "text": [
      "['first_array', 'second_array', 'third_array']\n",
      "[0 1 2 3 4 5 6 7 8 9]\n",
      "[[ 0  1  2  3  4]\n",
      " [ 5  6  7  8  9]\n",
      " [10 11 12 13 14]\n",
      " [15 16 17 18 19]]\n",
      "[[0.69394565 0.58812801 0.98856335]\n",
      " [0.26526855 0.58381188 0.91364895]\n",
      " [0.65034418 0.03145107 0.61964796]]\n"
     ]
    }
   ],
   "source": [
    "# npz 파일 불러오기\n",
    "loaded_data = np.load('multiple_arrays.npz')\n",
    "\n",
    "# 저장된 배열 이름 확인\n",
    "print(loaded_data.files)  # ['first_array', 'second_array', 'third_array']\n",
    "\n",
    "# 개별 배열 접근\n",
    "print(loaded_data['first_array'])\n",
    "print(loaded_data['second_array'])\n",
    "print(loaded_data['third_array'])\n",
    "\n",
    "# 또는 변수로 할당\n",
    "arr1_loaded = loaded_data['first_array']\n",
    "arr2_loaded = loaded_data['second_array']\n",
    "arr3_loaded = loaded_data['third_array']\n",
    "\n",
    "# 사용 후 파일 닫기\n",
    "loaded_data.close()"
   ]
  },
  {
   "cell_type": "markdown",
   "metadata": {},
   "source": [
    "압축 저장"
   ]
  },
  {
   "cell_type": "code",
   "execution_count": 92,
   "metadata": {
    "colab": {
     "base_uri": "https://localhost:8080/"
    },
    "id": "zkjsdWmaEMEA",
    "outputId": "b288e2eb-c328-4c30-889d-d56433e492ac"
   },
   "outputs": [],
   "source": [
    "# 압축하여 저장 (파일 크기 절약)\n",
    "np.savez_compressed('compressed_arrays', \n",
    "                   data1=arr1, \n",
    "                   data2=arr2, \n",
    "                   data3=arr3)"
   ]
  }
 ],
 "metadata": {
  "colab": {
   "include_colab_link": true,
   "provenance": [],
   "toc_visible": true
  },
  "kernelspec": {
   "display_name": "Python 3 (ipykernel)",
   "language": "python",
   "name": "python3"
  },
  "language_info": {
   "codemirror_mode": {
    "name": "ipython",
    "version": 3
   },
   "file_extension": ".py",
   "mimetype": "text/x-python",
   "name": "python",
   "nbconvert_exporter": "python",
   "pygments_lexer": "ipython3",
   "version": "3.10.18"
  },
  "toc": {
   "base_numbering": 1,
   "nav_menu": {},
   "number_sections": false,
   "sideBar": true,
   "skip_h1_title": false,
   "title_cell": "Table of Contents",
   "title_sidebar": "Contents",
   "toc_cell": false,
   "toc_position": {
    "height": "calc(100% - 180px)",
    "left": "10px",
    "top": "150px",
    "width": "199.825px"
   },
   "toc_section_display": true,
   "toc_window_display": true
  }
 },
 "nbformat": 4,
 "nbformat_minor": 4
}
