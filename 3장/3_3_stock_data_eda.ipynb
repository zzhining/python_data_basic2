{
 "cells": [
  {
   "cell_type": "code",
   "execution_count": 1,
   "id": "18e12326-8e7b-409a-9f14-b30dff51d010",
   "metadata": {},
   "outputs": [],
   "source": [
    "# yfinacnce 설치가 필요한 경우, 아래 주석을 해지하고 실행\n",
    "#!pip inatall yfinance"
   ]
  },
  {
   "cell_type": "code",
   "execution_count": 2,
   "id": "6a180943-6192-48cc-a145-e4b0bb291b70",
   "metadata": {},
   "outputs": [
    {
     "name": "stderr",
     "output_type": "stream",
     "text": [
      "C:\\Users\\zhini\\AppData\\Local\\Temp\\ipykernel_20652\\568620463.py:4: FutureWarning: YF.download() has changed argument auto_adjust default to True\n",
      "  df = yf.download(\"NVDA\", period=\"1y\", interval=\"1d\", multi_level_index = False)\n",
      "[*********************100%***********************]  1 of 1 completed\n"
     ]
    },
    {
     "data": {
      "text/html": [
       "<div>\n",
       "<style scoped>\n",
       "    .dataframe tbody tr th:only-of-type {\n",
       "        vertical-align: middle;\n",
       "    }\n",
       "\n",
       "    .dataframe tbody tr th {\n",
       "        vertical-align: top;\n",
       "    }\n",
       "\n",
       "    .dataframe thead th {\n",
       "        text-align: right;\n",
       "    }\n",
       "</style>\n",
       "<table border=\"1\" class=\"dataframe\">\n",
       "  <thead>\n",
       "    <tr style=\"text-align: right;\">\n",
       "      <th></th>\n",
       "      <th>Close</th>\n",
       "      <th>High</th>\n",
       "      <th>Low</th>\n",
       "      <th>Open</th>\n",
       "      <th>Volume</th>\n",
       "    </tr>\n",
       "    <tr>\n",
       "      <th>Date</th>\n",
       "      <th></th>\n",
       "      <th></th>\n",
       "      <th></th>\n",
       "      <th></th>\n",
       "      <th></th>\n",
       "    </tr>\n",
       "  </thead>\n",
       "  <tbody>\n",
       "    <tr>\n",
       "      <th>2024-08-09</th>\n",
       "      <td>104.716919</td>\n",
       "      <td>106.566333</td>\n",
       "      <td>103.397336</td>\n",
       "      <td>105.606637</td>\n",
       "      <td>290844200</td>\n",
       "    </tr>\n",
       "    <tr>\n",
       "      <th>2024-08-12</th>\n",
       "      <td>108.985573</td>\n",
       "      <td>111.034929</td>\n",
       "      <td>106.226450</td>\n",
       "      <td>106.286428</td>\n",
       "      <td>325559900</td>\n",
       "    </tr>\n",
       "    <tr>\n",
       "      <th>2024-08-13</th>\n",
       "      <td>116.103317</td>\n",
       "      <td>116.193293</td>\n",
       "      <td>111.544760</td>\n",
       "      <td>112.404489</td>\n",
       "      <td>312646700</td>\n",
       "    </tr>\n",
       "    <tr>\n",
       "      <th>2024-08-14</th>\n",
       "      <td>118.042717</td>\n",
       "      <td>118.562549</td>\n",
       "      <td>114.033981</td>\n",
       "      <td>118.492572</td>\n",
       "      <td>339246400</td>\n",
       "    </tr>\n",
       "    <tr>\n",
       "      <th>2024-08-15</th>\n",
       "      <td>122.821205</td>\n",
       "      <td>123.201082</td>\n",
       "      <td>117.432908</td>\n",
       "      <td>118.722501</td>\n",
       "      <td>318086700</td>\n",
       "    </tr>\n",
       "  </tbody>\n",
       "</table>\n",
       "</div>"
      ],
      "text/plain": [
       "                 Close        High         Low        Open     Volume\n",
       "Date                                                                 \n",
       "2024-08-09  104.716919  106.566333  103.397336  105.606637  290844200\n",
       "2024-08-12  108.985573  111.034929  106.226450  106.286428  325559900\n",
       "2024-08-13  116.103317  116.193293  111.544760  112.404489  312646700\n",
       "2024-08-14  118.042717  118.562549  114.033981  118.492572  339246400\n",
       "2024-08-15  122.821205  123.201082  117.432908  118.722501  318086700"
      ]
     },
     "execution_count": 2,
     "metadata": {},
     "output_type": "execute_result"
    }
   ],
   "source": [
    "import yfinance as yf\n",
    "import pandas as pd\n",
    "\n",
    "df = yf.download(\"NVDA\", period=\"1y\", interval=\"1d\", multi_level_index = False)\n",
    "df.head()"
   ]
  },
  {
   "cell_type": "code",
   "execution_count": 3,
   "id": "43146886-c831-4c01-b9d9-e788a6c0e9fc",
   "metadata": {},
   "outputs": [
    {
     "name": "stdout",
     "output_type": "stream",
     "text": [
      "Shape: (250, 5)\n",
      "\n",
      "=====Info:=====\n",
      "<class 'pandas.core.frame.DataFrame'>\n",
      "DatetimeIndex: 250 entries, 2024-08-09 to 2025-08-08\n",
      "Data columns (total 5 columns):\n",
      " #   Column  Non-Null Count  Dtype  \n",
      "---  ------  --------------  -----  \n",
      " 0   Close   250 non-null    float64\n",
      " 1   High    250 non-null    float64\n",
      " 2   Low     250 non-null    float64\n",
      " 3   Open    250 non-null    float64\n",
      " 4   Volume  250 non-null    int64  \n",
      "dtypes: float64(4), int64(1)\n",
      "memory usage: 11.7 KB\n",
      "\n",
      "=====Describe:=====\n",
      "            Close        High         Low        Open        Volume\n",
      "count  250.000000  250.000000  250.000000  250.000000  2.500000e+02\n",
      "mean   132.995044  135.218939  130.461616  132.947873  2.504219e+08\n",
      "std     18.833912   18.536872   19.158300   18.982187  9.660913e+07\n",
      "min     94.303452   99.433098   86.613986   87.453924  1.051570e+08\n",
      "25%    117.892822  120.254144  115.694807  118.036406  1.839686e+08\n",
      "50%    134.248329  136.315536  131.445305  134.109887  2.291447e+08\n",
      "75%    141.964325  144.360061  140.565126  142.494999  2.991678e+08\n",
      "max    182.699997  183.880005  180.399994  182.899994  8.188309e+08\n"
     ]
    }
   ],
   "source": [
    "# 1. 기본 정보 확인\n",
    "print(\"Shape:\", df.shape)\n",
    "print(\"\\n=====Info:=====\")\n",
    "df.info()\n",
    "print(\"\\n=====Describe:=====\")\n",
    "print(df.describe())"
   ]
  },
  {
   "cell_type": "code",
   "execution_count": 4,
   "id": "7bfe443c-9d06-4c37-9ea6-230954b8fe94",
   "metadata": {},
   "outputs": [
    {
     "name": "stdout",
     "output_type": "stream",
     "text": [
      "컬럼명: ['Close', 'High', 'Low', 'Open', 'Volume']\n",
      "데이터 타입:\n",
      "Close     float64\n",
      "High      float64\n",
      "Low       float64\n",
      "Open      float64\n",
      "Volume      int64\n",
      "dtype: object\n"
     ]
    }
   ],
   "source": [
    "# 2. 컬럼명과 데이터 타입\n",
    "print(\"컬럼명:\", df.columns.tolist())\n",
    "print(\"데이터 타입:\")\n",
    "print(df.dtypes)"
   ]
  },
  {
   "cell_type": "code",
   "execution_count": 5,
   "id": "62a4768d-82ba-4e9b-983e-dc357834122d",
   "metadata": {},
   "outputs": [
    {
     "name": "stdout",
     "output_type": "stream",
     "text": [
      "첫 5개 행:\n",
      "                 Close        High         Low        Open     Volume\n",
      "Date                                                                 \n",
      "2024-08-09  104.716919  106.566333  103.397336  105.606637  290844200\n",
      "2024-08-12  108.985573  111.034929  106.226450  106.286428  325559900\n",
      "2024-08-13  116.103317  116.193293  111.544760  112.404489  312646700\n",
      "2024-08-14  118.042717  118.562549  114.033981  118.492572  339246400\n",
      "2024-08-15  122.821205  123.201082  117.432908  118.722501  318086700\n",
      "\n",
      "마지막 5개 행:\n",
      "                 Close        High         Low        Open     Volume\n",
      "Date                                                                 \n",
      "2025-08-04  180.000000  180.199997  174.520004  175.160004  148174600\n",
      "2025-08-05  178.259995  180.259995  175.899994  179.619995  156407600\n",
      "2025-08-06  179.419998  179.899994  176.250000  176.330002  137192300\n",
      "2025-08-07  180.770004  183.880005  178.800003  181.570007  151878400\n",
      "2025-08-08  182.699997  183.300003  180.399994  181.550003  122765700\n"
     ]
    }
   ],
   "source": [
    "# 3. 첫 5개, 마지막 5개 행\n",
    "print(\"첫 5개 행:\")\n",
    "print(df.head())\n",
    "print(\"\\n마지막 5개 행:\")\n",
    "print(df.tail())"
   ]
  },
  {
   "cell_type": "code",
   "execution_count": 6,
   "id": "50ff725e-6ff3-4dbe-b3f4-853a3723ccac",
   "metadata": {},
   "outputs": [
    {
     "name": "stdout",
     "output_type": "stream",
     "text": [
      "종가 최댓값: 183\n",
      "종가 최솟값: 94\n",
      "종가 평균값: 133\n"
     ]
    }
   ],
   "source": [
    "# 4. 종가 기본 통계\n",
    "print(f\"종가 최댓값: {df['Close'].max():,.0f}\")\n",
    "print(f\"종가 최솟값: {df['Close'].min():,.0f}\")\n",
    "print(f\"종가 평균값: {df['Close'].mean():,.0f}\")"
   ]
  },
  {
   "cell_type": "code",
   "execution_count": 7,
   "id": "c038481c-cdaf-40c4-a398-4502f344125c",
   "metadata": {},
   "outputs": [
    {
     "name": "stdout",
     "output_type": "stream",
     "text": [
      "거래량 평균: 250,421,855\n",
      "거래량 중앙값: 229,144,700\n",
      "거래량 표준편차: 96,609,128\n"
     ]
    }
   ],
   "source": [
    "# 5. 거래량 통계\n",
    "print(f\"거래량 평균: {df['Volume'].mean():,.0f}\")\n",
    "print(f\"거래량 중앙값: {df['Volume'].median():,.0f}\")\n",
    "print(f\"거래량 표준편차: {df['Volume'].std():,.0f}\")"
   ]
  },
  {
   "cell_type": "code",
   "execution_count": 8,
   "id": "3582ca8c-15df-464d-bd8c-7eb25a150dfc",
   "metadata": {},
   "outputs": [
    {
     "name": "stdout",
     "output_type": "stream",
     "text": [
      "고가-저가 차이 평균: 5\n"
     ]
    }
   ],
   "source": [
    "# 6. 고가-저가 차이 평균\n",
    "high_low_diff = df['High'] - df['Low']\n",
    "print(f\"고가-저가 차이 평균: {high_low_diff.mean():,.0f}\")"
   ]
  },
  {
   "cell_type": "code",
   "execution_count": 9,
   "id": "f2b83eea-0872-4985-aa5a-fbcf90c34430",
   "metadata": {},
   "outputs": [
    {
     "name": "stdout",
     "output_type": "stream",
     "text": [
      "                 Close     Volume\n",
      "Date                             \n",
      "2024-08-09  104.716919  290844200\n",
      "2024-08-12  108.985573  325559900\n",
      "2024-08-13  116.103317  312646700\n",
      "2024-08-14  118.042717  339246400\n",
      "2024-08-15  122.821205  318086700\n"
     ]
    }
   ],
   "source": [
    "# 7. 특정 컬럼 선택\n",
    "selected_df = df[['Close', 'Volume']].copy()\n",
    "print(selected_df.head())"
   ]
  },
  {
   "cell_type": "code",
   "execution_count": 10,
   "id": "7c2fab92-9846-4ae4-ac3c-623093e3fc46",
   "metadata": {},
   "outputs": [
    {
     "name": "stdout",
     "output_type": "stream",
     "text": [
      "                 Close        High         Low        Open     Volume\n",
      "Date                                                                 \n",
      "2025-07-28  176.750000  177.000000  173.970001  174.020004  140023500\n",
      "2025-07-29  175.509995  179.380005  175.020004  177.960007  154077500\n",
      "2025-07-30  179.270004  179.889999  176.039993  176.509995  174312200\n",
      "2025-07-31  177.869995  183.300003  175.929993  182.899994  221685400\n",
      "2025-08-01  173.720001  176.539993  170.889999  174.089996  204529000\n",
      "2025-08-04  180.000000  180.199997  174.520004  175.160004  148174600\n",
      "2025-08-05  178.259995  180.259995  175.899994  179.619995  156407600\n",
      "2025-08-06  179.419998  179.899994  176.250000  176.330002  137192300\n",
      "2025-08-07  180.770004  183.880005  178.800003  181.570007  151878400\n",
      "2025-08-08  182.699997  183.300003  180.399994  181.550003  122765700\n"
     ]
    }
   ],
   "source": [
    "# 8. 최근 10개 데이터\n",
    "recent_10 = df.tail(10)\n",
    "print(recent_10)"
   ]
  },
  {
   "cell_type": "code",
   "execution_count": 11,
   "id": "9e7e50da-eb74-49e6-a37a-f5f307c58c54",
   "metadata": {},
   "outputs": [
    {
     "name": "stdout",
     "output_type": "stream",
     "text": [
      "종가 158.35 이상인 날: 25일\n"
     ]
    }
   ],
   "source": [
    "# 9. 종가 80,000원 이상 필터링\n",
    "threshold = df['Close'].quantile(0.90)\n",
    "high_price = df[df['Close'] >= threshold]\n",
    "print(f\"종가 {threshold:.2f} 이상인 날: {len(high_price)}일\")"
   ]
  },
  {
   "cell_type": "code",
   "execution_count": 12,
   "id": "108566b7-2101-4b72-b970-d81ce7f19efb",
   "metadata": {},
   "outputs": [
    {
     "name": "stdout",
     "output_type": "stream",
     "text": [
      "평균 거래량(250,421,855)보다 많았던 날: 99일\n"
     ]
    }
   ],
   "source": [
    "# 10. 평균 거래량보다 많은 날\n",
    "avg_volume = df['Volume'].mean()\n",
    "high_volume_days = df[df['Volume'] > avg_volume]\n",
    "print(f\"평균 거래량({avg_volume:,.0f})보다 많았던 날: {len(high_volume_days)}일\")"
   ]
  },
  {
   "cell_type": "code",
   "execution_count": 13,
   "id": "e1847475-1971-49cb-acfb-5ca396ae4e0f",
   "metadata": {},
   "outputs": [
    {
     "name": "stdout",
     "output_type": "stream",
     "text": [
      "Date\n",
      "2025-01-27    818830900\n",
      "2025-04-09    612918300\n",
      "2025-04-07    611041300\n",
      "2025-01-28    579666400\n",
      "2025-04-04    532273800\n",
      "Name: Volume, dtype: int64\n"
     ]
    }
   ],
   "source": [
    "# 11. 거래량 내림차순 정렬\n",
    "volume_sorted = df.sort_values('Volume', ascending=False)\n",
    "print(volume_sorted['Volume'].head())"
   ]
  },
  {
   "cell_type": "code",
   "execution_count": 14,
   "id": "4277e8af-bb1f-47eb-8100-62b37b3b27b3",
   "metadata": {},
   "outputs": [
    {
     "name": "stdout",
     "output_type": "stream",
     "text": [
      "                  Open       Close  Daily_Change\n",
      "Date                                            \n",
      "2024-08-09  105.606637  104.716919     -0.889718\n",
      "2024-08-12  106.286428  108.985573      2.699144\n",
      "2024-08-13  112.404489  116.103317      3.698828\n",
      "2024-08-14  118.492572  118.042717     -0.449855\n",
      "2024-08-15  118.722501  122.821205      4.098704\n"
     ]
    }
   ],
   "source": [
    "# 12. 일일 변동폭\n",
    "df['Daily_Change'] = df['Close'] - df['Open']\n",
    "print(df[['Open', 'Close', 'Daily_Change']].head())"
   ]
  },
  {
   "cell_type": "code",
   "execution_count": 15,
   "id": "9bb26b61-b46a-4b00-97f2-87e4a3805f69",
   "metadata": {},
   "outputs": [
    {
     "name": "stdout",
     "output_type": "stream",
     "text": [
      "                  Open       Close  Change_Rate\n",
      "Date                                           \n",
      "2024-08-09  105.606637  104.716919        -0.84\n",
      "2024-08-12  106.286428  108.985573         2.54\n",
      "2024-08-13  112.404489  116.103317         3.29\n",
      "2024-08-14  118.492572  118.042717        -0.38\n",
      "2024-08-15  118.722501  122.821205         3.45\n"
     ]
    }
   ],
   "source": [
    "# 13. 변동률\n",
    "df['Change_Rate'] = ((df['Close'] - df['Open']) / df['Open'] * 100).round(2)\n",
    "print(df[['Open', 'Close', 'Change_Rate']].head())"
   ]
  },
  {
   "cell_type": "code",
   "execution_count": 16,
   "id": "d85776a5-5a7b-47c2-b694-47d97b670477",
   "metadata": {},
   "outputs": [
    {
     "name": "stdout",
     "output_type": "stream",
     "text": [
      "            Year  Month    Weekday\n",
      "Date                              \n",
      "2024-08-09  2024      8     Friday\n",
      "2024-08-12  2024      8     Monday\n",
      "2024-08-13  2024      8    Tuesday\n",
      "2024-08-14  2024      8  Wednesday\n",
      "2024-08-15  2024      8   Thursday\n"
     ]
    }
   ],
   "source": [
    "# 14. 날짜 정보 추출\n",
    "df['Year'] = df.index.year\n",
    "df['Month'] = df.index.month\n",
    "df['Weekday'] = df.index.day_name()\n",
    "print(df[['Year', 'Month', 'Weekday']].head())"
   ]
  },
  {
   "cell_type": "code",
   "execution_count": 17,
   "id": "ffae89a3-d757-49e7-90ae-076ac78f7bf9",
   "metadata": {},
   "outputs": [
    {
     "name": "stdout",
     "output_type": "stream",
     "text": [
      "       Close      Volume\n",
      "Month                   \n",
      "1      136.0  5948400800\n",
      "2      130.0  4755230400\n",
      "3      115.0  6177950300\n",
      "4      105.0  6811006400\n",
      "5      127.0  4756803800\n",
      "6      146.0  3821296800\n",
      "7      168.0  3596804400\n",
      "8      138.0  6255620700\n",
      "9      115.0  6271163200\n",
      "10     134.0  5627917200\n",
      "11     142.0  4497414600\n",
      "12     137.0  4085855200\n"
     ]
    }
   ],
   "source": [
    "# 15. 월별 집계\n",
    "monthly_stats = df.groupby('Month').agg({\n",
    "    'Close': 'mean',\n",
    "    'Volume': 'sum'\n",
    "}).round(0)\n",
    "print(monthly_stats)"
   ]
  },
  {
   "cell_type": "code",
   "execution_count": 18,
   "id": "95980be4-135a-4c3d-b158-8f9a4a9919ef",
   "metadata": {},
   "outputs": [
    {
     "name": "stdout",
     "output_type": "stream",
     "text": [
      "            High         Low\n",
      "Year                        \n",
      "2024  152.854800  100.918105\n",
      "2025  183.880005   86.613986\n"
     ]
    }
   ],
   "source": [
    "# 16. 연도별 최고가, 최저가\n",
    "yearly_stats = df.groupby('Year').agg({\n",
    "    'High': 'max',\n",
    "    'Low': 'min'\n",
    "})\n",
    "print(yearly_stats)"
   ]
  },
  {
   "cell_type": "code",
   "execution_count": 19,
   "id": "046b3a54-54dd-4f10-88e1-e150eda11b00",
   "metadata": {},
   "outputs": [
    {
     "name": "stdout",
     "output_type": "stream",
     "text": [
      "최대 연속 상승일: 10일\n"
     ]
    }
   ],
   "source": [
    "# 17. 연속 상승일 계산\n",
    "df['Price_Up'] = (df['Close'] > df['Open']).astype(int)\n",
    "df['Consecutive_Up'] = df['Price_Up'].groupby((df['Price_Up'] != df['Price_Up'].shift()).cumsum()).cumsum()\n",
    "max_consecutive = df['Consecutive_Up'].max()\n",
    "print(f\"최대 연속 상승일: {max_consecutive}일\")"
   ]
  },
  {
   "cell_type": "code",
   "execution_count": null,
   "id": "102d5618-9de2-4fb8-9b75-0cace1cde834",
   "metadata": {},
   "outputs": [],
   "source": []
  }
 ],
 "metadata": {
  "kernelspec": {
   "display_name": "Python 3 (ipykernel)",
   "language": "python",
   "name": "python3"
  },
  "language_info": {
   "codemirror_mode": {
    "name": "ipython",
    "version": 3
   },
   "file_extension": ".py",
   "mimetype": "text/x-python",
   "name": "python",
   "nbconvert_exporter": "python",
   "pygments_lexer": "ipython3",
   "version": "3.10.18"
  }
 },
 "nbformat": 4,
 "nbformat_minor": 5
}
