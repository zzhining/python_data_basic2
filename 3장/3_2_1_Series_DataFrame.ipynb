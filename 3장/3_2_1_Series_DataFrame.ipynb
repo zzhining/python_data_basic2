{
  "nbformat": 4,
  "nbformat_minor": 0,
  "metadata": {
    "colab": {
      "private_outputs": true,
      "provenance": [],
      "authorship_tag": "ABX9TyNmUFN9HQW1087m+uzaMcVM",
      "include_colab_link": true
    },
    "kernelspec": {
      "name": "python3",
      "display_name": "Python 3"
    },
    "language_info": {
      "name": "python"
    }
  },
  "cells": [
    {
      "cell_type": "markdown",
      "metadata": {
        "id": "view-in-github",
        "colab_type": "text"
      },
      "source": [
        "<a href=\"https://colab.research.google.com/github/zzhining/python_data_basic2/blob/main/3%EC%9E%A5/3_2_1_Series_DataFrame.ipynb\" target=\"_parent\"><img src=\"https://colab.research.google.com/assets/colab-badge.svg\" alt=\"Open In Colab\"/></a>"
      ]
    },
    {
      "cell_type": "markdown",
      "source": [
        "# Series와 DataFrame 예시"
      ],
      "metadata": {
        "id": "-6EUuSSt88xg"
      }
    },
    {
      "cell_type": "code",
      "execution_count": null,
      "metadata": {
        "id": "oYGFxhkc8LoN"
      },
      "outputs": [],
      "source": [
        "import pandas as pd\n",
        "\n",
        "# Series 생성 (1차원 데이터)\n",
        "temperatures = pd.Series([23.5, 25.1, 19.8, 30.2],\n",
        "                        index=['월', '화', '수', '목'],\n",
        "                        name='온도')\n",
        "print(temperatures)"
      ]
    },
    {
      "cell_type": "code",
      "source": [
        "# DataFrame 생성 (2차원 데이터)\n",
        "weather_data = pd.DataFrame({\n",
        "    '온도': [23.5, 25.1, 19.8, 30.2],\n",
        "    '습도': [60, 65, 70, 55],\n",
        "    '강수량': [0, 0, 5.2, 0]\n",
        "}, index=['월', '화', '수', '목'])\n",
        "\n",
        "print(weather_data)"
      ],
      "metadata": {
        "id": "Tpi6Fj2u80bY"
      },
      "execution_count": null,
      "outputs": []
    },
    {
      "cell_type": "markdown",
      "source": [
        "# NumPy와 DataFrame 비교"
      ],
      "metadata": {
        "id": "dKsnu1E89C-N"
      }
    },
    {
      "cell_type": "code",
      "source": [
        "import numpy as np\n",
        "\n",
        "# 숫자 인덱스만 사용 가능\n",
        "data_array = np.array([\n",
        "    [23.5, 60, 0],\n",
        "    [25.1, 65, 0],\n",
        "    [19.8, 70, 5.2],\n",
        "    [30.2, 55, 0]\n",
        "])\n",
        "\n",
        "# 데이터 접근이 직관적이지 않음\n",
        "print(data_array[0][0])  # 첫 번째 날의 온도: 23.5"
      ],
      "metadata": {
        "id": "noidqPxa82Ld"
      },
      "execution_count": null,
      "outputs": []
    },
    {
      "cell_type": "code",
      "source": [
        "# 의미 있는 인덱스와 컬럼명 사용\n",
        "print(weather_data.loc['월', '온도'])    # 월요일 온도: 23.5\n",
        "print(weather_data['온도'])              # 온도 컬럼 전체\n",
        "print(weather_data.loc['수'])            # 수요일 데이터 전체"
      ],
      "metadata": {
        "id": "jJ_uM2vH85u6"
      },
      "execution_count": null,
      "outputs": []
    },
    {
      "cell_type": "code",
      "source": [],
      "metadata": {
        "id": "cBdi4-0R87kW"
      },
      "execution_count": null,
      "outputs": []
    }
  ]
}