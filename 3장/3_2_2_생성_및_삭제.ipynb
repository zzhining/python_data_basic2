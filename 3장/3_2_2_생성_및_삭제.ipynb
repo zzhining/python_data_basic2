{
  "nbformat": 4,
  "nbformat_minor": 0,
  "metadata": {
    "colab": {
      "private_outputs": true,
      "provenance": [],
      "toc_visible": true,
      "authorship_tag": "ABX9TyN7wytjyvUTnZaYU08DwjDf",
      "include_colab_link": true
    },
    "kernelspec": {
      "name": "python3",
      "display_name": "Python 3"
    },
    "language_info": {
      "name": "python"
    }
  },
  "cells": [
    {
      "cell_type": "markdown",
      "metadata": {
        "id": "view-in-github",
        "colab_type": "text"
      },
      "source": [
        "<a href=\"https://colab.research.google.com/github/zzhining/python_data_basic2/blob/main/3%EC%9E%A5/3_2_2_%EC%83%9D%EC%84%B1_%EB%B0%8F_%EC%82%AD%EC%A0%9C.ipynb\" target=\"_parent\"><img src=\"https://colab.research.google.com/assets/colab-badge.svg\" alt=\"Open In Colab\"/></a>"
      ]
    },
    {
      "cell_type": "markdown",
      "source": [
        "# 1. 데이터프레임 생성 방법"
      ],
      "metadata": {
        "id": "EN3wDCqiAsED"
      }
    },
    {
      "cell_type": "markdown",
      "source": [
        "## 1) 딕셔너리로부터 생성"
      ],
      "metadata": {
        "id": "d5OAzIG7BB30"
      }
    },
    {
      "cell_type": "code",
      "execution_count": null,
      "metadata": {
        "id": "Y3gx3_zFAeIq"
      },
      "outputs": [],
      "source": [
        "import pandas as pd\n",
        "import numpy as np\n",
        "\n",
        "# 딕셔너리로부터 생성\n",
        "product_dict = {\n",
        "    'product_name': ['노트북', '마우스', '키보드', '모니터'],\n",
        "    'price': [1200000, 25000, 80000, 350000],\n",
        "    'stock': [10, 50, 30, 15],\n",
        "    'category': ['전자제품', '주변기기', '주변기기', '전자제품']\n",
        "}\n",
        "\n",
        "df_from_dict = pd.DataFrame(product_dict)\n",
        "print(\"=== 딕셔너리로부터 생성 ===\")\n",
        "print(df_from_dict)"
      ]
    },
    {
      "cell_type": "markdown",
      "source": [
        "## 2) 리스트로부터 생성"
      ],
      "metadata": {
        "id": "uYrIuEc2BE3d"
      }
    },
    {
      "cell_type": "code",
      "source": [
        "# 리스트의 리스트로부터 생성\n",
        "product_list = [\n",
        "    ['노트북', 1200000, 10, '전자제품'],\n",
        "    ['마우스', 25000, 50, '주변기기'],\n",
        "    ['키보드', 80000, 30, '주변기기'],\n",
        "    ['모니터', 350000, 15, '전자제품']\n",
        "]\n",
        "\n",
        "df_from_list = pd.DataFrame(\n",
        "    product_list,\n",
        "    columns=['product_name', 'price', 'stock', 'category'],\n",
        "    index=['P001', 'P002', 'P003', 'P004']\n",
        ")\n",
        "print(\"=== 리스트로부터 생성 (인덱스 지정) ===\")\n",
        "print(df_from_list)"
      ],
      "metadata": {
        "id": "4_n7VI8sA4PY"
      },
      "execution_count": null,
      "outputs": []
    },
    {
      "cell_type": "markdown",
      "source": [
        "## 3) NumPy 배열로부터 생성"
      ],
      "metadata": {
        "id": "_cSAz8y7BIQN"
      }
    },
    {
      "cell_type": "code",
      "source": [
        "# NumPy 배열로부터 생성\n",
        "np_array = np.random.randint(1, 100, size=(4, 3))\n",
        "df_from_numpy = pd.DataFrame(\n",
        "    np_array,\n",
        "    columns=['A', 'B', 'C'],\n",
        "    index=['Row1', 'Row2', 'Row3', 'Row4']\n",
        ")\n",
        "print(\"=== NumPy 배열로부터 생성 ===\")\n",
        "print(df_from_numpy)"
      ],
      "metadata": {
        "id": "ZxMkxlAiA5Ix"
      },
      "execution_count": null,
      "outputs": []
    },
    {
      "cell_type": "markdown",
      "source": [
        "## 4) 빈 데이터프레임 생성 후 데이터 추가"
      ],
      "metadata": {
        "id": "O-xloF1fBLGM"
      }
    },
    {
      "cell_type": "code",
      "source": [
        "# 빈 데이터프레임 생성 후 데이터 추가\n",
        "empty_df = pd.DataFrame(columns=['name', 'age', 'city'])\n",
        "new_data = pd.DataFrame({\n",
        "    'name': ['김철수', '이영희'],\n",
        "    'age': [25, 30],\n",
        "    'city': ['서울', '부산']\n",
        "})\n",
        "df_combined = pd.concat([empty_df, new_data], ignore_index=True)\n",
        "print(\"=== 빈 데이터프레임에 데이터 추가 ===\")\n",
        "print(df_combined)"
      ],
      "metadata": {
        "id": "Ee0T2UeDA8QR"
      },
      "execution_count": null,
      "outputs": []
    },
    {
      "cell_type": "markdown",
      "source": [
        "# 2. 외부 파일에서 데이터 불러오기"
      ],
      "metadata": {
        "id": "d3wG9u_qDZDN"
      }
    },
    {
      "cell_type": "code",
      "source": [
        "# CSV 파일 불러오기\n",
        "file_name = 'https://raw.githubusercontent.com/zzhining/python_data_basic2/refs/heads/main/3%EC%9E%A5/sample_products.csv'\n",
        "df_csv = pd.read_csv(file_name, encoding='utf-8')\n",
        "print(\"=== CSV 파일 불러오기 ===\")\n",
        "print(df_csv)"
      ],
      "metadata": {
        "id": "dIy7gIciAvl1"
      },
      "execution_count": null,
      "outputs": []
    },
    {
      "cell_type": "code",
      "source": [
        "# 불러오기 시 조건 지정\n",
        "df_filtered = pd.read_csv(\n",
        "    file_name,\n",
        "    encoding='utf-8',\n",
        "    usecols=['product_name', 'price', 'category'],  # 특정 컬럼만\n",
        "    nrows=3  # 상위 3행만\n",
        ")\n",
        "print(\"=== 조건을 지정하여 불러오기 ===\")\n",
        "print(df_filtered)"
      ],
      "metadata": {
        "id": "JCUc304JCzGr"
      },
      "execution_count": null,
      "outputs": []
    },
    {
      "cell_type": "markdown",
      "source": [
        "# 3. 데이터 프레임 복사"
      ],
      "metadata": {
        "id": "uZAbZiEHEQpf"
      }
    },
    {
      "cell_type": "code",
      "source": [
        "# 원본 데이터프레임 생성\n",
        "original_df = pd.DataFrame({\n",
        "    'name': ['김철수', '이영희', '박민수'],\n",
        "    'age': [25, 30, 35],\n",
        "    'salary': [3000, 4000, 5000]\n",
        "})\n",
        "\n",
        "print(\"=== 원본 데이터프레임 ===\")\n",
        "print(original_df)\n",
        "\n",
        "# 깊은 복사\n",
        "deep_copy_df = original_df.copy()\n",
        "deep_copy_df.loc[0, 'salary'] = 3500  # 복사본 수정\n",
        "\n",
        "print(\"\\n=== 깊은 복사 후 수정 ===\")\n",
        "print(\"원본:\")\n",
        "print(original_df)\n",
        "print(\"복사본:\")\n",
        "print(deep_copy_df)\n",
        "\n",
        "# 참조 복사 (주의!)\n",
        "reference_df = original_df  # 같은 객체를 가리킴\n",
        "reference_df.loc[1, 'age'] = 31\n",
        "\n",
        "print(\"\\n=== 참조 복사 후 참조 데이터 변경 ===\")\n",
        "print(\"원본 (참조 복사로 인해 변경됨):\")\n",
        "print(original_df)"
      ],
      "metadata": {
        "id": "HFqB0jDjDuCx"
      },
      "execution_count": null,
      "outputs": []
    },
    {
      "cell_type": "markdown",
      "source": [
        "# 4. 행과 열 삭제"
      ],
      "metadata": {
        "id": "wGu0DYSrXwK6"
      }
    },
    {
      "cell_type": "code",
      "source": [
        "# 테스트용 데이터 생성\n",
        "test_data = pd.DataFrame({\n",
        "    'id': [1, 2, 3, 4, 5, 6],\n",
        "    'name': ['김철수', '이영희', '박민수', '김철수', '정수진', '이영희'],\n",
        "    'age': [25, 30, None, 25, 28, 30],\n",
        "    'city': ['서울', '부산', '대구', '서울', None, '부산'],\n",
        "    'salary': [3000, 4000, 5000, 3000, 3500, 4000],\n",
        "    'temp_col': ['임시', '임시', '임시', '임시', '임시', '임시']\n",
        "})\n",
        "\n",
        "print(\"=== 원본 데이터 ===\")\n",
        "print(test_data)"
      ],
      "metadata": {
        "id": "00MCVuoTEbGn"
      },
      "execution_count": null,
      "outputs": []
    },
    {
      "cell_type": "markdown",
      "source": [
        "## 1) 특정 열 삭제"
      ],
      "metadata": {
        "id": "JJ6T5iRUX0n4"
      }
    },
    {
      "cell_type": "code",
      "source": [
        "# 특정 열 삭제\n",
        "df_drop_col = test_data.drop('temp_col', axis=1)\n",
        "print(\"\\n=== 열 삭제 후 ===\")\n",
        "print(df_drop_col)"
      ],
      "metadata": {
        "id": "rz9hg8f8Xzg8"
      },
      "execution_count": null,
      "outputs": []
    },
    {
      "cell_type": "markdown",
      "source": [
        "## 2) 여러 열 삭제"
      ],
      "metadata": {
        "id": "NTDp8k04X5dQ"
      }
    },
    {
      "cell_type": "code",
      "source": [
        "# 여러 열 삭제\n",
        "df_drop_cols = test_data.drop(['temp_col', 'id'], axis=1)\n",
        "print(\"\\n=== 여러 열 삭제 후 ===\")\n",
        "print(df_drop_cols)"
      ],
      "metadata": {
        "id": "MDvner6aX3w7"
      },
      "execution_count": null,
      "outputs": []
    },
    {
      "cell_type": "markdown",
      "source": [
        "## 3) 특정 행 삭제 (인덱스 기준)"
      ],
      "metadata": {
        "id": "PkkErOgGX893"
      }
    },
    {
      "cell_type": "code",
      "source": [
        "# 특정 행 삭제 (인덱스 기준)\n",
        "df_drop_row = test_data.drop([0, 5], axis=0)\n",
        "print(\"\\n=== 특정 행 삭제 후 ===\")\n",
        "print(df_drop_row)"
      ],
      "metadata": {
        "id": "7yIKaF0XX76O"
      },
      "execution_count": null,
      "outputs": []
    },
    {
      "cell_type": "markdown",
      "source": [
        "## 4) 중복 행 삭제"
      ],
      "metadata": {
        "id": "d9Zukm7kYBs3"
      }
    },
    {
      "cell_type": "code",
      "source": [
        "# 중복 행 삭제\n",
        "df_no_duplicates = test_data.drop_duplicates(subset=['name', 'age'], keep='first')\n",
        "print(\"\\n=== 중복 행 삭제 후 (name, age 기준) ===\")\n",
        "print(df_no_duplicates)"
      ],
      "metadata": {
        "id": "40O6n8xCYAWj"
      },
      "execution_count": null,
      "outputs": []
    },
    {
      "cell_type": "markdown",
      "source": [
        "## 5) 결측치가 있는 행 삭제"
      ],
      "metadata": {
        "id": "SwaGHhzNYE9f"
      }
    },
    {
      "cell_type": "code",
      "source": [
        "# 결측치가 있는 행 삭제\n",
        "df_no_na = test_data.dropna()\n",
        "print(\"\\n=== 결측치 행 삭제 후 ===\")\n",
        "print(df_no_na)"
      ],
      "metadata": {
        "id": "pTv3qX7uYEPC"
      },
      "execution_count": null,
      "outputs": []
    },
    {
      "cell_type": "markdown",
      "source": [
        "## 6) 특정 컬럼의 결측치만 삭제"
      ],
      "metadata": {
        "id": "PrLVJVCIYI_X"
      }
    },
    {
      "cell_type": "code",
      "source": [
        "# 특정 컬럼의 결측치만 삭제\n",
        "df_no_na_age = test_data.dropna(subset=['age'])\n",
        "print(\"\\n=== age 컬럼 결측치 행 삭제 후 ===\")\n",
        "print(df_no_na_age)"
      ],
      "metadata": {
        "id": "hjWRnkO5YIZL"
      },
      "execution_count": null,
      "outputs": []
    },
    {
      "cell_type": "markdown",
      "source": [
        "# 5. 데이터프레임 저장"
      ],
      "metadata": {
        "id": "VRC3dqrXYOEM"
      }
    },
    {
      "cell_type": "code",
      "source": [
        "# 저장용 샘플 데이터 생성\n",
        "save_data = pd.DataFrame({\n",
        "    'product_id': ['P001', 'P002', 'P003', 'P004'],\n",
        "    'product_name': ['노트북', '마우스', '키보드', '모니터'],\n",
        "    'price': [1200000, 25000, 80000, 350000],\n",
        "    'category': ['전자제품', '주변기기', '주변기기', '전자제품'],\n",
        "    'reg_date': pd.date_range('2024-01-01', periods=4, freq='D')\n",
        "})\n",
        "\n",
        "print(\"=== 저장할 데이터 ===\")\n",
        "print(save_data)\n",
        "\n",
        "# CSV 파일로 저장\n",
        "save_data.to_csv('products_output.csv',\n",
        "                 index=False)  # 인덱스 제외\n",
        "print(\"\\n=== CSV 파일 저장 완료 ===\")"
      ],
      "metadata": {
        "id": "5tbLRwhcGXUn"
      },
      "execution_count": null,
      "outputs": []
    },
    {
      "cell_type": "code",
      "source": [],
      "metadata": {
        "id": "QL05usUQG0yt"
      },
      "execution_count": null,
      "outputs": []
    }
  ]
}