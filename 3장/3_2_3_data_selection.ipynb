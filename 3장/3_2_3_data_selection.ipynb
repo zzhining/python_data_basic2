{
  "nbformat": 4,
  "nbformat_minor": 0,
  "metadata": {
    "colab": {
      "private_outputs": true,
      "provenance": [],
      "authorship_tag": "ABX9TyPnfrkvuPFBxzLpO3+Qe9Qm",
      "include_colab_link": true
    },
    "kernelspec": {
      "name": "python3",
      "display_name": "Python 3"
    },
    "language_info": {
      "name": "python"
    }
  },
  "cells": [
    {
      "cell_type": "markdown",
      "metadata": {
        "id": "view-in-github",
        "colab_type": "text"
      },
      "source": [
        "<a href=\"https://colab.research.google.com/github/zzhining/python_data_basic2/blob/main/3%EC%9E%A5/3_2_3_data_selection.ipynb\" target=\"_parent\"><img src=\"https://colab.research.google.com/assets/colab-badge.svg\" alt=\"Open In Colab\"/></a>"
      ]
    },
    {
      "cell_type": "markdown",
      "source": [
        "# 1. 기본 인덱싱과 슬라이싱"
      ],
      "metadata": {
        "id": "JnPmJC2vbZ7C"
      }
    },
    {
      "cell_type": "code",
      "execution_count": null,
      "metadata": {
        "id": "pfSn6VyqbV_w"
      },
      "outputs": [],
      "source": [
        "import pandas as pd\n",
        "\n",
        "# 예시 데이터 생성\n",
        "sales_data = pd.DataFrame({\n",
        "    'product': ['노트북', '마우스', '키보드', '모니터', '스피커'],\n",
        "    'price': [1200000, 25000, 80000, 350000, 120000],\n",
        "    'quantity': [10, 50, 30, 15, 25],\n",
        "    'category': ['전자제품', '주변기기', '주변기기', '전자제품', '주변기기']\n",
        "})"
      ]
    },
    {
      "cell_type": "markdown",
      "source": [
        "## 1) 단일 컬럼 선택"
      ],
      "metadata": {
        "id": "iQPNeHlBbn_R"
      }
    },
    {
      "cell_type": "code",
      "source": [
        "# 단일 컬럼 선택\n",
        "product_series = sales_data['product']\n",
        "print(product_series)"
      ],
      "metadata": {
        "id": "u00ZYgVDbmC-"
      },
      "execution_count": null,
      "outputs": []
    },
    {
      "cell_type": "code",
      "source": [
        "# 다중 컬럼 선택\n",
        "price_quantity = sales_data[['product', 'price', 'quantity']]\n",
        "print(price_quantity)"
      ],
      "metadata": {
        "id": "OKEKdePEbeSn"
      },
      "execution_count": null,
      "outputs": []
    },
    {
      "cell_type": "code",
      "source": [
        "# 행 슬라이싱 (첫 3개 행 선택)\n",
        "first_three = sales_data[0:3]\n",
        "print(first_three)"
      ],
      "metadata": {
        "id": "dFP56KXybfuN"
      },
      "execution_count": null,
      "outputs": []
    },
    {
      "cell_type": "markdown",
      "source": [
        "# 2. 조건부 선택 (Boolean Indexing)"
      ],
      "metadata": {
        "id": "U4HPezAucAg6"
      }
    },
    {
      "cell_type": "markdown",
      "source": [
        "## 1) 가격이 100000원 이상인 제품 선택"
      ],
      "metadata": {
        "id": "IfTFUwzUcbaB"
      }
    },
    {
      "cell_type": "code",
      "source": [
        "# 가격이 100000원 이상인 제품 선택\n",
        "expensive_products = sales_data[sales_data['price'] >= 100000]\n",
        "print(expensive_products)"
      ],
      "metadata": {
        "id": "8Y4pdI5SbhLW"
      },
      "execution_count": null,
      "outputs": []
    },
    {
      "cell_type": "markdown",
      "source": [
        "## 2) query 메서드 사용"
      ],
      "metadata": {
        "id": "w6xdRabFcX0z"
      }
    },
    {
      "cell_type": "code",
      "source": [
        "# query 메서드 사용\n",
        "high_quantity = sales_data.query('quantity > 20')\n",
        "print(high_quantity)"
      ],
      "metadata": {
        "id": "VxudOMrucFAR"
      },
      "execution_count": null,
      "outputs": []
    },
    {
      "cell_type": "markdown",
      "source": [
        "# 3. loc과 iloc을 활용한 라벨/위치 기반 선택"
      ],
      "metadata": {
        "id": "V3zqdHJNce_Q"
      }
    },
    {
      "cell_type": "code",
      "source": [
        "# 인덱스 설정\n",
        "sales_data_indexed = sales_data.set_index('product')\n",
        "print(sales_data_indexed)"
      ],
      "metadata": {
        "id": "K_7CL5nPcq7v"
      },
      "execution_count": null,
      "outputs": []
    },
    {
      "cell_type": "markdown",
      "source": [
        "## 1) loc"
      ],
      "metadata": {
        "id": "qb-wh1UNcwGt"
      }
    },
    {
      "cell_type": "code",
      "source": [
        "# loc: 라벨 기반 선택\n",
        "notebook_info = sales_data_indexed.loc['노트북', 'price']\n",
        "print(f\"노트북 가격: {notebook_info}\")"
      ],
      "metadata": {
        "id": "oIpQdrC9cHXd"
      },
      "execution_count": null,
      "outputs": []
    },
    {
      "cell_type": "markdown",
      "source": [
        "## 2) loc - 여러 제품"
      ],
      "metadata": {
        "id": "gA0eub9Jc6fb"
      }
    },
    {
      "cell_type": "code",
      "source": [
        "# 여러 제품의 가격과 수량 선택\n",
        "selected_data = sales_data_indexed.loc[['노트북', '모니터'], ['price', 'quantity']]\n",
        "print(selected_data)"
      ],
      "metadata": {
        "id": "a1O2ZY-pcjUc"
      },
      "execution_count": null,
      "outputs": []
    },
    {
      "cell_type": "markdown",
      "source": [
        "## 3) iloc"
      ],
      "metadata": {
        "id": "Rpfz7SITc9dv"
      }
    },
    {
      "cell_type": "code",
      "source": [
        "# iloc: 위치 기반 선택 (첫 번째와 세 번째 행, 두 번째와 세 번째 컬럼)\n",
        "positional_data = sales_data.iloc[[0, 2], [1, 2]]\n",
        "print(positional_data)"
      ],
      "metadata": {
        "id": "gl5Xkms1ckPE"
      },
      "execution_count": null,
      "outputs": []
    },
    {
      "cell_type": "markdown",
      "source": [
        "# 4. 다중 조건 선택"
      ],
      "metadata": {
        "id": "Z4-kJxWrdmsz"
      }
    },
    {
      "cell_type": "markdown",
      "source": [
        "## 1) 가격이 50000원 이상이면서 수량이 20개 이상인 제품"
      ],
      "metadata": {
        "id": "M-rlxFHHdsTO"
      }
    },
    {
      "cell_type": "code",
      "source": [
        "# 가격이 50000원 이상이면서 수량이 20개 이상인 제품\n",
        "filtered_products = sales_data[(sales_data['price'] >= 50000) & (sales_data['quantity'] >= 20)]\n",
        "print(filtered_products)"
      ],
      "metadata": {
        "id": "V_4V2PRyclCo"
      },
      "execution_count": null,
      "outputs": []
    },
    {
      "cell_type": "markdown",
      "source": [
        "## 2) 전자제품이거나 가격이 30000원 이하인 제품"
      ],
      "metadata": {
        "id": "u9KwdCh3dxnf"
      }
    },
    {
      "cell_type": "code",
      "source": [
        "# 전자제품이거나 가격이 30000원 이하인 제품\n",
        "electronic_or_cheap = sales_data[(sales_data['category'] == '전자제품') | (sales_data['price'] <= 30000)]\n",
        "print(electronic_or_cheap)"
      ],
      "metadata": {
        "id": "XEU9YgiidqKJ"
      },
      "execution_count": null,
      "outputs": []
    },
    {
      "cell_type": "markdown",
      "source": [
        "# 5. 그룹별 데이터 선택"
      ],
      "metadata": {
        "id": "zebeYPtkeGhC"
      }
    },
    {
      "cell_type": "code",
      "source": [
        "# 카테고리별 그룹화 후 전자제품 그룹만 선택\n",
        "electronics_group = sales_data.groupby('category').get_group('전자제품')\n",
        "print(electronics_group)"
      ],
      "metadata": {
        "id": "zvc94gh6dr0a"
      },
      "execution_count": null,
      "outputs": []
    },
    {
      "cell_type": "code",
      "source": [
        "# 각 카테고리별 평균 가격을 원본 데이터에 추가\n",
        "sales_data['category_avg_price'] = sales_data.groupby('category')['price'].transform('mean')\n",
        "print(sales_data[['product', 'category', 'price', 'category_avg_price']])"
      ],
      "metadata": {
        "id": "qM0p2w9beKfS"
      },
      "execution_count": null,
      "outputs": []
    },
    {
      "cell_type": "markdown",
      "source": [
        "# 6. 시계열 데이터 선택"
      ],
      "metadata": {
        "id": "6DFOEaKQeoWV"
      }
    },
    {
      "cell_type": "code",
      "source": [
        "# 시계열 데이터 생성\n",
        "dates = pd.date_range('2024-01-01', periods=5, freq='D')\n",
        "time_series_data = pd.DataFrame({\n",
        "    'date': dates,\n",
        "    'sales': [100, 150, 200, 120, 180],\n",
        "    'returns': [5, 8, 12, 6, 9]\n",
        "})\n",
        "time_series_data.set_index('date', inplace=True)\n",
        "\n",
        "print(time_series_data)"
      ],
      "metadata": {
        "id": "S20ga6dFeTXQ"
      },
      "execution_count": null,
      "outputs": []
    },
    {
      "cell_type": "markdown",
      "source": [
        "## 1) 특정 날짜 범위 선택"
      ],
      "metadata": {
        "id": "TKYYdD4JewdZ"
      }
    },
    {
      "cell_type": "code",
      "source": [
        "# 특정 날짜 범위 선택\n",
        "jan_1_to_3 = time_series_data.loc['2024-01-01':'2024-01-03']\n",
        "print(jan_1_to_3)"
      ],
      "metadata": {
        "id": "cmECufsiescA"
      },
      "execution_count": null,
      "outputs": []
    },
    {
      "cell_type": "markdown",
      "source": [
        "## 2) 연도 기준 필터링"
      ],
      "metadata": {
        "id": "H1HmuLTBe3oe"
      }
    },
    {
      "cell_type": "code",
      "source": [
        "# 2024년 데이터만 선택 (연도 기준 필터링)\n",
        "year_2024 = time_series_data[time_series_data.index.year == 2024]\n",
        "print(year_2024)"
      ],
      "metadata": {
        "id": "sQLXD6ZIeuAL"
      },
      "execution_count": null,
      "outputs": []
    },
    {
      "cell_type": "code",
      "source": [],
      "metadata": {
        "id": "QAicqjl5evkM"
      },
      "execution_count": null,
      "outputs": []
    }
  ]
}