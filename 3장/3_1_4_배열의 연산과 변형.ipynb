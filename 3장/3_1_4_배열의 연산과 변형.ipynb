{
 "cells": [
  {
   "cell_type": "markdown",
   "metadata": {
    "id": "sABU2YRush2G"
   },
   "source": [
    "# 벡터화 연산 (Vectorized Operations)"
   ]
  },
  {
   "cell_type": "code",
   "execution_count": 1,
   "metadata": {
    "colab": {
     "base_uri": "https://localhost:8080/"
    },
    "id": "2FOG25ubsh2H",
    "outputId": "71cf8c5c-a6b3-43a8-87e4-4507f615d1d9"
   },
   "outputs": [
    {
     "data": {
      "text/plain": [
       "array([1, 2, 3, 4])"
      ]
     },
     "execution_count": 1,
     "metadata": {},
     "output_type": "execute_result"
    }
   ],
   "source": [
    "import numpy as np\n",
    "\n",
    "arr = np.arange(1, 5)\n",
    "arr"
   ]
  },
  {
   "cell_type": "code",
   "execution_count": 2,
   "metadata": {
    "colab": {
     "base_uri": "https://localhost:8080/"
    },
    "id": "du5B4Sngsh2H",
    "outputId": "9ebd3d3e-3318-4260-a022-ed7535396785"
   },
   "outputs": [
    {
     "data": {
      "text/plain": [
       "array([3, 4, 5, 6])"
      ]
     },
     "execution_count": 2,
     "metadata": {},
     "output_type": "execute_result"
    }
   ],
   "source": [
    "arr + 2"
   ]
  },
  {
   "cell_type": "code",
   "execution_count": 3,
   "metadata": {
    "colab": {
     "base_uri": "https://localhost:8080/"
    },
    "id": "as5UD38Msh2H",
    "outputId": "64b5d420-348c-440d-ffd7-4ac3992c0312"
   },
   "outputs": [
    {
     "data": {
      "text/plain": [
       "array([2, 4, 6, 8])"
      ]
     },
     "execution_count": 3,
     "metadata": {},
     "output_type": "execute_result"
    }
   ],
   "source": [
    "arr * 2"
   ]
  },
  {
   "cell_type": "code",
   "execution_count": 4,
   "metadata": {
    "colab": {
     "base_uri": "https://localhost:8080/"
    },
    "id": "nsLejLTUsh2H",
    "outputId": "b05d4340-8e8d-43d6-99f9-e03ba2ae7456"
   },
   "outputs": [
    {
     "data": {
      "text/plain": [
       "[1, 2, 3, 4]"
      ]
     },
     "execution_count": 4,
     "metadata": {},
     "output_type": "execute_result"
    }
   ],
   "source": [
    "list = [1, 2, 3, 4]\n",
    "list"
   ]
  },
  {
   "cell_type": "code",
   "execution_count": 5,
   "metadata": {
    "colab": {
     "base_uri": "https://localhost:8080/"
    },
    "id": "oL8Fu34Hsh2H",
    "outputId": "630e5779-bc3c-4da9-a125-6a53d5df6056"
   },
   "outputs": [
    {
     "data": {
      "text/plain": [
       "[1, 2, 3, 4, 1, 2, 3, 4]"
      ]
     },
     "execution_count": 5,
     "metadata": {},
     "output_type": "execute_result"
    }
   ],
   "source": [
    "list * 2"
   ]
  },
  {
   "cell_type": "code",
   "execution_count": 6,
   "metadata": {
    "colab": {
     "base_uri": "https://localhost:8080/"
    },
    "id": "26n9EwMish2I",
    "outputId": "05aac017-2f20-42f1-9e4c-139ce5041157"
   },
   "outputs": [
    {
     "data": {
      "text/plain": [
       "array([5, 6, 7, 8])"
      ]
     },
     "execution_count": 6,
     "metadata": {},
     "output_type": "execute_result"
    }
   ],
   "source": [
    "arr1 = np.arange(5, 9)\n",
    "arr1"
   ]
  },
  {
   "cell_type": "code",
   "execution_count": 7,
   "metadata": {
    "colab": {
     "base_uri": "https://localhost:8080/"
    },
    "id": "Y9zd0nI4sh2I",
    "outputId": "8df17ba2-65f4-480f-e196-22ce6125b22a"
   },
   "outputs": [
    {
     "data": {
      "text/plain": [
       "array([ 6,  8, 10, 12])"
      ]
     },
     "execution_count": 7,
     "metadata": {},
     "output_type": "execute_result"
    }
   ],
   "source": [
    "arr + arr1"
   ]
  },
  {
   "cell_type": "code",
   "execution_count": 8,
   "metadata": {
    "colab": {
     "base_uri": "https://localhost:8080/"
    },
    "id": "PZ4T-JeSsh2I",
    "outputId": "67219062-58e1-4e6b-b078-110594d091d5"
   },
   "outputs": [
    {
     "data": {
      "text/plain": [
       "[1, 2, 3, 4, 5, 6, 7, 8]"
      ]
     },
     "execution_count": 8,
     "metadata": {},
     "output_type": "execute_result"
    }
   ],
   "source": [
    "list1 = [5, 6, 7, 8]\n",
    "list + list1"
   ]
  },
  {
   "cell_type": "markdown",
   "metadata": {
    "id": "YcmO8cLish2I"
   },
   "source": [
    "# 주요 산술 연산 함수\n"
   ]
  },
  {
   "cell_type": "markdown",
   "metadata": {},
   "source": [
    "## 수학 함수들"
   ]
  },
  {
   "cell_type": "code",
   "execution_count": 9,
   "metadata": {},
   "outputs": [
    {
     "name": "stdout",
     "output_type": "stream",
     "text": [
      "[ 1  4  9 16]\n",
      "[1.         1.41421356 1.73205081 2.        ]\n",
      "[ 2.71828183  7.3890561  20.08553692 54.59815003]\n",
      "[0.         0.69314718 1.09861229 1.38629436]\n"
     ]
    }
   ],
   "source": [
    "# 제곱\n",
    "print(np.square(arr))  # array([ 1,  4,  9, 16])\n",
    "\n",
    "# 제곱근(루트)\n",
    "print(np.sqrt(arr))    # array([1.        , 1.41421356, 1.73205081, 2.        ])\n",
    "\n",
    "# exp(지수승)\n",
    "print(np.exp(arr))     # array([ 2.71828183,  7.3890561 , 20.08553692, 54.59815003])\n",
    "\n",
    "# log\n",
    "print(np.log(arr))     # array([0.        , 0.69314718, 1.09861229, 1.38629436])"
   ]
  },
  {
   "cell_type": "markdown",
   "metadata": {},
   "source": [
    "## 배열 연산 함수들"
   ]
  },
  {
   "cell_type": "code",
   "execution_count": 10,
   "metadata": {},
   "outputs": [
    {
     "name": "stdout",
     "output_type": "stream",
     "text": [
      "[ 6  8 10 12]\n",
      "10\n",
      "[ 1  3  6 10]\n"
     ]
    }
   ],
   "source": [
    "# 더하기\n",
    "print(np.add(arr, arr1))  # arr + arr1과 동일. array([ 6,  8, 10, 12])\n",
    "\n",
    "# 합계\n",
    "print(np.sum(arr))        # 10\n",
    "\n",
    "# 누적합\n",
    "print(np.cumsum(arr))     # array([ 1,  3,  6, 10])\n"
   ]
  },
  {
   "cell_type": "markdown",
   "metadata": {},
   "source": [
    "## 통계 함수들"
   ]
  },
  {
   "cell_type": "code",
   "execution_count": 11,
   "metadata": {},
   "outputs": [
    {
     "name": "stdout",
     "output_type": "stream",
     "text": [
      "2.5\n",
      "1.25\n",
      "1.118033988749895\n",
      "1\n",
      "4\n",
      "0\n",
      "3\n"
     ]
    }
   ],
   "source": [
    "# 평균\n",
    "print(np.mean(arr))     # 2.5\n",
    "\n",
    "# 편차\n",
    "print(np.var(arr))      # 1.25\n",
    "\n",
    "# 표준편차\n",
    "print(np.std(arr))      # 1.118033988749895\n",
    "\n",
    "# 최솟값\n",
    "print(np.min(arr))      # 1\n",
    "\n",
    "# 최댓값\n",
    "print(np.max(arr))      # 4\n",
    "\n",
    "# 최솟값의 인덱스\n",
    "print(np.argmin(arr))   # 0\n",
    "\n",
    "# 최댓값의 인덱스\n",
    "print(np.argmax(arr))   # 3"
   ]
  },
  {
   "cell_type": "markdown",
   "metadata": {},
   "source": [
    "# 배열의 변형 (Transformation)"
   ]
  },
  {
   "cell_type": "markdown",
   "metadata": {},
   "source": [
    "## Transpose (축 변환)"
   ]
  },
  {
   "cell_type": "code",
   "execution_count": 12,
   "metadata": {},
   "outputs": [
    {
     "name": "stdout",
     "output_type": "stream",
     "text": [
      "[[0 1 2 3 4]\n",
      " [5 6 7 8 9]]\n"
     ]
    }
   ],
   "source": [
    "# 2차원 배열의 축 변환\n",
    "arr = np.arange(10).reshape(2, 5)\n",
    "print(arr)"
   ]
  },
  {
   "cell_type": "code",
   "execution_count": 13,
   "metadata": {},
   "outputs": [
    {
     "name": "stdout",
     "output_type": "stream",
     "text": [
      "[[0 5]\n",
      " [1 6]\n",
      " [2 7]\n",
      " [3 8]\n",
      " [4 9]]\n"
     ]
    }
   ],
   "source": [
    "print(arr.transpose())"
   ]
  },
  {
   "cell_type": "code",
   "execution_count": 14,
   "metadata": {},
   "outputs": [
    {
     "name": "stdout",
     "output_type": "stream",
     "text": [
      "[[0 5]\n",
      " [1 6]\n",
      " [2 7]\n",
      " [3 8]\n",
      " [4 9]]\n"
     ]
    }
   ],
   "source": [
    "print(arr.T)  # arr.transpose()와 동일"
   ]
  },
  {
   "cell_type": "code",
   "execution_count": 15,
   "metadata": {},
   "outputs": [
    {
     "name": "stdout",
     "output_type": "stream",
     "text": [
      "[[[ 0  1  2]\n",
      "  [ 3  4  5]\n",
      "  [ 6  7  8]]\n",
      "\n",
      " [[ 9 10 11]\n",
      "  [12 13 14]\n",
      "  [15 16 17]]\n",
      "\n",
      " [[18 19 20]\n",
      "  [21 22 23]\n",
      "  [24 25 26]]]\n"
     ]
    }
   ],
   "source": [
    "# 3차원 배열의 축 변환\n",
    "arr3d = np.arange(27).reshape(3, 3, 3)\n",
    "print(arr3d)"
   ]
  },
  {
   "cell_type": "code",
   "execution_count": 16,
   "metadata": {},
   "outputs": [
    {
     "name": "stdout",
     "output_type": "stream",
     "text": [
      "[[[ 0  1  2]\n",
      "  [ 9 10 11]\n",
      "  [18 19 20]]\n",
      "\n",
      " [[ 3  4  5]\n",
      "  [12 13 14]\n",
      "  [21 22 23]]\n",
      "\n",
      " [[ 6  7  8]\n",
      "  [15 16 17]\n",
      "  [24 25 26]]]\n"
     ]
    }
   ],
   "source": [
    "# 특정 축 순서 지정\n",
    "print(arr3d.transpose(1, 0, 2))"
   ]
  },
  {
   "cell_type": "markdown",
   "metadata": {},
   "source": [
    "# 고급 연산 기법"
   ]
  },
  {
   "cell_type": "markdown",
   "metadata": {
    "id": "iWQEyC5ASPPa"
   },
   "source": [
    "## 브로드캐스팅\n",
    "\n",
    "shape이 다른 다차원배열 또는 스칼라 값 사이에서 연산이 가능\n",
    "<br>\n",
    "![image.png](https://www.astroml.org/_images/fig_broadcast_visual_1.png)"
   ]
  },
  {
   "cell_type": "code",
   "execution_count": 17,
   "metadata": {
    "colab": {
     "base_uri": "https://localhost:8080/"
    },
    "id": "54ER0ttEsh2P",
    "outputId": "1a9690f1-3814-47d3-ee4d-dd5d1882894f"
   },
   "outputs": [
    {
     "name": "stdout",
     "output_type": "stream",
     "text": [
      "[[11 22 33]\n",
      " [14 25 36]]\n"
     ]
    }
   ],
   "source": [
    "# 2차원 배열과 1차원 배열의 연산\n",
    "arr_2d = np.array([[1, 2, 3], [4, 5, 6]])\n",
    "arr_1d = np.array([10, 20, 30])\n",
    "\n",
    "result = arr_2d + arr_1d\n",
    "print(result)"
   ]
  },
  {
   "cell_type": "markdown",
   "metadata": {
    "id": "jQbwOmmgsh2P"
   },
   "source": [
    "## 축 지정 연산"
   ]
  },
  {
   "cell_type": "code",
   "execution_count": 18,
   "metadata": {
    "id": "_EBlEyA6sh2P"
   },
   "outputs": [
    {
     "name": "stdout",
     "output_type": "stream",
     "text": [
      "[5 7 9]\n",
      "[ 6 15]\n",
      "21\n"
     ]
    }
   ],
   "source": [
    "arr_2d = np.array([[1, 2, 3], [4, 5, 6]])\n",
    "\n",
    "# 열 방향 합계 (axis=0)\n",
    "print(np.sum(arr_2d, axis=0))  # [5 7 9]\n",
    "\n",
    "# 행 방향 합계 (axis=1)\n",
    "print(np.sum(arr_2d, axis=1))  # [ 6 15]\n",
    "\n",
    "# 전체 합계\n",
    "print(np.sum(arr_2d))          # 21"
   ]
  },
  {
   "cell_type": "markdown",
   "metadata": {
    "colab": {
     "base_uri": "https://localhost:8080/"
    },
    "id": "DXVuzigDsh2Q",
    "outputId": "bba5a930-558e-4acd-db61-ec60dbe0ffad"
   },
   "source": [
    "# 조건부 연산"
   ]
  },
  {
   "cell_type": "code",
   "execution_count": 19,
   "metadata": {
    "id": "zqnc3rVMsh2Q"
   },
   "outputs": [
    {
     "name": "stdout",
     "output_type": "stream",
     "text": [
      "[1 2 3 4 5]\n",
      "[1 0 3 0 5]\n"
     ]
    }
   ],
   "source": [
    "# 조건에 따른 연산\n",
    "arr = np.array([1, -2, 3, -4, 5])\n",
    "\n",
    "# 절댓값\n",
    "print(np.abs(arr))      # [1 2 3 4 5]\n",
    "\n",
    "# 조건부 연산 (np.where)\n",
    "result = np.where(arr > 0, arr, 0)  # 양수는 그대로, 음수는 0으로\n",
    "print(result)           # [1 0 3 0 5]"
   ]
  },
  {
   "cell_type": "markdown",
   "metadata": {},
   "source": [
    "# 실무 활용 예시"
   ]
  },
  {
   "cell_type": "markdown",
   "metadata": {},
   "source": [
    "## 정규화 (Normalization)"
   ]
  },
  {
   "cell_type": "code",
   "execution_count": 20,
   "metadata": {},
   "outputs": [
    {
     "name": "stdout",
     "output_type": "stream",
     "text": [
      "[0.   0.25 0.5  0.75 1.  ]\n",
      "[-1.41421356 -0.70710678  0.          0.70710678  1.41421356]\n"
     ]
    }
   ],
   "source": [
    "# 데이터 정규화\n",
    "data = np.array([10, 20, 30, 40, 50])\n",
    "\n",
    "# Min-Max 정규화\n",
    "normalized = (data - np.min(data)) / (np.max(data) - np.min(data))\n",
    "print(normalized)  # [0.   0.25 0.5  0.75 1.  ]\n",
    "\n",
    "# Z-score 정규화\n",
    "z_score = (data - np.mean(data)) / np.std(data)\n",
    "print(z_score)\n"
   ]
  },
  {
   "cell_type": "markdown",
   "metadata": {},
   "source": [
    "## 이동평균 계산"
   ]
  },
  {
   "cell_type": "code",
   "execution_count": 21,
   "metadata": {},
   "outputs": [
    {
     "name": "stdout",
     "output_type": "stream",
     "text": [
      "[100.         101.66666667 102.         102.33333333 101.        ]\n"
     ]
    }
   ],
   "source": [
    "# 간단한 이동평균\n",
    "prices = np.array([100, 102, 98, 105, 103, 99, 101])\n",
    "\n",
    "# 3일 이동평균\n",
    "def moving_average(data, window):\n",
    "    return np.convolve(data, np.ones(window)/window, mode='valid')\n",
    "\n",
    "ma_3 = moving_average(prices, 3)\n",
    "print(ma_3)  # [100.     101.667  102.     102.333  101.     100.333]"
   ]
  },
  {
   "cell_type": "code",
   "execution_count": null,
   "metadata": {},
   "outputs": [],
   "source": []
  },
  {
   "cell_type": "code",
   "execution_count": null,
   "metadata": {},
   "outputs": [],
   "source": []
  }
 ],
 "metadata": {
  "colab": {
   "include_colab_link": true,
   "provenance": [],
   "toc_visible": true
  },
  "kernelspec": {
   "display_name": "Python 3 (ipykernel)",
   "language": "python",
   "name": "python3"
  },
  "language_info": {
   "codemirror_mode": {
    "name": "ipython",
    "version": 3
   },
   "file_extension": ".py",
   "mimetype": "text/x-python",
   "name": "python",
   "nbconvert_exporter": "python",
   "pygments_lexer": "ipython3",
   "version": "3.10.18"
  },
  "toc": {
   "base_numbering": 1,
   "nav_menu": {},
   "number_sections": false,
   "sideBar": true,
   "skip_h1_title": false,
   "title_cell": "Table of Contents",
   "title_sidebar": "Contents",
   "toc_cell": false,
   "toc_position": {
    "height": "calc(100% - 180px)",
    "left": "10px",
    "top": "150px",
    "width": "199.825px"
   },
   "toc_section_display": true,
   "toc_window_display": true
  }
 },
 "nbformat": 4,
 "nbformat_minor": 4
}
