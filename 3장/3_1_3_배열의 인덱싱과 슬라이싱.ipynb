{
 "cells": [
  {
   "cell_type": "markdown",
   "metadata": {
    "id": "DfG-CsG0sh2D"
   },
   "source": [
    "# 기본 인덱싱\n",
    " - 슬라이스 색인\n",
    " - 파이썬의 리스트처럼 인덱스로  슬라이싱 가능"
   ]
  },
  {
   "cell_type": "markdown",
   "metadata": {
    "id": "X7ImWhU_r6RK"
   },
   "source": [
    "![image-20230120093721143.png](data:image/png;base64,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)"
   ]
  },
  {
   "cell_type": "markdown",
   "metadata": {},
   "source": [
    "## 1차원 배열의 인덱싱"
   ]
  },
  {
   "cell_type": "code",
   "execution_count": 1,
   "metadata": {
    "colab": {
     "base_uri": "https://localhost:8080/"
    },
    "id": "fnv0tONfsh2C",
    "outputId": "41fb5715-6af1-489b-97df-8ae78afff820"
   },
   "outputs": [
    {
     "data": {
      "text/plain": [
       "array([ 0,  1,  2,  3,  4,  5,  6,  7,  8,  9, 10, 11, 12, 13, 14, 15])"
      ]
     },
     "execution_count": 1,
     "metadata": {},
     "output_type": "execute_result"
    }
   ],
   "source": [
    "import numpy as np\n",
    "arr = np.arange(16)\n",
    "arr"
   ]
  },
  {
   "cell_type": "code",
   "execution_count": 2,
   "metadata": {
    "colab": {
     "base_uri": "https://localhost:8080/"
    },
    "id": "c2PvRh61sh2C",
    "outputId": "0d77bd8e-7d21-42ad-c2af-e84b2f653cbb"
   },
   "outputs": [
    {
     "data": {
      "text/plain": [
       "5"
      ]
     },
     "execution_count": 2,
     "metadata": {},
     "output_type": "execute_result"
    }
   ],
   "source": [
    "# 기본 인덱스\n",
    "arr[5]"
   ]
  },
  {
   "cell_type": "code",
   "execution_count": 3,
   "metadata": {
    "colab": {
     "base_uri": "https://localhost:8080/"
    },
    "id": "Y3olgZaqsh2C",
    "outputId": "4ceda1fa-3830-4596-ba78-fdcc7c590f23"
   },
   "outputs": [
    {
     "data": {
      "text/plain": [
       "15"
      ]
     },
     "execution_count": 3,
     "metadata": {},
     "output_type": "execute_result"
    }
   ],
   "source": [
    "# 마이너스 인덱스\n",
    "arr[-1]"
   ]
  },
  {
   "cell_type": "code",
   "execution_count": 4,
   "metadata": {
    "colab": {
     "base_uri": "https://localhost:8080/"
    },
    "id": "SWKYKmQ2sh2C",
    "outputId": "82aae6b4-8f27-4078-d64e-41db43ac7ab2"
   },
   "outputs": [
    {
     "data": {
      "text/plain": [
       "array([5, 6, 7])"
      ]
     },
     "execution_count": 4,
     "metadata": {},
     "output_type": "execute_result"
    }
   ],
   "source": [
    "# 인덱스 범위\n",
    "arr[5:8]"
   ]
  },
  {
   "cell_type": "code",
   "execution_count": 5,
   "metadata": {
    "colab": {
     "base_uri": "https://localhost:8080/"
    },
    "id": "JcrBOODmsh2D",
    "outputId": "988928db-ded4-414a-e44f-73b498cfa32a"
   },
   "outputs": [
    {
     "data": {
      "text/plain": [
       "array([  0,   1,   2,   3,   4, 100,   6,   7,   8,   9,  10,  11,  12,\n",
       "        13,  14,  15])"
      ]
     },
     "execution_count": 5,
     "metadata": {},
     "output_type": "execute_result"
    }
   ],
   "source": [
    "# 값 할당\n",
    "arr[5] = 100\n",
    "arr"
   ]
  },
  {
   "cell_type": "code",
   "execution_count": 6,
   "metadata": {
    "colab": {
     "base_uri": "https://localhost:8080/"
    },
    "id": "OTVA7DoZsh2D",
    "outputId": "156ab6f5-f359-47a5-d491-205f154bdc5b"
   },
   "outputs": [
    {
     "data": {
      "text/plain": [
       "array([  0,   1,   2,   3,   4, 100, 200, 201,   8,   9,  10,  11,  12,\n",
       "        13,  14,  15])"
      ]
     },
     "execution_count": 6,
     "metadata": {},
     "output_type": "execute_result"
    }
   ],
   "source": [
    "# 여러 값 할당\n",
    "arr[6:8] = [200, 201]\n",
    "arr"
   ]
  },
  {
   "cell_type": "markdown",
   "metadata": {},
   "source": [
    "## 다차원 배열의 인덱싱"
   ]
  },
  {
   "cell_type": "markdown",
   "metadata": {
    "id": "HOKqiuWo_MA-"
   },
   "source": [
    "다차원 배열은 인덱스를 여러 개 넘겨서 다차원으로 슬라이싱하는 것이 가능"
   ]
  },
  {
   "cell_type": "markdown",
   "metadata": {
    "id": "N9RzYPhKrypA"
   },
   "source": [
    "![image-20230120093737890.png](data:image/png;base64,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)"
   ]
  },
  {
   "cell_type": "code",
   "execution_count": 7,
   "metadata": {
    "colab": {
     "base_uri": "https://localhost:8080/"
    },
    "id": "SbloslZ2sh2D",
    "outputId": "ca71955d-7041-4892-c5c8-ce43b487492e"
   },
   "outputs": [
    {
     "data": {
      "text/plain": [
       "array([[ 0,  1,  2,  3],\n",
       "       [ 4,  5,  6,  7],\n",
       "       [ 8,  9, 10, 11],\n",
       "       [12, 13, 14, 15]])"
      ]
     },
     "execution_count": 7,
     "metadata": {},
     "output_type": "execute_result"
    }
   ],
   "source": [
    "# 다차원 배열\n",
    "arr2 = np.arange(16).reshape(4,4) # 메쏘드 체인\n",
    "arr2"
   ]
  },
  {
   "cell_type": "markdown",
   "metadata": {
    "id": "1RKB4fVl_ft8"
   },
   "source": [
    "다차원 배열을 정수 인덱스를 사용해서 슬라이싱하면 한 차원 낮은 슬라이스를 반환"
   ]
  },
  {
   "cell_type": "code",
   "execution_count": 8,
   "metadata": {
    "colab": {
     "base_uri": "https://localhost:8080/"
    },
    "id": "Yle-XWJIsh2E",
    "outputId": "bc029aa9-2173-4b56-b847-bce1d0c29592"
   },
   "outputs": [
    {
     "data": {
      "text/plain": [
       "array([4, 5, 6, 7])"
      ]
     },
     "execution_count": 8,
     "metadata": {},
     "output_type": "execute_result"
    }
   ],
   "source": [
    "arr2[1]"
   ]
  },
  {
   "cell_type": "code",
   "execution_count": 9,
   "metadata": {
    "colab": {
     "base_uri": "https://localhost:8080/"
    },
    "id": "HiQj2fLbsh2E",
    "outputId": "44cfb0a9-6e20-4e84-ec2e-f175659c8d88"
   },
   "outputs": [
    {
     "data": {
      "text/plain": [
       "5"
      ]
     },
     "execution_count": 9,
     "metadata": {},
     "output_type": "execute_result"
    }
   ],
   "source": [
    "arr2[1][1]"
   ]
  },
  {
   "cell_type": "code",
   "execution_count": 10,
   "metadata": {
    "colab": {
     "base_uri": "https://localhost:8080/"
    },
    "id": "egVcO6o-sh2E",
    "outputId": "cd50f06f-a620-4f1c-9619-3b8660c2754c"
   },
   "outputs": [
    {
     "data": {
      "text/plain": [
       "6"
      ]
     },
     "execution_count": 10,
     "metadata": {},
     "output_type": "execute_result"
    }
   ],
   "source": [
    "arr2[1,2] #arr2[1][2]와 동일"
   ]
  },
  {
   "cell_type": "code",
   "execution_count": 11,
   "metadata": {
    "colab": {
     "base_uri": "https://localhost:8080/"
    },
    "id": "TPoBWOW1sh2E",
    "outputId": "25853f61-372d-49e5-a34b-a2bfb2ae2bd9"
   },
   "outputs": [
    {
     "data": {
      "text/plain": [
       "array([[  0,   1,   2,   3],\n",
       "       [  4,   5, 100,   7],\n",
       "       [  8,   9,  10,  11],\n",
       "       [ 12,  13,  14,  15]])"
      ]
     },
     "execution_count": 11,
     "metadata": {},
     "output_type": "execute_result"
    }
   ],
   "source": [
    "arr2[1,2] = 100 # 값 할당\n",
    "arr2"
   ]
  },
  {
   "cell_type": "code",
   "execution_count": 12,
   "metadata": {
    "colab": {
     "base_uri": "https://localhost:8080/"
    },
    "id": "v9Psy0W1sh2F",
    "outputId": "76454380-981b-4ce6-df2f-4627544c8308"
   },
   "outputs": [
    {
     "data": {
      "text/plain": [
       "array([[  0,   1,   2,   3],\n",
       "       [  4,   5, 100,   7]])"
      ]
     },
     "execution_count": 12,
     "metadata": {},
     "output_type": "execute_result"
    }
   ],
   "source": [
    "arr2[0:2]"
   ]
  },
  {
   "cell_type": "code",
   "execution_count": 13,
   "metadata": {
    "colab": {
     "base_uri": "https://localhost:8080/"
    },
    "id": "uyxBy8agsh2F",
    "outputId": "76d2586f-ccef-4727-e4b1-6c39e558f1be"
   },
   "outputs": [
    {
     "data": {
      "text/plain": [
       "array([[  0,   1,   2,   3],\n",
       "       [  4,   5, 100,   7]])"
      ]
     },
     "execution_count": 13,
     "metadata": {},
     "output_type": "execute_result"
    }
   ],
   "source": [
    "arr2[:2] #arr2[0:2]와 동일"
   ]
  },
  {
   "cell_type": "code",
   "execution_count": 14,
   "metadata": {
    "colab": {
     "base_uri": "https://localhost:8080/"
    },
    "id": "J_cvvmWdsh2F",
    "outputId": "b4b64dba-318d-4a1f-fdb6-c494f1157fe9"
   },
   "outputs": [
    {
     "data": {
      "text/plain": [
       "array([[  2,   3],\n",
       "       [100,   7]])"
      ]
     },
     "execution_count": 14,
     "metadata": {},
     "output_type": "execute_result"
    }
   ],
   "source": [
    "arr2[0:2, 2:4]"
   ]
  },
  {
   "cell_type": "code",
   "execution_count": 15,
   "metadata": {
    "colab": {
     "base_uri": "https://localhost:8080/"
    },
    "id": "sALP4JrLsh2F",
    "outputId": "20e19742-dc29-4647-8372-e91dce02439d"
   },
   "outputs": [
    {
     "data": {
      "text/plain": [
       "array([[  2,   3],\n",
       "       [100,   7]])"
      ]
     },
     "execution_count": 15,
     "metadata": {},
     "output_type": "execute_result"
    }
   ],
   "source": [
    "arr2[:2, 2:]"
   ]
  },
  {
   "cell_type": "markdown",
   "metadata": {
    "id": "F0vMVFzEsh2F"
   },
   "source": [
    "# 불리언 인덱싱"
   ]
  },
  {
   "cell_type": "markdown",
   "metadata": {
    "id": "NhxYICCisPm_"
   },
   "source": [
    "![image-20230120095405666.png](data:image/png;base64,iVBORw0KGgoAAAANSUhEUgAAAd8AAADsCAYAAAA1mazvAAAUW0lEQVR4nO3dUYgj92HH8Z9S57oJpr0+mCYOtDIt9rEjzNkB44dg1n4yhhhDd7QQKL4XN9DLQ+Gg6UuZEX1wWzBOHlJo/XCXFGxOWrAhL/cStARj1n7IKUEj7MS9lS9pop6PO/U4+8bXJP8+SNqVNNrVaFf6///a+35A2LsaSb/9a2Z+O/+Z1clgIS5fvmwuX77sOsZEOzs7pl6vu44xkc/Zbt68ad58803XMSbyOdudO3fMG2+84TrGRD5nM8aY8+fPu46wrzfeeMPcuXPHdYyJfM725ptvmps3b5qCMcYIc5WmqR544AHdvn3bdRQAgGfW19f1OdchjqOVlRWdO3dOURTJGOPd7fz58zpz5ozzHMuWrV6va21tzXmOZcu2s7OjYrHoPMeyZTOmd1zkOsN+t2KxqJ2dHec5li3b2tqazp49S/kCAGAb5QsAgGWULwAAllG+AABYRvkCAGAZ5QsAgGWULwAAllG+AABYRvkCAGDZ4co3SZRMXeTgJabd319K+y2W7/FTnv2IGQ6+DwCAyWYq31q5oEKhoEKppFKh//+FkiqDAkoqu98vlUr9+wsqlGsH3l/aewJVSgUVSmWVS73nLpWG7p/4+KHXn+Vn2Pc5DsowJR8AADnkL9+kokpNCuLmyOdUNpsXFQWSlKiyEStRqOrwZ1lWq6pWw33vr4ZSEm+MFmhSUyvce51mFOzz+KbiIFG8UZl6JN5/Yq0GocLq8GdtVhUqUVypjS06KUOO+wAAmOLI53yDoF88yaZqiRTEkcLhBcKw9/U+94dRrECJapvD9RkqGi+0/uPDanXo8YGiKJSSmjZztW+gIKqqOhJwVUEgqdUaK/AJGXLdNwe18tiMwCGXWYCkUvI2Wy7OsvVnTWacqbHC4/cr1/rmiNfbgsf7EK9ZHLf85RtEikIpifemi8u17GKrqweXUub+YFWrkpKkNfS9QKv7PH542nhkSju3msrDjy+UFE8awwMyHHjfUQym1fs/U2+sx3bWE5eZ/F7M1WCF6w+WN9mGTkVMuu2+tqtx02CdHaxnieJSQYXS0GzNfj/DosPNsr7ZzjbL+uZzNtvrm6/7kFm3U5+3hTmN20xHvr3p2qbifn/2diplWdh/zUlN5X7evannvZ/HtVpl2rR6f+o9iNUcm7qvlRf5PtRULteksDo0Xe9JtiAaeb3dUwFxIClUGDrMJkm1snpDN5axGWl3tWslShQobo4tMzpFM/9oU9c3V9nyrG8+Z3O3vnm7D8m1ncrjbWH+43aIaedAUXN4QGqqDb1yq3Xwofh+9wdBvmPJ8XPOg4HKNQuctNRSb0e44Pfy8EaOqgOtDg/LYOo+XNfwjxuG2fdhrgbjFg4P2tiUv6tsE9VUiZO9UxwOs9VqvR31Uq5vruRZ31xZhm3Bx33IRGPbqWuWx22G8k1UGb8oaViwrjCQkrgy+ltAUlMt2f/+3m8NgcL1Ke253/Mf9c99+oPqg9UgkJJEexPwiVotSaurI294Zup+NZAnB+9eZEsqlYnrlP1svY0yCFaHptP2O+e7qilnbOYu7/rmIlt+/mZzsS0s0z5kv+3U521hnuOWu3yTyobiuJydhw9iRaEkBYouxgrGz6mWyipvVJTsc3/vKS7mOHLd5/kLJZVKOQ/7+wU+ct64FOe8Unrxgqipajj885UUK1ZzcNjUmv731YsJ1jsvXxv79W7ka1fZMhJt1hIpjPbWKdfZahtD61n/nO/QiaKk1VL2WoTFXwgzdX1zlS3P+uZzNofrm7f7kIwJ26k83hYWMG65yzeImkNz4do75zF87mowr9+MFWhoiniwzO68f++K5cH9e3+q05/SHn7O0RATHz/4OsdP0Z8y7y0/ch5u9zUPyjAl31H1zw+OSGJtOL8aMVQUB7sXmhx0wZ1ztYriJFAceTGRJUlKFI6cJ2rGgVSrjB4Bj51LasZB9k/w5i3v+mY92wzrm8/ZXPB2HzLmoO3U521hjg5/zvegk1j9ktz/7197J7YP//exkx6f/W1p9DZ8dNx7vF/n4frT+iMXcgxWvP5Uu8Pp5SBq7v5SJfV/8RkeQC+mvvtjGIQamclynG38PFGwHipQosEF/r2xjQ5cZv5yrG/OsuVY33zO5mx983sfsmef7VQebwsLGLdj9NnOYx/ukbnlPTp2paUkyV54FqyuSmpp+Dq1zEVrtqaShq5YbEZBb4pobANylk3q/zYthdHkmQmn2byTf31zJsf65oyX28IS7EOkqdupfW7G7RiV77LrfdhHUtsceTN755L6FyBMvOhscCHc0OX6NiQVbcTJ3lGdB9lqteFrEIY4y9Z77vGLBJPNmhIFGmzrSaWcmVLr/enD3jLzl2N9c5ZtgvH1zedszta35diH7LudyuNtYRHjZrAQURSZKIpme1A1NJIytyBu7i3TjE0wYZmwmv9lzp8/b86cOTNjtOxrSqEZeVlH2XovHWTHas7Z6vW6WVtbmzFZ1YQHvqeT7z/wZ5lXtqnr23yy7ezsmGKxOGO0aeubz9nMXNY3Y4yZeRdtaR9ijDHFYtHs7OzM9JiDt9P5vKeHymZx3NbW1ky9XjeU74IcqnwH+ivCgW9qf0WY9Y035vAFZ0zTxIGMgtgcuCk4yZbTEbIdrnxHX/fAnUj/fZ91R3PkbHnWtyNkO0zB9eRc33zOdoT1zZhDlO/AgvchxhyufHM7wntqzBGyWRi3Qfnel+/4GFaFVRkzZZkgUtNEVuIMvaiiptHUV3WSLSdX2fK8bp73fRHyvK6TbDnXN5+zuVrfvN2H5OTztjCnceOcLwAAllG+AABYRvkCAGAZ5QsAgGWULwAAllG+AABYRvkCAGAZ5QsAgGWULwAAllG+AABYRvkCAGAZn+28INevX9ft27e1tbXlOkrG+++/r06nQ7YZNRoNdbtdss2o0+koTVOyHZKv2dI01fb2ttrttusoGT5n63a7unHjhgrGOPn46mMtTVM99thjStNUxWLRdZyMTqejbrerU6dOuY6S4XO2brerdrut06dPu46S4XO2NE3VaDT05JNPuo6S4XM2qVe8a2trrmNMtL29rdOnT2tlZcV1lAyfszUaDT333HOU76K02211u10vd4Y+Z+t2u2o0Gl7ucHzONjh6e/bZZ11HyfA5myS99dZbeuGFF1zHmIhsh3Pp0iWtra15Wb6DbJQvAACWccEVAACWUb4AAFhG+QIAYBnlCwCAZZQvAACWUb4AAFhG+QIAYBnlCwCAZZQvAACWUb4AAFhG+QIAYBnlCwCAZZQvAACWUb4AAFhG+QIAYBnlCwCAZZQvAACWUb4AAFhG+QIAYBnlCwCAZZQvAACWUb4AAFhG+QIAYBnlCwCAZZQvAACWUb4AAFhG+QIAYBnlCwCAZZQvAACWUb4AAFhG+QIAYBnlCwCAZZQvAACWUb4AAFh2n+sAx9UPfvADXb16VV/72tdcR8lotVrqdDp65plnXEfJuHr1qhqNhp5//nnXUTI6nY7efvttra+vu46ScePGDV26dEnf+MY3XEfJuH37tjY3N3XmzBnXUTLu3r2r73//+3rppZdcR5noe9/7ns6ePes6xkSvvfaaXnzxRZ04ccJ1lIwLFy5ofX1d999/v+soGa+//rq+9a1vUb6LkKapXn75ZaVpqh/96Eeu42R0Oh3duHHDy2zXrl3T7du3dfnyZddRMrrdrtrttpIkcR0lY5DtF7/4hesoGWma6vLly15m+yxN1UwStdtt11Emeuedd3T9+nXXMSba3t7WlStXtLKy4jpKxvb2tj744AMvszUaDX3yyScqGGOM6zDHURzHI//1yYULF3Tp0iV959VXXUfJuHjxoho//anOnz/vOkrG1taWKpWK6vW66ygZPmdrt9t66qmn9N6777qOkvHLX/5Sf7W+7mU2Sfrygw/K1130Qw89pHq9rmKx6DpKhs/Znn76aUVRxDlfAABso3wBALCM8gUAwDLKFwAAyyhfAAAso3wBALCM8gUAwDLKFwAAyyhfAAAso3wBALCM8gUAwDLKFwAAyyhfAAAso3y9lahSKqhQmHQrq+Ys18/1ytqD+vKD+9/+5ofOwsnfcSPb4fi8vvmcTfL3PSWbJP49X++FVZlq6DrFkId1buvXOtf/6oNX1rT2yiP6j1//u77uNNcY78ZtCNlm4PP65nO2Id69p0Pu4Wwc+QIAYBnlCwCAZZSv72rl7HmHstszIkvB53EjG2zy+T29h7NRvgAAWMYFV77z+YIEn/k8bmSDTT6/p/dwNo58AQCwjPIFAMAyyhcAAMs45+utQFHTKHIdY4pHzm3pN+emL2ePz+NGtqPyb33b4182n99TsnHkCwCAZZQvAACWUb4AAFhG+QIAYBnlCwCAZZQvAACWUb4AAFhG+QIAYBnlCwCAZZQvAACWUb4AAFhG+QIAYBn/sMKC/OpXv9Jvf/tbbW1tuY6S8f777+vatWt65513XEfJ+PDDD9XpdLwct0ajoW63S7YZdTodffbZZ16ub9c+/tjbbAM+vqeSlKaptre31W63XUfJ8Dlbt9tVp9NRwRhjXIc5btI01Ve/+lV9+umnKhaLruNkdDod3bp1Sw8//LDrKBnXrl3TjRs3dOrUKddRMrrdrq5evapHH33UdZSMW7du6cqVKzp9+rTrKBlpmupnP/uZnnjiCddRMu7evauf/OQnevLJJ11HmejHP/6xnnrqKdcxJtre3tbjjz+uEydOuI6S8d577+nRRx/VysqK6ygZjUZDZ86coXwXJU1TpWmqkydPuo6S4XM2qffLwZe+9CXXMSYi2+GQ7XDIdjjLkI3yBQDAMi64AgDAMsoXAADLKF8AACyjfAEAsIzyBQDAMsoXAADLKF8AACyjfAEAsIzyBQDAMsoXAADLKF8AACyjfAEAsIzyBQDAMsoXAADLKF8AACyjfAEAsIzyBQDAMsoXAADL7nMdAMDxUn/vv3TuX384dblX/v7revqJv7CQCPAP5Qtgrn7e/lhfPPkVfeGPH9x3mTv/+2v9vP0x5Yt7FtPOAABYRvkCAGAZ5QsAgGWULwAAllG+AABYRvkCAGAZ5QsAgGWULwAAllG+AABYRvkCAGAZ5QsAgGWULwAAllG+AABYRvkCAGAZ5QsAgGWULwAAllG+AABYRvkCAGAZ5QsAgGWULwAAllG+AABYRvkCAGAZ5QsAgGWULwAAllG+AABYRvkCAGAZ5QsAgGUFY4xxHQLA8vrrf7io5MPfjHzvi3/yZ/rCH/3pvo+5c+t/9OnNqyPfC/7yy/rPf95YSEbAN5QvgCP5oP2x/u5fLun/Vv5chc/9wcyPN7//nT6ffqTvfPtZPVJ8YAEJAf8w7QzgSB4pPqDvfPtZfT79SOb3v5vpsRQv7lWUL4AjO0wBU7y4l1G+AOZilgKmeHGvo3wBzE2eAqZ4AcoXwJwdVMAUL9BD+QKYu0kFTPECe/hTIwALM/gzpM9OfEV/ePe/KV6gj/IFsFAftD/W3/7TW/q3f3yB4gX6KF8AACzjnC8AAJZRvgAAWEb5AgBgGeULAIBllC8AAJZRvgAAWEb5AgBgGeULAIBllC8AAJZRvgAAWEb5AgBgGeULAIBllC8AAJZRvgAAWEb5AgBgGeULAIBl97kOANwrut2uXnrpJZ09e9Z1lNzefvtt3X///Tp9+rTrKBO99tprevHFF3XixAnXUTI6nY7effddvfrqq66jwEOUL2DJhQsXtLm5qevXr7uOklu73ZYkFYtFx0km297e1pUrV7SysuI6Ska321W73dY3v/lNnTp1ynUceKZgjDGuQwD3ikKhoGXa5OI4Hvmvbx566CHV63UvfznY2tpSpVJRvV53HQUe4pwvAACWUb4AAFhG+QIAYBnlCwCAZZQvAACWUb4AAFhG+QIAYBnlCwCAZZQvAACWUb4AAFhG+QIAYBnlCwCAZZQvsESSSkmFQkGlSrL/QrXy9GUsyJXVkWUaRxxPlC+wDAZFEPeKIIlLKhRKGumFpKJSoaBCuTa0TEH9L/3MOn5bdNhlGkcca5Qv4L2ayuWaFFZljOnfmoqDRPFGRf0aUWUjVhLEau4uY1QNpVq5LHu9kSerpFaiRIHiphlazshUQ8fZfBlHHHeUL+C7pKWWpDAcLqZAURRKSU2biaRkU7VECsJ1BUNL9R5TU81Wa+TJ6soyjSOOPcoXOEZWV4OxbwQKJi/qgVWNx/XFco0jlhHlC/guWNWqpNrYYdfI161EXlwWlCerpKTVklRTeeyc70IvblqmccSxR/kC3gsVxcHuxUKDm58XAM2Qdey8ajMOlMQbWlz/LtM44rijfIElEERNmWa8O/UZxM3Ri5M8mhadmnV3mWgkc7AeKlCipOUwm0fjiOON8gWWRRDtHik2o6A3dRuEWh9qi1Zr7LDR1TRqjqzOLNM44tiifIFllFS0ESd7V+UG6woDKYkrQ38Ok6hSqUkKFS7yL3imGc8qKamUM9PLtUqsRIGCVYfZfB5HHC8GgDWH3eSqoYw0fgtNdXihZmyCzDIyYXW/Z50uiiITRdGcs1ZNOCGnJBPEzZleq1gsmp2dnTlmM3Mbx3q9btbW1mZ7EO4ZHPkCSyCsDj4QQkMXKlU1ciA2mE7tn9PsPab3ARF+ZQ1VHftQjSBu7k4Du80mb8YRx9t9rgMAyCtQ1DSKpi4WqWmmLrVgObOGVRljI8+wZRpHHFcc+QIAYBnlCwCAZZQvAACWUb4AAFhG+QIAYBnlCwCAZZQvAACWUb4AAFhG+QIAYBnlCwCAZZQvAACW8dnOgCWdTkeStLW15ThJfu12W5K/mdM01fb29m5OnzQaDXW7XaVpqpWVFddx4BnKF7BkUGCVSsVxkvwGpfbRRx85TjJZt9vVd7/7XS/Lrdvtqt1uq91u69SpU67jwDMFY+z/myLAvardbqtYLLqOkVu325UknTx50nGSyXwfT9/zwZ3/B8MRwFNVuHuSAAAAAElFTkSuQmCC)"
   ]
  },
  {
   "cell_type": "code",
   "execution_count": 16,
   "metadata": {
    "colab": {
     "base_uri": "https://localhost:8080/"
    },
    "id": "Fl-9mD-Zsh2F",
    "outputId": "3d9bb2e5-2761-4ec3-a364-f1742ba5df12"
   },
   "outputs": [
    {
     "data": {
      "text/plain": [
       "array([80, 90, 70, 65, 85, 95, 90, 80, 75, 80])"
      ]
     },
     "execution_count": 16,
     "metadata": {},
     "output_type": "execute_result"
    }
   ],
   "source": [
    "scores = [80, 90, 70, 65, 85, 95, 90, 80, 75, 80]\n",
    "score_arr = np.array(scores)\n",
    "score_arr"
   ]
  },
  {
   "cell_type": "code",
   "execution_count": 17,
   "metadata": {
    "colab": {
     "base_uri": "https://localhost:8080/"
    },
    "id": "yhCTMkKrsh2G",
    "outputId": "7b659ddd-b6b1-4611-91bb-d795e34d44bf"
   },
   "outputs": [
    {
     "data": {
      "text/plain": [
       "array([False,  True, False, False, False,  True,  True, False, False,\n",
       "       False])"
      ]
     },
     "execution_count": 17,
     "metadata": {},
     "output_type": "execute_result"
    }
   ],
   "source": [
    "score_arr >= 90"
   ]
  },
  {
   "cell_type": "code",
   "execution_count": 18,
   "metadata": {
    "colab": {
     "base_uri": "https://localhost:8080/"
    },
    "id": "Gvdzx3Hash2G",
    "outputId": "633357a8-494b-4fee-8912-d2567237a354"
   },
   "outputs": [
    {
     "data": {
      "text/plain": [
       "array([90, 95, 90])"
      ]
     },
     "execution_count": 18,
     "metadata": {},
     "output_type": "execute_result"
    }
   ],
   "source": [
    "score_arr[score_arr >= 90]"
   ]
  },
  {
   "cell_type": "code",
   "execution_count": 19,
   "metadata": {
    "colab": {
     "base_uri": "https://localhost:8080/"
    },
    "id": "fR_SYj5-sh2G",
    "outputId": "4956dce6-e7ab-49df-968c-384943f08040"
   },
   "outputs": [
    {
     "data": {
      "text/plain": [
       "array([ 80, 999,  70,  65,  85, 999, 999,  80,  75,  80])"
      ]
     },
     "execution_count": 19,
     "metadata": {},
     "output_type": "execute_result"
    }
   ],
   "source": [
    "score_arr[score_arr >= 90] = 999\n",
    "score_arr"
   ]
  },
  {
   "cell_type": "markdown",
   "metadata": {},
   "source": [
    "# 고급 인덱싱 기법"
   ]
  },
  {
   "cell_type": "markdown",
   "metadata": {},
   "source": [
    "## 팬시 인덱싱 (Fancy Indexing)\n",
    "\n",
    "정수 배열을 사용하여 특정 인덱스들을 선택하는 방법\n"
   ]
  },
  {
   "cell_type": "code",
   "execution_count": 20,
   "metadata": {
    "colab": {
     "base_uri": "https://localhost:8080/"
    },
    "id": "p-P19GIi_4_g",
    "outputId": "dd0d02de-817f-4a50-c927-da886ee0f0fd"
   },
   "outputs": [
    {
     "name": "stdout",
     "output_type": "stream",
     "text": [
      "[1 3 5 7]\n",
      "[ 1 11]\n"
     ]
    }
   ],
   "source": [
    "arr = np.arange(20)\n",
    "# 특정 인덱스들만 선택\n",
    "indices = [1, 3, 5, 7]\n",
    "print(arr[indices])  # array([1, 3, 5, 7])\n",
    "\n",
    "# 2차원 배열에서 팬시 인덱싱\n",
    "arr2d = np.arange(12).reshape(3, 4)\n",
    "print(arr2d[[0, 2], [1, 3]])  # (0,1)과 (2,3) 위치의 값"
   ]
  },
  {
   "cell_type": "markdown",
   "metadata": {},
   "source": [
    "## 다중 조건 불리언 인덱싱"
   ]
  },
  {
   "cell_type": "code",
   "execution_count": 21,
   "metadata": {},
   "outputs": [
    {
     "name": "stdout",
     "output_type": "stream",
     "text": [
      "[80 85 80 80]\n",
      "[65 95]\n"
     ]
    }
   ],
   "source": [
    "# 여러 조건 조합\n",
    "scores = np.array([80, 90, 70, 65, 85, 95, 90, 80, 75, 80])\n",
    "\n",
    "# 80점 이상 90점 미만\n",
    "print(scores[(scores >= 80) & (scores < 90)])\n",
    "\n",
    "# 70점 미만 또는 95점 이상\n",
    "print(scores[(scores < 70) | (scores >= 95)])"
   ]
  },
  {
   "cell_type": "markdown",
   "metadata": {},
   "source": [
    "## 조건에 따른 값 치환"
   ]
  },
  {
   "cell_type": "code",
   "execution_count": 22,
   "metadata": {},
   "outputs": [
    {
     "name": "stdout",
     "output_type": "stream",
     "text": [
      "['B' 'A' 'B' 'B' 'B' 'A' 'A' 'B' 'B' 'B']\n"
     ]
    }
   ],
   "source": [
    "# np.where를 사용한 조건부 값 치환\n",
    "scores = np.array([80, 90, 70, 65, 85, 95, 90, 80, 75, 80])\n",
    "# 90점 이상이면 'A', 아니면 'B'\n",
    "grades = np.where(scores >= 90, 'A', 'B')\n",
    "print(grades)"
   ]
  },
  {
   "cell_type": "markdown",
   "metadata": {},
   "source": [
    "## 메서드 체인 (Method Chain)"
   ]
  },
  {
   "cell_type": "code",
   "execution_count": 23,
   "metadata": {},
   "outputs": [],
   "source": [
    "arr2 = np.arange(16).reshape(4, 4)  # 메서드 체인"
   ]
  },
  {
   "cell_type": "markdown",
   "metadata": {},
   "source": [
    "# 활용 예시"
   ]
  },
  {
   "cell_type": "markdown",
   "metadata": {},
   "source": [
    "## 데이터 필터링"
   ]
  },
  {
   "cell_type": "code",
   "execution_count": 24,
   "metadata": {},
   "outputs": [
    {
     "name": "stdout",
     "output_type": "stream",
     "text": [
      "25도 이상인 날. [25.1 30.2 28.7 32.1]\n",
      "조정된 온도. [22.5 25.1 20.  30.2 28.7 20.  32.1]\n"
     ]
    }
   ],
   "source": [
    "# 실제 데이터 분석에서 자주 사용되는 패턴\n",
    "temperatures = np.array([22.5, 25.1, 19.8, 30.2, 28.7, 15.3, 32.1])\n",
    "\n",
    "# 25도 이상인 날씨만 선택\n",
    "hot_days = temperatures[temperatures >= 25.0]\n",
    "print(f\"25도 이상인 날. {hot_days}\")\n",
    "\n",
    "# 20도 미만인 날씨를 20도로 조정\n",
    "temperatures[temperatures < 20.0] = 20.0\n",
    "print(f\"조정된 온도. {temperatures}\")"
   ]
  },
  {
   "cell_type": "markdown",
   "metadata": {},
   "source": [
    "## 2차원 데이터 처리"
   ]
  },
  {
   "cell_type": "code",
   "execution_count": 25,
   "metadata": {},
   "outputs": [
    {
     "name": "stdout",
     "output_type": "stream",
     "text": [
      "평균 80점 이상 학생들의 성적.\n",
      "[[85 92 78 90]\n",
      " [76 88 82 79]\n",
      " [92 95 89 94]]\n",
      "85점 이상 점수들. [85 92 90 88 92 95 89 94]\n"
     ]
    }
   ],
   "source": [
    "# 성적표 데이터 (학생 x 과목)\n",
    "grades = np.array([\n",
    "    [85, 92, 78, 90],  # 학생1\n",
    "    [76, 88, 82, 79],  # 학생2\n",
    "    [92, 95, 89, 94],  # 학생3\n",
    "    [68, 72, 75, 71]   # 학생4\n",
    "])\n",
    "\n",
    "# 각 학생의 평균 점수가 80점 이상인 학생들\n",
    "student_avg = grades.mean(axis=1)  # array([86.25, 81.25, 92.5 , 71.5 ])\n",
    "good_students = grades[student_avg >= 80]  #학생1~학생3 성적\n",
    "print(\"평균 80점 이상 학생들의 성적.\")\n",
    "print(good_students)\n",
    "\n",
    "# 모든 과목에서 85점 이상인 점수만 추출\n",
    "excellent_scores = grades[grades >= 85]\n",
    "print(\"85점 이상 점수들.\", excellent_scores)"
   ]
  },
  {
   "cell_type": "code",
   "execution_count": null,
   "metadata": {},
   "outputs": [],
   "source": []
  }
 ],
 "metadata": {
  "colab": {
   "include_colab_link": true,
   "provenance": [],
   "toc_visible": true
  },
  "kernelspec": {
   "display_name": "Python 3 (ipykernel)",
   "language": "python",
   "name": "python3"
  },
  "language_info": {
   "codemirror_mode": {
    "name": "ipython",
    "version": 3
   },
   "file_extension": ".py",
   "mimetype": "text/x-python",
   "name": "python",
   "nbconvert_exporter": "python",
   "pygments_lexer": "ipython3",
   "version": "3.10.18"
  },
  "toc": {
   "base_numbering": 1,
   "nav_menu": {},
   "number_sections": false,
   "sideBar": true,
   "skip_h1_title": false,
   "title_cell": "Table of Contents",
   "title_sidebar": "Contents",
   "toc_cell": false,
   "toc_position": {
    "height": "calc(100% - 180px)",
    "left": "10px",
    "top": "150px",
    "width": "199.825px"
   },
   "toc_section_display": true,
   "toc_window_display": true
  }
 },
 "nbformat": 4,
 "nbformat_minor": 4
}
