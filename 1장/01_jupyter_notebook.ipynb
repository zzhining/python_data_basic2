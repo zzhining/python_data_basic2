{
  "cells": [
    {
      "cell_type": "markdown",
      "metadata": {
        "id": "C3sR_CGuqqpa"
      },
      "source": [
        "# 간단한 코드실행해보기"
      ]
    },
    {
      "cell_type": "code",
      "execution_count": null,
      "metadata": {
        "id": "0lLOPqa7D6SB",
        "outputId": "99cb7199-94af-4298-9440-a59eb1391e6d"
      },
      "outputs": [
        {
          "name": "stdout",
          "output_type": "stream",
          "text": [
            "Hello Python\n"
          ]
        }
      ],
      "source": [
        "print(\"Hello Python\")"
      ]
    },
    {
      "cell_type": "code",
      "execution_count": null,
      "metadata": {
        "id": "4rp-QWJqD6ST",
        "outputId": "00d7e813-97fb-4994-f15f-2c4910cbe29e"
      },
      "outputs": [
        {
          "data": {
            "text/plain": [
              "8"
            ]
          },
          "execution_count": 1,
          "metadata": {},
          "output_type": "execute_result"
        }
      ],
      "source": [
        "3+5"
      ]
    },
    {
      "cell_type": "code",
      "execution_count": null,
      "metadata": {
        "id": "uzyOzhnbD6SW",
        "outputId": "2ce83a29-3aa5-4ae0-ab2d-e34910f43099"
      },
      "outputs": [
        {
          "data": {
            "text/plain": [
              "45"
            ]
          },
          "execution_count": 2,
          "metadata": {},
          "output_type": "execute_result"
        }
      ],
      "source": [
        "5*9"
      ]
    },
    {
      "cell_type": "code",
      "execution_count": null,
      "metadata": {
        "id": "bCwZO6xdD6SY"
      },
      "outputs": [],
      "source": [
        "# 주석은 실행되지 않습니다\n",
        "# ctrl + / 를 함께 누르면\n",
        "# 해당 구문이 주석으로 변경됩니다."
      ]
    },
    {
      "cell_type": "markdown",
      "metadata": {
        "id": "L2NKYkBCD6Sc"
      },
      "source": [
        "# Jupyter Notebook\n"
      ]
    },
    {
      "cell_type": "markdown",
      "metadata": {
        "id": "zv1c3O-Xq1CK"
      },
      "source": [
        "The Jupyter Notebook is the original web application for creating and sharing computational documents. It offers a simple, streamlined, document-centric experience. [[Site]](https://jupyter.org/)"
      ]
    },
    {
      "cell_type": "code",
      "execution_count": null,
      "metadata": {
        "id": "x0sg8LJjPXkz"
      },
      "outputs": [],
      "source": [
        "## 셀(Cell): 코드를 입력하고 실행"
      ]
    },
    {
      "cell_type": "markdown",
      "metadata": {
        "id": "2cdFmsdLwyex"
      },
      "source": [
        "## 주요 메뉴"
      ]
    },
    {
      "cell_type": "markdown",
      "metadata": {
        "id": "6EuMBSIXw25a"
      },
      "source": [
        "![](https://jupyter-notebook.readthedocs.io/en/stable/_images/blank-notebook-ui.png)"
      ]
    },
    {
      "cell_type": "markdown",
      "metadata": {
        "id": "Q1MlVjeSPsIm"
      },
      "source": [
        "## 주요 단축키\n",
        "\n",
        "단축키 실행 전에 esc를 먼저 눌러주자\n",
        "\n",
        "- a(above): 현재 셀 위에 셀 추가\n",
        "- b(below): 현재 셀 아래에 셀 추가\n",
        "- dd(delete): 선택한 셀 삭제\n",
        "- shift + enter: 셀 실행 후 활성화 셀을 아래로 이동"
      ]
    },
    {
      "cell_type": "code",
      "execution_count": null,
      "metadata": {
        "id": "ArXlFDpuPoMA"
      },
      "outputs": [],
      "source": [
        "# 주요 단축키 연습\n",
        "\n"
      ]
    },
    {
      "cell_type": "markdown",
      "metadata": {
        "id": "-yzSTej5rLDR"
      },
      "source": [
        "----\n",
        "# 마크다운"
      ]
    },
    {
      "cell_type": "markdown",
      "metadata": {
        "id": "ejSz9c-Hqyi0"
      },
      "source": [
        "# 헤더 1\n",
        "## 헤더 2\n",
        "### 헤더 3\n",
        "#### 헤더 4\n",
        "##### 헤더 5\n",
        "\n",
        "마크다운 모드는 셀 편집 모드에서 m 을 눌러 변경합니다.\n"
      ]
    },
    {
      "cell_type": "markdown",
      "metadata": {
        "id": "mD-p-PevrQJF"
      },
      "source": [
        "\n",
        "## 리스트\n"
      ]
    },
    {
      "cell_type": "markdown",
      "metadata": {
        "id": "JYiWw5V4rZ9G"
      },
      "source": [
        "### 순서가 없는 리스트 만들기\n",
        "* 하나\n",
        "* 둘\n",
        "* 셋\n",
        "\n"
      ]
    },
    {
      "cell_type": "markdown",
      "metadata": {
        "id": "PHo_tKt1ravn"
      },
      "source": [
        "\n",
        "### 순서가 있는 리스트 만들기\n",
        "1. 하나\n",
        "2. 둘\n",
        "3. 셋\n"
      ]
    },
    {
      "cell_type": "markdown",
      "metadata": {
        "id": "AGETFGiCrbpv"
      },
      "source": [
        "\n",
        "\n",
        "### 탭을 이용한 순서가 없는 서브리스트\n",
        "* 첫번째\n",
        "     - 서브리스트 1\n",
        "         - 아이템 1\n",
        "         - 아이템 2\n",
        "     - 서브리스트 2\n",
        "        - 아이템 3\n",
        "* 두번째\n",
        "     - 서브리스트 3\n",
        "     \n",
        "     "
      ]
    },
    {
      "cell_type": "markdown",
      "metadata": {
        "id": "80Dhm5Owrcy4"
      },
      "source": [
        "\n",
        "### 탭을 이용한 순서가 있는 서브리스트\n",
        "1. 첫번째\n",
        " 1. 서브리스트 1\n",
        " 2. 서브리스트 2\n",
        "2. 두번째\n",
        "3. 세번째\n"
      ]
    },
    {
      "cell_type": "markdown",
      "metadata": {
        "id": "9bCMNsSbrXMx"
      },
      "source": [
        "\n",
        "\n",
        "## 구분선 넣기\n",
        "------------------------------\n",
        "\n"
      ]
    },
    {
      "cell_type": "markdown",
      "metadata": {
        "id": "E6NVafFOrhHL"
      },
      "source": [
        "\n",
        "## 글자 효과\n",
        "\n",
        "\n",
        "**굵게**\n",
        "\n",
        "\n",
        "<u>밑줄</u>\n",
        "\n",
        "\n",
        "~~취소선~~\n",
        "\n",
        "\n",
        "*기울이기*\n",
        "\n"
      ]
    },
    {
      "cell_type": "markdown",
      "metadata": {
        "id": "m7pRWUoMrjCA"
      },
      "source": [
        "\n",
        "## 표\n",
        "| 번호 | 이름 |\n",
        "|------|------|\n",
        "| 1 | 개구리|\n",
        "| 2 | 도마뱀|\n"
      ]
    },
    {
      "cell_type": "markdown",
      "metadata": {
        "id": "ymRlmXjarkQr"
      },
      "source": [
        "\n",
        "\n",
        "## 이미지\n",
        "\n",
        "<img src=\"https://www.python.org/static/img/python-logo.png\"/>\n",
        "\n"
      ]
    },
    {
      "cell_type": "markdown",
      "metadata": {
        "id": "paHvNVzHrlB_"
      },
      "source": [
        "\n",
        "## 인용글\n",
        "\n",
        "> 산토끼 토끼야\n",
        "> 어디를 가느냐\n",
        "> 깡총깡총 뛰면서\n",
        "> 어디를 가느냐"
      ]
    },
    {
      "cell_type": "markdown",
      "metadata": {
        "id": "upWKFb-LrqJ3"
      },
      "source": [
        "## 수식"
      ]
    },
    {
      "cell_type": "markdown",
      "metadata": {
        "id": "qWhPwNg7rtu7"
      },
      "source": [
        "$(x-1)^2 + \\sqrt{x^2-4x +1}$\n",
        "\n",
        "[수식 작성 방법 예제](https://jupyter-notebook.readthedocs.io/en/stable/examples/Notebook/Typesetting%20Equations.html)"
      ]
    }
  ],
  "metadata": {
    "colab": {
      "include_colab_link": true,
      "provenance": [],
      "toc_visible": true
    },
    "kernelspec": {
      "display_name": "Python 3",
      "language": "python",
      "name": "python3"
    },
    "language_info": {
      "codemirror_mode": {
        "name": "ipython",
        "version": 3
      },
      "file_extension": ".py",
      "mimetype": "text/x-python",
      "name": "python",
      "nbconvert_exporter": "python",
      "pygments_lexer": "ipython3",
      "version": "3.8.5"
    },
    "toc": {
      "base_numbering": 1,
      "nav_menu": {},
      "number_sections": false,
      "sideBar": true,
      "skip_h1_title": false,
      "title_cell": "Table of Contents",
      "title_sidebar": "Contents",
      "toc_cell": false,
      "toc_position": {},
      "toc_section_display": true,
      "toc_window_display": false
    }
  },
  "nbformat": 4,
  "nbformat_minor": 0
}
