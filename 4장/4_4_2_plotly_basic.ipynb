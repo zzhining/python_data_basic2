{
 "cells": [
  {
   "cell_type": "markdown",
   "id": "040ce74d-aebb-468d-b5bb-4c568b05cf8b",
   "metadata": {},
   "source": [
    "# 선 그래프 (Line Plot)\n",
    "## 기본 선 그래프"
   ]
  },
  {
   "cell_type": "code",
   "execution_count": 1,
   "id": "f8f69f03-aa4e-4417-b946-49e5dd4cb273",
   "metadata": {},
   "outputs": [
    {
     "data": {
      "application/vnd.plotly.v1+json": {
       "config": {
        "plotlyServerURL": "https://plot.ly"
       },
       "data": [
        {
         "hovertemplate": "날짜=%{x}<br>주가=%{y}<extra></extra>",
         "legendgroup": "",
         "line": {
          "color": "#636efa",
          "dash": "solid"
         },
         "marker": {
          "symbol": "circle"
         },
         "mode": "lines+markers",
         "name": "",
         "orientation": "v",
         "showlegend": false,
         "type": "scatter",
         "x": [
          "2024-01-01T00:00:00.000000000",
          "2024-01-02T00:00:00.000000000",
          "2024-01-03T00:00:00.000000000",
          "2024-01-04T00:00:00.000000000",
          "2024-01-05T00:00:00.000000000",
          "2024-01-06T00:00:00.000000000",
          "2024-01-07T00:00:00.000000000",
          "2024-01-08T00:00:00.000000000",
          "2024-01-09T00:00:00.000000000",
          "2024-01-10T00:00:00.000000000",
          "2024-01-11T00:00:00.000000000",
          "2024-01-12T00:00:00.000000000",
          "2024-01-13T00:00:00.000000000",
          "2024-01-14T00:00:00.000000000",
          "2024-01-15T00:00:00.000000000",
          "2024-01-16T00:00:00.000000000",
          "2024-01-17T00:00:00.000000000",
          "2024-01-18T00:00:00.000000000",
          "2024-01-19T00:00:00.000000000",
          "2024-01-20T00:00:00.000000000",
          "2024-01-21T00:00:00.000000000",
          "2024-01-22T00:00:00.000000000",
          "2024-01-23T00:00:00.000000000",
          "2024-01-24T00:00:00.000000000",
          "2024-01-25T00:00:00.000000000",
          "2024-01-26T00:00:00.000000000",
          "2024-01-27T00:00:00.000000000",
          "2024-01-28T00:00:00.000000000",
          "2024-01-29T00:00:00.000000000",
          "2024-01-30T00:00:00.000000000"
         ],
         "xaxis": "x",
         "y": {
          "bdata": "2P6+m2/uWECoIuTZ+qpYQJObrpNzKVhAkXcMmCZXWEDFT3ukh1RYQLi1rKgqp1hAW1HorXfvWEB9IsCFXb1YQC2zOLKYglhA1vg8BuZcWEDjDB9PPmNYQBNIXSYFnFhAzNLdBPK6WEDxamwRt99YQGAwej3IJ1lAW+ueyGo8WUAn+CPt3cNZQL6DfjvMa1lA1fUd4pZuWUAgEAa1cpxZQEyRoBdBc1lAVw0/Ra19WUBeAPUY24dZQFypZahZy1lACtbNHO+wWUDpHvjbtTJZQM8sx5U1PVlAuHsNCn+FWUAv19KLUGpZQHB5HCTrfVlA",
          "dtype": "f8"
         },
         "yaxis": "y"
        }
       ],
       "layout": {
        "legend": {
         "tracegroupgap": 0
        },
        "template": {
         "data": {
          "bar": [
           {
            "error_x": {
             "color": "#2a3f5f"
            },
            "error_y": {
             "color": "#2a3f5f"
            },
            "marker": {
             "line": {
              "color": "#E5ECF6",
              "width": 0.5
             },
             "pattern": {
              "fillmode": "overlay",
              "size": 10,
              "solidity": 0.2
             }
            },
            "type": "bar"
           }
          ],
          "barpolar": [
           {
            "marker": {
             "line": {
              "color": "#E5ECF6",
              "width": 0.5
             },
             "pattern": {
              "fillmode": "overlay",
              "size": 10,
              "solidity": 0.2
             }
            },
            "type": "barpolar"
           }
          ],
          "carpet": [
           {
            "aaxis": {
             "endlinecolor": "#2a3f5f",
             "gridcolor": "white",
             "linecolor": "white",
             "minorgridcolor": "white",
             "startlinecolor": "#2a3f5f"
            },
            "baxis": {
             "endlinecolor": "#2a3f5f",
             "gridcolor": "white",
             "linecolor": "white",
             "minorgridcolor": "white",
             "startlinecolor": "#2a3f5f"
            },
            "type": "carpet"
           }
          ],
          "choropleth": [
           {
            "colorbar": {
             "outlinewidth": 0,
             "ticks": ""
            },
            "type": "choropleth"
           }
          ],
          "contour": [
           {
            "colorbar": {
             "outlinewidth": 0,
             "ticks": ""
            },
            "colorscale": [
             [
              0,
              "#0d0887"
             ],
             [
              0.1111111111111111,
              "#46039f"
             ],
             [
              0.2222222222222222,
              "#7201a8"
             ],
             [
              0.3333333333333333,
              "#9c179e"
             ],
             [
              0.4444444444444444,
              "#bd3786"
             ],
             [
              0.5555555555555556,
              "#d8576b"
             ],
             [
              0.6666666666666666,
              "#ed7953"
             ],
             [
              0.7777777777777778,
              "#fb9f3a"
             ],
             [
              0.8888888888888888,
              "#fdca26"
             ],
             [
              1,
              "#f0f921"
             ]
            ],
            "type": "contour"
           }
          ],
          "contourcarpet": [
           {
            "colorbar": {
             "outlinewidth": 0,
             "ticks": ""
            },
            "type": "contourcarpet"
           }
          ],
          "heatmap": [
           {
            "colorbar": {
             "outlinewidth": 0,
             "ticks": ""
            },
            "colorscale": [
             [
              0,
              "#0d0887"
             ],
             [
              0.1111111111111111,
              "#46039f"
             ],
             [
              0.2222222222222222,
              "#7201a8"
             ],
             [
              0.3333333333333333,
              "#9c179e"
             ],
             [
              0.4444444444444444,
              "#bd3786"
             ],
             [
              0.5555555555555556,
              "#d8576b"
             ],
             [
              0.6666666666666666,
              "#ed7953"
             ],
             [
              0.7777777777777778,
              "#fb9f3a"
             ],
             [
              0.8888888888888888,
              "#fdca26"
             ],
             [
              1,
              "#f0f921"
             ]
            ],
            "type": "heatmap"
           }
          ],
          "histogram": [
           {
            "marker": {
             "pattern": {
              "fillmode": "overlay",
              "size": 10,
              "solidity": 0.2
             }
            },
            "type": "histogram"
           }
          ],
          "histogram2d": [
           {
            "colorbar": {
             "outlinewidth": 0,
             "ticks": ""
            },
            "colorscale": [
             [
              0,
              "#0d0887"
             ],
             [
              0.1111111111111111,
              "#46039f"
             ],
             [
              0.2222222222222222,
              "#7201a8"
             ],
             [
              0.3333333333333333,
              "#9c179e"
             ],
             [
              0.4444444444444444,
              "#bd3786"
             ],
             [
              0.5555555555555556,
              "#d8576b"
             ],
             [
              0.6666666666666666,
              "#ed7953"
             ],
             [
              0.7777777777777778,
              "#fb9f3a"
             ],
             [
              0.8888888888888888,
              "#fdca26"
             ],
             [
              1,
              "#f0f921"
             ]
            ],
            "type": "histogram2d"
           }
          ],
          "histogram2dcontour": [
           {
            "colorbar": {
             "outlinewidth": 0,
             "ticks": ""
            },
            "colorscale": [
             [
              0,
              "#0d0887"
             ],
             [
              0.1111111111111111,
              "#46039f"
             ],
             [
              0.2222222222222222,
              "#7201a8"
             ],
             [
              0.3333333333333333,
              "#9c179e"
             ],
             [
              0.4444444444444444,
              "#bd3786"
             ],
             [
              0.5555555555555556,
              "#d8576b"
             ],
             [
              0.6666666666666666,
              "#ed7953"
             ],
             [
              0.7777777777777778,
              "#fb9f3a"
             ],
             [
              0.8888888888888888,
              "#fdca26"
             ],
             [
              1,
              "#f0f921"
             ]
            ],
            "type": "histogram2dcontour"
           }
          ],
          "mesh3d": [
           {
            "colorbar": {
             "outlinewidth": 0,
             "ticks": ""
            },
            "type": "mesh3d"
           }
          ],
          "parcoords": [
           {
            "line": {
             "colorbar": {
              "outlinewidth": 0,
              "ticks": ""
             }
            },
            "type": "parcoords"
           }
          ],
          "pie": [
           {
            "automargin": true,
            "type": "pie"
           }
          ],
          "scatter": [
           {
            "fillpattern": {
             "fillmode": "overlay",
             "size": 10,
             "solidity": 0.2
            },
            "type": "scatter"
           }
          ],
          "scatter3d": [
           {
            "line": {
             "colorbar": {
              "outlinewidth": 0,
              "ticks": ""
             }
            },
            "marker": {
             "colorbar": {
              "outlinewidth": 0,
              "ticks": ""
             }
            },
            "type": "scatter3d"
           }
          ],
          "scattercarpet": [
           {
            "marker": {
             "colorbar": {
              "outlinewidth": 0,
              "ticks": ""
             }
            },
            "type": "scattercarpet"
           }
          ],
          "scattergeo": [
           {
            "marker": {
             "colorbar": {
              "outlinewidth": 0,
              "ticks": ""
             }
            },
            "type": "scattergeo"
           }
          ],
          "scattergl": [
           {
            "marker": {
             "colorbar": {
              "outlinewidth": 0,
              "ticks": ""
             }
            },
            "type": "scattergl"
           }
          ],
          "scattermap": [
           {
            "marker": {
             "colorbar": {
              "outlinewidth": 0,
              "ticks": ""
             }
            },
            "type": "scattermap"
           }
          ],
          "scattermapbox": [
           {
            "marker": {
             "colorbar": {
              "outlinewidth": 0,
              "ticks": ""
             }
            },
            "type": "scattermapbox"
           }
          ],
          "scatterpolar": [
           {
            "marker": {
             "colorbar": {
              "outlinewidth": 0,
              "ticks": ""
             }
            },
            "type": "scatterpolar"
           }
          ],
          "scatterpolargl": [
           {
            "marker": {
             "colorbar": {
              "outlinewidth": 0,
              "ticks": ""
             }
            },
            "type": "scatterpolargl"
           }
          ],
          "scatterternary": [
           {
            "marker": {
             "colorbar": {
              "outlinewidth": 0,
              "ticks": ""
             }
            },
            "type": "scatterternary"
           }
          ],
          "surface": [
           {
            "colorbar": {
             "outlinewidth": 0,
             "ticks": ""
            },
            "colorscale": [
             [
              0,
              "#0d0887"
             ],
             [
              0.1111111111111111,
              "#46039f"
             ],
             [
              0.2222222222222222,
              "#7201a8"
             ],
             [
              0.3333333333333333,
              "#9c179e"
             ],
             [
              0.4444444444444444,
              "#bd3786"
             ],
             [
              0.5555555555555556,
              "#d8576b"
             ],
             [
              0.6666666666666666,
              "#ed7953"
             ],
             [
              0.7777777777777778,
              "#fb9f3a"
             ],
             [
              0.8888888888888888,
              "#fdca26"
             ],
             [
              1,
              "#f0f921"
             ]
            ],
            "type": "surface"
           }
          ],
          "table": [
           {
            "cells": {
             "fill": {
              "color": "#EBF0F8"
             },
             "line": {
              "color": "white"
             }
            },
            "header": {
             "fill": {
              "color": "#C8D4E3"
             },
             "line": {
              "color": "white"
             }
            },
            "type": "table"
           }
          ]
         },
         "layout": {
          "annotationdefaults": {
           "arrowcolor": "#2a3f5f",
           "arrowhead": 0,
           "arrowwidth": 1
          },
          "autotypenumbers": "strict",
          "coloraxis": {
           "colorbar": {
            "outlinewidth": 0,
            "ticks": ""
           }
          },
          "colorscale": {
           "diverging": [
            [
             0,
             "#8e0152"
            ],
            [
             0.1,
             "#c51b7d"
            ],
            [
             0.2,
             "#de77ae"
            ],
            [
             0.3,
             "#f1b6da"
            ],
            [
             0.4,
             "#fde0ef"
            ],
            [
             0.5,
             "#f7f7f7"
            ],
            [
             0.6,
             "#e6f5d0"
            ],
            [
             0.7,
             "#b8e186"
            ],
            [
             0.8,
             "#7fbc41"
            ],
            [
             0.9,
             "#4d9221"
            ],
            [
             1,
             "#276419"
            ]
           ],
           "sequential": [
            [
             0,
             "#0d0887"
            ],
            [
             0.1111111111111111,
             "#46039f"
            ],
            [
             0.2222222222222222,
             "#7201a8"
            ],
            [
             0.3333333333333333,
             "#9c179e"
            ],
            [
             0.4444444444444444,
             "#bd3786"
            ],
            [
             0.5555555555555556,
             "#d8576b"
            ],
            [
             0.6666666666666666,
             "#ed7953"
            ],
            [
             0.7777777777777778,
             "#fb9f3a"
            ],
            [
             0.8888888888888888,
             "#fdca26"
            ],
            [
             1,
             "#f0f921"
            ]
           ],
           "sequentialminus": [
            [
             0,
             "#0d0887"
            ],
            [
             0.1111111111111111,
             "#46039f"
            ],
            [
             0.2222222222222222,
             "#7201a8"
            ],
            [
             0.3333333333333333,
             "#9c179e"
            ],
            [
             0.4444444444444444,
             "#bd3786"
            ],
            [
             0.5555555555555556,
             "#d8576b"
            ],
            [
             0.6666666666666666,
             "#ed7953"
            ],
            [
             0.7777777777777778,
             "#fb9f3a"
            ],
            [
             0.8888888888888888,
             "#fdca26"
            ],
            [
             1,
             "#f0f921"
            ]
           ]
          },
          "colorway": [
           "#636efa",
           "#EF553B",
           "#00cc96",
           "#ab63fa",
           "#FFA15A",
           "#19d3f3",
           "#FF6692",
           "#B6E880",
           "#FF97FF",
           "#FECB52"
          ],
          "font": {
           "color": "#2a3f5f"
          },
          "geo": {
           "bgcolor": "white",
           "lakecolor": "white",
           "landcolor": "#E5ECF6",
           "showlakes": true,
           "showland": true,
           "subunitcolor": "white"
          },
          "hoverlabel": {
           "align": "left"
          },
          "hovermode": "closest",
          "mapbox": {
           "style": "light"
          },
          "paper_bgcolor": "white",
          "plot_bgcolor": "#E5ECF6",
          "polar": {
           "angularaxis": {
            "gridcolor": "white",
            "linecolor": "white",
            "ticks": ""
           },
           "bgcolor": "#E5ECF6",
           "radialaxis": {
            "gridcolor": "white",
            "linecolor": "white",
            "ticks": ""
           }
          },
          "scene": {
           "xaxis": {
            "backgroundcolor": "#E5ECF6",
            "gridcolor": "white",
            "gridwidth": 2,
            "linecolor": "white",
            "showbackground": true,
            "ticks": "",
            "zerolinecolor": "white"
           },
           "yaxis": {
            "backgroundcolor": "#E5ECF6",
            "gridcolor": "white",
            "gridwidth": 2,
            "linecolor": "white",
            "showbackground": true,
            "ticks": "",
            "zerolinecolor": "white"
           },
           "zaxis": {
            "backgroundcolor": "#E5ECF6",
            "gridcolor": "white",
            "gridwidth": 2,
            "linecolor": "white",
            "showbackground": true,
            "ticks": "",
            "zerolinecolor": "white"
           }
          },
          "shapedefaults": {
           "line": {
            "color": "#2a3f5f"
           }
          },
          "ternary": {
           "aaxis": {
            "gridcolor": "white",
            "linecolor": "white",
            "ticks": ""
           },
           "baxis": {
            "gridcolor": "white",
            "linecolor": "white",
            "ticks": ""
           },
           "bgcolor": "#E5ECF6",
           "caxis": {
            "gridcolor": "white",
            "linecolor": "white",
            "ticks": ""
           }
          },
          "title": {
           "x": 0.05
          },
          "xaxis": {
           "automargin": true,
           "gridcolor": "white",
           "linecolor": "white",
           "ticks": "",
           "title": {
            "standoff": 15
           },
           "zerolinecolor": "white",
           "zerolinewidth": 2
          },
          "yaxis": {
           "automargin": true,
           "gridcolor": "white",
           "linecolor": "white",
           "ticks": "",
           "title": {
            "standoff": 15
           },
           "zerolinecolor": "white",
           "zerolinewidth": 2
          }
         }
        },
        "title": {
         "text": "일별 주가 변동"
        },
        "xaxis": {
         "anchor": "y",
         "domain": [
          0,
          1
         ],
         "title": {
          "text": "날짜"
         }
        },
        "yaxis": {
         "anchor": "x",
         "domain": [
          0,
          1
         ],
         "title": {
          "text": "주가"
         }
        }
       }
      }
     },
     "metadata": {},
     "output_type": "display_data"
    }
   ],
   "source": [
    "import plotly.express as px\n",
    "import pandas as pd\n",
    "import numpy as np\n",
    "\n",
    "# 시계열 데이터 생성\n",
    "dates = pd.date_range('2024-01-01', periods=30, freq='D')\n",
    "values = np.cumsum(np.random.randn(30)) + 100\n",
    "\n",
    "time_series = pd.DataFrame({\n",
    "    '날짜': dates,\n",
    "    '주가': values\n",
    "})\n",
    "\n",
    "fig = px.line(time_series, x='날짜', y='주가',\n",
    "              title='일별 주가 변동',\n",
    "              markers=True)\n",
    "fig.show()"
   ]
  },
  {
   "cell_type": "markdown",
   "id": "baccf9eb-9f9f-4f85-9a8c-f9bee296a757",
   "metadata": {},
   "source": [
    "## 다중 선 그래프"
   ]
  },
  {
   "cell_type": "code",
   "execution_count": 2,
   "id": "1f1a9d74-142b-4f5b-bfcc-38cb245f1fcf",
   "metadata": {},
   "outputs": [
    {
     "data": {
      "application/vnd.plotly.v1+json": {
       "config": {
        "plotlyServerURL": "https://plot.ly"
       },
       "data": [
        {
         "hovertemplate": "회사=삼성전자<br>날짜=%{x}<br>주가=%{y}<extra></extra>",
         "legendgroup": "삼성전자",
         "line": {
          "color": "#636efa",
          "dash": "solid"
         },
         "marker": {
          "symbol": "circle"
         },
         "mode": "lines",
         "name": "삼성전자",
         "orientation": "v",
         "showlegend": true,
         "type": "scatter",
         "x": [
          "2024-01-01T00:00:00.000000000",
          "2024-01-02T00:00:00.000000000",
          "2024-01-03T00:00:00.000000000",
          "2024-01-04T00:00:00.000000000",
          "2024-01-05T00:00:00.000000000",
          "2024-01-06T00:00:00.000000000",
          "2024-01-07T00:00:00.000000000",
          "2024-01-08T00:00:00.000000000",
          "2024-01-09T00:00:00.000000000",
          "2024-01-10T00:00:00.000000000",
          "2024-01-11T00:00:00.000000000",
          "2024-01-12T00:00:00.000000000",
          "2024-01-13T00:00:00.000000000",
          "2024-01-14T00:00:00.000000000",
          "2024-01-15T00:00:00.000000000",
          "2024-01-16T00:00:00.000000000",
          "2024-01-17T00:00:00.000000000",
          "2024-01-18T00:00:00.000000000",
          "2024-01-19T00:00:00.000000000",
          "2024-01-20T00:00:00.000000000",
          "2024-01-21T00:00:00.000000000",
          "2024-01-22T00:00:00.000000000",
          "2024-01-23T00:00:00.000000000",
          "2024-01-24T00:00:00.000000000",
          "2024-01-25T00:00:00.000000000",
          "2024-01-26T00:00:00.000000000",
          "2024-01-27T00:00:00.000000000",
          "2024-01-28T00:00:00.000000000",
          "2024-01-29T00:00:00.000000000",
          "2024-01-30T00:00:00.000000000"
         ],
         "xaxis": "x",
         "y": {
          "bdata": "/hQ5hB7+WEDbSlMXaPdYQNuLN/R371hAJI6PTBHRWEBmF0z0MPtYQATqVWwMEllAZuKLGpsGWUCg/DFKTulYQHKFLuxpEVlApkScJGVPWUBM7+Oj/RhZQC0akSo5JllAg80lbBpPWUDs17sEIoxYQOMphArtH1lAbknlTvYQWUAzUz8fj0VZQIxUI0U86llAch6+gEffWEBzuD7qlhNZQAR/HmZmelhAEM5Vz3OAWUApliuIWVNYQONB3MTpmlhAkUiWcndTWUA4XwoEJv1YQJMF+m5eCVlAoTFHS/0HWUBfbWbANBBZQBabJfcR9ldA",
          "dtype": "f8"
         },
         "yaxis": "y"
        },
        {
         "hovertemplate": "회사=LG전자<br>날짜=%{x}<br>주가=%{y}<extra></extra>",
         "legendgroup": "LG전자",
         "line": {
          "color": "#EF553B",
          "dash": "dot"
         },
         "marker": {
          "symbol": "circle"
         },
         "mode": "lines",
         "name": "LG전자",
         "orientation": "v",
         "showlegend": true,
         "type": "scatter",
         "x": [
          "2024-01-01T00:00:00.000000000",
          "2024-01-02T00:00:00.000000000",
          "2024-01-03T00:00:00.000000000",
          "2024-01-04T00:00:00.000000000",
          "2024-01-05T00:00:00.000000000",
          "2024-01-06T00:00:00.000000000",
          "2024-01-07T00:00:00.000000000",
          "2024-01-08T00:00:00.000000000",
          "2024-01-09T00:00:00.000000000",
          "2024-01-10T00:00:00.000000000",
          "2024-01-11T00:00:00.000000000",
          "2024-01-12T00:00:00.000000000",
          "2024-01-13T00:00:00.000000000",
          "2024-01-14T00:00:00.000000000",
          "2024-01-15T00:00:00.000000000",
          "2024-01-16T00:00:00.000000000",
          "2024-01-17T00:00:00.000000000",
          "2024-01-18T00:00:00.000000000",
          "2024-01-19T00:00:00.000000000",
          "2024-01-20T00:00:00.000000000",
          "2024-01-21T00:00:00.000000000",
          "2024-01-22T00:00:00.000000000",
          "2024-01-23T00:00:00.000000000",
          "2024-01-24T00:00:00.000000000",
          "2024-01-25T00:00:00.000000000",
          "2024-01-26T00:00:00.000000000",
          "2024-01-27T00:00:00.000000000",
          "2024-01-28T00:00:00.000000000",
          "2024-01-29T00:00:00.000000000",
          "2024-01-30T00:00:00.000000000"
         ],
         "xaxis": "x",
         "y": {
          "bdata": "jmY9stwKWUCHEvg1cP1YQEjRr74DAllAAWyOanTsWED8yv5IxuJYQAbv2AXeE1lALe4hnSDxWED6hg+C3v5YQByOWG8v7VhADrqUsKwfWUAPOkMTnSBZQHitUuuDNVlAaTIc7qteWUDvkSFSkLhYQG7udv/tFllAhCfK9ZnHWECi6MmtDXpZQPONF7/jIVlAmKIjIPWsWEAoZcARvI5YQOMBGBEBK1lAhRfSsBNiWUBmnrThf5FYQHrO9ZlHe1lA3wAChkHBWEDEioMNFSJZQLYtvmpJZFlAoVr3ErV+WEAHVrQF6gRZQCt0cyGywVlA",
          "dtype": "f8"
         },
         "yaxis": "y"
        },
        {
         "hovertemplate": "회사=SK하이닉스<br>날짜=%{x}<br>주가=%{y}<extra></extra>",
         "legendgroup": "SK하이닉스",
         "line": {
          "color": "#00cc96",
          "dash": "dash"
         },
         "marker": {
          "symbol": "circle"
         },
         "mode": "lines",
         "name": "SK하이닉스",
         "orientation": "v",
         "showlegend": true,
         "type": "scatter",
         "x": [
          "2024-01-01T00:00:00.000000000",
          "2024-01-02T00:00:00.000000000",
          "2024-01-03T00:00:00.000000000",
          "2024-01-04T00:00:00.000000000",
          "2024-01-05T00:00:00.000000000",
          "2024-01-06T00:00:00.000000000",
          "2024-01-07T00:00:00.000000000",
          "2024-01-08T00:00:00.000000000",
          "2024-01-09T00:00:00.000000000",
          "2024-01-10T00:00:00.000000000",
          "2024-01-11T00:00:00.000000000",
          "2024-01-12T00:00:00.000000000",
          "2024-01-13T00:00:00.000000000",
          "2024-01-14T00:00:00.000000000",
          "2024-01-15T00:00:00.000000000",
          "2024-01-16T00:00:00.000000000",
          "2024-01-17T00:00:00.000000000",
          "2024-01-18T00:00:00.000000000",
          "2024-01-19T00:00:00.000000000",
          "2024-01-20T00:00:00.000000000",
          "2024-01-21T00:00:00.000000000",
          "2024-01-22T00:00:00.000000000",
          "2024-01-23T00:00:00.000000000",
          "2024-01-24T00:00:00.000000000",
          "2024-01-25T00:00:00.000000000",
          "2024-01-26T00:00:00.000000000",
          "2024-01-27T00:00:00.000000000",
          "2024-01-28T00:00:00.000000000",
          "2024-01-29T00:00:00.000000000",
          "2024-01-30T00:00:00.000000000"
         ],
         "xaxis": "x",
         "y": {
          "bdata": "AgIO9n8GWUBQtMBHy+9YQLLn4ZueDVlA3neQ1M77WEDcqLs4fyFZQPwhXijmE1lAN6Yro6L4WECjnaqCLiJZQKmvAZieFFlAjOxoCxOgWED9ZkX+XUpZQO4at10t/1hAdnb3qbIrWUB6e1WvajVYQG6QStgR9VhAFbK95YrZWED7Gjmt+XlZQOhHbfBvvlhAMUJSNI2sWECpktoKZZVZQKWQb3nQrVhADOIIz/ZKWUD9syiEmKhYQMW+18YPXVlArMupKXolWUBJy4823D5aQKB9C49bPllAT2OWS7axV0Dvu/KPS+BXQIZkjxssK1lA",
          "dtype": "f8"
         },
         "yaxis": "y"
        }
       ],
       "layout": {
        "legend": {
         "title": {
          "text": "회사"
         },
         "tracegroupgap": 0
        },
        "template": {
         "data": {
          "bar": [
           {
            "error_x": {
             "color": "#2a3f5f"
            },
            "error_y": {
             "color": "#2a3f5f"
            },
            "marker": {
             "line": {
              "color": "#E5ECF6",
              "width": 0.5
             },
             "pattern": {
              "fillmode": "overlay",
              "size": 10,
              "solidity": 0.2
             }
            },
            "type": "bar"
           }
          ],
          "barpolar": [
           {
            "marker": {
             "line": {
              "color": "#E5ECF6",
              "width": 0.5
             },
             "pattern": {
              "fillmode": "overlay",
              "size": 10,
              "solidity": 0.2
             }
            },
            "type": "barpolar"
           }
          ],
          "carpet": [
           {
            "aaxis": {
             "endlinecolor": "#2a3f5f",
             "gridcolor": "white",
             "linecolor": "white",
             "minorgridcolor": "white",
             "startlinecolor": "#2a3f5f"
            },
            "baxis": {
             "endlinecolor": "#2a3f5f",
             "gridcolor": "white",
             "linecolor": "white",
             "minorgridcolor": "white",
             "startlinecolor": "#2a3f5f"
            },
            "type": "carpet"
           }
          ],
          "choropleth": [
           {
            "colorbar": {
             "outlinewidth": 0,
             "ticks": ""
            },
            "type": "choropleth"
           }
          ],
          "contour": [
           {
            "colorbar": {
             "outlinewidth": 0,
             "ticks": ""
            },
            "colorscale": [
             [
              0,
              "#0d0887"
             ],
             [
              0.1111111111111111,
              "#46039f"
             ],
             [
              0.2222222222222222,
              "#7201a8"
             ],
             [
              0.3333333333333333,
              "#9c179e"
             ],
             [
              0.4444444444444444,
              "#bd3786"
             ],
             [
              0.5555555555555556,
              "#d8576b"
             ],
             [
              0.6666666666666666,
              "#ed7953"
             ],
             [
              0.7777777777777778,
              "#fb9f3a"
             ],
             [
              0.8888888888888888,
              "#fdca26"
             ],
             [
              1,
              "#f0f921"
             ]
            ],
            "type": "contour"
           }
          ],
          "contourcarpet": [
           {
            "colorbar": {
             "outlinewidth": 0,
             "ticks": ""
            },
            "type": "contourcarpet"
           }
          ],
          "heatmap": [
           {
            "colorbar": {
             "outlinewidth": 0,
             "ticks": ""
            },
            "colorscale": [
             [
              0,
              "#0d0887"
             ],
             [
              0.1111111111111111,
              "#46039f"
             ],
             [
              0.2222222222222222,
              "#7201a8"
             ],
             [
              0.3333333333333333,
              "#9c179e"
             ],
             [
              0.4444444444444444,
              "#bd3786"
             ],
             [
              0.5555555555555556,
              "#d8576b"
             ],
             [
              0.6666666666666666,
              "#ed7953"
             ],
             [
              0.7777777777777778,
              "#fb9f3a"
             ],
             [
              0.8888888888888888,
              "#fdca26"
             ],
             [
              1,
              "#f0f921"
             ]
            ],
            "type": "heatmap"
           }
          ],
          "histogram": [
           {
            "marker": {
             "pattern": {
              "fillmode": "overlay",
              "size": 10,
              "solidity": 0.2
             }
            },
            "type": "histogram"
           }
          ],
          "histogram2d": [
           {
            "colorbar": {
             "outlinewidth": 0,
             "ticks": ""
            },
            "colorscale": [
             [
              0,
              "#0d0887"
             ],
             [
              0.1111111111111111,
              "#46039f"
             ],
             [
              0.2222222222222222,
              "#7201a8"
             ],
             [
              0.3333333333333333,
              "#9c179e"
             ],
             [
              0.4444444444444444,
              "#bd3786"
             ],
             [
              0.5555555555555556,
              "#d8576b"
             ],
             [
              0.6666666666666666,
              "#ed7953"
             ],
             [
              0.7777777777777778,
              "#fb9f3a"
             ],
             [
              0.8888888888888888,
              "#fdca26"
             ],
             [
              1,
              "#f0f921"
             ]
            ],
            "type": "histogram2d"
           }
          ],
          "histogram2dcontour": [
           {
            "colorbar": {
             "outlinewidth": 0,
             "ticks": ""
            },
            "colorscale": [
             [
              0,
              "#0d0887"
             ],
             [
              0.1111111111111111,
              "#46039f"
             ],
             [
              0.2222222222222222,
              "#7201a8"
             ],
             [
              0.3333333333333333,
              "#9c179e"
             ],
             [
              0.4444444444444444,
              "#bd3786"
             ],
             [
              0.5555555555555556,
              "#d8576b"
             ],
             [
              0.6666666666666666,
              "#ed7953"
             ],
             [
              0.7777777777777778,
              "#fb9f3a"
             ],
             [
              0.8888888888888888,
              "#fdca26"
             ],
             [
              1,
              "#f0f921"
             ]
            ],
            "type": "histogram2dcontour"
           }
          ],
          "mesh3d": [
           {
            "colorbar": {
             "outlinewidth": 0,
             "ticks": ""
            },
            "type": "mesh3d"
           }
          ],
          "parcoords": [
           {
            "line": {
             "colorbar": {
              "outlinewidth": 0,
              "ticks": ""
             }
            },
            "type": "parcoords"
           }
          ],
          "pie": [
           {
            "automargin": true,
            "type": "pie"
           }
          ],
          "scatter": [
           {
            "fillpattern": {
             "fillmode": "overlay",
             "size": 10,
             "solidity": 0.2
            },
            "type": "scatter"
           }
          ],
          "scatter3d": [
           {
            "line": {
             "colorbar": {
              "outlinewidth": 0,
              "ticks": ""
             }
            },
            "marker": {
             "colorbar": {
              "outlinewidth": 0,
              "ticks": ""
             }
            },
            "type": "scatter3d"
           }
          ],
          "scattercarpet": [
           {
            "marker": {
             "colorbar": {
              "outlinewidth": 0,
              "ticks": ""
             }
            },
            "type": "scattercarpet"
           }
          ],
          "scattergeo": [
           {
            "marker": {
             "colorbar": {
              "outlinewidth": 0,
              "ticks": ""
             }
            },
            "type": "scattergeo"
           }
          ],
          "scattergl": [
           {
            "marker": {
             "colorbar": {
              "outlinewidth": 0,
              "ticks": ""
             }
            },
            "type": "scattergl"
           }
          ],
          "scattermap": [
           {
            "marker": {
             "colorbar": {
              "outlinewidth": 0,
              "ticks": ""
             }
            },
            "type": "scattermap"
           }
          ],
          "scattermapbox": [
           {
            "marker": {
             "colorbar": {
              "outlinewidth": 0,
              "ticks": ""
             }
            },
            "type": "scattermapbox"
           }
          ],
          "scatterpolar": [
           {
            "marker": {
             "colorbar": {
              "outlinewidth": 0,
              "ticks": ""
             }
            },
            "type": "scatterpolar"
           }
          ],
          "scatterpolargl": [
           {
            "marker": {
             "colorbar": {
              "outlinewidth": 0,
              "ticks": ""
             }
            },
            "type": "scatterpolargl"
           }
          ],
          "scatterternary": [
           {
            "marker": {
             "colorbar": {
              "outlinewidth": 0,
              "ticks": ""
             }
            },
            "type": "scatterternary"
           }
          ],
          "surface": [
           {
            "colorbar": {
             "outlinewidth": 0,
             "ticks": ""
            },
            "colorscale": [
             [
              0,
              "#0d0887"
             ],
             [
              0.1111111111111111,
              "#46039f"
             ],
             [
              0.2222222222222222,
              "#7201a8"
             ],
             [
              0.3333333333333333,
              "#9c179e"
             ],
             [
              0.4444444444444444,
              "#bd3786"
             ],
             [
              0.5555555555555556,
              "#d8576b"
             ],
             [
              0.6666666666666666,
              "#ed7953"
             ],
             [
              0.7777777777777778,
              "#fb9f3a"
             ],
             [
              0.8888888888888888,
              "#fdca26"
             ],
             [
              1,
              "#f0f921"
             ]
            ],
            "type": "surface"
           }
          ],
          "table": [
           {
            "cells": {
             "fill": {
              "color": "#EBF0F8"
             },
             "line": {
              "color": "white"
             }
            },
            "header": {
             "fill": {
              "color": "#C8D4E3"
             },
             "line": {
              "color": "white"
             }
            },
            "type": "table"
           }
          ]
         },
         "layout": {
          "annotationdefaults": {
           "arrowcolor": "#2a3f5f",
           "arrowhead": 0,
           "arrowwidth": 1
          },
          "autotypenumbers": "strict",
          "coloraxis": {
           "colorbar": {
            "outlinewidth": 0,
            "ticks": ""
           }
          },
          "colorscale": {
           "diverging": [
            [
             0,
             "#8e0152"
            ],
            [
             0.1,
             "#c51b7d"
            ],
            [
             0.2,
             "#de77ae"
            ],
            [
             0.3,
             "#f1b6da"
            ],
            [
             0.4,
             "#fde0ef"
            ],
            [
             0.5,
             "#f7f7f7"
            ],
            [
             0.6,
             "#e6f5d0"
            ],
            [
             0.7,
             "#b8e186"
            ],
            [
             0.8,
             "#7fbc41"
            ],
            [
             0.9,
             "#4d9221"
            ],
            [
             1,
             "#276419"
            ]
           ],
           "sequential": [
            [
             0,
             "#0d0887"
            ],
            [
             0.1111111111111111,
             "#46039f"
            ],
            [
             0.2222222222222222,
             "#7201a8"
            ],
            [
             0.3333333333333333,
             "#9c179e"
            ],
            [
             0.4444444444444444,
             "#bd3786"
            ],
            [
             0.5555555555555556,
             "#d8576b"
            ],
            [
             0.6666666666666666,
             "#ed7953"
            ],
            [
             0.7777777777777778,
             "#fb9f3a"
            ],
            [
             0.8888888888888888,
             "#fdca26"
            ],
            [
             1,
             "#f0f921"
            ]
           ],
           "sequentialminus": [
            [
             0,
             "#0d0887"
            ],
            [
             0.1111111111111111,
             "#46039f"
            ],
            [
             0.2222222222222222,
             "#7201a8"
            ],
            [
             0.3333333333333333,
             "#9c179e"
            ],
            [
             0.4444444444444444,
             "#bd3786"
            ],
            [
             0.5555555555555556,
             "#d8576b"
            ],
            [
             0.6666666666666666,
             "#ed7953"
            ],
            [
             0.7777777777777778,
             "#fb9f3a"
            ],
            [
             0.8888888888888888,
             "#fdca26"
            ],
            [
             1,
             "#f0f921"
            ]
           ]
          },
          "colorway": [
           "#636efa",
           "#EF553B",
           "#00cc96",
           "#ab63fa",
           "#FFA15A",
           "#19d3f3",
           "#FF6692",
           "#B6E880",
           "#FF97FF",
           "#FECB52"
          ],
          "font": {
           "color": "#2a3f5f"
          },
          "geo": {
           "bgcolor": "white",
           "lakecolor": "white",
           "landcolor": "#E5ECF6",
           "showlakes": true,
           "showland": true,
           "subunitcolor": "white"
          },
          "hoverlabel": {
           "align": "left"
          },
          "hovermode": "closest",
          "mapbox": {
           "style": "light"
          },
          "paper_bgcolor": "white",
          "plot_bgcolor": "#E5ECF6",
          "polar": {
           "angularaxis": {
            "gridcolor": "white",
            "linecolor": "white",
            "ticks": ""
           },
           "bgcolor": "#E5ECF6",
           "radialaxis": {
            "gridcolor": "white",
            "linecolor": "white",
            "ticks": ""
           }
          },
          "scene": {
           "xaxis": {
            "backgroundcolor": "#E5ECF6",
            "gridcolor": "white",
            "gridwidth": 2,
            "linecolor": "white",
            "showbackground": true,
            "ticks": "",
            "zerolinecolor": "white"
           },
           "yaxis": {
            "backgroundcolor": "#E5ECF6",
            "gridcolor": "white",
            "gridwidth": 2,
            "linecolor": "white",
            "showbackground": true,
            "ticks": "",
            "zerolinecolor": "white"
           },
           "zaxis": {
            "backgroundcolor": "#E5ECF6",
            "gridcolor": "white",
            "gridwidth": 2,
            "linecolor": "white",
            "showbackground": true,
            "ticks": "",
            "zerolinecolor": "white"
           }
          },
          "shapedefaults": {
           "line": {
            "color": "#2a3f5f"
           }
          },
          "ternary": {
           "aaxis": {
            "gridcolor": "white",
            "linecolor": "white",
            "ticks": ""
           },
           "baxis": {
            "gridcolor": "white",
            "linecolor": "white",
            "ticks": ""
           },
           "bgcolor": "#E5ECF6",
           "caxis": {
            "gridcolor": "white",
            "linecolor": "white",
            "ticks": ""
           }
          },
          "title": {
           "x": 0.05
          },
          "xaxis": {
           "automargin": true,
           "gridcolor": "white",
           "linecolor": "white",
           "ticks": "",
           "title": {
            "standoff": 15
           },
           "zerolinecolor": "white",
           "zerolinewidth": 2
          },
          "yaxis": {
           "automargin": true,
           "gridcolor": "white",
           "linecolor": "white",
           "ticks": "",
           "title": {
            "standoff": 15
           },
           "zerolinecolor": "white",
           "zerolinewidth": 2
          }
         }
        },
        "title": {
         "text": "회사별 주가 비교"
        },
        "xaxis": {
         "anchor": "y",
         "domain": [
          0,
          1
         ],
         "title": {
          "text": "날짜"
         }
        },
        "yaxis": {
         "anchor": "x",
         "domain": [
          0,
          1
         ],
         "title": {
          "text": "주가"
         }
        }
       }
      }
     },
     "metadata": {},
     "output_type": "display_data"
    }
   ],
   "source": [
    "# 여러 회사의 주가 비교\n",
    "companies = ['삼성전자', 'LG전자', 'SK하이닉스']\n",
    "stock_data = []\n",
    "\n",
    "for company in companies:\n",
    "    for i, date in enumerate(dates):\n",
    "        price = 100 + np.cumsum(np.random.randn(1))[0] * (i + 1) / 10\n",
    "        stock_data.append({'날짜': date, '회사': company, '주가': price})\n",
    "\n",
    "df_stocks = pd.DataFrame(stock_data)\n",
    "\n",
    "fig = px.line(df_stocks, x='날짜', y='주가', \n",
    "              color='회사', # seaborn에서 hue\n",
    "              title='회사별 주가 비교',\n",
    "              line_dash='회사')  # 선 스타일을 다르게 설정\n",
    "fig.show()"
   ]
  },
  {
   "cell_type": "markdown",
   "id": "a4048641-96a8-4a56-b1e9-8d73803aceb4",
   "metadata": {},
   "source": [
    "# 산점도 (Scatter Plot)"
   ]
  },
  {
   "cell_type": "code",
   "execution_count": 3,
   "id": "3b0e099e-168f-4f1e-a74b-6b8fd3781000",
   "metadata": {},
   "outputs": [
    {
     "data": {
      "application/vnd.plotly.v1+json": {
       "config": {
        "plotlyServerURL": "https://plot.ly"
       },
       "data": [
        {
         "hovertemplate": "키=%{x}<br>몸무게=%{y}<extra></extra>",
         "legendgroup": "",
         "marker": {
          "color": "#636efa",
          "symbol": "circle"
         },
         "mode": "markers",
         "name": "",
         "orientation": "v",
         "showlegend": false,
         "type": "scatter",
         "x": {
          "bdata": "oAClAKoArwC0AKIAqACsALIAuQA=",
          "dtype": "i2"
         },
         "xaxis": "x",
         "y": {
          "bdata": "NzxBRks6P0RJUA==",
          "dtype": "i1"
         },
         "yaxis": "y"
        }
       ],
       "layout": {
        "legend": {
         "tracegroupgap": 0
        },
        "template": {
         "data": {
          "bar": [
           {
            "error_x": {
             "color": "#2a3f5f"
            },
            "error_y": {
             "color": "#2a3f5f"
            },
            "marker": {
             "line": {
              "color": "#E5ECF6",
              "width": 0.5
             },
             "pattern": {
              "fillmode": "overlay",
              "size": 10,
              "solidity": 0.2
             }
            },
            "type": "bar"
           }
          ],
          "barpolar": [
           {
            "marker": {
             "line": {
              "color": "#E5ECF6",
              "width": 0.5
             },
             "pattern": {
              "fillmode": "overlay",
              "size": 10,
              "solidity": 0.2
             }
            },
            "type": "barpolar"
           }
          ],
          "carpet": [
           {
            "aaxis": {
             "endlinecolor": "#2a3f5f",
             "gridcolor": "white",
             "linecolor": "white",
             "minorgridcolor": "white",
             "startlinecolor": "#2a3f5f"
            },
            "baxis": {
             "endlinecolor": "#2a3f5f",
             "gridcolor": "white",
             "linecolor": "white",
             "minorgridcolor": "white",
             "startlinecolor": "#2a3f5f"
            },
            "type": "carpet"
           }
          ],
          "choropleth": [
           {
            "colorbar": {
             "outlinewidth": 0,
             "ticks": ""
            },
            "type": "choropleth"
           }
          ],
          "contour": [
           {
            "colorbar": {
             "outlinewidth": 0,
             "ticks": ""
            },
            "colorscale": [
             [
              0,
              "#0d0887"
             ],
             [
              0.1111111111111111,
              "#46039f"
             ],
             [
              0.2222222222222222,
              "#7201a8"
             ],
             [
              0.3333333333333333,
              "#9c179e"
             ],
             [
              0.4444444444444444,
              "#bd3786"
             ],
             [
              0.5555555555555556,
              "#d8576b"
             ],
             [
              0.6666666666666666,
              "#ed7953"
             ],
             [
              0.7777777777777778,
              "#fb9f3a"
             ],
             [
              0.8888888888888888,
              "#fdca26"
             ],
             [
              1,
              "#f0f921"
             ]
            ],
            "type": "contour"
           }
          ],
          "contourcarpet": [
           {
            "colorbar": {
             "outlinewidth": 0,
             "ticks": ""
            },
            "type": "contourcarpet"
           }
          ],
          "heatmap": [
           {
            "colorbar": {
             "outlinewidth": 0,
             "ticks": ""
            },
            "colorscale": [
             [
              0,
              "#0d0887"
             ],
             [
              0.1111111111111111,
              "#46039f"
             ],
             [
              0.2222222222222222,
              "#7201a8"
             ],
             [
              0.3333333333333333,
              "#9c179e"
             ],
             [
              0.4444444444444444,
              "#bd3786"
             ],
             [
              0.5555555555555556,
              "#d8576b"
             ],
             [
              0.6666666666666666,
              "#ed7953"
             ],
             [
              0.7777777777777778,
              "#fb9f3a"
             ],
             [
              0.8888888888888888,
              "#fdca26"
             ],
             [
              1,
              "#f0f921"
             ]
            ],
            "type": "heatmap"
           }
          ],
          "histogram": [
           {
            "marker": {
             "pattern": {
              "fillmode": "overlay",
              "size": 10,
              "solidity": 0.2
             }
            },
            "type": "histogram"
           }
          ],
          "histogram2d": [
           {
            "colorbar": {
             "outlinewidth": 0,
             "ticks": ""
            },
            "colorscale": [
             [
              0,
              "#0d0887"
             ],
             [
              0.1111111111111111,
              "#46039f"
             ],
             [
              0.2222222222222222,
              "#7201a8"
             ],
             [
              0.3333333333333333,
              "#9c179e"
             ],
             [
              0.4444444444444444,
              "#bd3786"
             ],
             [
              0.5555555555555556,
              "#d8576b"
             ],
             [
              0.6666666666666666,
              "#ed7953"
             ],
             [
              0.7777777777777778,
              "#fb9f3a"
             ],
             [
              0.8888888888888888,
              "#fdca26"
             ],
             [
              1,
              "#f0f921"
             ]
            ],
            "type": "histogram2d"
           }
          ],
          "histogram2dcontour": [
           {
            "colorbar": {
             "outlinewidth": 0,
             "ticks": ""
            },
            "colorscale": [
             [
              0,
              "#0d0887"
             ],
             [
              0.1111111111111111,
              "#46039f"
             ],
             [
              0.2222222222222222,
              "#7201a8"
             ],
             [
              0.3333333333333333,
              "#9c179e"
             ],
             [
              0.4444444444444444,
              "#bd3786"
             ],
             [
              0.5555555555555556,
              "#d8576b"
             ],
             [
              0.6666666666666666,
              "#ed7953"
             ],
             [
              0.7777777777777778,
              "#fb9f3a"
             ],
             [
              0.8888888888888888,
              "#fdca26"
             ],
             [
              1,
              "#f0f921"
             ]
            ],
            "type": "histogram2dcontour"
           }
          ],
          "mesh3d": [
           {
            "colorbar": {
             "outlinewidth": 0,
             "ticks": ""
            },
            "type": "mesh3d"
           }
          ],
          "parcoords": [
           {
            "line": {
             "colorbar": {
              "outlinewidth": 0,
              "ticks": ""
             }
            },
            "type": "parcoords"
           }
          ],
          "pie": [
           {
            "automargin": true,
            "type": "pie"
           }
          ],
          "scatter": [
           {
            "fillpattern": {
             "fillmode": "overlay",
             "size": 10,
             "solidity": 0.2
            },
            "type": "scatter"
           }
          ],
          "scatter3d": [
           {
            "line": {
             "colorbar": {
              "outlinewidth": 0,
              "ticks": ""
             }
            },
            "marker": {
             "colorbar": {
              "outlinewidth": 0,
              "ticks": ""
             }
            },
            "type": "scatter3d"
           }
          ],
          "scattercarpet": [
           {
            "marker": {
             "colorbar": {
              "outlinewidth": 0,
              "ticks": ""
             }
            },
            "type": "scattercarpet"
           }
          ],
          "scattergeo": [
           {
            "marker": {
             "colorbar": {
              "outlinewidth": 0,
              "ticks": ""
             }
            },
            "type": "scattergeo"
           }
          ],
          "scattergl": [
           {
            "marker": {
             "colorbar": {
              "outlinewidth": 0,
              "ticks": ""
             }
            },
            "type": "scattergl"
           }
          ],
          "scattermap": [
           {
            "marker": {
             "colorbar": {
              "outlinewidth": 0,
              "ticks": ""
             }
            },
            "type": "scattermap"
           }
          ],
          "scattermapbox": [
           {
            "marker": {
             "colorbar": {
              "outlinewidth": 0,
              "ticks": ""
             }
            },
            "type": "scattermapbox"
           }
          ],
          "scatterpolar": [
           {
            "marker": {
             "colorbar": {
              "outlinewidth": 0,
              "ticks": ""
             }
            },
            "type": "scatterpolar"
           }
          ],
          "scatterpolargl": [
           {
            "marker": {
             "colorbar": {
              "outlinewidth": 0,
              "ticks": ""
             }
            },
            "type": "scatterpolargl"
           }
          ],
          "scatterternary": [
           {
            "marker": {
             "colorbar": {
              "outlinewidth": 0,
              "ticks": ""
             }
            },
            "type": "scatterternary"
           }
          ],
          "surface": [
           {
            "colorbar": {
             "outlinewidth": 0,
             "ticks": ""
            },
            "colorscale": [
             [
              0,
              "#0d0887"
             ],
             [
              0.1111111111111111,
              "#46039f"
             ],
             [
              0.2222222222222222,
              "#7201a8"
             ],
             [
              0.3333333333333333,
              "#9c179e"
             ],
             [
              0.4444444444444444,
              "#bd3786"
             ],
             [
              0.5555555555555556,
              "#d8576b"
             ],
             [
              0.6666666666666666,
              "#ed7953"
             ],
             [
              0.7777777777777778,
              "#fb9f3a"
             ],
             [
              0.8888888888888888,
              "#fdca26"
             ],
             [
              1,
              "#f0f921"
             ]
            ],
            "type": "surface"
           }
          ],
          "table": [
           {
            "cells": {
             "fill": {
              "color": "#EBF0F8"
             },
             "line": {
              "color": "white"
             }
            },
            "header": {
             "fill": {
              "color": "#C8D4E3"
             },
             "line": {
              "color": "white"
             }
            },
            "type": "table"
           }
          ]
         },
         "layout": {
          "annotationdefaults": {
           "arrowcolor": "#2a3f5f",
           "arrowhead": 0,
           "arrowwidth": 1
          },
          "autotypenumbers": "strict",
          "coloraxis": {
           "colorbar": {
            "outlinewidth": 0,
            "ticks": ""
           }
          },
          "colorscale": {
           "diverging": [
            [
             0,
             "#8e0152"
            ],
            [
             0.1,
             "#c51b7d"
            ],
            [
             0.2,
             "#de77ae"
            ],
            [
             0.3,
             "#f1b6da"
            ],
            [
             0.4,
             "#fde0ef"
            ],
            [
             0.5,
             "#f7f7f7"
            ],
            [
             0.6,
             "#e6f5d0"
            ],
            [
             0.7,
             "#b8e186"
            ],
            [
             0.8,
             "#7fbc41"
            ],
            [
             0.9,
             "#4d9221"
            ],
            [
             1,
             "#276419"
            ]
           ],
           "sequential": [
            [
             0,
             "#0d0887"
            ],
            [
             0.1111111111111111,
             "#46039f"
            ],
            [
             0.2222222222222222,
             "#7201a8"
            ],
            [
             0.3333333333333333,
             "#9c179e"
            ],
            [
             0.4444444444444444,
             "#bd3786"
            ],
            [
             0.5555555555555556,
             "#d8576b"
            ],
            [
             0.6666666666666666,
             "#ed7953"
            ],
            [
             0.7777777777777778,
             "#fb9f3a"
            ],
            [
             0.8888888888888888,
             "#fdca26"
            ],
            [
             1,
             "#f0f921"
            ]
           ],
           "sequentialminus": [
            [
             0,
             "#0d0887"
            ],
            [
             0.1111111111111111,
             "#46039f"
            ],
            [
             0.2222222222222222,
             "#7201a8"
            ],
            [
             0.3333333333333333,
             "#9c179e"
            ],
            [
             0.4444444444444444,
             "#bd3786"
            ],
            [
             0.5555555555555556,
             "#d8576b"
            ],
            [
             0.6666666666666666,
             "#ed7953"
            ],
            [
             0.7777777777777778,
             "#fb9f3a"
            ],
            [
             0.8888888888888888,
             "#fdca26"
            ],
            [
             1,
             "#f0f921"
            ]
           ]
          },
          "colorway": [
           "#636efa",
           "#EF553B",
           "#00cc96",
           "#ab63fa",
           "#FFA15A",
           "#19d3f3",
           "#FF6692",
           "#B6E880",
           "#FF97FF",
           "#FECB52"
          ],
          "font": {
           "color": "#2a3f5f"
          },
          "geo": {
           "bgcolor": "white",
           "lakecolor": "white",
           "landcolor": "#E5ECF6",
           "showlakes": true,
           "showland": true,
           "subunitcolor": "white"
          },
          "hoverlabel": {
           "align": "left"
          },
          "hovermode": "closest",
          "mapbox": {
           "style": "light"
          },
          "paper_bgcolor": "white",
          "plot_bgcolor": "#E5ECF6",
          "polar": {
           "angularaxis": {
            "gridcolor": "white",
            "linecolor": "white",
            "ticks": ""
           },
           "bgcolor": "#E5ECF6",
           "radialaxis": {
            "gridcolor": "white",
            "linecolor": "white",
            "ticks": ""
           }
          },
          "scene": {
           "xaxis": {
            "backgroundcolor": "#E5ECF6",
            "gridcolor": "white",
            "gridwidth": 2,
            "linecolor": "white",
            "showbackground": true,
            "ticks": "",
            "zerolinecolor": "white"
           },
           "yaxis": {
            "backgroundcolor": "#E5ECF6",
            "gridcolor": "white",
            "gridwidth": 2,
            "linecolor": "white",
            "showbackground": true,
            "ticks": "",
            "zerolinecolor": "white"
           },
           "zaxis": {
            "backgroundcolor": "#E5ECF6",
            "gridcolor": "white",
            "gridwidth": 2,
            "linecolor": "white",
            "showbackground": true,
            "ticks": "",
            "zerolinecolor": "white"
           }
          },
          "shapedefaults": {
           "line": {
            "color": "#2a3f5f"
           }
          },
          "ternary": {
           "aaxis": {
            "gridcolor": "white",
            "linecolor": "white",
            "ticks": ""
           },
           "baxis": {
            "gridcolor": "white",
            "linecolor": "white",
            "ticks": ""
           },
           "bgcolor": "#E5ECF6",
           "caxis": {
            "gridcolor": "white",
            "linecolor": "white",
            "ticks": ""
           }
          },
          "title": {
           "x": 0.05
          },
          "xaxis": {
           "automargin": true,
           "gridcolor": "white",
           "linecolor": "white",
           "ticks": "",
           "title": {
            "standoff": 15
           },
           "zerolinecolor": "white",
           "zerolinewidth": 2
          },
          "yaxis": {
           "automargin": true,
           "gridcolor": "white",
           "linecolor": "white",
           "ticks": "",
           "title": {
            "standoff": 15
           },
           "zerolinecolor": "white",
           "zerolinewidth": 2
          }
         }
        },
        "title": {
         "text": "키와 몸무게의 관계"
        },
        "xaxis": {
         "anchor": "y",
         "domain": [
          0,
          1
         ],
         "title": {
          "text": "키"
         }
        },
        "yaxis": {
         "anchor": "x",
         "domain": [
          0,
          1
         ],
         "title": {
          "text": "몸무게"
         }
        }
       }
      }
     },
     "metadata": {},
     "output_type": "display_data"
    }
   ],
   "source": [
    "# 키와 몸무게 데이터\n",
    "height_weight = {\n",
    "    '키': [160, 165, 170, 175, 180, 162, 168, 172, 178, 185],\n",
    "    '몸무게': [55, 60, 65, 70, 75, 58, 63, 68, 73, 80],\n",
    "    '성별': ['여성', '여성', '여성', '남성', '남성', \n",
    "           '여성', '여성', '남성', '남성', '남성']\n",
    "}\n",
    "\n",
    "df_body = pd.DataFrame(height_weight)\n",
    "\n",
    "fig = px.scatter(df_body, x='키', y='몸무게',\n",
    "                 title='키와 몸무게의 관계')\n",
    "fig.show()\n"
   ]
  },
  {
   "cell_type": "markdown",
   "id": "9a8d9c96-7ca4-4122-b259-3aee30071105",
   "metadata": {},
   "source": [
    "## 그룹별 산점도"
   ]
  },
  {
   "cell_type": "code",
   "execution_count": 4,
   "id": "8d86b676-aae9-468b-b8f4-cd0a2bb2d447",
   "metadata": {},
   "outputs": [
    {
     "data": {
      "application/vnd.plotly.v1+json": {
       "config": {
        "plotlyServerURL": "https://plot.ly"
       },
       "data": [
        {
         "hovertemplate": "성별=여성<br>키=%{x}<br>몸무게=%{y}<extra></extra>",
         "legendgroup": "여성",
         "marker": {
          "color": "#636efa",
          "symbol": "circle"
         },
         "mode": "markers",
         "name": "여성",
         "orientation": "v",
         "showlegend": true,
         "type": "scatter",
         "x": {
          "bdata": "oAClAKoAogCoAA==",
          "dtype": "i2"
         },
         "xaxis": "x",
         "y": {
          "bdata": "NzxBOj8=",
          "dtype": "i1"
         },
         "yaxis": "y"
        },
        {
         "hovertemplate": "성별=남성<br>키=%{x}<br>몸무게=%{y}<extra></extra>",
         "legendgroup": "남성",
         "marker": {
          "color": "#EF553B",
          "symbol": "circle"
         },
         "mode": "markers",
         "name": "남성",
         "orientation": "v",
         "showlegend": true,
         "type": "scatter",
         "x": {
          "bdata": "rwC0AKwAsgC5AA==",
          "dtype": "i2"
         },
         "xaxis": "x",
         "y": {
          "bdata": "RktESVA=",
          "dtype": "i1"
         },
         "yaxis": "y"
        }
       ],
       "layout": {
        "legend": {
         "title": {
          "text": "성별"
         },
         "tracegroupgap": 0
        },
        "template": {
         "data": {
          "bar": [
           {
            "error_x": {
             "color": "#2a3f5f"
            },
            "error_y": {
             "color": "#2a3f5f"
            },
            "marker": {
             "line": {
              "color": "#E5ECF6",
              "width": 0.5
             },
             "pattern": {
              "fillmode": "overlay",
              "size": 10,
              "solidity": 0.2
             }
            },
            "type": "bar"
           }
          ],
          "barpolar": [
           {
            "marker": {
             "line": {
              "color": "#E5ECF6",
              "width": 0.5
             },
             "pattern": {
              "fillmode": "overlay",
              "size": 10,
              "solidity": 0.2
             }
            },
            "type": "barpolar"
           }
          ],
          "carpet": [
           {
            "aaxis": {
             "endlinecolor": "#2a3f5f",
             "gridcolor": "white",
             "linecolor": "white",
             "minorgridcolor": "white",
             "startlinecolor": "#2a3f5f"
            },
            "baxis": {
             "endlinecolor": "#2a3f5f",
             "gridcolor": "white",
             "linecolor": "white",
             "minorgridcolor": "white",
             "startlinecolor": "#2a3f5f"
            },
            "type": "carpet"
           }
          ],
          "choropleth": [
           {
            "colorbar": {
             "outlinewidth": 0,
             "ticks": ""
            },
            "type": "choropleth"
           }
          ],
          "contour": [
           {
            "colorbar": {
             "outlinewidth": 0,
             "ticks": ""
            },
            "colorscale": [
             [
              0,
              "#0d0887"
             ],
             [
              0.1111111111111111,
              "#46039f"
             ],
             [
              0.2222222222222222,
              "#7201a8"
             ],
             [
              0.3333333333333333,
              "#9c179e"
             ],
             [
              0.4444444444444444,
              "#bd3786"
             ],
             [
              0.5555555555555556,
              "#d8576b"
             ],
             [
              0.6666666666666666,
              "#ed7953"
             ],
             [
              0.7777777777777778,
              "#fb9f3a"
             ],
             [
              0.8888888888888888,
              "#fdca26"
             ],
             [
              1,
              "#f0f921"
             ]
            ],
            "type": "contour"
           }
          ],
          "contourcarpet": [
           {
            "colorbar": {
             "outlinewidth": 0,
             "ticks": ""
            },
            "type": "contourcarpet"
           }
          ],
          "heatmap": [
           {
            "colorbar": {
             "outlinewidth": 0,
             "ticks": ""
            },
            "colorscale": [
             [
              0,
              "#0d0887"
             ],
             [
              0.1111111111111111,
              "#46039f"
             ],
             [
              0.2222222222222222,
              "#7201a8"
             ],
             [
              0.3333333333333333,
              "#9c179e"
             ],
             [
              0.4444444444444444,
              "#bd3786"
             ],
             [
              0.5555555555555556,
              "#d8576b"
             ],
             [
              0.6666666666666666,
              "#ed7953"
             ],
             [
              0.7777777777777778,
              "#fb9f3a"
             ],
             [
              0.8888888888888888,
              "#fdca26"
             ],
             [
              1,
              "#f0f921"
             ]
            ],
            "type": "heatmap"
           }
          ],
          "histogram": [
           {
            "marker": {
             "pattern": {
              "fillmode": "overlay",
              "size": 10,
              "solidity": 0.2
             }
            },
            "type": "histogram"
           }
          ],
          "histogram2d": [
           {
            "colorbar": {
             "outlinewidth": 0,
             "ticks": ""
            },
            "colorscale": [
             [
              0,
              "#0d0887"
             ],
             [
              0.1111111111111111,
              "#46039f"
             ],
             [
              0.2222222222222222,
              "#7201a8"
             ],
             [
              0.3333333333333333,
              "#9c179e"
             ],
             [
              0.4444444444444444,
              "#bd3786"
             ],
             [
              0.5555555555555556,
              "#d8576b"
             ],
             [
              0.6666666666666666,
              "#ed7953"
             ],
             [
              0.7777777777777778,
              "#fb9f3a"
             ],
             [
              0.8888888888888888,
              "#fdca26"
             ],
             [
              1,
              "#f0f921"
             ]
            ],
            "type": "histogram2d"
           }
          ],
          "histogram2dcontour": [
           {
            "colorbar": {
             "outlinewidth": 0,
             "ticks": ""
            },
            "colorscale": [
             [
              0,
              "#0d0887"
             ],
             [
              0.1111111111111111,
              "#46039f"
             ],
             [
              0.2222222222222222,
              "#7201a8"
             ],
             [
              0.3333333333333333,
              "#9c179e"
             ],
             [
              0.4444444444444444,
              "#bd3786"
             ],
             [
              0.5555555555555556,
              "#d8576b"
             ],
             [
              0.6666666666666666,
              "#ed7953"
             ],
             [
              0.7777777777777778,
              "#fb9f3a"
             ],
             [
              0.8888888888888888,
              "#fdca26"
             ],
             [
              1,
              "#f0f921"
             ]
            ],
            "type": "histogram2dcontour"
           }
          ],
          "mesh3d": [
           {
            "colorbar": {
             "outlinewidth": 0,
             "ticks": ""
            },
            "type": "mesh3d"
           }
          ],
          "parcoords": [
           {
            "line": {
             "colorbar": {
              "outlinewidth": 0,
              "ticks": ""
             }
            },
            "type": "parcoords"
           }
          ],
          "pie": [
           {
            "automargin": true,
            "type": "pie"
           }
          ],
          "scatter": [
           {
            "fillpattern": {
             "fillmode": "overlay",
             "size": 10,
             "solidity": 0.2
            },
            "type": "scatter"
           }
          ],
          "scatter3d": [
           {
            "line": {
             "colorbar": {
              "outlinewidth": 0,
              "ticks": ""
             }
            },
            "marker": {
             "colorbar": {
              "outlinewidth": 0,
              "ticks": ""
             }
            },
            "type": "scatter3d"
           }
          ],
          "scattercarpet": [
           {
            "marker": {
             "colorbar": {
              "outlinewidth": 0,
              "ticks": ""
             }
            },
            "type": "scattercarpet"
           }
          ],
          "scattergeo": [
           {
            "marker": {
             "colorbar": {
              "outlinewidth": 0,
              "ticks": ""
             }
            },
            "type": "scattergeo"
           }
          ],
          "scattergl": [
           {
            "marker": {
             "colorbar": {
              "outlinewidth": 0,
              "ticks": ""
             }
            },
            "type": "scattergl"
           }
          ],
          "scattermap": [
           {
            "marker": {
             "colorbar": {
              "outlinewidth": 0,
              "ticks": ""
             }
            },
            "type": "scattermap"
           }
          ],
          "scattermapbox": [
           {
            "marker": {
             "colorbar": {
              "outlinewidth": 0,
              "ticks": ""
             }
            },
            "type": "scattermapbox"
           }
          ],
          "scatterpolar": [
           {
            "marker": {
             "colorbar": {
              "outlinewidth": 0,
              "ticks": ""
             }
            },
            "type": "scatterpolar"
           }
          ],
          "scatterpolargl": [
           {
            "marker": {
             "colorbar": {
              "outlinewidth": 0,
              "ticks": ""
             }
            },
            "type": "scatterpolargl"
           }
          ],
          "scatterternary": [
           {
            "marker": {
             "colorbar": {
              "outlinewidth": 0,
              "ticks": ""
             }
            },
            "type": "scatterternary"
           }
          ],
          "surface": [
           {
            "colorbar": {
             "outlinewidth": 0,
             "ticks": ""
            },
            "colorscale": [
             [
              0,
              "#0d0887"
             ],
             [
              0.1111111111111111,
              "#46039f"
             ],
             [
              0.2222222222222222,
              "#7201a8"
             ],
             [
              0.3333333333333333,
              "#9c179e"
             ],
             [
              0.4444444444444444,
              "#bd3786"
             ],
             [
              0.5555555555555556,
              "#d8576b"
             ],
             [
              0.6666666666666666,
              "#ed7953"
             ],
             [
              0.7777777777777778,
              "#fb9f3a"
             ],
             [
              0.8888888888888888,
              "#fdca26"
             ],
             [
              1,
              "#f0f921"
             ]
            ],
            "type": "surface"
           }
          ],
          "table": [
           {
            "cells": {
             "fill": {
              "color": "#EBF0F8"
             },
             "line": {
              "color": "white"
             }
            },
            "header": {
             "fill": {
              "color": "#C8D4E3"
             },
             "line": {
              "color": "white"
             }
            },
            "type": "table"
           }
          ]
         },
         "layout": {
          "annotationdefaults": {
           "arrowcolor": "#2a3f5f",
           "arrowhead": 0,
           "arrowwidth": 1
          },
          "autotypenumbers": "strict",
          "coloraxis": {
           "colorbar": {
            "outlinewidth": 0,
            "ticks": ""
           }
          },
          "colorscale": {
           "diverging": [
            [
             0,
             "#8e0152"
            ],
            [
             0.1,
             "#c51b7d"
            ],
            [
             0.2,
             "#de77ae"
            ],
            [
             0.3,
             "#f1b6da"
            ],
            [
             0.4,
             "#fde0ef"
            ],
            [
             0.5,
             "#f7f7f7"
            ],
            [
             0.6,
             "#e6f5d0"
            ],
            [
             0.7,
             "#b8e186"
            ],
            [
             0.8,
             "#7fbc41"
            ],
            [
             0.9,
             "#4d9221"
            ],
            [
             1,
             "#276419"
            ]
           ],
           "sequential": [
            [
             0,
             "#0d0887"
            ],
            [
             0.1111111111111111,
             "#46039f"
            ],
            [
             0.2222222222222222,
             "#7201a8"
            ],
            [
             0.3333333333333333,
             "#9c179e"
            ],
            [
             0.4444444444444444,
             "#bd3786"
            ],
            [
             0.5555555555555556,
             "#d8576b"
            ],
            [
             0.6666666666666666,
             "#ed7953"
            ],
            [
             0.7777777777777778,
             "#fb9f3a"
            ],
            [
             0.8888888888888888,
             "#fdca26"
            ],
            [
             1,
             "#f0f921"
            ]
           ],
           "sequentialminus": [
            [
             0,
             "#0d0887"
            ],
            [
             0.1111111111111111,
             "#46039f"
            ],
            [
             0.2222222222222222,
             "#7201a8"
            ],
            [
             0.3333333333333333,
             "#9c179e"
            ],
            [
             0.4444444444444444,
             "#bd3786"
            ],
            [
             0.5555555555555556,
             "#d8576b"
            ],
            [
             0.6666666666666666,
             "#ed7953"
            ],
            [
             0.7777777777777778,
             "#fb9f3a"
            ],
            [
             0.8888888888888888,
             "#fdca26"
            ],
            [
             1,
             "#f0f921"
            ]
           ]
          },
          "colorway": [
           "#636efa",
           "#EF553B",
           "#00cc96",
           "#ab63fa",
           "#FFA15A",
           "#19d3f3",
           "#FF6692",
           "#B6E880",
           "#FF97FF",
           "#FECB52"
          ],
          "font": {
           "color": "#2a3f5f"
          },
          "geo": {
           "bgcolor": "white",
           "lakecolor": "white",
           "landcolor": "#E5ECF6",
           "showlakes": true,
           "showland": true,
           "subunitcolor": "white"
          },
          "hoverlabel": {
           "align": "left"
          },
          "hovermode": "closest",
          "mapbox": {
           "style": "light"
          },
          "paper_bgcolor": "white",
          "plot_bgcolor": "#E5ECF6",
          "polar": {
           "angularaxis": {
            "gridcolor": "white",
            "linecolor": "white",
            "ticks": ""
           },
           "bgcolor": "#E5ECF6",
           "radialaxis": {
            "gridcolor": "white",
            "linecolor": "white",
            "ticks": ""
           }
          },
          "scene": {
           "xaxis": {
            "backgroundcolor": "#E5ECF6",
            "gridcolor": "white",
            "gridwidth": 2,
            "linecolor": "white",
            "showbackground": true,
            "ticks": "",
            "zerolinecolor": "white"
           },
           "yaxis": {
            "backgroundcolor": "#E5ECF6",
            "gridcolor": "white",
            "gridwidth": 2,
            "linecolor": "white",
            "showbackground": true,
            "ticks": "",
            "zerolinecolor": "white"
           },
           "zaxis": {
            "backgroundcolor": "#E5ECF6",
            "gridcolor": "white",
            "gridwidth": 2,
            "linecolor": "white",
            "showbackground": true,
            "ticks": "",
            "zerolinecolor": "white"
           }
          },
          "shapedefaults": {
           "line": {
            "color": "#2a3f5f"
           }
          },
          "ternary": {
           "aaxis": {
            "gridcolor": "white",
            "linecolor": "white",
            "ticks": ""
           },
           "baxis": {
            "gridcolor": "white",
            "linecolor": "white",
            "ticks": ""
           },
           "bgcolor": "#E5ECF6",
           "caxis": {
            "gridcolor": "white",
            "linecolor": "white",
            "ticks": ""
           }
          },
          "title": {
           "x": 0.05
          },
          "xaxis": {
           "automargin": true,
           "gridcolor": "white",
           "linecolor": "white",
           "ticks": "",
           "title": {
            "standoff": 15
           },
           "zerolinecolor": "white",
           "zerolinewidth": 2
          },
          "yaxis": {
           "automargin": true,
           "gridcolor": "white",
           "linecolor": "white",
           "ticks": "",
           "title": {
            "standoff": 15
           },
           "zerolinecolor": "white",
           "zerolinewidth": 2
          }
         }
        },
        "title": {
         "text": "성별에 따른 키와 몸무게 관계"
        },
        "xaxis": {
         "anchor": "y",
         "domain": [
          0,
          1
         ],
         "title": {
          "text": "키 (cm)"
         }
        },
        "yaxis": {
         "anchor": "x",
         "domain": [
          0,
          1
         ],
         "title": {
          "text": "몸무게 (kg)"
         }
        }
       }
      }
     },
     "metadata": {},
     "output_type": "display_data"
    }
   ],
   "source": [
    "# 성별로 구분한 산점도\n",
    "fig = px.scatter(df_body, x='키', y='몸무게', \n",
    "                 color='성별',\n",
    "                 title='성별에 따른 키와 몸무게 관계',\n",
    "                 size_max=15)\n",
    "\n",
    "# 회귀선 추가\n",
    "fig.update_layout(\n",
    "    xaxis_title=\"키 (cm)\",\n",
    "    yaxis_title=\"몸무게 (kg)\"\n",
    ")\n",
    "\n",
    "fig.show()"
   ]
  },
  {
   "cell_type": "markdown",
   "id": "468cabe1-636d-4b05-abf5-bbd8f5ddd86e",
   "metadata": {},
   "source": [
    "## 버블 차트"
   ]
  },
  {
   "cell_type": "code",
   "execution_count": 5,
   "id": "aa2224cf-f151-423c-adb6-499f045443a2",
   "metadata": {},
   "outputs": [
    {
     "data": {
      "application/vnd.plotly.v1+json": {
       "config": {
        "plotlyServerURL": "https://plot.ly"
       },
       "data": [
        {
         "hovertemplate": "<b>%{hovertext}</b><br><br>대륙=아시아<br>GDP=%{marker.size}<br>인구=%{y}<extra></extra>",
         "hovertext": [
          "한국",
          "일본",
          "중국"
         ],
         "legendgroup": "아시아",
         "marker": {
          "color": "#636efa",
          "size": {
           "bdata": "CAdoELA2",
           "dtype": "i2"
          },
          "sizemode": "area",
          "sizeref": 5.833333333333333,
          "symbol": "circle"
         },
         "mode": "markers",
         "name": "아시아",
         "orientation": "v",
         "showlegend": true,
         "type": "scatter",
         "x": {
          "bdata": "CAdoELA2",
          "dtype": "i2"
         },
         "xaxis": "x",
         "y": {
          "bdata": "MwB+AHgF",
          "dtype": "i2"
         },
         "yaxis": "y"
        },
        {
         "hovertemplate": "<b>%{hovertext}</b><br><br>대륙=북미<br>GDP=%{marker.size}<br>인구=%{y}<extra></extra>",
         "hovertext": [
          "미국"
         ],
         "legendgroup": "북미",
         "marker": {
          "color": "#EF553B",
          "size": {
           "bdata": "CFI=",
           "dtype": "i2"
          },
          "sizemode": "area",
          "sizeref": 5.833333333333333,
          "symbol": "circle"
         },
         "mode": "markers",
         "name": "북미",
         "orientation": "v",
         "showlegend": true,
         "type": "scatter",
         "x": {
          "bdata": "CFI=",
          "dtype": "i2"
         },
         "xaxis": "x",
         "y": {
          "bdata": "SgE=",
          "dtype": "i2"
         },
         "yaxis": "y"
        },
        {
         "hovertemplate": "<b>%{hovertext}</b><br><br>대륙=유럽<br>GDP=%{marker.size}<br>인구=%{y}<extra></extra>",
         "hovertext": [
          "독일"
         ],
         "legendgroup": "유럽",
         "marker": {
          "color": "#00cc96",
          "size": {
           "bdata": "2A4=",
           "dtype": "i2"
          },
          "sizemode": "area",
          "sizeref": 5.833333333333333,
          "symbol": "circle"
         },
         "mode": "markers",
         "name": "유럽",
         "orientation": "v",
         "showlegend": true,
         "type": "scatter",
         "x": {
          "bdata": "2A4=",
          "dtype": "i2"
         },
         "xaxis": "x",
         "y": {
          "bdata": "Uw==",
          "dtype": "i1"
         },
         "yaxis": "y"
        }
       ],
       "layout": {
        "legend": {
         "itemsizing": "constant",
         "title": {
          "text": "대륙"
         },
         "tracegroupgap": 0
        },
        "template": {
         "data": {
          "bar": [
           {
            "error_x": {
             "color": "#2a3f5f"
            },
            "error_y": {
             "color": "#2a3f5f"
            },
            "marker": {
             "line": {
              "color": "#E5ECF6",
              "width": 0.5
             },
             "pattern": {
              "fillmode": "overlay",
              "size": 10,
              "solidity": 0.2
             }
            },
            "type": "bar"
           }
          ],
          "barpolar": [
           {
            "marker": {
             "line": {
              "color": "#E5ECF6",
              "width": 0.5
             },
             "pattern": {
              "fillmode": "overlay",
              "size": 10,
              "solidity": 0.2
             }
            },
            "type": "barpolar"
           }
          ],
          "carpet": [
           {
            "aaxis": {
             "endlinecolor": "#2a3f5f",
             "gridcolor": "white",
             "linecolor": "white",
             "minorgridcolor": "white",
             "startlinecolor": "#2a3f5f"
            },
            "baxis": {
             "endlinecolor": "#2a3f5f",
             "gridcolor": "white",
             "linecolor": "white",
             "minorgridcolor": "white",
             "startlinecolor": "#2a3f5f"
            },
            "type": "carpet"
           }
          ],
          "choropleth": [
           {
            "colorbar": {
             "outlinewidth": 0,
             "ticks": ""
            },
            "type": "choropleth"
           }
          ],
          "contour": [
           {
            "colorbar": {
             "outlinewidth": 0,
             "ticks": ""
            },
            "colorscale": [
             [
              0,
              "#0d0887"
             ],
             [
              0.1111111111111111,
              "#46039f"
             ],
             [
              0.2222222222222222,
              "#7201a8"
             ],
             [
              0.3333333333333333,
              "#9c179e"
             ],
             [
              0.4444444444444444,
              "#bd3786"
             ],
             [
              0.5555555555555556,
              "#d8576b"
             ],
             [
              0.6666666666666666,
              "#ed7953"
             ],
             [
              0.7777777777777778,
              "#fb9f3a"
             ],
             [
              0.8888888888888888,
              "#fdca26"
             ],
             [
              1,
              "#f0f921"
             ]
            ],
            "type": "contour"
           }
          ],
          "contourcarpet": [
           {
            "colorbar": {
             "outlinewidth": 0,
             "ticks": ""
            },
            "type": "contourcarpet"
           }
          ],
          "heatmap": [
           {
            "colorbar": {
             "outlinewidth": 0,
             "ticks": ""
            },
            "colorscale": [
             [
              0,
              "#0d0887"
             ],
             [
              0.1111111111111111,
              "#46039f"
             ],
             [
              0.2222222222222222,
              "#7201a8"
             ],
             [
              0.3333333333333333,
              "#9c179e"
             ],
             [
              0.4444444444444444,
              "#bd3786"
             ],
             [
              0.5555555555555556,
              "#d8576b"
             ],
             [
              0.6666666666666666,
              "#ed7953"
             ],
             [
              0.7777777777777778,
              "#fb9f3a"
             ],
             [
              0.8888888888888888,
              "#fdca26"
             ],
             [
              1,
              "#f0f921"
             ]
            ],
            "type": "heatmap"
           }
          ],
          "histogram": [
           {
            "marker": {
             "pattern": {
              "fillmode": "overlay",
              "size": 10,
              "solidity": 0.2
             }
            },
            "type": "histogram"
           }
          ],
          "histogram2d": [
           {
            "colorbar": {
             "outlinewidth": 0,
             "ticks": ""
            },
            "colorscale": [
             [
              0,
              "#0d0887"
             ],
             [
              0.1111111111111111,
              "#46039f"
             ],
             [
              0.2222222222222222,
              "#7201a8"
             ],
             [
              0.3333333333333333,
              "#9c179e"
             ],
             [
              0.4444444444444444,
              "#bd3786"
             ],
             [
              0.5555555555555556,
              "#d8576b"
             ],
             [
              0.6666666666666666,
              "#ed7953"
             ],
             [
              0.7777777777777778,
              "#fb9f3a"
             ],
             [
              0.8888888888888888,
              "#fdca26"
             ],
             [
              1,
              "#f0f921"
             ]
            ],
            "type": "histogram2d"
           }
          ],
          "histogram2dcontour": [
           {
            "colorbar": {
             "outlinewidth": 0,
             "ticks": ""
            },
            "colorscale": [
             [
              0,
              "#0d0887"
             ],
             [
              0.1111111111111111,
              "#46039f"
             ],
             [
              0.2222222222222222,
              "#7201a8"
             ],
             [
              0.3333333333333333,
              "#9c179e"
             ],
             [
              0.4444444444444444,
              "#bd3786"
             ],
             [
              0.5555555555555556,
              "#d8576b"
             ],
             [
              0.6666666666666666,
              "#ed7953"
             ],
             [
              0.7777777777777778,
              "#fb9f3a"
             ],
             [
              0.8888888888888888,
              "#fdca26"
             ],
             [
              1,
              "#f0f921"
             ]
            ],
            "type": "histogram2dcontour"
           }
          ],
          "mesh3d": [
           {
            "colorbar": {
             "outlinewidth": 0,
             "ticks": ""
            },
            "type": "mesh3d"
           }
          ],
          "parcoords": [
           {
            "line": {
             "colorbar": {
              "outlinewidth": 0,
              "ticks": ""
             }
            },
            "type": "parcoords"
           }
          ],
          "pie": [
           {
            "automargin": true,
            "type": "pie"
           }
          ],
          "scatter": [
           {
            "fillpattern": {
             "fillmode": "overlay",
             "size": 10,
             "solidity": 0.2
            },
            "type": "scatter"
           }
          ],
          "scatter3d": [
           {
            "line": {
             "colorbar": {
              "outlinewidth": 0,
              "ticks": ""
             }
            },
            "marker": {
             "colorbar": {
              "outlinewidth": 0,
              "ticks": ""
             }
            },
            "type": "scatter3d"
           }
          ],
          "scattercarpet": [
           {
            "marker": {
             "colorbar": {
              "outlinewidth": 0,
              "ticks": ""
             }
            },
            "type": "scattercarpet"
           }
          ],
          "scattergeo": [
           {
            "marker": {
             "colorbar": {
              "outlinewidth": 0,
              "ticks": ""
             }
            },
            "type": "scattergeo"
           }
          ],
          "scattergl": [
           {
            "marker": {
             "colorbar": {
              "outlinewidth": 0,
              "ticks": ""
             }
            },
            "type": "scattergl"
           }
          ],
          "scattermap": [
           {
            "marker": {
             "colorbar": {
              "outlinewidth": 0,
              "ticks": ""
             }
            },
            "type": "scattermap"
           }
          ],
          "scattermapbox": [
           {
            "marker": {
             "colorbar": {
              "outlinewidth": 0,
              "ticks": ""
             }
            },
            "type": "scattermapbox"
           }
          ],
          "scatterpolar": [
           {
            "marker": {
             "colorbar": {
              "outlinewidth": 0,
              "ticks": ""
             }
            },
            "type": "scatterpolar"
           }
          ],
          "scatterpolargl": [
           {
            "marker": {
             "colorbar": {
              "outlinewidth": 0,
              "ticks": ""
             }
            },
            "type": "scatterpolargl"
           }
          ],
          "scatterternary": [
           {
            "marker": {
             "colorbar": {
              "outlinewidth": 0,
              "ticks": ""
             }
            },
            "type": "scatterternary"
           }
          ],
          "surface": [
           {
            "colorbar": {
             "outlinewidth": 0,
             "ticks": ""
            },
            "colorscale": [
             [
              0,
              "#0d0887"
             ],
             [
              0.1111111111111111,
              "#46039f"
             ],
             [
              0.2222222222222222,
              "#7201a8"
             ],
             [
              0.3333333333333333,
              "#9c179e"
             ],
             [
              0.4444444444444444,
              "#bd3786"
             ],
             [
              0.5555555555555556,
              "#d8576b"
             ],
             [
              0.6666666666666666,
              "#ed7953"
             ],
             [
              0.7777777777777778,
              "#fb9f3a"
             ],
             [
              0.8888888888888888,
              "#fdca26"
             ],
             [
              1,
              "#f0f921"
             ]
            ],
            "type": "surface"
           }
          ],
          "table": [
           {
            "cells": {
             "fill": {
              "color": "#EBF0F8"
             },
             "line": {
              "color": "white"
             }
            },
            "header": {
             "fill": {
              "color": "#C8D4E3"
             },
             "line": {
              "color": "white"
             }
            },
            "type": "table"
           }
          ]
         },
         "layout": {
          "annotationdefaults": {
           "arrowcolor": "#2a3f5f",
           "arrowhead": 0,
           "arrowwidth": 1
          },
          "autotypenumbers": "strict",
          "coloraxis": {
           "colorbar": {
            "outlinewidth": 0,
            "ticks": ""
           }
          },
          "colorscale": {
           "diverging": [
            [
             0,
             "#8e0152"
            ],
            [
             0.1,
             "#c51b7d"
            ],
            [
             0.2,
             "#de77ae"
            ],
            [
             0.3,
             "#f1b6da"
            ],
            [
             0.4,
             "#fde0ef"
            ],
            [
             0.5,
             "#f7f7f7"
            ],
            [
             0.6,
             "#e6f5d0"
            ],
            [
             0.7,
             "#b8e186"
            ],
            [
             0.8,
             "#7fbc41"
            ],
            [
             0.9,
             "#4d9221"
            ],
            [
             1,
             "#276419"
            ]
           ],
           "sequential": [
            [
             0,
             "#0d0887"
            ],
            [
             0.1111111111111111,
             "#46039f"
            ],
            [
             0.2222222222222222,
             "#7201a8"
            ],
            [
             0.3333333333333333,
             "#9c179e"
            ],
            [
             0.4444444444444444,
             "#bd3786"
            ],
            [
             0.5555555555555556,
             "#d8576b"
            ],
            [
             0.6666666666666666,
             "#ed7953"
            ],
            [
             0.7777777777777778,
             "#fb9f3a"
            ],
            [
             0.8888888888888888,
             "#fdca26"
            ],
            [
             1,
             "#f0f921"
            ]
           ],
           "sequentialminus": [
            [
             0,
             "#0d0887"
            ],
            [
             0.1111111111111111,
             "#46039f"
            ],
            [
             0.2222222222222222,
             "#7201a8"
            ],
            [
             0.3333333333333333,
             "#9c179e"
            ],
            [
             0.4444444444444444,
             "#bd3786"
            ],
            [
             0.5555555555555556,
             "#d8576b"
            ],
            [
             0.6666666666666666,
             "#ed7953"
            ],
            [
             0.7777777777777778,
             "#fb9f3a"
            ],
            [
             0.8888888888888888,
             "#fdca26"
            ],
            [
             1,
             "#f0f921"
            ]
           ]
          },
          "colorway": [
           "#636efa",
           "#EF553B",
           "#00cc96",
           "#ab63fa",
           "#FFA15A",
           "#19d3f3",
           "#FF6692",
           "#B6E880",
           "#FF97FF",
           "#FECB52"
          ],
          "font": {
           "color": "#2a3f5f"
          },
          "geo": {
           "bgcolor": "white",
           "lakecolor": "white",
           "landcolor": "#E5ECF6",
           "showlakes": true,
           "showland": true,
           "subunitcolor": "white"
          },
          "hoverlabel": {
           "align": "left"
          },
          "hovermode": "closest",
          "mapbox": {
           "style": "light"
          },
          "paper_bgcolor": "white",
          "plot_bgcolor": "#E5ECF6",
          "polar": {
           "angularaxis": {
            "gridcolor": "white",
            "linecolor": "white",
            "ticks": ""
           },
           "bgcolor": "#E5ECF6",
           "radialaxis": {
            "gridcolor": "white",
            "linecolor": "white",
            "ticks": ""
           }
          },
          "scene": {
           "xaxis": {
            "backgroundcolor": "#E5ECF6",
            "gridcolor": "white",
            "gridwidth": 2,
            "linecolor": "white",
            "showbackground": true,
            "ticks": "",
            "zerolinecolor": "white"
           },
           "yaxis": {
            "backgroundcolor": "#E5ECF6",
            "gridcolor": "white",
            "gridwidth": 2,
            "linecolor": "white",
            "showbackground": true,
            "ticks": "",
            "zerolinecolor": "white"
           },
           "zaxis": {
            "backgroundcolor": "#E5ECF6",
            "gridcolor": "white",
            "gridwidth": 2,
            "linecolor": "white",
            "showbackground": true,
            "ticks": "",
            "zerolinecolor": "white"
           }
          },
          "shapedefaults": {
           "line": {
            "color": "#2a3f5f"
           }
          },
          "ternary": {
           "aaxis": {
            "gridcolor": "white",
            "linecolor": "white",
            "ticks": ""
           },
           "baxis": {
            "gridcolor": "white",
            "linecolor": "white",
            "ticks": ""
           },
           "bgcolor": "#E5ECF6",
           "caxis": {
            "gridcolor": "white",
            "linecolor": "white",
            "ticks": ""
           }
          },
          "title": {
           "x": 0.05
          },
          "xaxis": {
           "automargin": true,
           "gridcolor": "white",
           "linecolor": "white",
           "ticks": "",
           "title": {
            "standoff": 15
           },
           "zerolinecolor": "white",
           "zerolinewidth": 2
          },
          "yaxis": {
           "automargin": true,
           "gridcolor": "white",
           "linecolor": "white",
           "ticks": "",
           "title": {
            "standoff": 15
           },
           "zerolinecolor": "white",
           "zerolinewidth": 2
          }
         }
        },
        "title": {
         "text": "국가별 GDP와 인구 관계"
        },
        "xaxis": {
         "anchor": "y",
         "domain": [
          0,
          1
         ],
         "title": {
          "text": "GDP (억 달러)"
         }
        },
        "yaxis": {
         "anchor": "x",
         "domain": [
          0,
          1
         ],
         "title": {
          "text": "인구 (백만명)"
         }
        }
       }
      }
     },
     "metadata": {},
     "output_type": "display_data"
    }
   ],
   "source": [
    "# 크기까지 고려한 버블 차트\n",
    "countries = {\n",
    "    '국가': ['한국', '일본', '중국', '미국', '독일'],\n",
    "    'GDP': [1800, 4200, 14000, 21000, 3800],\n",
    "    '인구': [51, 126, 1400, 330, 83],\n",
    "    '대륙': ['아시아', '아시아', '아시아', '북미', '유럽']\n",
    "}\n",
    "\n",
    "df_countries = pd.DataFrame(countries)\n",
    "\n",
    "fig = px.scatter(df_countries, x='GDP', y='인구',\n",
    "                 size='GDP', color='대륙',\n",
    "                 hover_name='국가',\n",
    "                 title='국가별 GDP와 인구 관계',\n",
    "                 size_max=60)\n",
    "\n",
    "fig.update_layout(\n",
    "    xaxis_title=\"GDP (억 달러)\",\n",
    "    yaxis_title=\"인구 (백만명)\"\n",
    ")\n",
    "\n",
    "fig.show()"
   ]
  },
  {
   "cell_type": "markdown",
   "id": "be29db9d-f7d1-42ae-8df2-7580e56ab4e9",
   "metadata": {},
   "source": [
    "# 막대 그래프 (Bar Chart)"
   ]
  },
  {
   "cell_type": "markdown",
   "id": "eda0835a-d6d8-4961-9587-cfc5ae0d9a31",
   "metadata": {},
   "source": [
    "## 세로 막대 그래프"
   ]
  },
  {
   "cell_type": "code",
   "execution_count": 19,
   "id": "71037f5b-a8c1-4a66-9811-a90dfbfb979a",
   "metadata": {},
   "outputs": [
    {
     "data": {
      "application/vnd.plotly.v1+json": {
       "config": {
        "plotlyServerURL": "https://plot.ly"
       },
       "data": [
        {
         "hovertemplate": "과목=%{x}<br>점수=%{marker.color}<extra></extra>",
         "legendgroup": "",
         "marker": {
          "color": {
           "bdata": "VVxOWFI=",
           "dtype": "i1"
          },
          "coloraxis": "coloraxis",
          "pattern": {
           "shape": ""
          }
         },
         "name": "",
         "orientation": "v",
         "showlegend": false,
         "textposition": "auto",
         "type": "bar",
         "x": [
          "수학",
          "영어",
          "국어",
          "과학",
          "사회"
         ],
         "xaxis": "x",
         "y": {
          "bdata": "VVxOWFI=",
          "dtype": "i1"
         },
         "yaxis": "y"
        }
       ],
       "layout": {
        "barmode": "relative",
        "coloraxis": {
         "colorbar": {
          "title": {
           "text": "점수"
          }
         },
         "colorscale": [
          [
           0,
           "rgb(247,251,255)"
          ],
          [
           0.125,
           "rgb(222,235,247)"
          ],
          [
           0.25,
           "rgb(198,219,239)"
          ],
          [
           0.375,
           "rgb(158,202,225)"
          ],
          [
           0.5,
           "rgb(107,174,214)"
          ],
          [
           0.625,
           "rgb(66,146,198)"
          ],
          [
           0.75,
           "rgb(33,113,181)"
          ],
          [
           0.875,
           "rgb(8,81,156)"
          ],
          [
           1,
           "rgb(8,48,107)"
          ]
         ]
        },
        "legend": {
         "tracegroupgap": 0
        },
        "template": {
         "data": {
          "bar": [
           {
            "error_x": {
             "color": "#2a3f5f"
            },
            "error_y": {
             "color": "#2a3f5f"
            },
            "marker": {
             "line": {
              "color": "#E5ECF6",
              "width": 0.5
             },
             "pattern": {
              "fillmode": "overlay",
              "size": 10,
              "solidity": 0.2
             }
            },
            "type": "bar"
           }
          ],
          "barpolar": [
           {
            "marker": {
             "line": {
              "color": "#E5ECF6",
              "width": 0.5
             },
             "pattern": {
              "fillmode": "overlay",
              "size": 10,
              "solidity": 0.2
             }
            },
            "type": "barpolar"
           }
          ],
          "carpet": [
           {
            "aaxis": {
             "endlinecolor": "#2a3f5f",
             "gridcolor": "white",
             "linecolor": "white",
             "minorgridcolor": "white",
             "startlinecolor": "#2a3f5f"
            },
            "baxis": {
             "endlinecolor": "#2a3f5f",
             "gridcolor": "white",
             "linecolor": "white",
             "minorgridcolor": "white",
             "startlinecolor": "#2a3f5f"
            },
            "type": "carpet"
           }
          ],
          "choropleth": [
           {
            "colorbar": {
             "outlinewidth": 0,
             "ticks": ""
            },
            "type": "choropleth"
           }
          ],
          "contour": [
           {
            "colorbar": {
             "outlinewidth": 0,
             "ticks": ""
            },
            "colorscale": [
             [
              0,
              "#0d0887"
             ],
             [
              0.1111111111111111,
              "#46039f"
             ],
             [
              0.2222222222222222,
              "#7201a8"
             ],
             [
              0.3333333333333333,
              "#9c179e"
             ],
             [
              0.4444444444444444,
              "#bd3786"
             ],
             [
              0.5555555555555556,
              "#d8576b"
             ],
             [
              0.6666666666666666,
              "#ed7953"
             ],
             [
              0.7777777777777778,
              "#fb9f3a"
             ],
             [
              0.8888888888888888,
              "#fdca26"
             ],
             [
              1,
              "#f0f921"
             ]
            ],
            "type": "contour"
           }
          ],
          "contourcarpet": [
           {
            "colorbar": {
             "outlinewidth": 0,
             "ticks": ""
            },
            "type": "contourcarpet"
           }
          ],
          "heatmap": [
           {
            "colorbar": {
             "outlinewidth": 0,
             "ticks": ""
            },
            "colorscale": [
             [
              0,
              "#0d0887"
             ],
             [
              0.1111111111111111,
              "#46039f"
             ],
             [
              0.2222222222222222,
              "#7201a8"
             ],
             [
              0.3333333333333333,
              "#9c179e"
             ],
             [
              0.4444444444444444,
              "#bd3786"
             ],
             [
              0.5555555555555556,
              "#d8576b"
             ],
             [
              0.6666666666666666,
              "#ed7953"
             ],
             [
              0.7777777777777778,
              "#fb9f3a"
             ],
             [
              0.8888888888888888,
              "#fdca26"
             ],
             [
              1,
              "#f0f921"
             ]
            ],
            "type": "heatmap"
           }
          ],
          "histogram": [
           {
            "marker": {
             "pattern": {
              "fillmode": "overlay",
              "size": 10,
              "solidity": 0.2
             }
            },
            "type": "histogram"
           }
          ],
          "histogram2d": [
           {
            "colorbar": {
             "outlinewidth": 0,
             "ticks": ""
            },
            "colorscale": [
             [
              0,
              "#0d0887"
             ],
             [
              0.1111111111111111,
              "#46039f"
             ],
             [
              0.2222222222222222,
              "#7201a8"
             ],
             [
              0.3333333333333333,
              "#9c179e"
             ],
             [
              0.4444444444444444,
              "#bd3786"
             ],
             [
              0.5555555555555556,
              "#d8576b"
             ],
             [
              0.6666666666666666,
              "#ed7953"
             ],
             [
              0.7777777777777778,
              "#fb9f3a"
             ],
             [
              0.8888888888888888,
              "#fdca26"
             ],
             [
              1,
              "#f0f921"
             ]
            ],
            "type": "histogram2d"
           }
          ],
          "histogram2dcontour": [
           {
            "colorbar": {
             "outlinewidth": 0,
             "ticks": ""
            },
            "colorscale": [
             [
              0,
              "#0d0887"
             ],
             [
              0.1111111111111111,
              "#46039f"
             ],
             [
              0.2222222222222222,
              "#7201a8"
             ],
             [
              0.3333333333333333,
              "#9c179e"
             ],
             [
              0.4444444444444444,
              "#bd3786"
             ],
             [
              0.5555555555555556,
              "#d8576b"
             ],
             [
              0.6666666666666666,
              "#ed7953"
             ],
             [
              0.7777777777777778,
              "#fb9f3a"
             ],
             [
              0.8888888888888888,
              "#fdca26"
             ],
             [
              1,
              "#f0f921"
             ]
            ],
            "type": "histogram2dcontour"
           }
          ],
          "mesh3d": [
           {
            "colorbar": {
             "outlinewidth": 0,
             "ticks": ""
            },
            "type": "mesh3d"
           }
          ],
          "parcoords": [
           {
            "line": {
             "colorbar": {
              "outlinewidth": 0,
              "ticks": ""
             }
            },
            "type": "parcoords"
           }
          ],
          "pie": [
           {
            "automargin": true,
            "type": "pie"
           }
          ],
          "scatter": [
           {
            "fillpattern": {
             "fillmode": "overlay",
             "size": 10,
             "solidity": 0.2
            },
            "type": "scatter"
           }
          ],
          "scatter3d": [
           {
            "line": {
             "colorbar": {
              "outlinewidth": 0,
              "ticks": ""
             }
            },
            "marker": {
             "colorbar": {
              "outlinewidth": 0,
              "ticks": ""
             }
            },
            "type": "scatter3d"
           }
          ],
          "scattercarpet": [
           {
            "marker": {
             "colorbar": {
              "outlinewidth": 0,
              "ticks": ""
             }
            },
            "type": "scattercarpet"
           }
          ],
          "scattergeo": [
           {
            "marker": {
             "colorbar": {
              "outlinewidth": 0,
              "ticks": ""
             }
            },
            "type": "scattergeo"
           }
          ],
          "scattergl": [
           {
            "marker": {
             "colorbar": {
              "outlinewidth": 0,
              "ticks": ""
             }
            },
            "type": "scattergl"
           }
          ],
          "scattermap": [
           {
            "marker": {
             "colorbar": {
              "outlinewidth": 0,
              "ticks": ""
             }
            },
            "type": "scattermap"
           }
          ],
          "scattermapbox": [
           {
            "marker": {
             "colorbar": {
              "outlinewidth": 0,
              "ticks": ""
             }
            },
            "type": "scattermapbox"
           }
          ],
          "scatterpolar": [
           {
            "marker": {
             "colorbar": {
              "outlinewidth": 0,
              "ticks": ""
             }
            },
            "type": "scatterpolar"
           }
          ],
          "scatterpolargl": [
           {
            "marker": {
             "colorbar": {
              "outlinewidth": 0,
              "ticks": ""
             }
            },
            "type": "scatterpolargl"
           }
          ],
          "scatterternary": [
           {
            "marker": {
             "colorbar": {
              "outlinewidth": 0,
              "ticks": ""
             }
            },
            "type": "scatterternary"
           }
          ],
          "surface": [
           {
            "colorbar": {
             "outlinewidth": 0,
             "ticks": ""
            },
            "colorscale": [
             [
              0,
              "#0d0887"
             ],
             [
              0.1111111111111111,
              "#46039f"
             ],
             [
              0.2222222222222222,
              "#7201a8"
             ],
             [
              0.3333333333333333,
              "#9c179e"
             ],
             [
              0.4444444444444444,
              "#bd3786"
             ],
             [
              0.5555555555555556,
              "#d8576b"
             ],
             [
              0.6666666666666666,
              "#ed7953"
             ],
             [
              0.7777777777777778,
              "#fb9f3a"
             ],
             [
              0.8888888888888888,
              "#fdca26"
             ],
             [
              1,
              "#f0f921"
             ]
            ],
            "type": "surface"
           }
          ],
          "table": [
           {
            "cells": {
             "fill": {
              "color": "#EBF0F8"
             },
             "line": {
              "color": "white"
             }
            },
            "header": {
             "fill": {
              "color": "#C8D4E3"
             },
             "line": {
              "color": "white"
             }
            },
            "type": "table"
           }
          ]
         },
         "layout": {
          "annotationdefaults": {
           "arrowcolor": "#2a3f5f",
           "arrowhead": 0,
           "arrowwidth": 1
          },
          "autotypenumbers": "strict",
          "coloraxis": {
           "colorbar": {
            "outlinewidth": 0,
            "ticks": ""
           }
          },
          "colorscale": {
           "diverging": [
            [
             0,
             "#8e0152"
            ],
            [
             0.1,
             "#c51b7d"
            ],
            [
             0.2,
             "#de77ae"
            ],
            [
             0.3,
             "#f1b6da"
            ],
            [
             0.4,
             "#fde0ef"
            ],
            [
             0.5,
             "#f7f7f7"
            ],
            [
             0.6,
             "#e6f5d0"
            ],
            [
             0.7,
             "#b8e186"
            ],
            [
             0.8,
             "#7fbc41"
            ],
            [
             0.9,
             "#4d9221"
            ],
            [
             1,
             "#276419"
            ]
           ],
           "sequential": [
            [
             0,
             "#0d0887"
            ],
            [
             0.1111111111111111,
             "#46039f"
            ],
            [
             0.2222222222222222,
             "#7201a8"
            ],
            [
             0.3333333333333333,
             "#9c179e"
            ],
            [
             0.4444444444444444,
             "#bd3786"
            ],
            [
             0.5555555555555556,
             "#d8576b"
            ],
            [
             0.6666666666666666,
             "#ed7953"
            ],
            [
             0.7777777777777778,
             "#fb9f3a"
            ],
            [
             0.8888888888888888,
             "#fdca26"
            ],
            [
             1,
             "#f0f921"
            ]
           ],
           "sequentialminus": [
            [
             0,
             "#0d0887"
            ],
            [
             0.1111111111111111,
             "#46039f"
            ],
            [
             0.2222222222222222,
             "#7201a8"
            ],
            [
             0.3333333333333333,
             "#9c179e"
            ],
            [
             0.4444444444444444,
             "#bd3786"
            ],
            [
             0.5555555555555556,
             "#d8576b"
            ],
            [
             0.6666666666666666,
             "#ed7953"
            ],
            [
             0.7777777777777778,
             "#fb9f3a"
            ],
            [
             0.8888888888888888,
             "#fdca26"
            ],
            [
             1,
             "#f0f921"
            ]
           ]
          },
          "colorway": [
           "#636efa",
           "#EF553B",
           "#00cc96",
           "#ab63fa",
           "#FFA15A",
           "#19d3f3",
           "#FF6692",
           "#B6E880",
           "#FF97FF",
           "#FECB52"
          ],
          "font": {
           "color": "#2a3f5f"
          },
          "geo": {
           "bgcolor": "white",
           "lakecolor": "white",
           "landcolor": "#E5ECF6",
           "showlakes": true,
           "showland": true,
           "subunitcolor": "white"
          },
          "hoverlabel": {
           "align": "left"
          },
          "hovermode": "closest",
          "mapbox": {
           "style": "light"
          },
          "paper_bgcolor": "white",
          "plot_bgcolor": "#E5ECF6",
          "polar": {
           "angularaxis": {
            "gridcolor": "white",
            "linecolor": "white",
            "ticks": ""
           },
           "bgcolor": "#E5ECF6",
           "radialaxis": {
            "gridcolor": "white",
            "linecolor": "white",
            "ticks": ""
           }
          },
          "scene": {
           "xaxis": {
            "backgroundcolor": "#E5ECF6",
            "gridcolor": "white",
            "gridwidth": 2,
            "linecolor": "white",
            "showbackground": true,
            "ticks": "",
            "zerolinecolor": "white"
           },
           "yaxis": {
            "backgroundcolor": "#E5ECF6",
            "gridcolor": "white",
            "gridwidth": 2,
            "linecolor": "white",
            "showbackground": true,
            "ticks": "",
            "zerolinecolor": "white"
           },
           "zaxis": {
            "backgroundcolor": "#E5ECF6",
            "gridcolor": "white",
            "gridwidth": 2,
            "linecolor": "white",
            "showbackground": true,
            "ticks": "",
            "zerolinecolor": "white"
           }
          },
          "shapedefaults": {
           "line": {
            "color": "#2a3f5f"
           }
          },
          "ternary": {
           "aaxis": {
            "gridcolor": "white",
            "linecolor": "white",
            "ticks": ""
           },
           "baxis": {
            "gridcolor": "white",
            "linecolor": "white",
            "ticks": ""
           },
           "bgcolor": "#E5ECF6",
           "caxis": {
            "gridcolor": "white",
            "linecolor": "white",
            "ticks": ""
           }
          },
          "title": {
           "x": 0.05
          },
          "xaxis": {
           "automargin": true,
           "gridcolor": "white",
           "linecolor": "white",
           "ticks": "",
           "title": {
            "standoff": 15
           },
           "zerolinecolor": "white",
           "zerolinewidth": 2
          },
          "yaxis": {
           "automargin": true,
           "gridcolor": "white",
           "linecolor": "white",
           "ticks": "",
           "title": {
            "standoff": 15
           },
           "zerolinecolor": "white",
           "zerolinewidth": 2
          }
         }
        },
        "title": {
         "text": "과목별 점수"
        },
        "xaxis": {
         "anchor": "y",
         "domain": [
          0,
          1
         ],
         "title": {
          "text": "과목"
         }
        },
        "yaxis": {
         "anchor": "x",
         "domain": [
          0,
          1
         ],
         "title": {
          "text": "점수"
         }
        }
       }
      },
      "image/png": "[encoded data removed]"
     },
     "metadata": {},
     "output_type": "display_data"
    }
   ],
   "source": [
    "# 과목별 점수 데이터\n",
    "subjects = {\n",
    "    '과목': ['수학', '영어', '국어', '과학', '사회'],\n",
    "    '점수': [85, 92, 78, 88, 82]\n",
    "}\n",
    "\n",
    "df_scores = pd.DataFrame(subjects)\n",
    "\n",
    "fig = px.bar(df_scores, x='과목', y='점수',\n",
    "             title='과목별 점수',\n",
    "             color='점수',\n",
    "             color_continuous_scale='Blues')\n",
    "fig.show()\n"
   ]
  },
  {
   "cell_type": "markdown",
   "id": "d89560b5-528d-4bae-ba64-43a06cd03ac4",
   "metadata": {},
   "source": [
    "## 가로 막대 그래프"
   ]
  },
  {
   "cell_type": "code",
   "execution_count": 7,
   "id": "6ad0a337-a20b-44b6-9e6c-34802836897f",
   "metadata": {},
   "outputs": [
    {
     "data": {
      "application/vnd.plotly.v1+json": {
       "config": {
        "plotlyServerURL": "https://plot.ly"
       },
       "data": [
        {
         "hovertemplate": "점수=%{marker.color}<br>과목=%{y}<extra></extra>",
         "legendgroup": "",
         "marker": {
          "color": {
           "bdata": "VVxOWFI=",
           "dtype": "i1"
          },
          "coloraxis": "coloraxis",
          "pattern": {
           "shape": ""
          }
         },
         "name": "",
         "orientation": "h",
         "showlegend": false,
         "textposition": "auto",
         "type": "bar",
         "x": {
          "bdata": "VVxOWFI=",
          "dtype": "i1"
         },
         "xaxis": "x",
         "y": [
          "수학",
          "영어",
          "국어",
          "과학",
          "사회"
         ],
         "yaxis": "y"
        }
       ],
       "layout": {
        "barmode": "relative",
        "coloraxis": {
         "colorbar": {
          "title": {
           "text": "점수"
          }
         },
         "colorscale": [
          [
           0,
           "#440154"
          ],
          [
           0.1111111111111111,
           "#482878"
          ],
          [
           0.2222222222222222,
           "#3e4989"
          ],
          [
           0.3333333333333333,
           "#31688e"
          ],
          [
           0.4444444444444444,
           "#26828e"
          ],
          [
           0.5555555555555556,
           "#1f9e89"
          ],
          [
           0.6666666666666666,
           "#35b779"
          ],
          [
           0.7777777777777778,
           "#6ece58"
          ],
          [
           0.8888888888888888,
           "#b5de2b"
          ],
          [
           1,
           "#fde725"
          ]
         ]
        },
        "legend": {
         "tracegroupgap": 0
        },
        "template": {
         "data": {
          "bar": [
           {
            "error_x": {
             "color": "#2a3f5f"
            },
            "error_y": {
             "color": "#2a3f5f"
            },
            "marker": {
             "line": {
              "color": "#E5ECF6",
              "width": 0.5
             },
             "pattern": {
              "fillmode": "overlay",
              "size": 10,
              "solidity": 0.2
             }
            },
            "type": "bar"
           }
          ],
          "barpolar": [
           {
            "marker": {
             "line": {
              "color": "#E5ECF6",
              "width": 0.5
             },
             "pattern": {
              "fillmode": "overlay",
              "size": 10,
              "solidity": 0.2
             }
            },
            "type": "barpolar"
           }
          ],
          "carpet": [
           {
            "aaxis": {
             "endlinecolor": "#2a3f5f",
             "gridcolor": "white",
             "linecolor": "white",
             "minorgridcolor": "white",
             "startlinecolor": "#2a3f5f"
            },
            "baxis": {
             "endlinecolor": "#2a3f5f",
             "gridcolor": "white",
             "linecolor": "white",
             "minorgridcolor": "white",
             "startlinecolor": "#2a3f5f"
            },
            "type": "carpet"
           }
          ],
          "choropleth": [
           {
            "colorbar": {
             "outlinewidth": 0,
             "ticks": ""
            },
            "type": "choropleth"
           }
          ],
          "contour": [
           {
            "colorbar": {
             "outlinewidth": 0,
             "ticks": ""
            },
            "colorscale": [
             [
              0,
              "#0d0887"
             ],
             [
              0.1111111111111111,
              "#46039f"
             ],
             [
              0.2222222222222222,
              "#7201a8"
             ],
             [
              0.3333333333333333,
              "#9c179e"
             ],
             [
              0.4444444444444444,
              "#bd3786"
             ],
             [
              0.5555555555555556,
              "#d8576b"
             ],
             [
              0.6666666666666666,
              "#ed7953"
             ],
             [
              0.7777777777777778,
              "#fb9f3a"
             ],
             [
              0.8888888888888888,
              "#fdca26"
             ],
             [
              1,
              "#f0f921"
             ]
            ],
            "type": "contour"
           }
          ],
          "contourcarpet": [
           {
            "colorbar": {
             "outlinewidth": 0,
             "ticks": ""
            },
            "type": "contourcarpet"
           }
          ],
          "heatmap": [
           {
            "colorbar": {
             "outlinewidth": 0,
             "ticks": ""
            },
            "colorscale": [
             [
              0,
              "#0d0887"
             ],
             [
              0.1111111111111111,
              "#46039f"
             ],
             [
              0.2222222222222222,
              "#7201a8"
             ],
             [
              0.3333333333333333,
              "#9c179e"
             ],
             [
              0.4444444444444444,
              "#bd3786"
             ],
             [
              0.5555555555555556,
              "#d8576b"
             ],
             [
              0.6666666666666666,
              "#ed7953"
             ],
             [
              0.7777777777777778,
              "#fb9f3a"
             ],
             [
              0.8888888888888888,
              "#fdca26"
             ],
             [
              1,
              "#f0f921"
             ]
            ],
            "type": "heatmap"
           }
          ],
          "histogram": [
           {
            "marker": {
             "pattern": {
              "fillmode": "overlay",
              "size": 10,
              "solidity": 0.2
             }
            },
            "type": "histogram"
           }
          ],
          "histogram2d": [
           {
            "colorbar": {
             "outlinewidth": 0,
             "ticks": ""
            },
            "colorscale": [
             [
              0,
              "#0d0887"
             ],
             [
              0.1111111111111111,
              "#46039f"
             ],
             [
              0.2222222222222222,
              "#7201a8"
             ],
             [
              0.3333333333333333,
              "#9c179e"
             ],
             [
              0.4444444444444444,
              "#bd3786"
             ],
             [
              0.5555555555555556,
              "#d8576b"
             ],
             [
              0.6666666666666666,
              "#ed7953"
             ],
             [
              0.7777777777777778,
              "#fb9f3a"
             ],
             [
              0.8888888888888888,
              "#fdca26"
             ],
             [
              1,
              "#f0f921"
             ]
            ],
            "type": "histogram2d"
           }
          ],
          "histogram2dcontour": [
           {
            "colorbar": {
             "outlinewidth": 0,
             "ticks": ""
            },
            "colorscale": [
             [
              0,
              "#0d0887"
             ],
             [
              0.1111111111111111,
              "#46039f"
             ],
             [
              0.2222222222222222,
              "#7201a8"
             ],
             [
              0.3333333333333333,
              "#9c179e"
             ],
             [
              0.4444444444444444,
              "#bd3786"
             ],
             [
              0.5555555555555556,
              "#d8576b"
             ],
             [
              0.6666666666666666,
              "#ed7953"
             ],
             [
              0.7777777777777778,
              "#fb9f3a"
             ],
             [
              0.8888888888888888,
              "#fdca26"
             ],
             [
              1,
              "#f0f921"
             ]
            ],
            "type": "histogram2dcontour"
           }
          ],
          "mesh3d": [
           {
            "colorbar": {
             "outlinewidth": 0,
             "ticks": ""
            },
            "type": "mesh3d"
           }
          ],
          "parcoords": [
           {
            "line": {
             "colorbar": {
              "outlinewidth": 0,
              "ticks": ""
             }
            },
            "type": "parcoords"
           }
          ],
          "pie": [
           {
            "automargin": true,
            "type": "pie"
           }
          ],
          "scatter": [
           {
            "fillpattern": {
             "fillmode": "overlay",
             "size": 10,
             "solidity": 0.2
            },
            "type": "scatter"
           }
          ],
          "scatter3d": [
           {
            "line": {
             "colorbar": {
              "outlinewidth": 0,
              "ticks": ""
             }
            },
            "marker": {
             "colorbar": {
              "outlinewidth": 0,
              "ticks": ""
             }
            },
            "type": "scatter3d"
           }
          ],
          "scattercarpet": [
           {
            "marker": {
             "colorbar": {
              "outlinewidth": 0,
              "ticks": ""
             }
            },
            "type": "scattercarpet"
           }
          ],
          "scattergeo": [
           {
            "marker": {
             "colorbar": {
              "outlinewidth": 0,
              "ticks": ""
             }
            },
            "type": "scattergeo"
           }
          ],
          "scattergl": [
           {
            "marker": {
             "colorbar": {
              "outlinewidth": 0,
              "ticks": ""
             }
            },
            "type": "scattergl"
           }
          ],
          "scattermap": [
           {
            "marker": {
             "colorbar": {
              "outlinewidth": 0,
              "ticks": ""
             }
            },
            "type": "scattermap"
           }
          ],
          "scattermapbox": [
           {
            "marker": {
             "colorbar": {
              "outlinewidth": 0,
              "ticks": ""
             }
            },
            "type": "scattermapbox"
           }
          ],
          "scatterpolar": [
           {
            "marker": {
             "colorbar": {
              "outlinewidth": 0,
              "ticks": ""
             }
            },
            "type": "scatterpolar"
           }
          ],
          "scatterpolargl": [
           {
            "marker": {
             "colorbar": {
              "outlinewidth": 0,
              "ticks": ""
             }
            },
            "type": "scatterpolargl"
           }
          ],
          "scatterternary": [
           {
            "marker": {
             "colorbar": {
              "outlinewidth": 0,
              "ticks": ""
             }
            },
            "type": "scatterternary"
           }
          ],
          "surface": [
           {
            "colorbar": {
             "outlinewidth": 0,
             "ticks": ""
            },
            "colorscale": [
             [
              0,
              "#0d0887"
             ],
             [
              0.1111111111111111,
              "#46039f"
             ],
             [
              0.2222222222222222,
              "#7201a8"
             ],
             [
              0.3333333333333333,
              "#9c179e"
             ],
             [
              0.4444444444444444,
              "#bd3786"
             ],
             [
              0.5555555555555556,
              "#d8576b"
             ],
             [
              0.6666666666666666,
              "#ed7953"
             ],
             [
              0.7777777777777778,
              "#fb9f3a"
             ],
             [
              0.8888888888888888,
              "#fdca26"
             ],
             [
              1,
              "#f0f921"
             ]
            ],
            "type": "surface"
           }
          ],
          "table": [
           {
            "cells": {
             "fill": {
              "color": "#EBF0F8"
             },
             "line": {
              "color": "white"
             }
            },
            "header": {
             "fill": {
              "color": "#C8D4E3"
             },
             "line": {
              "color": "white"
             }
            },
            "type": "table"
           }
          ]
         },
         "layout": {
          "annotationdefaults": {
           "arrowcolor": "#2a3f5f",
           "arrowhead": 0,
           "arrowwidth": 1
          },
          "autotypenumbers": "strict",
          "coloraxis": {
           "colorbar": {
            "outlinewidth": 0,
            "ticks": ""
           }
          },
          "colorscale": {
           "diverging": [
            [
             0,
             "#8e0152"
            ],
            [
             0.1,
             "#c51b7d"
            ],
            [
             0.2,
             "#de77ae"
            ],
            [
             0.3,
             "#f1b6da"
            ],
            [
             0.4,
             "#fde0ef"
            ],
            [
             0.5,
             "#f7f7f7"
            ],
            [
             0.6,
             "#e6f5d0"
            ],
            [
             0.7,
             "#b8e186"
            ],
            [
             0.8,
             "#7fbc41"
            ],
            [
             0.9,
             "#4d9221"
            ],
            [
             1,
             "#276419"
            ]
           ],
           "sequential": [
            [
             0,
             "#0d0887"
            ],
            [
             0.1111111111111111,
             "#46039f"
            ],
            [
             0.2222222222222222,
             "#7201a8"
            ],
            [
             0.3333333333333333,
             "#9c179e"
            ],
            [
             0.4444444444444444,
             "#bd3786"
            ],
            [
             0.5555555555555556,
             "#d8576b"
            ],
            [
             0.6666666666666666,
             "#ed7953"
            ],
            [
             0.7777777777777778,
             "#fb9f3a"
            ],
            [
             0.8888888888888888,
             "#fdca26"
            ],
            [
             1,
             "#f0f921"
            ]
           ],
           "sequentialminus": [
            [
             0,
             "#0d0887"
            ],
            [
             0.1111111111111111,
             "#46039f"
            ],
            [
             0.2222222222222222,
             "#7201a8"
            ],
            [
             0.3333333333333333,
             "#9c179e"
            ],
            [
             0.4444444444444444,
             "#bd3786"
            ],
            [
             0.5555555555555556,
             "#d8576b"
            ],
            [
             0.6666666666666666,
             "#ed7953"
            ],
            [
             0.7777777777777778,
             "#fb9f3a"
            ],
            [
             0.8888888888888888,
             "#fdca26"
            ],
            [
             1,
             "#f0f921"
            ]
           ]
          },
          "colorway": [
           "#636efa",
           "#EF553B",
           "#00cc96",
           "#ab63fa",
           "#FFA15A",
           "#19d3f3",
           "#FF6692",
           "#B6E880",
           "#FF97FF",
           "#FECB52"
          ],
          "font": {
           "color": "#2a3f5f"
          },
          "geo": {
           "bgcolor": "white",
           "lakecolor": "white",
           "landcolor": "#E5ECF6",
           "showlakes": true,
           "showland": true,
           "subunitcolor": "white"
          },
          "hoverlabel": {
           "align": "left"
          },
          "hovermode": "closest",
          "mapbox": {
           "style": "light"
          },
          "paper_bgcolor": "white",
          "plot_bgcolor": "#E5ECF6",
          "polar": {
           "angularaxis": {
            "gridcolor": "white",
            "linecolor": "white",
            "ticks": ""
           },
           "bgcolor": "#E5ECF6",
           "radialaxis": {
            "gridcolor": "white",
            "linecolor": "white",
            "ticks": ""
           }
          },
          "scene": {
           "xaxis": {
            "backgroundcolor": "#E5ECF6",
            "gridcolor": "white",
            "gridwidth": 2,
            "linecolor": "white",
            "showbackground": true,
            "ticks": "",
            "zerolinecolor": "white"
           },
           "yaxis": {
            "backgroundcolor": "#E5ECF6",
            "gridcolor": "white",
            "gridwidth": 2,
            "linecolor": "white",
            "showbackground": true,
            "ticks": "",
            "zerolinecolor": "white"
           },
           "zaxis": {
            "backgroundcolor": "#E5ECF6",
            "gridcolor": "white",
            "gridwidth": 2,
            "linecolor": "white",
            "showbackground": true,
            "ticks": "",
            "zerolinecolor": "white"
           }
          },
          "shapedefaults": {
           "line": {
            "color": "#2a3f5f"
           }
          },
          "ternary": {
           "aaxis": {
            "gridcolor": "white",
            "linecolor": "white",
            "ticks": ""
           },
           "baxis": {
            "gridcolor": "white",
            "linecolor": "white",
            "ticks": ""
           },
           "bgcolor": "#E5ECF6",
           "caxis": {
            "gridcolor": "white",
            "linecolor": "white",
            "ticks": ""
           }
          },
          "title": {
           "x": 0.05
          },
          "xaxis": {
           "automargin": true,
           "gridcolor": "white",
           "linecolor": "white",
           "ticks": "",
           "title": {
            "standoff": 15
           },
           "zerolinecolor": "white",
           "zerolinewidth": 2
          },
          "yaxis": {
           "automargin": true,
           "gridcolor": "white",
           "linecolor": "white",
           "ticks": "",
           "title": {
            "standoff": 15
           },
           "zerolinecolor": "white",
           "zerolinewidth": 2
          }
         }
        },
        "title": {
         "text": "과목별 점수 (가로형)"
        },
        "xaxis": {
         "anchor": "y",
         "domain": [
          0,
          1
         ],
         "title": {
          "text": "점수"
         }
        },
        "yaxis": {
         "anchor": "x",
         "domain": [
          0,
          1
         ],
         "title": {
          "text": "과목"
         }
        }
       }
      }
     },
     "metadata": {},
     "output_type": "display_data"
    }
   ],
   "source": [
    "# 가로 막대 그래프로 표시\n",
    "fig = px.bar(df_scores, x='점수', y='과목',\n",
    "             title='과목별 점수 (가로형)',\n",
    "             orientation='h',\n",
    "             color='점수',\n",
    "             color_continuous_scale='Viridis')\n",
    "fig.show()"
   ]
  },
  {
   "cell_type": "markdown",
   "id": "4df23f3a-fad0-4d54-942e-ed90702829a0",
   "metadata": {},
   "source": [
    "## 그룹 막대 그래프"
   ]
  },
  {
   "cell_type": "code",
   "execution_count": 8,
   "id": "21aceeef-13e1-436d-9e19-3a0566904d8e",
   "metadata": {},
   "outputs": [
    {
     "data": {
      "application/vnd.plotly.v1+json": {
       "config": {
        "plotlyServerURL": "https://plot.ly"
       },
       "data": [
        {
         "alignmentgroup": "True",
         "hovertemplate": "학급=1반<br>과목=%{x}<br>점수=%{y}<extra></extra>",
         "legendgroup": "1반",
         "marker": {
          "color": "#636efa",
          "pattern": {
           "shape": ""
          }
         },
         "name": "1반",
         "offsetgroup": "1반",
         "orientation": "v",
         "showlegend": true,
         "textposition": "auto",
         "type": "bar",
         "x": [
          "수학",
          "영어",
          "국어",
          "과학"
         ],
         "xaxis": "x",
         "y": {
          "bdata": "VVxOWA==",
          "dtype": "i1"
         },
         "yaxis": "y"
        },
        {
         "alignmentgroup": "True",
         "hovertemplate": "학급=2반<br>과목=%{x}<br>점수=%{y}<extra></extra>",
         "legendgroup": "2반",
         "marker": {
          "color": "#EF553B",
          "pattern": {
           "shape": ""
          }
         },
         "name": "2반",
         "offsetgroup": "2반",
         "orientation": "v",
         "showlegend": true,
         "textposition": "auto",
         "type": "bar",
         "x": [
          "수학",
          "영어",
          "국어",
          "과학"
         ],
         "xaxis": "x",
         "y": {
          "bdata": "UlhLWg==",
          "dtype": "i1"
         },
         "yaxis": "y"
        },
        {
         "alignmentgroup": "True",
         "hovertemplate": "학급=3반<br>과목=%{x}<br>점수=%{y}<extra></extra>",
         "legendgroup": "3반",
         "marker": {
          "color": "#00cc96",
          "pattern": {
           "shape": ""
          }
         },
         "name": "3반",
         "offsetgroup": "3반",
         "orientation": "v",
         "showlegend": true,
         "textposition": "auto",
         "type": "bar",
         "x": [
          "수학",
          "영어",
          "국어",
          "과학"
         ],
         "xaxis": "x",
         "y": {
          "bdata": "UFVSVg==",
          "dtype": "i1"
         },
         "yaxis": "y"
        }
       ],
       "layout": {
        "barmode": "group",
        "legend": {
         "title": {
          "text": "학급"
         },
         "tracegroupgap": 0
        },
        "template": {
         "data": {
          "bar": [
           {
            "error_x": {
             "color": "#2a3f5f"
            },
            "error_y": {
             "color": "#2a3f5f"
            },
            "marker": {
             "line": {
              "color": "#E5ECF6",
              "width": 0.5
             },
             "pattern": {
              "fillmode": "overlay",
              "size": 10,
              "solidity": 0.2
             }
            },
            "type": "bar"
           }
          ],
          "barpolar": [
           {
            "marker": {
             "line": {
              "color": "#E5ECF6",
              "width": 0.5
             },
             "pattern": {
              "fillmode": "overlay",
              "size": 10,
              "solidity": 0.2
             }
            },
            "type": "barpolar"
           }
          ],
          "carpet": [
           {
            "aaxis": {
             "endlinecolor": "#2a3f5f",
             "gridcolor": "white",
             "linecolor": "white",
             "minorgridcolor": "white",
             "startlinecolor": "#2a3f5f"
            },
            "baxis": {
             "endlinecolor": "#2a3f5f",
             "gridcolor": "white",
             "linecolor": "white",
             "minorgridcolor": "white",
             "startlinecolor": "#2a3f5f"
            },
            "type": "carpet"
           }
          ],
          "choropleth": [
           {
            "colorbar": {
             "outlinewidth": 0,
             "ticks": ""
            },
            "type": "choropleth"
           }
          ],
          "contour": [
           {
            "colorbar": {
             "outlinewidth": 0,
             "ticks": ""
            },
            "colorscale": [
             [
              0,
              "#0d0887"
             ],
             [
              0.1111111111111111,
              "#46039f"
             ],
             [
              0.2222222222222222,
              "#7201a8"
             ],
             [
              0.3333333333333333,
              "#9c179e"
             ],
             [
              0.4444444444444444,
              "#bd3786"
             ],
             [
              0.5555555555555556,
              "#d8576b"
             ],
             [
              0.6666666666666666,
              "#ed7953"
             ],
             [
              0.7777777777777778,
              "#fb9f3a"
             ],
             [
              0.8888888888888888,
              "#fdca26"
             ],
             [
              1,
              "#f0f921"
             ]
            ],
            "type": "contour"
           }
          ],
          "contourcarpet": [
           {
            "colorbar": {
             "outlinewidth": 0,
             "ticks": ""
            },
            "type": "contourcarpet"
           }
          ],
          "heatmap": [
           {
            "colorbar": {
             "outlinewidth": 0,
             "ticks": ""
            },
            "colorscale": [
             [
              0,
              "#0d0887"
             ],
             [
              0.1111111111111111,
              "#46039f"
             ],
             [
              0.2222222222222222,
              "#7201a8"
             ],
             [
              0.3333333333333333,
              "#9c179e"
             ],
             [
              0.4444444444444444,
              "#bd3786"
             ],
             [
              0.5555555555555556,
              "#d8576b"
             ],
             [
              0.6666666666666666,
              "#ed7953"
             ],
             [
              0.7777777777777778,
              "#fb9f3a"
             ],
             [
              0.8888888888888888,
              "#fdca26"
             ],
             [
              1,
              "#f0f921"
             ]
            ],
            "type": "heatmap"
           }
          ],
          "histogram": [
           {
            "marker": {
             "pattern": {
              "fillmode": "overlay",
              "size": 10,
              "solidity": 0.2
             }
            },
            "type": "histogram"
           }
          ],
          "histogram2d": [
           {
            "colorbar": {
             "outlinewidth": 0,
             "ticks": ""
            },
            "colorscale": [
             [
              0,
              "#0d0887"
             ],
             [
              0.1111111111111111,
              "#46039f"
             ],
             [
              0.2222222222222222,
              "#7201a8"
             ],
             [
              0.3333333333333333,
              "#9c179e"
             ],
             [
              0.4444444444444444,
              "#bd3786"
             ],
             [
              0.5555555555555556,
              "#d8576b"
             ],
             [
              0.6666666666666666,
              "#ed7953"
             ],
             [
              0.7777777777777778,
              "#fb9f3a"
             ],
             [
              0.8888888888888888,
              "#fdca26"
             ],
             [
              1,
              "#f0f921"
             ]
            ],
            "type": "histogram2d"
           }
          ],
          "histogram2dcontour": [
           {
            "colorbar": {
             "outlinewidth": 0,
             "ticks": ""
            },
            "colorscale": [
             [
              0,
              "#0d0887"
             ],
             [
              0.1111111111111111,
              "#46039f"
             ],
             [
              0.2222222222222222,
              "#7201a8"
             ],
             [
              0.3333333333333333,
              "#9c179e"
             ],
             [
              0.4444444444444444,
              "#bd3786"
             ],
             [
              0.5555555555555556,
              "#d8576b"
             ],
             [
              0.6666666666666666,
              "#ed7953"
             ],
             [
              0.7777777777777778,
              "#fb9f3a"
             ],
             [
              0.8888888888888888,
              "#fdca26"
             ],
             [
              1,
              "#f0f921"
             ]
            ],
            "type": "histogram2dcontour"
           }
          ],
          "mesh3d": [
           {
            "colorbar": {
             "outlinewidth": 0,
             "ticks": ""
            },
            "type": "mesh3d"
           }
          ],
          "parcoords": [
           {
            "line": {
             "colorbar": {
              "outlinewidth": 0,
              "ticks": ""
             }
            },
            "type": "parcoords"
           }
          ],
          "pie": [
           {
            "automargin": true,
            "type": "pie"
           }
          ],
          "scatter": [
           {
            "fillpattern": {
             "fillmode": "overlay",
             "size": 10,
             "solidity": 0.2
            },
            "type": "scatter"
           }
          ],
          "scatter3d": [
           {
            "line": {
             "colorbar": {
              "outlinewidth": 0,
              "ticks": ""
             }
            },
            "marker": {
             "colorbar": {
              "outlinewidth": 0,
              "ticks": ""
             }
            },
            "type": "scatter3d"
           }
          ],
          "scattercarpet": [
           {
            "marker": {
             "colorbar": {
              "outlinewidth": 0,
              "ticks": ""
             }
            },
            "type": "scattercarpet"
           }
          ],
          "scattergeo": [
           {
            "marker": {
             "colorbar": {
              "outlinewidth": 0,
              "ticks": ""
             }
            },
            "type": "scattergeo"
           }
          ],
          "scattergl": [
           {
            "marker": {
             "colorbar": {
              "outlinewidth": 0,
              "ticks": ""
             }
            },
            "type": "scattergl"
           }
          ],
          "scattermap": [
           {
            "marker": {
             "colorbar": {
              "outlinewidth": 0,
              "ticks": ""
             }
            },
            "type": "scattermap"
           }
          ],
          "scattermapbox": [
           {
            "marker": {
             "colorbar": {
              "outlinewidth": 0,
              "ticks": ""
             }
            },
            "type": "scattermapbox"
           }
          ],
          "scatterpolar": [
           {
            "marker": {
             "colorbar": {
              "outlinewidth": 0,
              "ticks": ""
             }
            },
            "type": "scatterpolar"
           }
          ],
          "scatterpolargl": [
           {
            "marker": {
             "colorbar": {
              "outlinewidth": 0,
              "ticks": ""
             }
            },
            "type": "scatterpolargl"
           }
          ],
          "scatterternary": [
           {
            "marker": {
             "colorbar": {
              "outlinewidth": 0,
              "ticks": ""
             }
            },
            "type": "scatterternary"
           }
          ],
          "surface": [
           {
            "colorbar": {
             "outlinewidth": 0,
             "ticks": ""
            },
            "colorscale": [
             [
              0,
              "#0d0887"
             ],
             [
              0.1111111111111111,
              "#46039f"
             ],
             [
              0.2222222222222222,
              "#7201a8"
             ],
             [
              0.3333333333333333,
              "#9c179e"
             ],
             [
              0.4444444444444444,
              "#bd3786"
             ],
             [
              0.5555555555555556,
              "#d8576b"
             ],
             [
              0.6666666666666666,
              "#ed7953"
             ],
             [
              0.7777777777777778,
              "#fb9f3a"
             ],
             [
              0.8888888888888888,
              "#fdca26"
             ],
             [
              1,
              "#f0f921"
             ]
            ],
            "type": "surface"
           }
          ],
          "table": [
           {
            "cells": {
             "fill": {
              "color": "#EBF0F8"
             },
             "line": {
              "color": "white"
             }
            },
            "header": {
             "fill": {
              "color": "#C8D4E3"
             },
             "line": {
              "color": "white"
             }
            },
            "type": "table"
           }
          ]
         },
         "layout": {
          "annotationdefaults": {
           "arrowcolor": "#2a3f5f",
           "arrowhead": 0,
           "arrowwidth": 1
          },
          "autotypenumbers": "strict",
          "coloraxis": {
           "colorbar": {
            "outlinewidth": 0,
            "ticks": ""
           }
          },
          "colorscale": {
           "diverging": [
            [
             0,
             "#8e0152"
            ],
            [
             0.1,
             "#c51b7d"
            ],
            [
             0.2,
             "#de77ae"
            ],
            [
             0.3,
             "#f1b6da"
            ],
            [
             0.4,
             "#fde0ef"
            ],
            [
             0.5,
             "#f7f7f7"
            ],
            [
             0.6,
             "#e6f5d0"
            ],
            [
             0.7,
             "#b8e186"
            ],
            [
             0.8,
             "#7fbc41"
            ],
            [
             0.9,
             "#4d9221"
            ],
            [
             1,
             "#276419"
            ]
           ],
           "sequential": [
            [
             0,
             "#0d0887"
            ],
            [
             0.1111111111111111,
             "#46039f"
            ],
            [
             0.2222222222222222,
             "#7201a8"
            ],
            [
             0.3333333333333333,
             "#9c179e"
            ],
            [
             0.4444444444444444,
             "#bd3786"
            ],
            [
             0.5555555555555556,
             "#d8576b"
            ],
            [
             0.6666666666666666,
             "#ed7953"
            ],
            [
             0.7777777777777778,
             "#fb9f3a"
            ],
            [
             0.8888888888888888,
             "#fdca26"
            ],
            [
             1,
             "#f0f921"
            ]
           ],
           "sequentialminus": [
            [
             0,
             "#0d0887"
            ],
            [
             0.1111111111111111,
             "#46039f"
            ],
            [
             0.2222222222222222,
             "#7201a8"
            ],
            [
             0.3333333333333333,
             "#9c179e"
            ],
            [
             0.4444444444444444,
             "#bd3786"
            ],
            [
             0.5555555555555556,
             "#d8576b"
            ],
            [
             0.6666666666666666,
             "#ed7953"
            ],
            [
             0.7777777777777778,
             "#fb9f3a"
            ],
            [
             0.8888888888888888,
             "#fdca26"
            ],
            [
             1,
             "#f0f921"
            ]
           ]
          },
          "colorway": [
           "#636efa",
           "#EF553B",
           "#00cc96",
           "#ab63fa",
           "#FFA15A",
           "#19d3f3",
           "#FF6692",
           "#B6E880",
           "#FF97FF",
           "#FECB52"
          ],
          "font": {
           "color": "#2a3f5f"
          },
          "geo": {
           "bgcolor": "white",
           "lakecolor": "white",
           "landcolor": "#E5ECF6",
           "showlakes": true,
           "showland": true,
           "subunitcolor": "white"
          },
          "hoverlabel": {
           "align": "left"
          },
          "hovermode": "closest",
          "mapbox": {
           "style": "light"
          },
          "paper_bgcolor": "white",
          "plot_bgcolor": "#E5ECF6",
          "polar": {
           "angularaxis": {
            "gridcolor": "white",
            "linecolor": "white",
            "ticks": ""
           },
           "bgcolor": "#E5ECF6",
           "radialaxis": {
            "gridcolor": "white",
            "linecolor": "white",
            "ticks": ""
           }
          },
          "scene": {
           "xaxis": {
            "backgroundcolor": "#E5ECF6",
            "gridcolor": "white",
            "gridwidth": 2,
            "linecolor": "white",
            "showbackground": true,
            "ticks": "",
            "zerolinecolor": "white"
           },
           "yaxis": {
            "backgroundcolor": "#E5ECF6",
            "gridcolor": "white",
            "gridwidth": 2,
            "linecolor": "white",
            "showbackground": true,
            "ticks": "",
            "zerolinecolor": "white"
           },
           "zaxis": {
            "backgroundcolor": "#E5ECF6",
            "gridcolor": "white",
            "gridwidth": 2,
            "linecolor": "white",
            "showbackground": true,
            "ticks": "",
            "zerolinecolor": "white"
           }
          },
          "shapedefaults": {
           "line": {
            "color": "#2a3f5f"
           }
          },
          "ternary": {
           "aaxis": {
            "gridcolor": "white",
            "linecolor": "white",
            "ticks": ""
           },
           "baxis": {
            "gridcolor": "white",
            "linecolor": "white",
            "ticks": ""
           },
           "bgcolor": "#E5ECF6",
           "caxis": {
            "gridcolor": "white",
            "linecolor": "white",
            "ticks": ""
           }
          },
          "title": {
           "x": 0.05
          },
          "xaxis": {
           "automargin": true,
           "gridcolor": "white",
           "linecolor": "white",
           "ticks": "",
           "title": {
            "standoff": 15
           },
           "zerolinecolor": "white",
           "zerolinewidth": 2
          },
          "yaxis": {
           "automargin": true,
           "gridcolor": "white",
           "linecolor": "white",
           "ticks": "",
           "title": {
            "standoff": 15
           },
           "zerolinecolor": "white",
           "zerolinewidth": 2
          }
         }
        },
        "title": {
         "text": "학급별 과목 점수 비교"
        },
        "xaxis": {
         "anchor": "y",
         "domain": [
          0,
          1
         ],
         "title": {
          "text": "과목"
         }
        },
        "yaxis": {
         "anchor": "x",
         "domain": [
          0,
          1
         ],
         "title": {
          "text": "점수"
         }
        }
       }
      }
     },
     "metadata": {},
     "output_type": "display_data"
    }
   ],
   "source": [
    "# 학급별 과목 점수 비교\n",
    "class_scores = {\n",
    "    '과목': ['수학', '영어', '국어', '과학'] * 3,\n",
    "    '점수': [85, 92, 78, 88, 82, 88, 75, 90, 80, 85, 82, 86],\n",
    "    '학급': ['1반'] * 4 + ['2반'] * 4 + ['3반'] * 4\n",
    "}\n",
    "\n",
    "df_class = pd.DataFrame(class_scores)\n",
    "\n",
    "fig = px.bar(df_class, x='과목', y='점수',\n",
    "             color='학급',\n",
    "             title='학급별 과목 점수 비교',\n",
    "             barmode='group')  # 'stack'으로 변경하면 누적 막대\n",
    "\n",
    "fig.update_layout(\n",
    "    xaxis_title=\"과목\",\n",
    "    yaxis_title=\"점수\"\n",
    ")\n",
    "\n",
    "fig.show()"
   ]
  },
  {
   "cell_type": "markdown",
   "id": "d714b301-9284-44f4-9a77-b1eb03766387",
   "metadata": {},
   "source": [
    "# 히스토그램 (Histogram)"
   ]
  },
  {
   "cell_type": "markdown",
   "id": "88b646f8-e9a0-4249-b835-1edac37ab574",
   "metadata": {},
   "source": [
    "## 기본 히스토그램"
   ]
  },
  {
   "cell_type": "code",
   "execution_count": 9,
   "id": "2ca0b615-410b-49e1-bdf1-c02aac5f7ea1",
   "metadata": {},
   "outputs": [
    {
     "data": {
      "application/vnd.plotly.v1+json": {
       "config": {
        "plotlyServerURL": "https://plot.ly"
       },
       "data": [
        {
         "bingroup": "x",
         "hovertemplate": "점수=%{x}<br>count=%{y}<extra></extra>",
         "legendgroup": "",
         "marker": {
          "color": "#636efa",
          "pattern": {
           "shape": ""
          }
         },
         "name": "",
         "nbinsx": 20,
         "orientation": "v",
         "showlegend": false,
         "type": "histogram",
         "x": {
          "bdata": "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",
          "dtype": "f8"
         },
         "xaxis": "x",
         "yaxis": "y"
        },
        {
         "boxpoints": "all",
         "fillcolor": "rgba(255,255,255,0)",
         "hoveron": "points",
         "hovertemplate": "점수=%{x}<extra></extra>",
         "jitter": 0,
         "legendgroup": "",
         "line": {
          "color": "rgba(255,255,255,0)"
         },
         "marker": {
          "color": "#636efa",
          "symbol": "line-ns-open"
         },
         "name": "",
         "showlegend": false,
         "type": "box",
         "x": {
          "bdata": "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",
          "dtype": "f8"
         },
         "xaxis": "x2",
         "yaxis": "y2"
        }
       ],
       "layout": {
        "barmode": "relative",
        "legend": {
         "tracegroupgap": 0
        },
        "template": {
         "data": {
          "bar": [
           {
            "error_x": {
             "color": "#2a3f5f"
            },
            "error_y": {
             "color": "#2a3f5f"
            },
            "marker": {
             "line": {
              "color": "#E5ECF6",
              "width": 0.5
             },
             "pattern": {
              "fillmode": "overlay",
              "size": 10,
              "solidity": 0.2
             }
            },
            "type": "bar"
           }
          ],
          "barpolar": [
           {
            "marker": {
             "line": {
              "color": "#E5ECF6",
              "width": 0.5
             },
             "pattern": {
              "fillmode": "overlay",
              "size": 10,
              "solidity": 0.2
             }
            },
            "type": "barpolar"
           }
          ],
          "carpet": [
           {
            "aaxis": {
             "endlinecolor": "#2a3f5f",
             "gridcolor": "white",
             "linecolor": "white",
             "minorgridcolor": "white",
             "startlinecolor": "#2a3f5f"
            },
            "baxis": {
             "endlinecolor": "#2a3f5f",
             "gridcolor": "white",
             "linecolor": "white",
             "minorgridcolor": "white",
             "startlinecolor": "#2a3f5f"
            },
            "type": "carpet"
           }
          ],
          "choropleth": [
           {
            "colorbar": {
             "outlinewidth": 0,
             "ticks": ""
            },
            "type": "choropleth"
           }
          ],
          "contour": [
           {
            "colorbar": {
             "outlinewidth": 0,
             "ticks": ""
            },
            "colorscale": [
             [
              0,
              "#0d0887"
             ],
             [
              0.1111111111111111,
              "#46039f"
             ],
             [
              0.2222222222222222,
              "#7201a8"
             ],
             [
              0.3333333333333333,
              "#9c179e"
             ],
             [
              0.4444444444444444,
              "#bd3786"
             ],
             [
              0.5555555555555556,
              "#d8576b"
             ],
             [
              0.6666666666666666,
              "#ed7953"
             ],
             [
              0.7777777777777778,
              "#fb9f3a"
             ],
             [
              0.8888888888888888,
              "#fdca26"
             ],
             [
              1,
              "#f0f921"
             ]
            ],
            "type": "contour"
           }
          ],
          "contourcarpet": [
           {
            "colorbar": {
             "outlinewidth": 0,
             "ticks": ""
            },
            "type": "contourcarpet"
           }
          ],
          "heatmap": [
           {
            "colorbar": {
             "outlinewidth": 0,
             "ticks": ""
            },
            "colorscale": [
             [
              0,
              "#0d0887"
             ],
             [
              0.1111111111111111,
              "#46039f"
             ],
             [
              0.2222222222222222,
              "#7201a8"
             ],
             [
              0.3333333333333333,
              "#9c179e"
             ],
             [
              0.4444444444444444,
              "#bd3786"
             ],
             [
              0.5555555555555556,
              "#d8576b"
             ],
             [
              0.6666666666666666,
              "#ed7953"
             ],
             [
              0.7777777777777778,
              "#fb9f3a"
             ],
             [
              0.8888888888888888,
              "#fdca26"
             ],
             [
              1,
              "#f0f921"
             ]
            ],
            "type": "heatmap"
           }
          ],
          "histogram": [
           {
            "marker": {
             "pattern": {
              "fillmode": "overlay",
              "size": 10,
              "solidity": 0.2
             }
            },
            "type": "histogram"
           }
          ],
          "histogram2d": [
           {
            "colorbar": {
             "outlinewidth": 0,
             "ticks": ""
            },
            "colorscale": [
             [
              0,
              "#0d0887"
             ],
             [
              0.1111111111111111,
              "#46039f"
             ],
             [
              0.2222222222222222,
              "#7201a8"
             ],
             [
              0.3333333333333333,
              "#9c179e"
             ],
             [
              0.4444444444444444,
              "#bd3786"
             ],
             [
              0.5555555555555556,
              "#d8576b"
             ],
             [
              0.6666666666666666,
              "#ed7953"
             ],
             [
              0.7777777777777778,
              "#fb9f3a"
             ],
             [
              0.8888888888888888,
              "#fdca26"
             ],
             [
              1,
              "#f0f921"
             ]
            ],
            "type": "histogram2d"
           }
          ],
          "histogram2dcontour": [
           {
            "colorbar": {
             "outlinewidth": 0,
             "ticks": ""
            },
            "colorscale": [
             [
              0,
              "#0d0887"
             ],
             [
              0.1111111111111111,
              "#46039f"
             ],
             [
              0.2222222222222222,
              "#7201a8"
             ],
             [
              0.3333333333333333,
              "#9c179e"
             ],
             [
              0.4444444444444444,
              "#bd3786"
             ],
             [
              0.5555555555555556,
              "#d8576b"
             ],
             [
              0.6666666666666666,
              "#ed7953"
             ],
             [
              0.7777777777777778,
              "#fb9f3a"
             ],
             [
              0.8888888888888888,
              "#fdca26"
             ],
             [
              1,
              "#f0f921"
             ]
            ],
            "type": "histogram2dcontour"
           }
          ],
          "mesh3d": [
           {
            "colorbar": {
             "outlinewidth": 0,
             "ticks": ""
            },
            "type": "mesh3d"
           }
          ],
          "parcoords": [
           {
            "line": {
             "colorbar": {
              "outlinewidth": 0,
              "ticks": ""
             }
            },
            "type": "parcoords"
           }
          ],
          "pie": [
           {
            "automargin": true,
            "type": "pie"
           }
          ],
          "scatter": [
           {
            "fillpattern": {
             "fillmode": "overlay",
             "size": 10,
             "solidity": 0.2
            },
            "type": "scatter"
           }
          ],
          "scatter3d": [
           {
            "line": {
             "colorbar": {
              "outlinewidth": 0,
              "ticks": ""
             }
            },
            "marker": {
             "colorbar": {
              "outlinewidth": 0,
              "ticks": ""
             }
            },
            "type": "scatter3d"
           }
          ],
          "scattercarpet": [
           {
            "marker": {
             "colorbar": {
              "outlinewidth": 0,
              "ticks": ""
             }
            },
            "type": "scattercarpet"
           }
          ],
          "scattergeo": [
           {
            "marker": {
             "colorbar": {
              "outlinewidth": 0,
              "ticks": ""
             }
            },
            "type": "scattergeo"
           }
          ],
          "scattergl": [
           {
            "marker": {
             "colorbar": {
              "outlinewidth": 0,
              "ticks": ""
             }
            },
            "type": "scattergl"
           }
          ],
          "scattermap": [
           {
            "marker": {
             "colorbar": {
              "outlinewidth": 0,
              "ticks": ""
             }
            },
            "type": "scattermap"
           }
          ],
          "scattermapbox": [
           {
            "marker": {
             "colorbar": {
              "outlinewidth": 0,
              "ticks": ""
             }
            },
            "type": "scattermapbox"
           }
          ],
          "scatterpolar": [
           {
            "marker": {
             "colorbar": {
              "outlinewidth": 0,
              "ticks": ""
             }
            },
            "type": "scatterpolar"
           }
          ],
          "scatterpolargl": [
           {
            "marker": {
             "colorbar": {
              "outlinewidth": 0,
              "ticks": ""
             }
            },
            "type": "scatterpolargl"
           }
          ],
          "scatterternary": [
           {
            "marker": {
             "colorbar": {
              "outlinewidth": 0,
              "ticks": ""
             }
            },
            "type": "scatterternary"
           }
          ],
          "surface": [
           {
            "colorbar": {
             "outlinewidth": 0,
             "ticks": ""
            },
            "colorscale": [
             [
              0,
              "#0d0887"
             ],
             [
              0.1111111111111111,
              "#46039f"
             ],
             [
              0.2222222222222222,
              "#7201a8"
             ],
             [
              0.3333333333333333,
              "#9c179e"
             ],
             [
              0.4444444444444444,
              "#bd3786"
             ],
             [
              0.5555555555555556,
              "#d8576b"
             ],
             [
              0.6666666666666666,
              "#ed7953"
             ],
             [
              0.7777777777777778,
              "#fb9f3a"
             ],
             [
              0.8888888888888888,
              "#fdca26"
             ],
             [
              1,
              "#f0f921"
             ]
            ],
            "type": "surface"
           }
          ],
          "table": [
           {
            "cells": {
             "fill": {
              "color": "#EBF0F8"
             },
             "line": {
              "color": "white"
             }
            },
            "header": {
             "fill": {
              "color": "#C8D4E3"
             },
             "line": {
              "color": "white"
             }
            },
            "type": "table"
           }
          ]
         },
         "layout": {
          "annotationdefaults": {
           "arrowcolor": "#2a3f5f",
           "arrowhead": 0,
           "arrowwidth": 1
          },
          "autotypenumbers": "strict",
          "coloraxis": {
           "colorbar": {
            "outlinewidth": 0,
            "ticks": ""
           }
          },
          "colorscale": {
           "diverging": [
            [
             0,
             "#8e0152"
            ],
            [
             0.1,
             "#c51b7d"
            ],
            [
             0.2,
             "#de77ae"
            ],
            [
             0.3,
             "#f1b6da"
            ],
            [
             0.4,
             "#fde0ef"
            ],
            [
             0.5,
             "#f7f7f7"
            ],
            [
             0.6,
             "#e6f5d0"
            ],
            [
             0.7,
             "#b8e186"
            ],
            [
             0.8,
             "#7fbc41"
            ],
            [
             0.9,
             "#4d9221"
            ],
            [
             1,
             "#276419"
            ]
           ],
           "sequential": [
            [
             0,
             "#0d0887"
            ],
            [
             0.1111111111111111,
             "#46039f"
            ],
            [
             0.2222222222222222,
             "#7201a8"
            ],
            [
             0.3333333333333333,
             "#9c179e"
            ],
            [
             0.4444444444444444,
             "#bd3786"
            ],
            [
             0.5555555555555556,
             "#d8576b"
            ],
            [
             0.6666666666666666,
             "#ed7953"
            ],
            [
             0.7777777777777778,
             "#fb9f3a"
            ],
            [
             0.8888888888888888,
             "#fdca26"
            ],
            [
             1,
             "#f0f921"
            ]
           ],
           "sequentialminus": [
            [
             0,
             "#0d0887"
            ],
            [
             0.1111111111111111,
             "#46039f"
            ],
            [
             0.2222222222222222,
             "#7201a8"
            ],
            [
             0.3333333333333333,
             "#9c179e"
            ],
            [
             0.4444444444444444,
             "#bd3786"
            ],
            [
             0.5555555555555556,
             "#d8576b"
            ],
            [
             0.6666666666666666,
             "#ed7953"
            ],
            [
             0.7777777777777778,
             "#fb9f3a"
            ],
            [
             0.8888888888888888,
             "#fdca26"
            ],
            [
             1,
             "#f0f921"
            ]
           ]
          },
          "colorway": [
           "#636efa",
           "#EF553B",
           "#00cc96",
           "#ab63fa",
           "#FFA15A",
           "#19d3f3",
           "#FF6692",
           "#B6E880",
           "#FF97FF",
           "#FECB52"
          ],
          "font": {
           "color": "#2a3f5f"
          },
          "geo": {
           "bgcolor": "white",
           "lakecolor": "white",
           "landcolor": "#E5ECF6",
           "showlakes": true,
           "showland": true,
           "subunitcolor": "white"
          },
          "hoverlabel": {
           "align": "left"
          },
          "hovermode": "closest",
          "mapbox": {
           "style": "light"
          },
          "paper_bgcolor": "white",
          "plot_bgcolor": "#E5ECF6",
          "polar": {
           "angularaxis": {
            "gridcolor": "white",
            "linecolor": "white",
            "ticks": ""
           },
           "bgcolor": "#E5ECF6",
           "radialaxis": {
            "gridcolor": "white",
            "linecolor": "white",
            "ticks": ""
           }
          },
          "scene": {
           "xaxis": {
            "backgroundcolor": "#E5ECF6",
            "gridcolor": "white",
            "gridwidth": 2,
            "linecolor": "white",
            "showbackground": true,
            "ticks": "",
            "zerolinecolor": "white"
           },
           "yaxis": {
            "backgroundcolor": "#E5ECF6",
            "gridcolor": "white",
            "gridwidth": 2,
            "linecolor": "white",
            "showbackground": true,
            "ticks": "",
            "zerolinecolor": "white"
           },
           "zaxis": {
            "backgroundcolor": "#E5ECF6",
            "gridcolor": "white",
            "gridwidth": 2,
            "linecolor": "white",
            "showbackground": true,
            "ticks": "",
            "zerolinecolor": "white"
           }
          },
          "shapedefaults": {
           "line": {
            "color": "#2a3f5f"
           }
          },
          "ternary": {
           "aaxis": {
            "gridcolor": "white",
            "linecolor": "white",
            "ticks": ""
           },
           "baxis": {
            "gridcolor": "white",
            "linecolor": "white",
            "ticks": ""
           },
           "bgcolor": "#E5ECF6",
           "caxis": {
            "gridcolor": "white",
            "linecolor": "white",
            "ticks": ""
           }
          },
          "title": {
           "x": 0.05
          },
          "xaxis": {
           "automargin": true,
           "gridcolor": "white",
           "linecolor": "white",
           "ticks": "",
           "title": {
            "standoff": 15
           },
           "zerolinecolor": "white",
           "zerolinewidth": 2
          },
          "yaxis": {
           "automargin": true,
           "gridcolor": "white",
           "linecolor": "white",
           "ticks": "",
           "title": {
            "standoff": 15
           },
           "zerolinecolor": "white",
           "zerolinewidth": 2
          }
         }
        },
        "title": {
         "text": "시험 점수 분포"
        },
        "xaxis": {
         "anchor": "y",
         "domain": [
          0,
          1
         ],
         "title": {
          "text": "점수"
         }
        },
        "xaxis2": {
         "anchor": "y2",
         "domain": [
          0,
          1
         ],
         "matches": "x",
         "showgrid": true,
         "showticklabels": false
        },
        "yaxis": {
         "anchor": "x",
         "domain": [
          0,
          0.8316
         ],
         "title": {
          "text": "빈도"
         }
        },
        "yaxis2": {
         "anchor": "x2",
         "domain": [
          0.8416,
          1
         ],
         "matches": "y2",
         "showgrid": false,
         "showline": false,
         "showticklabels": false,
         "ticks": ""
        }
       }
      }
     },
     "metadata": {},
     "output_type": "display_data"
    }
   ],
   "source": [
    "# 시험 점수 분포 데이터\n",
    "np.random.seed(42)\n",
    "scores = np.random.normal(75, 15, 1000)  # 평균 75, 표준편차 15\n",
    "scores = np.clip(scores, 0, 100)  # 0-100 사이로 제한\n",
    "\n",
    "df_hist = pd.DataFrame({'점수': scores})\n",
    "\n",
    "fig = px.histogram(df_hist, x='점수',\n",
    "                   title='시험 점수 분포',\n",
    "                   nbins=20,  # 구간 수\n",
    "                   marginal='rug')  # 개별 데이터 포인트 표시\n",
    "\n",
    "fig.update_layout(\n",
    "    xaxis_title=\"점수\",\n",
    "    yaxis_title=\"빈도\"\n",
    ")\n",
    "\n",
    "fig.show()"
   ]
  },
  {
   "cell_type": "markdown",
   "id": "280f53f8-1ce6-4843-a97f-16c1a3f01aac",
   "metadata": {},
   "source": [
    "## 그룹별 히스토그램"
   ]
  },
  {
   "cell_type": "code",
   "execution_count": 10,
   "id": "b064091b-9a54-4125-9419-c0f163f7a665",
   "metadata": {},
   "outputs": [
    {
     "data": {
      "application/vnd.plotly.v1+json": {
       "config": {
        "plotlyServerURL": "https://plot.ly"
       },
       "data": [
        {
         "bingroup": "x",
         "hovertemplate": "성별=남성<br>키=%{x}<br>count=%{y}<extra></extra>",
         "legendgroup": "남성",
         "marker": {
          "color": "#636efa",
          "opacity": 0.7,
          "pattern": {
           "shape": ""
          }
         },
         "name": "남성",
         "orientation": "v",
         "showlegend": true,
         "type": "histogram",
         "x": {
          "bdata": "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",
          "dtype": "f8"
         },
         "xaxis": "x",
         "yaxis": "y"
        },
        {
         "hovertemplate": "성별=남성<br>키=%{x}<extra></extra>",
         "legendgroup": "남성",
         "marker": {
          "color": "#636efa"
         },
         "name": "남성",
         "notched": true,
         "showlegend": false,
         "type": "box",
         "x": {
          "bdata": "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",
          "dtype": "f8"
         },
         "xaxis": "x2",
         "yaxis": "y2"
        },
        {
         "bingroup": "x",
         "hovertemplate": "성별=여성<br>키=%{x}<br>count=%{y}<extra></extra>",
         "legendgroup": "여성",
         "marker": {
          "color": "#EF553B",
          "opacity": 0.7,
          "pattern": {
           "shape": ""
          }
         },
         "name": "여성",
         "orientation": "v",
         "showlegend": true,
         "type": "histogram",
         "x": {
          "bdata": "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",
          "dtype": "f8"
         },
         "xaxis": "x",
         "yaxis": "y"
        },
        {
         "hovertemplate": "성별=여성<br>키=%{x}<extra></extra>",
         "legendgroup": "여성",
         "marker": {
          "color": "#EF553B"
         },
         "name": "여성",
         "notched": true,
         "showlegend": false,
         "type": "box",
         "x": {
          "bdata": "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",
          "dtype": "f8"
         },
         "xaxis": "x2",
         "yaxis": "y2"
        }
       ],
       "layout": {
        "barmode": "overlay",
        "legend": {
         "title": {
          "text": "성별"
         },
         "tracegroupgap": 0
        },
        "template": {
         "data": {
          "bar": [
           {
            "error_x": {
             "color": "#2a3f5f"
            },
            "error_y": {
             "color": "#2a3f5f"
            },
            "marker": {
             "line": {
              "color": "#E5ECF6",
              "width": 0.5
             },
             "pattern": {
              "fillmode": "overlay",
              "size": 10,
              "solidity": 0.2
             }
            },
            "type": "bar"
           }
          ],
          "barpolar": [
           {
            "marker": {
             "line": {
              "color": "#E5ECF6",
              "width": 0.5
             },
             "pattern": {
              "fillmode": "overlay",
              "size": 10,
              "solidity": 0.2
             }
            },
            "type": "barpolar"
           }
          ],
          "carpet": [
           {
            "aaxis": {
             "endlinecolor": "#2a3f5f",
             "gridcolor": "white",
             "linecolor": "white",
             "minorgridcolor": "white",
             "startlinecolor": "#2a3f5f"
            },
            "baxis": {
             "endlinecolor": "#2a3f5f",
             "gridcolor": "white",
             "linecolor": "white",
             "minorgridcolor": "white",
             "startlinecolor": "#2a3f5f"
            },
            "type": "carpet"
           }
          ],
          "choropleth": [
           {
            "colorbar": {
             "outlinewidth": 0,
             "ticks": ""
            },
            "type": "choropleth"
           }
          ],
          "contour": [
           {
            "colorbar": {
             "outlinewidth": 0,
             "ticks": ""
            },
            "colorscale": [
             [
              0,
              "#0d0887"
             ],
             [
              0.1111111111111111,
              "#46039f"
             ],
             [
              0.2222222222222222,
              "#7201a8"
             ],
             [
              0.3333333333333333,
              "#9c179e"
             ],
             [
              0.4444444444444444,
              "#bd3786"
             ],
             [
              0.5555555555555556,
              "#d8576b"
             ],
             [
              0.6666666666666666,
              "#ed7953"
             ],
             [
              0.7777777777777778,
              "#fb9f3a"
             ],
             [
              0.8888888888888888,
              "#fdca26"
             ],
             [
              1,
              "#f0f921"
             ]
            ],
            "type": "contour"
           }
          ],
          "contourcarpet": [
           {
            "colorbar": {
             "outlinewidth": 0,
             "ticks": ""
            },
            "type": "contourcarpet"
           }
          ],
          "heatmap": [
           {
            "colorbar": {
             "outlinewidth": 0,
             "ticks": ""
            },
            "colorscale": [
             [
              0,
              "#0d0887"
             ],
             [
              0.1111111111111111,
              "#46039f"
             ],
             [
              0.2222222222222222,
              "#7201a8"
             ],
             [
              0.3333333333333333,
              "#9c179e"
             ],
             [
              0.4444444444444444,
              "#bd3786"
             ],
             [
              0.5555555555555556,
              "#d8576b"
             ],
             [
              0.6666666666666666,
              "#ed7953"
             ],
             [
              0.7777777777777778,
              "#fb9f3a"
             ],
             [
              0.8888888888888888,
              "#fdca26"
             ],
             [
              1,
              "#f0f921"
             ]
            ],
            "type": "heatmap"
           }
          ],
          "histogram": [
           {
            "marker": {
             "pattern": {
              "fillmode": "overlay",
              "size": 10,
              "solidity": 0.2
             }
            },
            "type": "histogram"
           }
          ],
          "histogram2d": [
           {
            "colorbar": {
             "outlinewidth": 0,
             "ticks": ""
            },
            "colorscale": [
             [
              0,
              "#0d0887"
             ],
             [
              0.1111111111111111,
              "#46039f"
             ],
             [
              0.2222222222222222,
              "#7201a8"
             ],
             [
              0.3333333333333333,
              "#9c179e"
             ],
             [
              0.4444444444444444,
              "#bd3786"
             ],
             [
              0.5555555555555556,
              "#d8576b"
             ],
             [
              0.6666666666666666,
              "#ed7953"
             ],
             [
              0.7777777777777778,
              "#fb9f3a"
             ],
             [
              0.8888888888888888,
              "#fdca26"
             ],
             [
              1,
              "#f0f921"
             ]
            ],
            "type": "histogram2d"
           }
          ],
          "histogram2dcontour": [
           {
            "colorbar": {
             "outlinewidth": 0,
             "ticks": ""
            },
            "colorscale": [
             [
              0,
              "#0d0887"
             ],
             [
              0.1111111111111111,
              "#46039f"
             ],
             [
              0.2222222222222222,
              "#7201a8"
             ],
             [
              0.3333333333333333,
              "#9c179e"
             ],
             [
              0.4444444444444444,
              "#bd3786"
             ],
             [
              0.5555555555555556,
              "#d8576b"
             ],
             [
              0.6666666666666666,
              "#ed7953"
             ],
             [
              0.7777777777777778,
              "#fb9f3a"
             ],
             [
              0.8888888888888888,
              "#fdca26"
             ],
             [
              1,
              "#f0f921"
             ]
            ],
            "type": "histogram2dcontour"
           }
          ],
          "mesh3d": [
           {
            "colorbar": {
             "outlinewidth": 0,
             "ticks": ""
            },
            "type": "mesh3d"
           }
          ],
          "parcoords": [
           {
            "line": {
             "colorbar": {
              "outlinewidth": 0,
              "ticks": ""
             }
            },
            "type": "parcoords"
           }
          ],
          "pie": [
           {
            "automargin": true,
            "type": "pie"
           }
          ],
          "scatter": [
           {
            "fillpattern": {
             "fillmode": "overlay",
             "size": 10,
             "solidity": 0.2
            },
            "type": "scatter"
           }
          ],
          "scatter3d": [
           {
            "line": {
             "colorbar": {
              "outlinewidth": 0,
              "ticks": ""
             }
            },
            "marker": {
             "colorbar": {
              "outlinewidth": 0,
              "ticks": ""
             }
            },
            "type": "scatter3d"
           }
          ],
          "scattercarpet": [
           {
            "marker": {
             "colorbar": {
              "outlinewidth": 0,
              "ticks": ""
             }
            },
            "type": "scattercarpet"
           }
          ],
          "scattergeo": [
           {
            "marker": {
             "colorbar": {
              "outlinewidth": 0,
              "ticks": ""
             }
            },
            "type": "scattergeo"
           }
          ],
          "scattergl": [
           {
            "marker": {
             "colorbar": {
              "outlinewidth": 0,
              "ticks": ""
             }
            },
            "type": "scattergl"
           }
          ],
          "scattermap": [
           {
            "marker": {
             "colorbar": {
              "outlinewidth": 0,
              "ticks": ""
             }
            },
            "type": "scattermap"
           }
          ],
          "scattermapbox": [
           {
            "marker": {
             "colorbar": {
              "outlinewidth": 0,
              "ticks": ""
             }
            },
            "type": "scattermapbox"
           }
          ],
          "scatterpolar": [
           {
            "marker": {
             "colorbar": {
              "outlinewidth": 0,
              "ticks": ""
             }
            },
            "type": "scatterpolar"
           }
          ],
          "scatterpolargl": [
           {
            "marker": {
             "colorbar": {
              "outlinewidth": 0,
              "ticks": ""
             }
            },
            "type": "scatterpolargl"
           }
          ],
          "scatterternary": [
           {
            "marker": {
             "colorbar": {
              "outlinewidth": 0,
              "ticks": ""
             }
            },
            "type": "scatterternary"
           }
          ],
          "surface": [
           {
            "colorbar": {
             "outlinewidth": 0,
             "ticks": ""
            },
            "colorscale": [
             [
              0,
              "#0d0887"
             ],
             [
              0.1111111111111111,
              "#46039f"
             ],
             [
              0.2222222222222222,
              "#7201a8"
             ],
             [
              0.3333333333333333,
              "#9c179e"
             ],
             [
              0.4444444444444444,
              "#bd3786"
             ],
             [
              0.5555555555555556,
              "#d8576b"
             ],
             [
              0.6666666666666666,
              "#ed7953"
             ],
             [
              0.7777777777777778,
              "#fb9f3a"
             ],
             [
              0.8888888888888888,
              "#fdca26"
             ],
             [
              1,
              "#f0f921"
             ]
            ],
            "type": "surface"
           }
          ],
          "table": [
           {
            "cells": {
             "fill": {
              "color": "#EBF0F8"
             },
             "line": {
              "color": "white"
             }
            },
            "header": {
             "fill": {
              "color": "#C8D4E3"
             },
             "line": {
              "color": "white"
             }
            },
            "type": "table"
           }
          ]
         },
         "layout": {
          "annotationdefaults": {
           "arrowcolor": "#2a3f5f",
           "arrowhead": 0,
           "arrowwidth": 1
          },
          "autotypenumbers": "strict",
          "coloraxis": {
           "colorbar": {
            "outlinewidth": 0,
            "ticks": ""
           }
          },
          "colorscale": {
           "diverging": [
            [
             0,
             "#8e0152"
            ],
            [
             0.1,
             "#c51b7d"
            ],
            [
             0.2,
             "#de77ae"
            ],
            [
             0.3,
             "#f1b6da"
            ],
            [
             0.4,
             "#fde0ef"
            ],
            [
             0.5,
             "#f7f7f7"
            ],
            [
             0.6,
             "#e6f5d0"
            ],
            [
             0.7,
             "#b8e186"
            ],
            [
             0.8,
             "#7fbc41"
            ],
            [
             0.9,
             "#4d9221"
            ],
            [
             1,
             "#276419"
            ]
           ],
           "sequential": [
            [
             0,
             "#0d0887"
            ],
            [
             0.1111111111111111,
             "#46039f"
            ],
            [
             0.2222222222222222,
             "#7201a8"
            ],
            [
             0.3333333333333333,
             "#9c179e"
            ],
            [
             0.4444444444444444,
             "#bd3786"
            ],
            [
             0.5555555555555556,
             "#d8576b"
            ],
            [
             0.6666666666666666,
             "#ed7953"
            ],
            [
             0.7777777777777778,
             "#fb9f3a"
            ],
            [
             0.8888888888888888,
             "#fdca26"
            ],
            [
             1,
             "#f0f921"
            ]
           ],
           "sequentialminus": [
            [
             0,
             "#0d0887"
            ],
            [
             0.1111111111111111,
             "#46039f"
            ],
            [
             0.2222222222222222,
             "#7201a8"
            ],
            [
             0.3333333333333333,
             "#9c179e"
            ],
            [
             0.4444444444444444,
             "#bd3786"
            ],
            [
             0.5555555555555556,
             "#d8576b"
            ],
            [
             0.6666666666666666,
             "#ed7953"
            ],
            [
             0.7777777777777778,
             "#fb9f3a"
            ],
            [
             0.8888888888888888,
             "#fdca26"
            ],
            [
             1,
             "#f0f921"
            ]
           ]
          },
          "colorway": [
           "#636efa",
           "#EF553B",
           "#00cc96",
           "#ab63fa",
           "#FFA15A",
           "#19d3f3",
           "#FF6692",
           "#B6E880",
           "#FF97FF",
           "#FECB52"
          ],
          "font": {
           "color": "#2a3f5f"
          },
          "geo": {
           "bgcolor": "white",
           "lakecolor": "white",
           "landcolor": "#E5ECF6",
           "showlakes": true,
           "showland": true,
           "subunitcolor": "white"
          },
          "hoverlabel": {
           "align": "left"
          },
          "hovermode": "closest",
          "mapbox": {
           "style": "light"
          },
          "paper_bgcolor": "white",
          "plot_bgcolor": "#E5ECF6",
          "polar": {
           "angularaxis": {
            "gridcolor": "white",
            "linecolor": "white",
            "ticks": ""
           },
           "bgcolor": "#E5ECF6",
           "radialaxis": {
            "gridcolor": "white",
            "linecolor": "white",
            "ticks": ""
           }
          },
          "scene": {
           "xaxis": {
            "backgroundcolor": "#E5ECF6",
            "gridcolor": "white",
            "gridwidth": 2,
            "linecolor": "white",
            "showbackground": true,
            "ticks": "",
            "zerolinecolor": "white"
           },
           "yaxis": {
            "backgroundcolor": "#E5ECF6",
            "gridcolor": "white",
            "gridwidth": 2,
            "linecolor": "white",
            "showbackground": true,
            "ticks": "",
            "zerolinecolor": "white"
           },
           "zaxis": {
            "backgroundcolor": "#E5ECF6",
            "gridcolor": "white",
            "gridwidth": 2,
            "linecolor": "white",
            "showbackground": true,
            "ticks": "",
            "zerolinecolor": "white"
           }
          },
          "shapedefaults": {
           "line": {
            "color": "#2a3f5f"
           }
          },
          "ternary": {
           "aaxis": {
            "gridcolor": "white",
            "linecolor": "white",
            "ticks": ""
           },
           "baxis": {
            "gridcolor": "white",
            "linecolor": "white",
            "ticks": ""
           },
           "bgcolor": "#E5ECF6",
           "caxis": {
            "gridcolor": "white",
            "linecolor": "white",
            "ticks": ""
           }
          },
          "title": {
           "x": 0.05
          },
          "xaxis": {
           "automargin": true,
           "gridcolor": "white",
           "linecolor": "white",
           "ticks": "",
           "title": {
            "standoff": 15
           },
           "zerolinecolor": "white",
           "zerolinewidth": 2
          },
          "yaxis": {
           "automargin": true,
           "gridcolor": "white",
           "linecolor": "white",
           "ticks": "",
           "title": {
            "standoff": 15
           },
           "zerolinecolor": "white",
           "zerolinewidth": 2
          }
         }
        },
        "title": {
         "text": "성별 키 분포 비교"
        },
        "xaxis": {
         "anchor": "y",
         "domain": [
          0,
          1
         ],
         "title": {
          "text": "키 (cm)"
         }
        },
        "xaxis2": {
         "anchor": "y2",
         "domain": [
          0,
          1
         ],
         "matches": "x",
         "showgrid": true,
         "showticklabels": false
        },
        "yaxis": {
         "anchor": "x",
         "domain": [
          0,
          0.7326
         ],
         "title": {
          "text": "빈도"
         }
        },
        "yaxis2": {
         "anchor": "x2",
         "domain": [
          0.7426,
          1
         ],
         "matches": "y2",
         "showgrid": false,
         "showline": false,
         "showticklabels": false,
         "ticks": ""
        }
       }
      }
     },
     "metadata": {},
     "output_type": "display_data"
    }
   ],
   "source": [
    "# 성별 키 분포 비교\n",
    "height_data = []\n",
    "np.random.seed(42)\n",
    "\n",
    "# 남성 키 데이터 (평균 175cm)\n",
    "male_heights = np.random.normal(175, 6, 500)\n",
    "for height in male_heights:\n",
    "    height_data.append({'키': height, '성별': '남성'})\n",
    "\n",
    "# 여성 키 데이터 (평균 162cm)\n",
    "female_heights = np.random.normal(162, 5, 500)\n",
    "for height in female_heights:\n",
    "    height_data.append({'키': height, '성별': '여성'})\n",
    "\n",
    "df_heights = pd.DataFrame(height_data)\n",
    "\n",
    "fig = px.histogram(df_heights, x='키', \n",
    "                   color='성별',\n",
    "                   title='성별 키 분포 비교',\n",
    "                   marginal='box',  # 박스플롯 추가\n",
    "                   opacity=0.7,\n",
    "                   barmode='overlay')\n",
    "\n",
    "fig.update_layout(\n",
    "    xaxis_title=\"키 (cm)\",\n",
    "    yaxis_title=\"빈도\"\n",
    ")\n",
    "\n",
    "fig.show()"
   ]
  },
  {
   "cell_type": "markdown",
   "id": "dd618f4f-3488-4b72-85e0-8093be48b35b",
   "metadata": {},
   "source": [
    "# 캔들스틱 차트 (주가 데이터용)"
   ]
  },
  {
   "cell_type": "markdown",
   "id": "a85b3b6d-46d5-4c97-a816-9f53716b3d44",
   "metadata": {},
   "source": [
    "## 기본 캔들스틱 차트"
   ]
  },
  {
   "cell_type": "code",
   "execution_count": 11,
   "id": "9b3618b4-7159-4dbc-976e-6835ca4730de",
   "metadata": {},
   "outputs": [
    {
     "data": {
      "application/vnd.plotly.v1+json": {
       "config": {
        "plotlyServerURL": "https://plot.ly"
       },
       "data": [
        {
         "close": {
          "bdata": "2Gy17hVZWUBWOVrR/NRYQOIU8dPQ+1hAzryT2EKwWUAaXbP3FDZZQO+zs5+WP1lAbeX2NYpqWUC4EaILOTdZQGlt5Mblw1hAXLTNCbwVWEBcV77etm5XQFvXIJAj5VdAFGkMaOIrWEBhZwRHCCpYQLImfWJnzVdA4iHHJhzVV0Dhj98ybolYQKoKfE4LIVlASGw3eQaDWEDq9Q+/8z9YQOofXPUvvlhAZF95J5XOWECIH9rHNStYQOo1uFOEt1dA4lo6O/MGWEBF0eYdYmNXQIuez6LQ7ldAKGsRrThHV0AGzb3hY59XQG4ucH+4lFdA",
          "dtype": "f8"
         },
         "high": {
          "bdata": "mtyXU9p3WUCXTBUJqBhaQAuY/AaT51hA+x0rImbeWUCWRxGMpLpaQB0QDHfFcFlAGKBMj8/JWUBIw0CMLZdZQIexbUwqyVlAssGz3HNoWUC16tAcJthYQIEHxJJbnlhA2nrhhZ1GWECyvd+yu7hYQKJWk2IJNVhAmV3TNWmhWEAi11WoDoRYQFyNYRR5gVlA7iHZRV/gWUCgQbxjvcFYQHnanTBUvFhAIbziMFkwWUA7Oa2qrftYQCoP+44DZ1lAF8boski5V0BI9qF/O/BYQEzcGKEX1ldA65jxN0W2WEAXLAxZvKpXQC3KAJdoa1hA",
          "dtype": "f8"
         },
         "low": {
          "bdata": "oanoe8XPV0CEl6viKCdZQCng/KrPv1dAOtPOizr1WEDVtKsGUGxZQMblanG51FhAPrb2IWXiWEAr8p+4DQ1ZQHJVQW73O1hAwsHpLFMGWEA/r7uzKt9XQErPP0u2OVZAAZtvQ+LFV0C2AsQI1QRYQOvCBMAMB1dAGSVsA6hpV0A84d3f9JlXQIrBB3LKXFdA4/qGXgv6V0Dh+Th0jXRYQHhfatUe6VdA4terzUlkWEAPw3It4c1XQPJTOn0XNFdAxUEQupGyVkDaHbrDJBBXQBU4mh9OPldAi81DeO2EV0AdyIaoKd9WQORZ92l7g1ZA",
          "dtype": "f8"
         },
         "name": "주가",
         "open": {
          "bdata": "AAAAAAAAWUDYbLXuFVlZQFY5WtH81FhA4hTx09D7WEDOvJPYQrBZQBpds/cUNllA77Ozn5Y/WUBt5fY1impZQLgRogs5N1lAaW3kxuXDWEBctM0JvBVYQFxXvt62bldAW9cgkCPlV0AUaQxo4itYQGFnBEcIKlhAsiZ9YmfNV0DiIccmHNVXQOGP3zJuiVhAqgp8TgshWUBIbDd5BoNYQOr1D7/zP1hA6h9c9S++WEBkX3knlc5YQIgf2sc1K1hA6jW4U4S3V0DiWjo78wZYQEXR5h1iY1dAi57PotDuV0AoaxGtOEdXQAbNveFjn1dA",
          "dtype": "f8"
         },
         "type": "candlestick",
         "x": [
          "2025-09-18T17:07:21.809492000",
          "2025-09-19T17:07:21.809492000",
          "2025-09-20T17:07:21.809492000",
          "2025-09-21T17:07:21.809492000",
          "2025-09-22T17:07:21.809492000",
          "2025-09-23T17:07:21.809492000",
          "2025-09-24T17:07:21.809492000",
          "2025-09-25T17:07:21.809492000",
          "2025-09-26T17:07:21.809492000",
          "2025-09-27T17:07:21.809492000",
          "2025-09-28T17:07:21.809492000",
          "2025-09-29T17:07:21.809492000",
          "2025-09-30T17:07:21.809492000",
          "2025-10-01T17:07:21.809492000",
          "2025-10-02T17:07:21.809492000",
          "2025-10-03T17:07:21.809492000",
          "2025-10-04T17:07:21.809492000",
          "2025-10-05T17:07:21.809492000",
          "2025-10-06T17:07:21.809492000",
          "2025-10-07T17:07:21.809492000",
          "2025-10-08T17:07:21.809492000",
          "2025-10-09T17:07:21.809492000",
          "2025-10-10T17:07:21.809492000",
          "2025-10-11T17:07:21.809492000",
          "2025-10-12T17:07:21.809492000",
          "2025-10-13T17:07:21.809492000",
          "2025-10-14T17:07:21.809492000",
          "2025-10-15T17:07:21.809492000",
          "2025-10-16T17:07:21.809492000",
          "2025-10-17T17:07:21.809492000"
         ]
        }
       ],
       "layout": {
        "template": {
         "data": {
          "bar": [
           {
            "error_x": {
             "color": "#2a3f5f"
            },
            "error_y": {
             "color": "#2a3f5f"
            },
            "marker": {
             "line": {
              "color": "#E5ECF6",
              "width": 0.5
             },
             "pattern": {
              "fillmode": "overlay",
              "size": 10,
              "solidity": 0.2
             }
            },
            "type": "bar"
           }
          ],
          "barpolar": [
           {
            "marker": {
             "line": {
              "color": "#E5ECF6",
              "width": 0.5
             },
             "pattern": {
              "fillmode": "overlay",
              "size": 10,
              "solidity": 0.2
             }
            },
            "type": "barpolar"
           }
          ],
          "carpet": [
           {
            "aaxis": {
             "endlinecolor": "#2a3f5f",
             "gridcolor": "white",
             "linecolor": "white",
             "minorgridcolor": "white",
             "startlinecolor": "#2a3f5f"
            },
            "baxis": {
             "endlinecolor": "#2a3f5f",
             "gridcolor": "white",
             "linecolor": "white",
             "minorgridcolor": "white",
             "startlinecolor": "#2a3f5f"
            },
            "type": "carpet"
           }
          ],
          "choropleth": [
           {
            "colorbar": {
             "outlinewidth": 0,
             "ticks": ""
            },
            "type": "choropleth"
           }
          ],
          "contour": [
           {
            "colorbar": {
             "outlinewidth": 0,
             "ticks": ""
            },
            "colorscale": [
             [
              0,
              "#0d0887"
             ],
             [
              0.1111111111111111,
              "#46039f"
             ],
             [
              0.2222222222222222,
              "#7201a8"
             ],
             [
              0.3333333333333333,
              "#9c179e"
             ],
             [
              0.4444444444444444,
              "#bd3786"
             ],
             [
              0.5555555555555556,
              "#d8576b"
             ],
             [
              0.6666666666666666,
              "#ed7953"
             ],
             [
              0.7777777777777778,
              "#fb9f3a"
             ],
             [
              0.8888888888888888,
              "#fdca26"
             ],
             [
              1,
              "#f0f921"
             ]
            ],
            "type": "contour"
           }
          ],
          "contourcarpet": [
           {
            "colorbar": {
             "outlinewidth": 0,
             "ticks": ""
            },
            "type": "contourcarpet"
           }
          ],
          "heatmap": [
           {
            "colorbar": {
             "outlinewidth": 0,
             "ticks": ""
            },
            "colorscale": [
             [
              0,
              "#0d0887"
             ],
             [
              0.1111111111111111,
              "#46039f"
             ],
             [
              0.2222222222222222,
              "#7201a8"
             ],
             [
              0.3333333333333333,
              "#9c179e"
             ],
             [
              0.4444444444444444,
              "#bd3786"
             ],
             [
              0.5555555555555556,
              "#d8576b"
             ],
             [
              0.6666666666666666,
              "#ed7953"
             ],
             [
              0.7777777777777778,
              "#fb9f3a"
             ],
             [
              0.8888888888888888,
              "#fdca26"
             ],
             [
              1,
              "#f0f921"
             ]
            ],
            "type": "heatmap"
           }
          ],
          "histogram": [
           {
            "marker": {
             "pattern": {
              "fillmode": "overlay",
              "size": 10,
              "solidity": 0.2
             }
            },
            "type": "histogram"
           }
          ],
          "histogram2d": [
           {
            "colorbar": {
             "outlinewidth": 0,
             "ticks": ""
            },
            "colorscale": [
             [
              0,
              "#0d0887"
             ],
             [
              0.1111111111111111,
              "#46039f"
             ],
             [
              0.2222222222222222,
              "#7201a8"
             ],
             [
              0.3333333333333333,
              "#9c179e"
             ],
             [
              0.4444444444444444,
              "#bd3786"
             ],
             [
              0.5555555555555556,
              "#d8576b"
             ],
             [
              0.6666666666666666,
              "#ed7953"
             ],
             [
              0.7777777777777778,
              "#fb9f3a"
             ],
             [
              0.8888888888888888,
              "#fdca26"
             ],
             [
              1,
              "#f0f921"
             ]
            ],
            "type": "histogram2d"
           }
          ],
          "histogram2dcontour": [
           {
            "colorbar": {
             "outlinewidth": 0,
             "ticks": ""
            },
            "colorscale": [
             [
              0,
              "#0d0887"
             ],
             [
              0.1111111111111111,
              "#46039f"
             ],
             [
              0.2222222222222222,
              "#7201a8"
             ],
             [
              0.3333333333333333,
              "#9c179e"
             ],
             [
              0.4444444444444444,
              "#bd3786"
             ],
             [
              0.5555555555555556,
              "#d8576b"
             ],
             [
              0.6666666666666666,
              "#ed7953"
             ],
             [
              0.7777777777777778,
              "#fb9f3a"
             ],
             [
              0.8888888888888888,
              "#fdca26"
             ],
             [
              1,
              "#f0f921"
             ]
            ],
            "type": "histogram2dcontour"
           }
          ],
          "mesh3d": [
           {
            "colorbar": {
             "outlinewidth": 0,
             "ticks": ""
            },
            "type": "mesh3d"
           }
          ],
          "parcoords": [
           {
            "line": {
             "colorbar": {
              "outlinewidth": 0,
              "ticks": ""
             }
            },
            "type": "parcoords"
           }
          ],
          "pie": [
           {
            "automargin": true,
            "type": "pie"
           }
          ],
          "scatter": [
           {
            "fillpattern": {
             "fillmode": "overlay",
             "size": 10,
             "solidity": 0.2
            },
            "type": "scatter"
           }
          ],
          "scatter3d": [
           {
            "line": {
             "colorbar": {
              "outlinewidth": 0,
              "ticks": ""
             }
            },
            "marker": {
             "colorbar": {
              "outlinewidth": 0,
              "ticks": ""
             }
            },
            "type": "scatter3d"
           }
          ],
          "scattercarpet": [
           {
            "marker": {
             "colorbar": {
              "outlinewidth": 0,
              "ticks": ""
             }
            },
            "type": "scattercarpet"
           }
          ],
          "scattergeo": [
           {
            "marker": {
             "colorbar": {
              "outlinewidth": 0,
              "ticks": ""
             }
            },
            "type": "scattergeo"
           }
          ],
          "scattergl": [
           {
            "marker": {
             "colorbar": {
              "outlinewidth": 0,
              "ticks": ""
             }
            },
            "type": "scattergl"
           }
          ],
          "scattermap": [
           {
            "marker": {
             "colorbar": {
              "outlinewidth": 0,
              "ticks": ""
             }
            },
            "type": "scattermap"
           }
          ],
          "scattermapbox": [
           {
            "marker": {
             "colorbar": {
              "outlinewidth": 0,
              "ticks": ""
             }
            },
            "type": "scattermapbox"
           }
          ],
          "scatterpolar": [
           {
            "marker": {
             "colorbar": {
              "outlinewidth": 0,
              "ticks": ""
             }
            },
            "type": "scatterpolar"
           }
          ],
          "scatterpolargl": [
           {
            "marker": {
             "colorbar": {
              "outlinewidth": 0,
              "ticks": ""
             }
            },
            "type": "scatterpolargl"
           }
          ],
          "scatterternary": [
           {
            "marker": {
             "colorbar": {
              "outlinewidth": 0,
              "ticks": ""
             }
            },
            "type": "scatterternary"
           }
          ],
          "surface": [
           {
            "colorbar": {
             "outlinewidth": 0,
             "ticks": ""
            },
            "colorscale": [
             [
              0,
              "#0d0887"
             ],
             [
              0.1111111111111111,
              "#46039f"
             ],
             [
              0.2222222222222222,
              "#7201a8"
             ],
             [
              0.3333333333333333,
              "#9c179e"
             ],
             [
              0.4444444444444444,
              "#bd3786"
             ],
             [
              0.5555555555555556,
              "#d8576b"
             ],
             [
              0.6666666666666666,
              "#ed7953"
             ],
             [
              0.7777777777777778,
              "#fb9f3a"
             ],
             [
              0.8888888888888888,
              "#fdca26"
             ],
             [
              1,
              "#f0f921"
             ]
            ],
            "type": "surface"
           }
          ],
          "table": [
           {
            "cells": {
             "fill": {
              "color": "#EBF0F8"
             },
             "line": {
              "color": "white"
             }
            },
            "header": {
             "fill": {
              "color": "#C8D4E3"
             },
             "line": {
              "color": "white"
             }
            },
            "type": "table"
           }
          ]
         },
         "layout": {
          "annotationdefaults": {
           "arrowcolor": "#2a3f5f",
           "arrowhead": 0,
           "arrowwidth": 1
          },
          "autotypenumbers": "strict",
          "coloraxis": {
           "colorbar": {
            "outlinewidth": 0,
            "ticks": ""
           }
          },
          "colorscale": {
           "diverging": [
            [
             0,
             "#8e0152"
            ],
            [
             0.1,
             "#c51b7d"
            ],
            [
             0.2,
             "#de77ae"
            ],
            [
             0.3,
             "#f1b6da"
            ],
            [
             0.4,
             "#fde0ef"
            ],
            [
             0.5,
             "#f7f7f7"
            ],
            [
             0.6,
             "#e6f5d0"
            ],
            [
             0.7,
             "#b8e186"
            ],
            [
             0.8,
             "#7fbc41"
            ],
            [
             0.9,
             "#4d9221"
            ],
            [
             1,
             "#276419"
            ]
           ],
           "sequential": [
            [
             0,
             "#0d0887"
            ],
            [
             0.1111111111111111,
             "#46039f"
            ],
            [
             0.2222222222222222,
             "#7201a8"
            ],
            [
             0.3333333333333333,
             "#9c179e"
            ],
            [
             0.4444444444444444,
             "#bd3786"
            ],
            [
             0.5555555555555556,
             "#d8576b"
            ],
            [
             0.6666666666666666,
             "#ed7953"
            ],
            [
             0.7777777777777778,
             "#fb9f3a"
            ],
            [
             0.8888888888888888,
             "#fdca26"
            ],
            [
             1,
             "#f0f921"
            ]
           ],
           "sequentialminus": [
            [
             0,
             "#0d0887"
            ],
            [
             0.1111111111111111,
             "#46039f"
            ],
            [
             0.2222222222222222,
             "#7201a8"
            ],
            [
             0.3333333333333333,
             "#9c179e"
            ],
            [
             0.4444444444444444,
             "#bd3786"
            ],
            [
             0.5555555555555556,
             "#d8576b"
            ],
            [
             0.6666666666666666,
             "#ed7953"
            ],
            [
             0.7777777777777778,
             "#fb9f3a"
            ],
            [
             0.8888888888888888,
             "#fdca26"
            ],
            [
             1,
             "#f0f921"
            ]
           ]
          },
          "colorway": [
           "#636efa",
           "#EF553B",
           "#00cc96",
           "#ab63fa",
           "#FFA15A",
           "#19d3f3",
           "#FF6692",
           "#B6E880",
           "#FF97FF",
           "#FECB52"
          ],
          "font": {
           "color": "#2a3f5f"
          },
          "geo": {
           "bgcolor": "white",
           "lakecolor": "white",
           "landcolor": "#E5ECF6",
           "showlakes": true,
           "showland": true,
           "subunitcolor": "white"
          },
          "hoverlabel": {
           "align": "left"
          },
          "hovermode": "closest",
          "mapbox": {
           "style": "light"
          },
          "paper_bgcolor": "white",
          "plot_bgcolor": "#E5ECF6",
          "polar": {
           "angularaxis": {
            "gridcolor": "white",
            "linecolor": "white",
            "ticks": ""
           },
           "bgcolor": "#E5ECF6",
           "radialaxis": {
            "gridcolor": "white",
            "linecolor": "white",
            "ticks": ""
           }
          },
          "scene": {
           "xaxis": {
            "backgroundcolor": "#E5ECF6",
            "gridcolor": "white",
            "gridwidth": 2,
            "linecolor": "white",
            "showbackground": true,
            "ticks": "",
            "zerolinecolor": "white"
           },
           "yaxis": {
            "backgroundcolor": "#E5ECF6",
            "gridcolor": "white",
            "gridwidth": 2,
            "linecolor": "white",
            "showbackground": true,
            "ticks": "",
            "zerolinecolor": "white"
           },
           "zaxis": {
            "backgroundcolor": "#E5ECF6",
            "gridcolor": "white",
            "gridwidth": 2,
            "linecolor": "white",
            "showbackground": true,
            "ticks": "",
            "zerolinecolor": "white"
           }
          },
          "shapedefaults": {
           "line": {
            "color": "#2a3f5f"
           }
          },
          "ternary": {
           "aaxis": {
            "gridcolor": "white",
            "linecolor": "white",
            "ticks": ""
           },
           "baxis": {
            "gridcolor": "white",
            "linecolor": "white",
            "ticks": ""
           },
           "bgcolor": "#E5ECF6",
           "caxis": {
            "gridcolor": "white",
            "linecolor": "white",
            "ticks": ""
           }
          },
          "title": {
           "x": 0.05
          },
          "xaxis": {
           "automargin": true,
           "gridcolor": "white",
           "linecolor": "white",
           "ticks": "",
           "title": {
            "standoff": 15
           },
           "zerolinecolor": "white",
           "zerolinewidth": 2
          },
          "yaxis": {
           "automargin": true,
           "gridcolor": "white",
           "linecolor": "white",
           "ticks": "",
           "title": {
            "standoff": 15
           },
           "zerolinecolor": "white",
           "zerolinewidth": 2
          }
         }
        },
        "title": {
         "text": "일별 주가 캔들스틱 차트"
        },
        "xaxis": {
         "rangeslider": {
          "visible": false
         },
         "title": {
          "text": "날짜"
         }
        },
        "yaxis": {
         "title": {
          "text": "가격"
         }
        }
       }
      }
     },
     "metadata": {},
     "output_type": "display_data"
    }
   ],
   "source": [
    "import plotly.graph_objects as go\n",
    "from datetime import datetime, timedelta\n",
    "\n",
    "# 주가 데이터 생성\n",
    "dates = [datetime.now() - timedelta(days=x) for x in range(30, 0, -1)]\n",
    "np.random.seed(42)\n",
    "\n",
    "ohlc_data = []\n",
    "price = 100\n",
    "\n",
    "for date in dates:\n",
    "    open_price = price\n",
    "    high_price = open_price + np.random.uniform(0, 5)\n",
    "    low_price = open_price - np.random.uniform(0, 5)\n",
    "    close_price = open_price + np.random.uniform(-3, 3)\n",
    "\n",
    "    ohlc_data.append({\n",
    "        '날짜': date,\n",
    "        '시가': open_price,\n",
    "        '고가': high_price,\n",
    "        '저가': low_price,\n",
    "        '종가': close_price\n",
    "    })\n",
    "\n",
    "    price = close_price\n",
    "\n",
    "df_ohlc = pd.DataFrame(ohlc_data)\n",
    "\n",
    "# 캔들스틱 차트 생성\n",
    "fig = go.Figure(data=go.Candlestick(\n",
    "    x=df_ohlc['날짜'],\n",
    "    open=df_ohlc['시가'],\n",
    "    high=df_ohlc['고가'],\n",
    "    low=df_ohlc['저가'],\n",
    "    close=df_ohlc['종가'],\n",
    "    name='주가'\n",
    "))\n",
    "\n",
    "fig.update_layout(\n",
    "    title='일별 주가 캔들스틱 차트',\n",
    "    xaxis_title='날짜',\n",
    "    yaxis_title='가격',\n",
    "    xaxis_rangeslider_visible=False  # 하단 범위 슬라이더 제거\n",
    ")\n",
    "\n",
    "fig.show()"
   ]
  },
  {
   "cell_type": "markdown",
   "id": "10a25b07-8c69-4e12-ac15-cbd92470ed72",
   "metadata": {},
   "source": [
    "## 거래량과 함께 표시"
   ]
  },
  {
   "cell_type": "code",
   "execution_count": 12,
   "id": "feedac70-e7f9-467b-8b3c-001df4920fd3",
   "metadata": {},
   "outputs": [
    {
     "data": {
      "application/vnd.plotly.v1+json": {
       "config": {
        "plotlyServerURL": "https://plot.ly"
       },
       "data": [
        {
         "close": {
          "bdata": "2Gy17hVZWUBWOVrR/NRYQOIU8dPQ+1hAzryT2EKwWUAaXbP3FDZZQO+zs5+WP1lAbeX2NYpqWUC4EaILOTdZQGlt5Mblw1hAXLTNCbwVWEBcV77etm5XQFvXIJAj5VdAFGkMaOIrWEBhZwRHCCpYQLImfWJnzVdA4iHHJhzVV0Dhj98ybolYQKoKfE4LIVlASGw3eQaDWEDq9Q+/8z9YQOofXPUvvlhAZF95J5XOWECIH9rHNStYQOo1uFOEt1dA4lo6O/MGWEBF0eYdYmNXQIuez6LQ7ldAKGsRrThHV0AGzb3hY59XQG4ucH+4lFdA",
          "dtype": "f8"
         },
         "high": {
          "bdata": "mtyXU9p3WUCXTBUJqBhaQAuY/AaT51hA+x0rImbeWUCWRxGMpLpaQB0QDHfFcFlAGKBMj8/JWUBIw0CMLZdZQIexbUwqyVlAssGz3HNoWUC16tAcJthYQIEHxJJbnlhA2nrhhZ1GWECyvd+yu7hYQKJWk2IJNVhAmV3TNWmhWEAi11WoDoRYQFyNYRR5gVlA7iHZRV/gWUCgQbxjvcFYQHnanTBUvFhAIbziMFkwWUA7Oa2qrftYQCoP+44DZ1lAF8boski5V0BI9qF/O/BYQEzcGKEX1ldA65jxN0W2WEAXLAxZvKpXQC3KAJdoa1hA",
          "dtype": "f8"
         },
         "low": {
          "bdata": "oanoe8XPV0CEl6viKCdZQCng/KrPv1dAOtPOizr1WEDVtKsGUGxZQMblanG51FhAPrb2IWXiWEAr8p+4DQ1ZQHJVQW73O1hAwsHpLFMGWEA/r7uzKt9XQErPP0u2OVZAAZtvQ+LFV0C2AsQI1QRYQOvCBMAMB1dAGSVsA6hpV0A84d3f9JlXQIrBB3LKXFdA4/qGXgv6V0Dh+Th0jXRYQHhfatUe6VdA4terzUlkWEAPw3It4c1XQPJTOn0XNFdAxUEQupGyVkDaHbrDJBBXQBU4mh9OPldAi81DeO2EV0AdyIaoKd9WQORZ92l7g1ZA",
          "dtype": "f8"
         },
         "name": "주가",
         "open": {
          "bdata": "AAAAAAAAWUDYbLXuFVlZQFY5WtH81FhA4hTx09D7WEDOvJPYQrBZQBpds/cUNllA77Ozn5Y/WUBt5fY1impZQLgRogs5N1lAaW3kxuXDWEBctM0JvBVYQFxXvt62bldAW9cgkCPlV0AUaQxo4itYQGFnBEcIKlhAsiZ9YmfNV0DiIccmHNVXQOGP3zJuiVhAqgp8TgshWUBIbDd5BoNYQOr1D7/zP1hA6h9c9S++WEBkX3knlc5YQIgf2sc1K1hA6jW4U4S3V0DiWjo78wZYQEXR5h1iY1dAi57PotDuV0AoaxGtOEdXQAbNveFjn1dA",
          "dtype": "f8"
         },
         "type": "candlestick",
         "x": [
          "2025-09-18T17:07:21.809492000",
          "2025-09-19T17:07:21.809492000",
          "2025-09-20T17:07:21.809492000",
          "2025-09-21T17:07:21.809492000",
          "2025-09-22T17:07:21.809492000",
          "2025-09-23T17:07:21.809492000",
          "2025-09-24T17:07:21.809492000",
          "2025-09-25T17:07:21.809492000",
          "2025-09-26T17:07:21.809492000",
          "2025-09-27T17:07:21.809492000",
          "2025-09-28T17:07:21.809492000",
          "2025-09-29T17:07:21.809492000",
          "2025-09-30T17:07:21.809492000",
          "2025-10-01T17:07:21.809492000",
          "2025-10-02T17:07:21.809492000",
          "2025-10-03T17:07:21.809492000",
          "2025-10-04T17:07:21.809492000",
          "2025-10-05T17:07:21.809492000",
          "2025-10-06T17:07:21.809492000",
          "2025-10-07T17:07:21.809492000",
          "2025-10-08T17:07:21.809492000",
          "2025-10-09T17:07:21.809492000",
          "2025-10-10T17:07:21.809492000",
          "2025-10-11T17:07:21.809492000",
          "2025-10-12T17:07:21.809492000",
          "2025-10-13T17:07:21.809492000",
          "2025-10-14T17:07:21.809492000",
          "2025-10-15T17:07:21.809492000",
          "2025-10-16T17:07:21.809492000",
          "2025-10-17T17:07:21.809492000"
         ],
         "xaxis": "x",
         "yaxis": "y"
        },
        {
         "marker": {
          "color": "rgba(158,202,225,0.8)"
         },
         "name": "거래량",
         "type": "bar",
         "x": [
          "2025-09-18T17:07:21.809492000",
          "2025-09-19T17:07:21.809492000",
          "2025-09-20T17:07:21.809492000",
          "2025-09-21T17:07:21.809492000",
          "2025-09-22T17:07:21.809492000",
          "2025-09-23T17:07:21.809492000",
          "2025-09-24T17:07:21.809492000",
          "2025-09-25T17:07:21.809492000",
          "2025-09-26T17:07:21.809492000",
          "2025-09-27T17:07:21.809492000",
          "2025-09-28T17:07:21.809492000",
          "2025-09-29T17:07:21.809492000",
          "2025-09-30T17:07:21.809492000",
          "2025-10-01T17:07:21.809492000",
          "2025-10-02T17:07:21.809492000",
          "2025-10-03T17:07:21.809492000",
          "2025-10-04T17:07:21.809492000",
          "2025-10-05T17:07:21.809492000",
          "2025-10-06T17:07:21.809492000",
          "2025-10-07T17:07:21.809492000",
          "2025-10-08T17:07:21.809492000",
          "2025-10-09T17:07:21.809492000",
          "2025-10-10T17:07:21.809492000",
          "2025-10-11T17:07:21.809492000",
          "2025-10-12T17:07:21.809492000",
          "2025-10-13T17:07:21.809492000",
          "2025-10-14T17:07:21.809492000",
          "2025-10-15T17:07:21.809492000",
          "2025-10-16T17:07:21.809492000",
          "2025-10-17T17:07:21.809492000"
         ],
         "xaxis": "x2",
         "y": {
          "bdata": "liMAAOgSAADsBwAAwSAAAN4FAADmHgAAAh8AAHAVAAC2BAAA9hcAAEEbAAARIgAAYx8AALQJAACaIgAARwcAAM4OAADYIAAAGyYAAOQXAABrGwAAxQoAAH4hAADOHAAA1B4AAHYKAACSEAAABBYAAAsIAAD0HQAA",
          "dtype": "i4"
         },
         "yaxis": "y2"
        }
       ],
       "layout": {
        "annotations": [
         {
          "font": {
           "size": 16
          },
          "showarrow": false,
          "text": "주가",
          "x": 0.5,
          "xanchor": "center",
          "xref": "paper",
          "y": 1,
          "yanchor": "bottom",
          "yref": "paper"
         },
         {
          "font": {
           "size": 16
          },
          "showarrow": false,
          "text": "거래량",
          "x": 0.5,
          "xanchor": "center",
          "xref": "paper",
          "y": 0.21555555555555558,
          "yanchor": "bottom",
          "yref": "paper"
         }
        ],
        "template": {
         "data": {
          "bar": [
           {
            "error_x": {
             "color": "#2a3f5f"
            },
            "error_y": {
             "color": "#2a3f5f"
            },
            "marker": {
             "line": {
              "color": "#E5ECF6",
              "width": 0.5
             },
             "pattern": {
              "fillmode": "overlay",
              "size": 10,
              "solidity": 0.2
             }
            },
            "type": "bar"
           }
          ],
          "barpolar": [
           {
            "marker": {
             "line": {
              "color": "#E5ECF6",
              "width": 0.5
             },
             "pattern": {
              "fillmode": "overlay",
              "size": 10,
              "solidity": 0.2
             }
            },
            "type": "barpolar"
           }
          ],
          "carpet": [
           {
            "aaxis": {
             "endlinecolor": "#2a3f5f",
             "gridcolor": "white",
             "linecolor": "white",
             "minorgridcolor": "white",
             "startlinecolor": "#2a3f5f"
            },
            "baxis": {
             "endlinecolor": "#2a3f5f",
             "gridcolor": "white",
             "linecolor": "white",
             "minorgridcolor": "white",
             "startlinecolor": "#2a3f5f"
            },
            "type": "carpet"
           }
          ],
          "choropleth": [
           {
            "colorbar": {
             "outlinewidth": 0,
             "ticks": ""
            },
            "type": "choropleth"
           }
          ],
          "contour": [
           {
            "colorbar": {
             "outlinewidth": 0,
             "ticks": ""
            },
            "colorscale": [
             [
              0,
              "#0d0887"
             ],
             [
              0.1111111111111111,
              "#46039f"
             ],
             [
              0.2222222222222222,
              "#7201a8"
             ],
             [
              0.3333333333333333,
              "#9c179e"
             ],
             [
              0.4444444444444444,
              "#bd3786"
             ],
             [
              0.5555555555555556,
              "#d8576b"
             ],
             [
              0.6666666666666666,
              "#ed7953"
             ],
             [
              0.7777777777777778,
              "#fb9f3a"
             ],
             [
              0.8888888888888888,
              "#fdca26"
             ],
             [
              1,
              "#f0f921"
             ]
            ],
            "type": "contour"
           }
          ],
          "contourcarpet": [
           {
            "colorbar": {
             "outlinewidth": 0,
             "ticks": ""
            },
            "type": "contourcarpet"
           }
          ],
          "heatmap": [
           {
            "colorbar": {
             "outlinewidth": 0,
             "ticks": ""
            },
            "colorscale": [
             [
              0,
              "#0d0887"
             ],
             [
              0.1111111111111111,
              "#46039f"
             ],
             [
              0.2222222222222222,
              "#7201a8"
             ],
             [
              0.3333333333333333,
              "#9c179e"
             ],
             [
              0.4444444444444444,
              "#bd3786"
             ],
             [
              0.5555555555555556,
              "#d8576b"
             ],
             [
              0.6666666666666666,
              "#ed7953"
             ],
             [
              0.7777777777777778,
              "#fb9f3a"
             ],
             [
              0.8888888888888888,
              "#fdca26"
             ],
             [
              1,
              "#f0f921"
             ]
            ],
            "type": "heatmap"
           }
          ],
          "histogram": [
           {
            "marker": {
             "pattern": {
              "fillmode": "overlay",
              "size": 10,
              "solidity": 0.2
             }
            },
            "type": "histogram"
           }
          ],
          "histogram2d": [
           {
            "colorbar": {
             "outlinewidth": 0,
             "ticks": ""
            },
            "colorscale": [
             [
              0,
              "#0d0887"
             ],
             [
              0.1111111111111111,
              "#46039f"
             ],
             [
              0.2222222222222222,
              "#7201a8"
             ],
             [
              0.3333333333333333,
              "#9c179e"
             ],
             [
              0.4444444444444444,
              "#bd3786"
             ],
             [
              0.5555555555555556,
              "#d8576b"
             ],
             [
              0.6666666666666666,
              "#ed7953"
             ],
             [
              0.7777777777777778,
              "#fb9f3a"
             ],
             [
              0.8888888888888888,
              "#fdca26"
             ],
             [
              1,
              "#f0f921"
             ]
            ],
            "type": "histogram2d"
           }
          ],
          "histogram2dcontour": [
           {
            "colorbar": {
             "outlinewidth": 0,
             "ticks": ""
            },
            "colorscale": [
             [
              0,
              "#0d0887"
             ],
             [
              0.1111111111111111,
              "#46039f"
             ],
             [
              0.2222222222222222,
              "#7201a8"
             ],
             [
              0.3333333333333333,
              "#9c179e"
             ],
             [
              0.4444444444444444,
              "#bd3786"
             ],
             [
              0.5555555555555556,
              "#d8576b"
             ],
             [
              0.6666666666666666,
              "#ed7953"
             ],
             [
              0.7777777777777778,
              "#fb9f3a"
             ],
             [
              0.8888888888888888,
              "#fdca26"
             ],
             [
              1,
              "#f0f921"
             ]
            ],
            "type": "histogram2dcontour"
           }
          ],
          "mesh3d": [
           {
            "colorbar": {
             "outlinewidth": 0,
             "ticks": ""
            },
            "type": "mesh3d"
           }
          ],
          "parcoords": [
           {
            "line": {
             "colorbar": {
              "outlinewidth": 0,
              "ticks": ""
             }
            },
            "type": "parcoords"
           }
          ],
          "pie": [
           {
            "automargin": true,
            "type": "pie"
           }
          ],
          "scatter": [
           {
            "fillpattern": {
             "fillmode": "overlay",
             "size": 10,
             "solidity": 0.2
            },
            "type": "scatter"
           }
          ],
          "scatter3d": [
           {
            "line": {
             "colorbar": {
              "outlinewidth": 0,
              "ticks": ""
             }
            },
            "marker": {
             "colorbar": {
              "outlinewidth": 0,
              "ticks": ""
             }
            },
            "type": "scatter3d"
           }
          ],
          "scattercarpet": [
           {
            "marker": {
             "colorbar": {
              "outlinewidth": 0,
              "ticks": ""
             }
            },
            "type": "scattercarpet"
           }
          ],
          "scattergeo": [
           {
            "marker": {
             "colorbar": {
              "outlinewidth": 0,
              "ticks": ""
             }
            },
            "type": "scattergeo"
           }
          ],
          "scattergl": [
           {
            "marker": {
             "colorbar": {
              "outlinewidth": 0,
              "ticks": ""
             }
            },
            "type": "scattergl"
           }
          ],
          "scattermap": [
           {
            "marker": {
             "colorbar": {
              "outlinewidth": 0,
              "ticks": ""
             }
            },
            "type": "scattermap"
           }
          ],
          "scattermapbox": [
           {
            "marker": {
             "colorbar": {
              "outlinewidth": 0,
              "ticks": ""
             }
            },
            "type": "scattermapbox"
           }
          ],
          "scatterpolar": [
           {
            "marker": {
             "colorbar": {
              "outlinewidth": 0,
              "ticks": ""
             }
            },
            "type": "scatterpolar"
           }
          ],
          "scatterpolargl": [
           {
            "marker": {
             "colorbar": {
              "outlinewidth": 0,
              "ticks": ""
             }
            },
            "type": "scatterpolargl"
           }
          ],
          "scatterternary": [
           {
            "marker": {
             "colorbar": {
              "outlinewidth": 0,
              "ticks": ""
             }
            },
            "type": "scatterternary"
           }
          ],
          "surface": [
           {
            "colorbar": {
             "outlinewidth": 0,
             "ticks": ""
            },
            "colorscale": [
             [
              0,
              "#0d0887"
             ],
             [
              0.1111111111111111,
              "#46039f"
             ],
             [
              0.2222222222222222,
              "#7201a8"
             ],
             [
              0.3333333333333333,
              "#9c179e"
             ],
             [
              0.4444444444444444,
              "#bd3786"
             ],
             [
              0.5555555555555556,
              "#d8576b"
             ],
             [
              0.6666666666666666,
              "#ed7953"
             ],
             [
              0.7777777777777778,
              "#fb9f3a"
             ],
             [
              0.8888888888888888,
              "#fdca26"
             ],
             [
              1,
              "#f0f921"
             ]
            ],
            "type": "surface"
           }
          ],
          "table": [
           {
            "cells": {
             "fill": {
              "color": "#EBF0F8"
             },
             "line": {
              "color": "white"
             }
            },
            "header": {
             "fill": {
              "color": "#C8D4E3"
             },
             "line": {
              "color": "white"
             }
            },
            "type": "table"
           }
          ]
         },
         "layout": {
          "annotationdefaults": {
           "arrowcolor": "#2a3f5f",
           "arrowhead": 0,
           "arrowwidth": 1
          },
          "autotypenumbers": "strict",
          "coloraxis": {
           "colorbar": {
            "outlinewidth": 0,
            "ticks": ""
           }
          },
          "colorscale": {
           "diverging": [
            [
             0,
             "#8e0152"
            ],
            [
             0.1,
             "#c51b7d"
            ],
            [
             0.2,
             "#de77ae"
            ],
            [
             0.3,
             "#f1b6da"
            ],
            [
             0.4,
             "#fde0ef"
            ],
            [
             0.5,
             "#f7f7f7"
            ],
            [
             0.6,
             "#e6f5d0"
            ],
            [
             0.7,
             "#b8e186"
            ],
            [
             0.8,
             "#7fbc41"
            ],
            [
             0.9,
             "#4d9221"
            ],
            [
             1,
             "#276419"
            ]
           ],
           "sequential": [
            [
             0,
             "#0d0887"
            ],
            [
             0.1111111111111111,
             "#46039f"
            ],
            [
             0.2222222222222222,
             "#7201a8"
            ],
            [
             0.3333333333333333,
             "#9c179e"
            ],
            [
             0.4444444444444444,
             "#bd3786"
            ],
            [
             0.5555555555555556,
             "#d8576b"
            ],
            [
             0.6666666666666666,
             "#ed7953"
            ],
            [
             0.7777777777777778,
             "#fb9f3a"
            ],
            [
             0.8888888888888888,
             "#fdca26"
            ],
            [
             1,
             "#f0f921"
            ]
           ],
           "sequentialminus": [
            [
             0,
             "#0d0887"
            ],
            [
             0.1111111111111111,
             "#46039f"
            ],
            [
             0.2222222222222222,
             "#7201a8"
            ],
            [
             0.3333333333333333,
             "#9c179e"
            ],
            [
             0.4444444444444444,
             "#bd3786"
            ],
            [
             0.5555555555555556,
             "#d8576b"
            ],
            [
             0.6666666666666666,
             "#ed7953"
            ],
            [
             0.7777777777777778,
             "#fb9f3a"
            ],
            [
             0.8888888888888888,
             "#fdca26"
            ],
            [
             1,
             "#f0f921"
            ]
           ]
          },
          "colorway": [
           "#636efa",
           "#EF553B",
           "#00cc96",
           "#ab63fa",
           "#FFA15A",
           "#19d3f3",
           "#FF6692",
           "#B6E880",
           "#FF97FF",
           "#FECB52"
          ],
          "font": {
           "color": "#2a3f5f"
          },
          "geo": {
           "bgcolor": "white",
           "lakecolor": "white",
           "landcolor": "#E5ECF6",
           "showlakes": true,
           "showland": true,
           "subunitcolor": "white"
          },
          "hoverlabel": {
           "align": "left"
          },
          "hovermode": "closest",
          "mapbox": {
           "style": "light"
          },
          "paper_bgcolor": "white",
          "plot_bgcolor": "#E5ECF6",
          "polar": {
           "angularaxis": {
            "gridcolor": "white",
            "linecolor": "white",
            "ticks": ""
           },
           "bgcolor": "#E5ECF6",
           "radialaxis": {
            "gridcolor": "white",
            "linecolor": "white",
            "ticks": ""
           }
          },
          "scene": {
           "xaxis": {
            "backgroundcolor": "#E5ECF6",
            "gridcolor": "white",
            "gridwidth": 2,
            "linecolor": "white",
            "showbackground": true,
            "ticks": "",
            "zerolinecolor": "white"
           },
           "yaxis": {
            "backgroundcolor": "#E5ECF6",
            "gridcolor": "white",
            "gridwidth": 2,
            "linecolor": "white",
            "showbackground": true,
            "ticks": "",
            "zerolinecolor": "white"
           },
           "zaxis": {
            "backgroundcolor": "#E5ECF6",
            "gridcolor": "white",
            "gridwidth": 2,
            "linecolor": "white",
            "showbackground": true,
            "ticks": "",
            "zerolinecolor": "white"
           }
          },
          "shapedefaults": {
           "line": {
            "color": "#2a3f5f"
           }
          },
          "ternary": {
           "aaxis": {
            "gridcolor": "white",
            "linecolor": "white",
            "ticks": ""
           },
           "baxis": {
            "gridcolor": "white",
            "linecolor": "white",
            "ticks": ""
           },
           "bgcolor": "#E5ECF6",
           "caxis": {
            "gridcolor": "white",
            "linecolor": "white",
            "ticks": ""
           }
          },
          "title": {
           "x": 0.05
          },
          "xaxis": {
           "automargin": true,
           "gridcolor": "white",
           "linecolor": "white",
           "ticks": "",
           "title": {
            "standoff": 15
           },
           "zerolinecolor": "white",
           "zerolinewidth": 2
          },
          "yaxis": {
           "automargin": true,
           "gridcolor": "white",
           "linecolor": "white",
           "ticks": "",
           "title": {
            "standoff": 15
           },
           "zerolinecolor": "white",
           "zerolinewidth": 2
          }
         }
        },
        "title": {
         "text": "주가와 거래량"
        },
        "xaxis": {
         "anchor": "y",
         "domain": [
          0,
          1
         ],
         "matches": "x2",
         "rangeslider": {
          "visible": false
         },
         "showticklabels": false
        },
        "xaxis2": {
         "anchor": "y2",
         "domain": [
          0,
          1
         ]
        },
        "yaxis": {
         "anchor": "x",
         "domain": [
          0.24555555555555558,
          1
         ]
        },
        "yaxis2": {
         "anchor": "x2",
         "domain": [
          0,
          0.21555555555555558
         ]
        }
       }
      }
     },
     "metadata": {},
     "output_type": "display_data"
    }
   ],
   "source": [
    "# 거래량 데이터 추가\n",
    "df_ohlc['거래량'] = np.random.randint(1000, 10000, len(df_ohlc))\n",
    "\n",
    "# 서브플롯 생성\n",
    "from plotly.subplots import make_subplots\n",
    "\n",
    "fig = make_subplots(\n",
    "    rows=2, cols=1,\n",
    "    shared_xaxes=True,\n",
    "    vertical_spacing=0.03,\n",
    "    subplot_titles=('주가', '거래량'),\n",
    "    row_width=[0.2, 0.7]\n",
    ")\n",
    "\n",
    "# 캔들스틱 차트\n",
    "fig.add_trace(\n",
    "    go.Candlestick(\n",
    "        x=df_ohlc['날짜'],\n",
    "        open=df_ohlc['시가'],\n",
    "        high=df_ohlc['고가'],\n",
    "        low=df_ohlc['저가'],\n",
    "        close=df_ohlc['종가'],\n",
    "        name='주가'\n",
    "    ),\n",
    "    row=1, col=1\n",
    ")\n",
    "\n",
    "# 거래량 막대 차트\n",
    "fig.add_trace(\n",
    "    go.Bar(\n",
    "        x=df_ohlc['날짜'],\n",
    "        y=df_ohlc['거래량'],\n",
    "        name='거래량',\n",
    "        marker_color='rgba(158,202,225,0.8)'\n",
    "    ),\n",
    "    row=2, col=1\n",
    ")\n",
    "\n",
    "fig.update_layout(\n",
    "    title='주가와 거래량',\n",
    "    xaxis_rangeslider_visible=False\n",
    ")\n",
    "\n",
    "fig.show()"
   ]
  },
  {
   "cell_type": "markdown",
   "id": "09af98b1-d956-4a44-8bbf-ddcd88297bd7",
   "metadata": {},
   "source": [
    "# 지도 시각화 (Choropleth Map)"
   ]
  },
  {
   "cell_type": "markdown",
   "id": "6055ea52-b502-4262-a684-ffa29bb0c08f",
   "metadata": {},
   "source": [
    "## 기본 지역 지도"
   ]
  },
  {
   "cell_type": "code",
   "execution_count": 20,
   "id": "7b8dd895-2369-43c9-b234-e3d816a24c6c",
   "metadata": {},
   "outputs": [
    {
     "data": {
      "application/vnd.plotly.v1+json": {
       "config": {
        "plotlyServerURL": "https://plot.ly"
       },
       "data": [
        {
         "coloraxis": "coloraxis",
         "geo": "geo",
         "hovertemplate": "<b>%{hovertext}</b><br><br>국가코드=%{location}<br>GDP (조 달러)=%{z}<extra></extra>",
         "hovertext": [
          "USA",
          "CHN",
          "JPN",
          "DEU",
          "GBR",
          "FRA",
          "ITA",
          "BRA",
          "CAN",
          "RUS"
         ],
         "locations": [
          "USA",
          "CHN",
          "JPN",
          "DEU",
          "GBR",
          "FRA",
          "ITA",
          "BRA",
          "CAN",
          "RUS"
         ],
         "name": "",
         "type": "choropleth",
         "z": {
          "bdata": "s1MGONoTBg8LC5wK0QdNB8gGywU=",
          "dtype": "i2"
         }
        }
       ],
       "layout": {
        "coloraxis": {
         "colorbar": {
          "title": {
           "text": "GDP (조 달러)"
          }
         },
         "colorscale": [
          [
           0,
           "rgb(247,251,255)"
          ],
          [
           0.125,
           "rgb(222,235,247)"
          ],
          [
           0.25,
           "rgb(198,219,239)"
          ],
          [
           0.375,
           "rgb(158,202,225)"
          ],
          [
           0.5,
           "rgb(107,174,214)"
          ],
          [
           0.625,
           "rgb(66,146,198)"
          ],
          [
           0.75,
           "rgb(33,113,181)"
          ],
          [
           0.875,
           "rgb(8,81,156)"
          ],
          [
           1,
           "rgb(8,48,107)"
          ]
         ]
        },
        "geo": {
         "center": {},
         "domain": {
          "x": [
           0,
           1
          ],
          "y": [
           0,
           1
          ]
         },
         "projection": {
          "type": "equirectangular"
         },
         "showcoastlines": true,
         "showframe": false
        },
        "legend": {
         "tracegroupgap": 0
        },
        "template": {
         "data": {
          "bar": [
           {
            "error_x": {
             "color": "#2a3f5f"
            },
            "error_y": {
             "color": "#2a3f5f"
            },
            "marker": {
             "line": {
              "color": "#E5ECF6",
              "width": 0.5
             },
             "pattern": {
              "fillmode": "overlay",
              "size": 10,
              "solidity": 0.2
             }
            },
            "type": "bar"
           }
          ],
          "barpolar": [
           {
            "marker": {
             "line": {
              "color": "#E5ECF6",
              "width": 0.5
             },
             "pattern": {
              "fillmode": "overlay",
              "size": 10,
              "solidity": 0.2
             }
            },
            "type": "barpolar"
           }
          ],
          "carpet": [
           {
            "aaxis": {
             "endlinecolor": "#2a3f5f",
             "gridcolor": "white",
             "linecolor": "white",
             "minorgridcolor": "white",
             "startlinecolor": "#2a3f5f"
            },
            "baxis": {
             "endlinecolor": "#2a3f5f",
             "gridcolor": "white",
             "linecolor": "white",
             "minorgridcolor": "white",
             "startlinecolor": "#2a3f5f"
            },
            "type": "carpet"
           }
          ],
          "choropleth": [
           {
            "colorbar": {
             "outlinewidth": 0,
             "ticks": ""
            },
            "type": "choropleth"
           }
          ],
          "contour": [
           {
            "colorbar": {
             "outlinewidth": 0,
             "ticks": ""
            },
            "colorscale": [
             [
              0,
              "#0d0887"
             ],
             [
              0.1111111111111111,
              "#46039f"
             ],
             [
              0.2222222222222222,
              "#7201a8"
             ],
             [
              0.3333333333333333,
              "#9c179e"
             ],
             [
              0.4444444444444444,
              "#bd3786"
             ],
             [
              0.5555555555555556,
              "#d8576b"
             ],
             [
              0.6666666666666666,
              "#ed7953"
             ],
             [
              0.7777777777777778,
              "#fb9f3a"
             ],
             [
              0.8888888888888888,
              "#fdca26"
             ],
             [
              1,
              "#f0f921"
             ]
            ],
            "type": "contour"
           }
          ],
          "contourcarpet": [
           {
            "colorbar": {
             "outlinewidth": 0,
             "ticks": ""
            },
            "type": "contourcarpet"
           }
          ],
          "heatmap": [
           {
            "colorbar": {
             "outlinewidth": 0,
             "ticks": ""
            },
            "colorscale": [
             [
              0,
              "#0d0887"
             ],
             [
              0.1111111111111111,
              "#46039f"
             ],
             [
              0.2222222222222222,
              "#7201a8"
             ],
             [
              0.3333333333333333,
              "#9c179e"
             ],
             [
              0.4444444444444444,
              "#bd3786"
             ],
             [
              0.5555555555555556,
              "#d8576b"
             ],
             [
              0.6666666666666666,
              "#ed7953"
             ],
             [
              0.7777777777777778,
              "#fb9f3a"
             ],
             [
              0.8888888888888888,
              "#fdca26"
             ],
             [
              1,
              "#f0f921"
             ]
            ],
            "type": "heatmap"
           }
          ],
          "histogram": [
           {
            "marker": {
             "pattern": {
              "fillmode": "overlay",
              "size": 10,
              "solidity": 0.2
             }
            },
            "type": "histogram"
           }
          ],
          "histogram2d": [
           {
            "colorbar": {
             "outlinewidth": 0,
             "ticks": ""
            },
            "colorscale": [
             [
              0,
              "#0d0887"
             ],
             [
              0.1111111111111111,
              "#46039f"
             ],
             [
              0.2222222222222222,
              "#7201a8"
             ],
             [
              0.3333333333333333,
              "#9c179e"
             ],
             [
              0.4444444444444444,
              "#bd3786"
             ],
             [
              0.5555555555555556,
              "#d8576b"
             ],
             [
              0.6666666666666666,
              "#ed7953"
             ],
             [
              0.7777777777777778,
              "#fb9f3a"
             ],
             [
              0.8888888888888888,
              "#fdca26"
             ],
             [
              1,
              "#f0f921"
             ]
            ],
            "type": "histogram2d"
           }
          ],
          "histogram2dcontour": [
           {
            "colorbar": {
             "outlinewidth": 0,
             "ticks": ""
            },
            "colorscale": [
             [
              0,
              "#0d0887"
             ],
             [
              0.1111111111111111,
              "#46039f"
             ],
             [
              0.2222222222222222,
              "#7201a8"
             ],
             [
              0.3333333333333333,
              "#9c179e"
             ],
             [
              0.4444444444444444,
              "#bd3786"
             ],
             [
              0.5555555555555556,
              "#d8576b"
             ],
             [
              0.6666666666666666,
              "#ed7953"
             ],
             [
              0.7777777777777778,
              "#fb9f3a"
             ],
             [
              0.8888888888888888,
              "#fdca26"
             ],
             [
              1,
              "#f0f921"
             ]
            ],
            "type": "histogram2dcontour"
           }
          ],
          "mesh3d": [
           {
            "colorbar": {
             "outlinewidth": 0,
             "ticks": ""
            },
            "type": "mesh3d"
           }
          ],
          "parcoords": [
           {
            "line": {
             "colorbar": {
              "outlinewidth": 0,
              "ticks": ""
             }
            },
            "type": "parcoords"
           }
          ],
          "pie": [
           {
            "automargin": true,
            "type": "pie"
           }
          ],
          "scatter": [
           {
            "fillpattern": {
             "fillmode": "overlay",
             "size": 10,
             "solidity": 0.2
            },
            "type": "scatter"
           }
          ],
          "scatter3d": [
           {
            "line": {
             "colorbar": {
              "outlinewidth": 0,
              "ticks": ""
             }
            },
            "marker": {
             "colorbar": {
              "outlinewidth": 0,
              "ticks": ""
             }
            },
            "type": "scatter3d"
           }
          ],
          "scattercarpet": [
           {
            "marker": {
             "colorbar": {
              "outlinewidth": 0,
              "ticks": ""
             }
            },
            "type": "scattercarpet"
           }
          ],
          "scattergeo": [
           {
            "marker": {
             "colorbar": {
              "outlinewidth": 0,
              "ticks": ""
             }
            },
            "type": "scattergeo"
           }
          ],
          "scattergl": [
           {
            "marker": {
             "colorbar": {
              "outlinewidth": 0,
              "ticks": ""
             }
            },
            "type": "scattergl"
           }
          ],
          "scattermap": [
           {
            "marker": {
             "colorbar": {
              "outlinewidth": 0,
              "ticks": ""
             }
            },
            "type": "scattermap"
           }
          ],
          "scattermapbox": [
           {
            "marker": {
             "colorbar": {
              "outlinewidth": 0,
              "ticks": ""
             }
            },
            "type": "scattermapbox"
           }
          ],
          "scatterpolar": [
           {
            "marker": {
             "colorbar": {
              "outlinewidth": 0,
              "ticks": ""
             }
            },
            "type": "scatterpolar"
           }
          ],
          "scatterpolargl": [
           {
            "marker": {
             "colorbar": {
              "outlinewidth": 0,
              "ticks": ""
             }
            },
            "type": "scatterpolargl"
           }
          ],
          "scatterternary": [
           {
            "marker": {
             "colorbar": {
              "outlinewidth": 0,
              "ticks": ""
             }
            },
            "type": "scatterternary"
           }
          ],
          "surface": [
           {
            "colorbar": {
             "outlinewidth": 0,
             "ticks": ""
            },
            "colorscale": [
             [
              0,
              "#0d0887"
             ],
             [
              0.1111111111111111,
              "#46039f"
             ],
             [
              0.2222222222222222,
              "#7201a8"
             ],
             [
              0.3333333333333333,
              "#9c179e"
             ],
             [
              0.4444444444444444,
              "#bd3786"
             ],
             [
              0.5555555555555556,
              "#d8576b"
             ],
             [
              0.6666666666666666,
              "#ed7953"
             ],
             [
              0.7777777777777778,
              "#fb9f3a"
             ],
             [
              0.8888888888888888,
              "#fdca26"
             ],
             [
              1,
              "#f0f921"
             ]
            ],
            "type": "surface"
           }
          ],
          "table": [
           {
            "cells": {
             "fill": {
              "color": "#EBF0F8"
             },
             "line": {
              "color": "white"
             }
            },
            "header": {
             "fill": {
              "color": "#C8D4E3"
             },
             "line": {
              "color": "white"
             }
            },
            "type": "table"
           }
          ]
         },
         "layout": {
          "annotationdefaults": {
           "arrowcolor": "#2a3f5f",
           "arrowhead": 0,
           "arrowwidth": 1
          },
          "autotypenumbers": "strict",
          "coloraxis": {
           "colorbar": {
            "outlinewidth": 0,
            "ticks": ""
           }
          },
          "colorscale": {
           "diverging": [
            [
             0,
             "#8e0152"
            ],
            [
             0.1,
             "#c51b7d"
            ],
            [
             0.2,
             "#de77ae"
            ],
            [
             0.3,
             "#f1b6da"
            ],
            [
             0.4,
             "#fde0ef"
            ],
            [
             0.5,
             "#f7f7f7"
            ],
            [
             0.6,
             "#e6f5d0"
            ],
            [
             0.7,
             "#b8e186"
            ],
            [
             0.8,
             "#7fbc41"
            ],
            [
             0.9,
             "#4d9221"
            ],
            [
             1,
             "#276419"
            ]
           ],
           "sequential": [
            [
             0,
             "#0d0887"
            ],
            [
             0.1111111111111111,
             "#46039f"
            ],
            [
             0.2222222222222222,
             "#7201a8"
            ],
            [
             0.3333333333333333,
             "#9c179e"
            ],
            [
             0.4444444444444444,
             "#bd3786"
            ],
            [
             0.5555555555555556,
             "#d8576b"
            ],
            [
             0.6666666666666666,
             "#ed7953"
            ],
            [
             0.7777777777777778,
             "#fb9f3a"
            ],
            [
             0.8888888888888888,
             "#fdca26"
            ],
            [
             1,
             "#f0f921"
            ]
           ],
           "sequentialminus": [
            [
             0,
             "#0d0887"
            ],
            [
             0.1111111111111111,
             "#46039f"
            ],
            [
             0.2222222222222222,
             "#7201a8"
            ],
            [
             0.3333333333333333,
             "#9c179e"
            ],
            [
             0.4444444444444444,
             "#bd3786"
            ],
            [
             0.5555555555555556,
             "#d8576b"
            ],
            [
             0.6666666666666666,
             "#ed7953"
            ],
            [
             0.7777777777777778,
             "#fb9f3a"
            ],
            [
             0.8888888888888888,
             "#fdca26"
            ],
            [
             1,
             "#f0f921"
            ]
           ]
          },
          "colorway": [
           "#636efa",
           "#EF553B",
           "#00cc96",
           "#ab63fa",
           "#FFA15A",
           "#19d3f3",
           "#FF6692",
           "#B6E880",
           "#FF97FF",
           "#FECB52"
          ],
          "font": {
           "color": "#2a3f5f"
          },
          "geo": {
           "bgcolor": "white",
           "lakecolor": "white",
           "landcolor": "#E5ECF6",
           "showlakes": true,
           "showland": true,
           "subunitcolor": "white"
          },
          "hoverlabel": {
           "align": "left"
          },
          "hovermode": "closest",
          "mapbox": {
           "style": "light"
          },
          "paper_bgcolor": "white",
          "plot_bgcolor": "#E5ECF6",
          "polar": {
           "angularaxis": {
            "gridcolor": "white",
            "linecolor": "white",
            "ticks": ""
           },
           "bgcolor": "#E5ECF6",
           "radialaxis": {
            "gridcolor": "white",
            "linecolor": "white",
            "ticks": ""
           }
          },
          "scene": {
           "xaxis": {
            "backgroundcolor": "#E5ECF6",
            "gridcolor": "white",
            "gridwidth": 2,
            "linecolor": "white",
            "showbackground": true,
            "ticks": "",
            "zerolinecolor": "white"
           },
           "yaxis": {
            "backgroundcolor": "#E5ECF6",
            "gridcolor": "white",
            "gridwidth": 2,
            "linecolor": "white",
            "showbackground": true,
            "ticks": "",
            "zerolinecolor": "white"
           },
           "zaxis": {
            "backgroundcolor": "#E5ECF6",
            "gridcolor": "white",
            "gridwidth": 2,
            "linecolor": "white",
            "showbackground": true,
            "ticks": "",
            "zerolinecolor": "white"
           }
          },
          "shapedefaults": {
           "line": {
            "color": "#2a3f5f"
           }
          },
          "ternary": {
           "aaxis": {
            "gridcolor": "white",
            "linecolor": "white",
            "ticks": ""
           },
           "baxis": {
            "gridcolor": "white",
            "linecolor": "white",
            "ticks": ""
           },
           "bgcolor": "#E5ECF6",
           "caxis": {
            "gridcolor": "white",
            "linecolor": "white",
            "ticks": ""
           }
          },
          "title": {
           "x": 0.05
          },
          "xaxis": {
           "automargin": true,
           "gridcolor": "white",
           "linecolor": "white",
           "ticks": "",
           "title": {
            "standoff": 15
           },
           "zerolinecolor": "white",
           "zerolinewidth": 2
          },
          "yaxis": {
           "automargin": true,
           "gridcolor": "white",
           "linecolor": "white",
           "ticks": "",
           "title": {
            "standoff": 15
           },
           "zerolinecolor": "white",
           "zerolinewidth": 2
          }
         }
        },
        "title": {
         "text": "국가별 GDP 분포"
        }
       }
      },
      "image/png": "[encoded data removed]"
     },
     "metadata": {},
     "output_type": "display_data"
    }
   ],
   "source": [
    "# 한국 시도별 인구 데이터 (예시)\n",
    "korea_population = {\n",
    "    '시도': ['서울', '부산', '대구', '인천', '광주', '대전', '울산', '경기', '강원'],\n",
    "    '인구': [9720, 3413, 2438, 2947, 1441, 1475, 1136, 13427, 1536],\n",
    "    '코드': ['KR-11', 'KR-26', 'KR-27', 'KR-28', 'KR-29', 'KR-30', 'KR-31', 'KR-41', 'KR-42']\n",
    "}\n",
    "\n",
    "df_population = pd.DataFrame(korea_population)\n",
    "\n",
    "# 세계 지도 예시 (국가별 데이터)\n",
    "world_data = {\n",
    "    '국가': ['USA', 'CHN', 'JPN', 'DEU', 'GBR', 'FRA', 'ITA', 'BRA', 'CAN', 'RUS'],\n",
    "    'GDP': [21427, 14342, 5082, 3846, 2827, 2716, 2001, 1869, 1736, 1483],\n",
    "    '국가코드': ['USA', 'CHN', 'JPN', 'DEU', 'GBR', 'FRA', 'ITA', 'BRA', 'CAN', 'RUS']\n",
    "}\n",
    "\n",
    "df_world = pd.DataFrame(world_data)\n",
    "\n",
    "fig = px.choropleth(\n",
    "    df_world,\n",
    "    locations='국가코드',\n",
    "    color='GDP',\n",
    "    hover_name='국가',\n",
    "    title='국가별 GDP 분포',\n",
    "    color_continuous_scale='Blues',\n",
    "    labels={'GDP': 'GDP (조 달러)'}\n",
    ")\n",
    "\n",
    "fig.update_layout(\n",
    "    geo=dict(\n",
    "        showframe=False,\n",
    "        showcoastlines=True,\n",
    "        projection_type='equirectangular'\n",
    "    )\n",
    ")\n",
    "\n",
    "fig.show()"
   ]
  },
  {
   "cell_type": "markdown",
   "id": "9b3bae08-b425-4657-ada7-48a2116398f6",
   "metadata": {},
   "source": [
    "## 산점도 지도"
   ]
  },
  {
   "cell_type": "code",
   "execution_count": 14,
   "id": "e26125f8-9159-4f7f-814b-24cac5b1bf3a",
   "metadata": {},
   "outputs": [
    {
     "data": {
      "application/vnd.plotly.v1+json": {
       "config": {
        "plotlyServerURL": "https://plot.ly"
       },
       "data": [
        {
         "geo": "geo",
         "hovertemplate": "<b>%{hovertext}</b><br><br>인구=%{marker.color}<br>위도=%{lat}<br>경도=%{lon}<extra></extra>",
         "hovertext": [
          "서울",
          "부산",
          "대구",
          "인천",
          "광주"
         ],
         "lat": {
          "bdata": "jZduEoPIQkBJLv8h/ZZBQAHeAgmK70FAGJXUCWi6QkAj2/l+apRBQA==",
          "dtype": "f8"
         },
         "legendgroup": "",
         "lon": {
          "bdata": "O99PjZe+X0B88rBQayJgQBB6Nqs+E2BA6Ugu/yGtX0B0JJf/kLZfQA==",
          "dtype": "f8"
         },
         "marker": {
          "color": {
           "bdata": "zANVAfQAJwGQAA==",
           "dtype": "i2"
          },
          "coloraxis": "coloraxis",
          "size": {
           "bdata": "zANVAfQAJwGQAA==",
           "dtype": "i2"
          },
          "sizemode": "area",
          "sizeref": 2.43,
          "symbol": "circle"
         },
         "mode": "markers",
         "name": "",
         "showlegend": false,
         "type": "scattergeo"
        }
       ],
       "layout": {
        "coloraxis": {
         "colorbar": {
          "title": {
           "text": "인구"
          }
         },
         "colorscale": [
          [
           0,
           "#0d0887"
          ],
          [
           0.1111111111111111,
           "#46039f"
          ],
          [
           0.2222222222222222,
           "#7201a8"
          ],
          [
           0.3333333333333333,
           "#9c179e"
          ],
          [
           0.4444444444444444,
           "#bd3786"
          ],
          [
           0.5555555555555556,
           "#d8576b"
          ],
          [
           0.6666666666666666,
           "#ed7953"
          ],
          [
           0.7777777777777778,
           "#fb9f3a"
          ],
          [
           0.8888888888888888,
           "#fdca26"
          ],
          [
           1,
           "#f0f921"
          ]
         ]
        },
        "geo": {
         "center": {},
         "domain": {
          "x": [
           0,
           1
          ],
          "y": [
           0,
           1
          ]
         },
         "landcolor": "lightgray",
         "projection": {
          "type": "natural earth"
         },
         "resolution": 50,
         "showland": true
        },
        "legend": {
         "itemsizing": "constant",
         "tracegroupgap": 0
        },
        "template": {
         "data": {
          "bar": [
           {
            "error_x": {
             "color": "#2a3f5f"
            },
            "error_y": {
             "color": "#2a3f5f"
            },
            "marker": {
             "line": {
              "color": "#E5ECF6",
              "width": 0.5
             },
             "pattern": {
              "fillmode": "overlay",
              "size": 10,
              "solidity": 0.2
             }
            },
            "type": "bar"
           }
          ],
          "barpolar": [
           {
            "marker": {
             "line": {
              "color": "#E5ECF6",
              "width": 0.5
             },
             "pattern": {
              "fillmode": "overlay",
              "size": 10,
              "solidity": 0.2
             }
            },
            "type": "barpolar"
           }
          ],
          "carpet": [
           {
            "aaxis": {
             "endlinecolor": "#2a3f5f",
             "gridcolor": "white",
             "linecolor": "white",
             "minorgridcolor": "white",
             "startlinecolor": "#2a3f5f"
            },
            "baxis": {
             "endlinecolor": "#2a3f5f",
             "gridcolor": "white",
             "linecolor": "white",
             "minorgridcolor": "white",
             "startlinecolor": "#2a3f5f"
            },
            "type": "carpet"
           }
          ],
          "choropleth": [
           {
            "colorbar": {
             "outlinewidth": 0,
             "ticks": ""
            },
            "type": "choropleth"
           }
          ],
          "contour": [
           {
            "colorbar": {
             "outlinewidth": 0,
             "ticks": ""
            },
            "colorscale": [
             [
              0,
              "#0d0887"
             ],
             [
              0.1111111111111111,
              "#46039f"
             ],
             [
              0.2222222222222222,
              "#7201a8"
             ],
             [
              0.3333333333333333,
              "#9c179e"
             ],
             [
              0.4444444444444444,
              "#bd3786"
             ],
             [
              0.5555555555555556,
              "#d8576b"
             ],
             [
              0.6666666666666666,
              "#ed7953"
             ],
             [
              0.7777777777777778,
              "#fb9f3a"
             ],
             [
              0.8888888888888888,
              "#fdca26"
             ],
             [
              1,
              "#f0f921"
             ]
            ],
            "type": "contour"
           }
          ],
          "contourcarpet": [
           {
            "colorbar": {
             "outlinewidth": 0,
             "ticks": ""
            },
            "type": "contourcarpet"
           }
          ],
          "heatmap": [
           {
            "colorbar": {
             "outlinewidth": 0,
             "ticks": ""
            },
            "colorscale": [
             [
              0,
              "#0d0887"
             ],
             [
              0.1111111111111111,
              "#46039f"
             ],
             [
              0.2222222222222222,
              "#7201a8"
             ],
             [
              0.3333333333333333,
              "#9c179e"
             ],
             [
              0.4444444444444444,
              "#bd3786"
             ],
             [
              0.5555555555555556,
              "#d8576b"
             ],
             [
              0.6666666666666666,
              "#ed7953"
             ],
             [
              0.7777777777777778,
              "#fb9f3a"
             ],
             [
              0.8888888888888888,
              "#fdca26"
             ],
             [
              1,
              "#f0f921"
             ]
            ],
            "type": "heatmap"
           }
          ],
          "histogram": [
           {
            "marker": {
             "pattern": {
              "fillmode": "overlay",
              "size": 10,
              "solidity": 0.2
             }
            },
            "type": "histogram"
           }
          ],
          "histogram2d": [
           {
            "colorbar": {
             "outlinewidth": 0,
             "ticks": ""
            },
            "colorscale": [
             [
              0,
              "#0d0887"
             ],
             [
              0.1111111111111111,
              "#46039f"
             ],
             [
              0.2222222222222222,
              "#7201a8"
             ],
             [
              0.3333333333333333,
              "#9c179e"
             ],
             [
              0.4444444444444444,
              "#bd3786"
             ],
             [
              0.5555555555555556,
              "#d8576b"
             ],
             [
              0.6666666666666666,
              "#ed7953"
             ],
             [
              0.7777777777777778,
              "#fb9f3a"
             ],
             [
              0.8888888888888888,
              "#fdca26"
             ],
             [
              1,
              "#f0f921"
             ]
            ],
            "type": "histogram2d"
           }
          ],
          "histogram2dcontour": [
           {
            "colorbar": {
             "outlinewidth": 0,
             "ticks": ""
            },
            "colorscale": [
             [
              0,
              "#0d0887"
             ],
             [
              0.1111111111111111,
              "#46039f"
             ],
             [
              0.2222222222222222,
              "#7201a8"
             ],
             [
              0.3333333333333333,
              "#9c179e"
             ],
             [
              0.4444444444444444,
              "#bd3786"
             ],
             [
              0.5555555555555556,
              "#d8576b"
             ],
             [
              0.6666666666666666,
              "#ed7953"
             ],
             [
              0.7777777777777778,
              "#fb9f3a"
             ],
             [
              0.8888888888888888,
              "#fdca26"
             ],
             [
              1,
              "#f0f921"
             ]
            ],
            "type": "histogram2dcontour"
           }
          ],
          "mesh3d": [
           {
            "colorbar": {
             "outlinewidth": 0,
             "ticks": ""
            },
            "type": "mesh3d"
           }
          ],
          "parcoords": [
           {
            "line": {
             "colorbar": {
              "outlinewidth": 0,
              "ticks": ""
             }
            },
            "type": "parcoords"
           }
          ],
          "pie": [
           {
            "automargin": true,
            "type": "pie"
           }
          ],
          "scatter": [
           {
            "fillpattern": {
             "fillmode": "overlay",
             "size": 10,
             "solidity": 0.2
            },
            "type": "scatter"
           }
          ],
          "scatter3d": [
           {
            "line": {
             "colorbar": {
              "outlinewidth": 0,
              "ticks": ""
             }
            },
            "marker": {
             "colorbar": {
              "outlinewidth": 0,
              "ticks": ""
             }
            },
            "type": "scatter3d"
           }
          ],
          "scattercarpet": [
           {
            "marker": {
             "colorbar": {
              "outlinewidth": 0,
              "ticks": ""
             }
            },
            "type": "scattercarpet"
           }
          ],
          "scattergeo": [
           {
            "marker": {
             "colorbar": {
              "outlinewidth": 0,
              "ticks": ""
             }
            },
            "type": "scattergeo"
           }
          ],
          "scattergl": [
           {
            "marker": {
             "colorbar": {
              "outlinewidth": 0,
              "ticks": ""
             }
            },
            "type": "scattergl"
           }
          ],
          "scattermap": [
           {
            "marker": {
             "colorbar": {
              "outlinewidth": 0,
              "ticks": ""
             }
            },
            "type": "scattermap"
           }
          ],
          "scattermapbox": [
           {
            "marker": {
             "colorbar": {
              "outlinewidth": 0,
              "ticks": ""
             }
            },
            "type": "scattermapbox"
           }
          ],
          "scatterpolar": [
           {
            "marker": {
             "colorbar": {
              "outlinewidth": 0,
              "ticks": ""
             }
            },
            "type": "scatterpolar"
           }
          ],
          "scatterpolargl": [
           {
            "marker": {
             "colorbar": {
              "outlinewidth": 0,
              "ticks": ""
             }
            },
            "type": "scatterpolargl"
           }
          ],
          "scatterternary": [
           {
            "marker": {
             "colorbar": {
              "outlinewidth": 0,
              "ticks": ""
             }
            },
            "type": "scatterternary"
           }
          ],
          "surface": [
           {
            "colorbar": {
             "outlinewidth": 0,
             "ticks": ""
            },
            "colorscale": [
             [
              0,
              "#0d0887"
             ],
             [
              0.1111111111111111,
              "#46039f"
             ],
             [
              0.2222222222222222,
              "#7201a8"
             ],
             [
              0.3333333333333333,
              "#9c179e"
             ],
             [
              0.4444444444444444,
              "#bd3786"
             ],
             [
              0.5555555555555556,
              "#d8576b"
             ],
             [
              0.6666666666666666,
              "#ed7953"
             ],
             [
              0.7777777777777778,
              "#fb9f3a"
             ],
             [
              0.8888888888888888,
              "#fdca26"
             ],
             [
              1,
              "#f0f921"
             ]
            ],
            "type": "surface"
           }
          ],
          "table": [
           {
            "cells": {
             "fill": {
              "color": "#EBF0F8"
             },
             "line": {
              "color": "white"
             }
            },
            "header": {
             "fill": {
              "color": "#C8D4E3"
             },
             "line": {
              "color": "white"
             }
            },
            "type": "table"
           }
          ]
         },
         "layout": {
          "annotationdefaults": {
           "arrowcolor": "#2a3f5f",
           "arrowhead": 0,
           "arrowwidth": 1
          },
          "autotypenumbers": "strict",
          "coloraxis": {
           "colorbar": {
            "outlinewidth": 0,
            "ticks": ""
           }
          },
          "colorscale": {
           "diverging": [
            [
             0,
             "#8e0152"
            ],
            [
             0.1,
             "#c51b7d"
            ],
            [
             0.2,
             "#de77ae"
            ],
            [
             0.3,
             "#f1b6da"
            ],
            [
             0.4,
             "#fde0ef"
            ],
            [
             0.5,
             "#f7f7f7"
            ],
            [
             0.6,
             "#e6f5d0"
            ],
            [
             0.7,
             "#b8e186"
            ],
            [
             0.8,
             "#7fbc41"
            ],
            [
             0.9,
             "#4d9221"
            ],
            [
             1,
             "#276419"
            ]
           ],
           "sequential": [
            [
             0,
             "#0d0887"
            ],
            [
             0.1111111111111111,
             "#46039f"
            ],
            [
             0.2222222222222222,
             "#7201a8"
            ],
            [
             0.3333333333333333,
             "#9c179e"
            ],
            [
             0.4444444444444444,
             "#bd3786"
            ],
            [
             0.5555555555555556,
             "#d8576b"
            ],
            [
             0.6666666666666666,
             "#ed7953"
            ],
            [
             0.7777777777777778,
             "#fb9f3a"
            ],
            [
             0.8888888888888888,
             "#fdca26"
            ],
            [
             1,
             "#f0f921"
            ]
           ],
           "sequentialminus": [
            [
             0,
             "#0d0887"
            ],
            [
             0.1111111111111111,
             "#46039f"
            ],
            [
             0.2222222222222222,
             "#7201a8"
            ],
            [
             0.3333333333333333,
             "#9c179e"
            ],
            [
             0.4444444444444444,
             "#bd3786"
            ],
            [
             0.5555555555555556,
             "#d8576b"
            ],
            [
             0.6666666666666666,
             "#ed7953"
            ],
            [
             0.7777777777777778,
             "#fb9f3a"
            ],
            [
             0.8888888888888888,
             "#fdca26"
            ],
            [
             1,
             "#f0f921"
            ]
           ]
          },
          "colorway": [
           "#636efa",
           "#EF553B",
           "#00cc96",
           "#ab63fa",
           "#FFA15A",
           "#19d3f3",
           "#FF6692",
           "#B6E880",
           "#FF97FF",
           "#FECB52"
          ],
          "font": {
           "color": "#2a3f5f"
          },
          "geo": {
           "bgcolor": "white",
           "lakecolor": "white",
           "landcolor": "#E5ECF6",
           "showlakes": true,
           "showland": true,
           "subunitcolor": "white"
          },
          "hoverlabel": {
           "align": "left"
          },
          "hovermode": "closest",
          "mapbox": {
           "style": "light"
          },
          "paper_bgcolor": "white",
          "plot_bgcolor": "#E5ECF6",
          "polar": {
           "angularaxis": {
            "gridcolor": "white",
            "linecolor": "white",
            "ticks": ""
           },
           "bgcolor": "#E5ECF6",
           "radialaxis": {
            "gridcolor": "white",
            "linecolor": "white",
            "ticks": ""
           }
          },
          "scene": {
           "xaxis": {
            "backgroundcolor": "#E5ECF6",
            "gridcolor": "white",
            "gridwidth": 2,
            "linecolor": "white",
            "showbackground": true,
            "ticks": "",
            "zerolinecolor": "white"
           },
           "yaxis": {
            "backgroundcolor": "#E5ECF6",
            "gridcolor": "white",
            "gridwidth": 2,
            "linecolor": "white",
            "showbackground": true,
            "ticks": "",
            "zerolinecolor": "white"
           },
           "zaxis": {
            "backgroundcolor": "#E5ECF6",
            "gridcolor": "white",
            "gridwidth": 2,
            "linecolor": "white",
            "showbackground": true,
            "ticks": "",
            "zerolinecolor": "white"
           }
          },
          "shapedefaults": {
           "line": {
            "color": "#2a3f5f"
           }
          },
          "ternary": {
           "aaxis": {
            "gridcolor": "white",
            "linecolor": "white",
            "ticks": ""
           },
           "baxis": {
            "gridcolor": "white",
            "linecolor": "white",
            "ticks": ""
           },
           "bgcolor": "#E5ECF6",
           "caxis": {
            "gridcolor": "white",
            "linecolor": "white",
            "ticks": ""
           }
          },
          "title": {
           "x": 0.05
          },
          "xaxis": {
           "automargin": true,
           "gridcolor": "white",
           "linecolor": "white",
           "ticks": "",
           "title": {
            "standoff": 15
           },
           "zerolinecolor": "white",
           "zerolinewidth": 2
          },
          "yaxis": {
           "automargin": true,
           "gridcolor": "white",
           "linecolor": "white",
           "ticks": "",
           "title": {
            "standoff": 15
           },
           "zerolinecolor": "white",
           "zerolinewidth": 2
          }
         }
        },
        "title": {
         "text": "한국 주요 도시 인구 분포"
        }
       }
      },
      "image/png": "[encoded data removed]"
     },
     "metadata": {},
     "output_type": "display_data"
    }
   ],
   "source": [
    "# 도시별 인구와 위치\n",
    "cities = {\n",
    "    '도시': ['서울', '부산', '대구', '인천', '광주'],\n",
    "    '위도': [37.5665, 35.1796, 35.8714, 37.4563, 35.1595],\n",
    "    '경도': [126.9780, 129.0756, 128.6014, 126.7052, 126.8526],\n",
    "    '인구': [972, 341, 244, 295, 144]\n",
    "}\n",
    "\n",
    "df_cities = pd.DataFrame(cities)\n",
    "\n",
    "fig = px.scatter_geo(\n",
    "    df_cities,\n",
    "    lat='위도',\n",
    "    lon='경도',\n",
    "    size='인구',\n",
    "    color='인구',\n",
    "    hover_name='도시',\n",
    "    title='한국 주요 도시 인구 분포',\n",
    "    projection='natural earth'\n",
    ")\n",
    "\n",
    "fig.update_geos(\n",
    "    resolution=50,\n",
    "    showland=True,\n",
    "    landcolor='lightgray'\n",
    ")\n",
    "\n",
    "fig.show()"
   ]
  },
  {
   "cell_type": "code",
   "execution_count": null,
   "id": "3314ebc6-80d2-4889-b235-772682acbd85",
   "metadata": {},
   "outputs": [],
   "source": []
  }
 ],
 "metadata": {
  "kernelspec": {
   "display_name": "Python 3 (ipykernel)",
   "language": "python",
   "name": "python3"
  },
  "language_info": {
   "codemirror_mode": {
    "name": "ipython",
    "version": 3
   },
   "file_extension": ".py",
   "mimetype": "text/x-python",
   "name": "python",
   "nbconvert_exporter": "python",
   "pygments_lexer": "ipython3",
   "version": "3.10.18"
  }
 },
 "nbformat": 4,
 "nbformat_minor": 5
}
